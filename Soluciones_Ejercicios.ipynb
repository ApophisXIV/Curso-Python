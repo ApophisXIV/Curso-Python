﻿{
  "nbformat": 4,
  "nbformat_minor": 0,
  "metadata": {
    "colab": {
      "name": "Soluciones Ejercicios.ipynb",
      "version": "0.3.2",
      "provenance": [],
      "collapsed_sections": [
        "nwoq_FImFXhL"
      ],
      "toc_visible": true,
      "include_colab_link": true
    },
    "kernelspec": {
      "name": "python3",
      "display_name": "Python 3"
    }
  },
  "cells": [
    {
      "cell_type": "markdown",
      "metadata": {
        "id": "view-in-github",
        "colab_type": "text"
      },
      "source": [
        "<a href=\"https://colab.research.google.com/github/IEEESBITBA/Curso-Python/blob/master/Soluciones_Ejercicios.ipynb\" target=\"_parent\"><img src=\"https://colab.research.google.com/assets/colab-badge.svg\" alt=\"Open In Colab\"/></a>"
      ]
    },
    {
      "cell_type": "markdown",
      "metadata": {
        "id": "fFmwf2FMoJx5",
        "colab_type": "text"
      },
      "source": [
        "# Clase 1\n",
        "$\\newcommand{\\dif}{\\bigstar}$$\\newcommand{\\facil}{\\color{\\green}{\\dif}}$ $\\newcommand{\\pieceofcake}{\\color{cyan}{\\dif}}$$\\newcommand{\\medio}{\\color{\\yellow}{\\dif\\dif}}$$\\newcommand{\\media}{\\medio}$$\\newcommand{\\normal}{\\medio}$  $\\newcommand{\\dificil}{\\color{\\orange}{\\dif\\dif\\dif}}$ $\\newcommand{\\imposible}{\\color{\\red}{\\dif\\dif\\dif\\dif}}$\n",
        "$\\newcommand{\\tarc}{\\large\\frown}$\n",
        "$\\newcommand{\\arc}[1]{\\stackrel{\\tarc}{#1}}$\n",
        "<head>\n",
        "<style type=\"text/css\">\n",
        "  img{ \n",
        "    display: block;\n",
        "    margin-left:auto;\n",
        "    margin-right:auto;\n",
        "  \n",
        "  }\n",
        "  </style>\n",
        "  </head>"
      ]
    },
    {
      "cell_type": "markdown",
      "metadata": {
        "id": "sptMWZkDoUoS",
        "colab_type": "text"
      },
      "source": [
        "##$\\facil$   Cálculo de promedio \n",
        "Cálcular la nota de un alumno es una tarea cotidiana de un profesor. Esta tarea suele realizarse a mano o en excel muchas veces. En esta ocasión la haremos en python. \n",
        "- Escribir una función que calcule el promedio de 3 notas. \n",
        "- Escribir una función que calcule el promedio de 3 notas con ponderación (asignar de importancia al primer examen 20% al segundo 50% y al tercero 30%)\n",
        "- Llamar a la función anterior 3 veces con distintas notas y verificar, mediante la instrucción if, si el alumno aprobó (suponga que 4 es la nota de aprobación). en cada caso.\n",
        "\n"
      ]
    },
    {
      "cell_type": "code",
      "metadata": {
        "id": "bHUJedYbo2qX",
        "colab_type": "code",
        "colab": {}
      },
      "source": [
        "def promedioPond(n1,p1,n2,p2,n3,p3):\n",
        "    return n1*p1+n2*p2+n3*p3\n",
        "\n",
        "def promedio(n1,n2,n3):\n",
        "    return promedioPond(n1,1/3,n2,1/3,n3,1/3)\n",
        "\n",
        "nota1 = 8\n",
        "nota2 = 9\n",
        "nota3 = 10\n",
        "print(promedioPond(nota1,0.25,nota2,0.25,nota3,0.5))\n",
        "print(promedio(nota1,nota2,nota3))"
      ],
      "execution_count": 0,
      "outputs": []
    },
    {
      "cell_type": "markdown",
      "metadata": {
        "id": "rOf7E6Ceo9rS",
        "colab_type": "text"
      },
      "source": [
        "## $\\facil$ Teoría de cuerdas\n",
        "Hoy hablaremos de cuerdas. No de las que se ven en física teorica, si no las *geometricas.*\n",
        "<center>\n",
        "<img src=\"https://dr282zn36sxxg.cloudfront.net/datastreams/f-d%3Afda746e73385e476e8759e59f47b461d568c372a25943d0f7c391566%2BIMAGE_TINY%2BIMAGE_TINY.1\" alt=\"Chord length en función de un angulo\" height=250 title=\"Cuerdas\" />\n",
        "</center>\n",
        "\n",
        "Hay dos caminos posibles para llegar de $A$ a $B$. Uno es siguiendo la curvatura del circulo llamado *arco*, en la foto sería la linea $\\color{green}{\\textbf{ verde}}$. \n",
        "\n",
        "La otra forma es por una linea recta, llamada *cuerda*. En la foto aparece como una linea $\\color{blue}{\\textbf{ azul}}$.\n",
        "\n",
        "Escriba las funciones $\\mathrm{arco}$ y $\\mathrm{cuerda}$ que tomando el ángulo $\\theta$ de separación y un radio $r$ devuelva la distancia entre los puntos $A$ y $B$.\n",
        "\n",
        "Suponga que  $\\pi=355/113$\n",
        "\n",
        "$$\\text{Algunas formulas que conoce:     } \\arc{AB}=\\theta r, \\quad \\overline{AB}= 2 r \\sin\\left( \\frac{\\theta}{2} \\right)$$\n",
        "\n",
        "$ \\mathrm{cuerda}(21,\\pi)=42$\n",
        "\n",
        "$ \\mathrm{cuerda}(400,1.3965)\\approx 514.3$\n",
        "\n",
        "\n",
        "$ \\mathrm{arco}(99,2) = 198$\n",
        "\n",
        "$ \\\\$\n",
        "\n",
        "$\\dificil$*Challenge*: Puede modificar su código para que encuentre el camino más corto entre dos puntos a un ángulo mayor a $\\pi$?\n",
        "\n",
        "$\\mathrm{arco}(99,4) \\approx 226.035$\n",
        "\n",
        "$\\mathrm{cuerda}(99,4) \\approx 180.04$\n",
        "\n",
        "$\\mathrm{cuerda}(2,600) \\approx 4$\n",
        "\n",
        "**Tips:**\n",
        "*  Para ángulos mayores a $2\\pi$ e incluso menores, se puede aplicar:  $\\theta_{\\mathrm{circulo}}=\\mathrm{mod}(\\theta,2\\pi)$\n",
        "* Para el challenge es útil hallar el ángulo más corto $\\theta_{\\mathrm{corto}}$\n"
      ]
    },
    {
      "cell_type": "code",
      "metadata": {
        "id": "KFD5XwzcpBE7",
        "colab_type": "code",
        "outputId": "f10f2930-225f-458c-d2df-5656220888c1",
        "colab": {
          "base_uri": "https://localhost:8080/",
          "height": 68
        }
      },
      "source": [
        "# Solución al Challenge\n",
        "from math import cos,sin\n",
        "PI = 3.14159265359\n",
        "print(PI, 355/113)\n",
        "def arco(r,theta):\n",
        "    theta1 = theta%(2*PI)\n",
        "    theta2 = 2*PI-theta1\n",
        "    if(theta1<theta2):\n",
        "        theta = theta1\n",
        "    else:\n",
        "        theta = theta2\n",
        "    return r*theta\n",
        "\n",
        "def cuerda(r,theta):\n",
        "    theta1 = theta%(2*PI)\n",
        "    theta2 = 2*PI-theta1\n",
        "    if(theta1<theta2):\n",
        "        theta = theta1\n",
        "    else:\n",
        "        theta = theta2\n",
        "    x1 = r\n",
        "    y1 = 0\n",
        "    x2 = cos(theta)*r\n",
        "    y2 = sin(theta)*r\n",
        "    L = ((x1-x2)**2+(y1-y2)**2)**(0.5)\n",
        "    return L\n",
        "    \n",
        "\n",
        "print(arco(99,4))\n",
        "print(cuerda(99,4))"
      ],
      "execution_count": 0,
      "outputs": [
        {
          "output_type": "stream",
          "text": [
            "3.14159265359 3.1415929203539825\n",
            "226.03534541082\n",
            "180.04089051150203\n"
          ],
          "name": "stdout"
        }
      ]
    },
    {
      "cell_type": "markdown",
      "metadata": {
        "id": "NmXMe9gGpBkg",
        "colab_type": "text"
      },
      "source": [
        "##$\\dificil$ Ejercicio de entrevista en Ingemática \n",
        "Escriba un programa que imprima los números del 1 al 100, pero que para cada número que sea múltiplo de 3 imprima  `N3`, para los múltiplos de 5 imprima `N5`, y para los múltiplos de los dos, `N3N5`.\n",
        "\n",
        "**Tips**\n",
        "* ¡Si el número es divisible por 3 entonces el resto de la división vale cero!\n",
        "```\n",
        "numero % 3 == 0\n",
        ">> True\n",
        "```\n"
      ]
    },
    {
      "cell_type": "code",
      "metadata": {
        "id": "DDMeBkCGpHdq",
        "colab_type": "code",
        "colab": {}
      },
      "source": [
        "for i in range(1,101):\n",
        "    if i%3==0 and i%5==0:\n",
        "        print('N3N5')\n",
        "    elif i%3==0:\n",
        "        print('N3')\n",
        "    elif i%5==0:\n",
        "        print('N5')\n",
        "    else:\n",
        "        print(i)"
      ],
      "execution_count": 0,
      "outputs": []
    },
    {
      "cell_type": "markdown",
      "metadata": {
        "id": "2wo8RgD2tXXY",
        "colab_type": "text"
      },
      "source": [
        "Solucion Santi"
      ]
    },
    {
      "cell_type": "code",
      "metadata": {
        "id": "2PYsmfkitacz",
        "colab_type": "code",
        "colab": {}
      },
      "source": [
        "x = [(i%3==0 and i%5==0) and 'N3N5' or (i%3==0 and 'N3' or (i%5==0 and 'N5' or str(i))) for i in range(1,101)]\n",
        "print(x)"
      ],
      "execution_count": 0,
      "outputs": []
    },
    {
      "cell_type": "markdown",
      "metadata": {
        "id": "Q7L_KC4vpH3M",
        "colab_type": "text"
      },
      "source": [
        "## $\\normal$ La leyenda de Filius Bonacci  \n",
        "\n",
        "\n",
        "\n",
        "\n",
        "\n",
        "<img src=\"https://childsci.org/wp-content/uploads/2016/04/Fibonacci-Sequence.jpg\" height=\"200\" alt = \"Espiral Fibonacci\" title = \"\">\n",
        "\n",
        "Imprima $n$ números de la [sucesion de Fibonacci](https://es.wikipedia.org/wiki/Sucesi%C3%B3n_de_Fibonacci)\n",
        "\n",
        "\n",
        "```\n",
        "0, 1, 1, 2, 3, 5, 8, 13, 21 ...\n",
        "```"
      ]
    },
    {
      "cell_type": "code",
      "metadata": {
        "id": "Yd9GDGSOpLp5",
        "colab_type": "code",
        "outputId": "f015795b-4009-4743-9532-857792ef2586",
        "colab": {
          "base_uri": "https://localhost:8080/",
          "height": 187
        }
      },
      "source": [
        "a0 = 0\n",
        "a1 = 1\n",
        "n = 10\n",
        "for i in range(n):\n",
        "    if i%2==0:\n",
        "        print(a0)\n",
        "        a0+=a1\n",
        "    else:\n",
        "        print(a1)\n",
        "        a1+=a0"
      ],
      "execution_count": 0,
      "outputs": [
        {
          "output_type": "stream",
          "text": [
            "0\n",
            "1\n",
            "1\n",
            "2\n",
            "3\n",
            "5\n",
            "8\n",
            "13\n",
            "21\n",
            "34\n"
          ],
          "name": "stdout"
        }
      ]
    },
    {
      "cell_type": "markdown",
      "metadata": {
        "id": "VHACMcKapMCN",
        "colab_type": "text"
      },
      "source": [
        "## $\\medio$ Locos por las matemáticas \n",
        "En marzo 2019, Emma Haruka Iwao, una empleada de Google, logró calcular 31,4 trillones de dígitos del famoso número pi en 121 dias usando el poder de la nube de Google. ¡Hoy ustedes pueden hacer lo mismo con la ayuda de Python!\n",
        "\n",
        "Aprovechando el descubrimiento del matemático indio Sriniviasa Ramanujan (1910) podemos emplear nuestro propio aproximador de pi.\n",
        "$$ \\frac{1}{\\pi}= \\frac{2\\sqrt{2}}{9801}\\sum_{k=0}^{\\infty} \\frac{(4k)! \\cdot (1103+26390k)}{(k!)^4 396^{4k}}$$\n",
        "\n",
        "Tengan en cuenta la proxima función para calcular factoriales:\n",
        "\n",
        "```\n",
        "def factorial(n):\n",
        "  if n<=1:\n",
        "    return 1\n",
        "  else:\n",
        "    return n*factorial(n-1)\n",
        "```\n",
        "$$\\textrm{factorial(4)}=4!=24 $$\n",
        "\n",
        "Si no estamos tan locos por la matemáticas podemos usar otras aproximaciones más simples como\n",
        "\n",
        "$$\\pi \\approx \\frac{22}{7} \\approx \\frac{355}{113} $$\n",
        "\n",
        "Otros números famosos:\n",
        "$$e = \\sum_{k=0}^\\infty \\frac{1}{k!} \\qquad e=\\lim_{x\\rightarrow\\infty} \\left( 1+\\frac{1}{x} \\right)^x \\qquad \\varphi = \\frac{1+\\sqrt{5}}{2} $$"
      ]
    },
    {
      "cell_type": "code",
      "metadata": {
        "id": "A3uW-hNGpSnK",
        "colab_type": "code",
        "outputId": "fb5104dd-447d-4447-a0f7-66be03a85499",
        "colab": {
          "base_uri": "https://localhost:8080/",
          "height": 34
        }
      },
      "source": [
        "def factorial(n):\n",
        "    if n<=1:\n",
        "        return 1\n",
        "    else:\n",
        "        return n*factorial(n-1)\n",
        "def piApprox(num):\n",
        "    mul = 2**(3/2)/9801\n",
        "    suma = 0\n",
        "    for k in range(num):\n",
        "        suma+=factorial(4*k) /factorial(k)**4 *(1103+26390*k)/396**(4*k)\n",
        "    return 1/(mul*suma)\n",
        "print(piApprox(10))"
      ],
      "execution_count": 0,
      "outputs": [
        {
          "output_type": "stream",
          "text": [
            "3.141592653589793\n"
          ],
          "name": "stdout"
        }
      ]
    },
    {
      "cell_type": "markdown",
      "metadata": {
        "id": "aIy0se96pS9E",
        "colab_type": "text"
      },
      "source": [
        "## $\\dificil$  Dominó  \n",
        "\n",
        "El [Dominó](https://es.wikipedia.org/wiki/Domin%C3%B3) es un juego de mesa muy popular. \n",
        "En este ejercicio no vamos a programar un juego de Domino, pero sí contar sus fichas.\n",
        "\n",
        "<img src=\"https://es.calcuworld.com/wp-content/uploads/sites/2/2018/04/cantidad-de-fichas-domino.jpg\" height=\"200\" alt = \"Fichas domino desparramadas sobre una mesa\">\n",
        "\n",
        "A pesar de que el domino tradicional se juega con fichas hasta el número 6, vamos a considerar un juego de fichas de valor máximo $n$.\n",
        "\n",
        "- Escribir una función que calcule la cantidad de fichas para un juego de dominó completo con fichas que contienen hasta el número $n$.\n",
        "Nota: ¡No hay fichas repetidas! 2-4 es la misma ficha que 4-2.  Además para nuestro domino no hay ficha con valor 0\n",
        "\n",
        "```\n",
        "   cantidadFichas(4)\n",
        "   >>> 10\n",
        "```\n",
        "\n",
        "- Escribir una función que muestre todas las fichas para un juego de dominó como el anterior, en cualquier orden.\n",
        "\n",
        "```\n",
        "   mostrarFichas(3)\n",
        "   >>> 1-1\n",
        "   >>> 1-2\n",
        "   >>> 1-3\n",
        "   >>> 2-2\n",
        "   >>> 2-3\n",
        "   >>> 3-3\n",
        "```\n",
        "\n",
        "- Llamar a las funciones anteriores con distintos valores para corroborar su funcionamiento\n",
        "\n",
        "- Challenge: Escribir una función que, dada una cantidad de fichas, calcule cuál es el $n$ (valor máximo) de las fichas. Si la cantidad no corresponde a ningún juego de dominó completo retornar -1.\n",
        "\n",
        "```\n",
        "   valorMaximo(21)\n",
        "   >>> 6\n",
        "```\n"
      ]
    },
    {
      "cell_type": "code",
      "metadata": {
        "id": "gAcK_EcipVYk",
        "colab_type": "code",
        "outputId": "1cd68407-5149-453a-e5ea-315a5f51a551",
        "colab": {
          "base_uri": "https://localhost:8080/",
          "height": 136
        }
      },
      "source": [
        "def mostrarFichas(n):\n",
        "    for i in range(1,n+1):\n",
        "        for j in range(i,n+1):\n",
        "            print(str(i)+'-'+str(j))\n",
        "def valorMaximo(num):\n",
        "    n = 1\n",
        "    while n*(n+1)/2 < num:\n",
        "        n+=1\n",
        "    if n*(n+1)/2 == num:\n",
        "        print(n)\n",
        "    else:\n",
        "        print(-1)\n",
        "        \n",
        "mostrarFichas(3)\n",
        "valorMaximo(21)"
      ],
      "execution_count": 0,
      "outputs": [
        {
          "output_type": "stream",
          "text": [
            "1-1\n",
            "1-2\n",
            "1-3\n",
            "2-2\n",
            "2-3\n",
            "3-3\n",
            "6\n"
          ],
          "name": "stdout"
        }
      ]
    },
    {
      "cell_type": "markdown",
      "metadata": {
        "id": "RvBkXJ-9oMTb",
        "colab_type": "text"
      },
      "source": [
        "# Clase 2\n"
      ]
    },
    {
      "cell_type": "markdown",
      "metadata": {
        "id": "aWCgfFDhpm2w",
        "colab_type": "text"
      },
      "source": [
        "## $\\facil$ Call me $\\frac{\\partial}{\\partial x}$, or $\\mathrm{diff}$ for short\n",
        "Una operacion muy comun al manejar datos es la derivada\n",
        "\n",
        "$$ \\frac{d }{dt} (\\mathrm{Datos}) $$\n",
        "\n",
        "Objetivo: Escribir una funcion que tome una lista de $n$ numeros y devuelva la *derivada discreta* de la lista de tamano $n-1$.\n",
        "\n",
        "Tips\n",
        "* $\\mathrm{derivada}[i]=x[i+1]-x[i]$ \n"
      ]
    },
    {
      "cell_type": "code",
      "metadata": {
        "id": "jWDEiWi_po0T",
        "colab_type": "code",
        "outputId": "6c3e33ee-738b-45f1-fde5-61c3baea6ab3",
        "colab": {
          "base_uri": "https://localhost:8080/",
          "height": 34
        }
      },
      "source": [
        "def derivada(x):\n",
        "    return [x[i]-x[i-1] for i in range(1,len(x))]\n",
        "\n",
        "z = [4,5,6]\n",
        "print(derivada(z))\n"
      ],
      "execution_count": 0,
      "outputs": [
        {
          "output_type": "stream",
          "text": [
            "[1, 1]\n"
          ],
          "name": "stdout"
        }
      ]
    },
    {
      "cell_type": "markdown",
      "metadata": {
        "id": "O2Sn_U4wppNF",
        "colab_type": "text"
      },
      "source": [
        "## $\\normal$ Las naranjas de Miguel \n",
        "Miguel vive en un pueblo frutero con su hermana en el valle de Oz. Todos los días le llega un pedido recien cosechado de bananas y naranjas. Como son abundantes, suele darle 2 bananas a su hermana y 1 naranja. \n",
        "\n",
        "Miguel ahora quiere modernizarse y te viene a pedir si sabrías como escribir un programa que lea el código del pedido y *devuelva la cantidad de bananas y naranjas que debe repartir* teniendo en cuenta que Miguel **siempre** quiere quedarse con por lo menos una naranja.\n",
        "\n",
        "``\n",
        "ejemploCodigoDePedido = \"1111100000000\"\n",
        "``\n",
        "\n",
        "Cada 0 representa una naranja y cada 1 representa una banana.\n",
        "\n",
        "**Tips**\n",
        "* La función `list()` toma un string y lo convierte a una lista\n",
        "\n",
        "```\n",
        "P=list(ejemploCodigoDePedido)\n",
        ">> P = ['1', '1', '1', '1', '1', '0', '0', '0', '0', '0', '0', '0', '0']\n",
        "```"
      ]
    },
    {
      "cell_type": "code",
      "metadata": {
        "id": "QJznLiLBpuS2",
        "colab_type": "code",
        "colab": {}
      },
      "source": [
        "P=\"011\"  \n",
        "def leerPedido(pedido):\n",
        "    naranjas=0\n",
        "    bananas=0\n",
        "    for i in range(0,len(pedido)): \n",
        "        letra = pedido[i]\n",
        "        if letra==\"0\": \n",
        "            naranjas+=1 \n",
        "        else:\n",
        "            bananas+=1\n",
        "    return naranjas,bananas\n",
        "\n",
        "def cuantasDar(naranjas,bananas):\n",
        "    naranjasParaHermana = 0\n",
        "    bananasParaHermana = 0\n",
        "    if naranjas<2:\n",
        "        naranjasParaHermana = 0\n",
        "    else:\n",
        "        naranjasParaHermana = 1 \n",
        "    if bananas > 1:\n",
        "        bananasParaHermana = 2\n",
        "    else:\n",
        "        bananasParaHermana = bananas\n",
        "    return naranjasParaHermana,bananasParaHermana\n",
        "\n",
        "n,b = leerPedido(P) #Leo pedido y guardo a memoria las frutas que tengo\n",
        "nh,bh = cuantasDar(n,b) #Aqui calculo naranjas para darle a la hermana\n",
        "\n",
        "print(\"Bienvenido Miguel. Hoy Dar \",nh,\" Naranja y \",bh,\" banana(s).\")"
      ],
      "execution_count": 0,
      "outputs": []
    },
    {
      "cell_type": "markdown",
      "metadata": {
        "id": "BcZjTp7_pvxS",
        "colab_type": "text"
      },
      "source": [
        "## $\\normal$  Opciones y Menús \n",
        "Escribir un programa que tome una lista y pida al usuario que seleccione un item de la lista y otorgarle un puntaje entre 1 y 5. Finalmente el programa debería imprimir la elección del usuario y el puntaje otorgado.\n",
        "\n",
        "**Ejemplo de lista input:**\n",
        "\n",
        "``\n",
        "opciones = [\"Bundesliga\", \"La Liga\", \"Liga BBVA\",\"Premiere League\"]\n",
        "``\n",
        "\n",
        "**Interaccion:**\n",
        "\n",
        "```\n",
        "Ingresar número de la opción deseada.\n",
        "0 . Bundesliga\n",
        "1 . La Liga\n",
        "2 . Liga BBVA\n",
        "3 . Premiere League\n",
        ">>>1\n",
        "Cuantos puntos le otorga a: La Liga\n",
        ">>>3\n",
        "Se guardó su respuesta como: La Liga con  3  puntos.\n",
        "```"
      ]
    },
    {
      "cell_type": "code",
      "metadata": {
        "id": "K813wIVH0Vex",
        "colab_type": "code",
        "colab": {}
      },
      "source": [
        "puntos = {}"
      ],
      "execution_count": 0,
      "outputs": []
    },
    {
      "cell_type": "code",
      "metadata": {
        "id": "GlsCvUh4p133",
        "colab_type": "code",
        "colab": {}
      },
      "source": [
        "opciones = [\"Bundesliga\", \"La Liga\", \"Liga BBVA\",\"Premiere League\"]\n",
        "print('Ingresar número de la opción deseada.')\n",
        "for i,op in enumerate(opciones):\n",
        "    print(i,'.',op)\n",
        "i = int(input())\n",
        "print('Cuantos puntos le otorga a:',opciones[i])\n",
        "pun = int(input())\n",
        "puntos[opciones[i]]=pun\n",
        "print('Se guardó su respuesta como:',opciones[i],'con',pun,'puntos')"
      ],
      "execution_count": 0,
      "outputs": []
    },
    {
      "cell_type": "markdown",
      "metadata": {
        "id": "FztOw6_vp2Oh",
        "colab_type": "text"
      },
      "source": [
        "## $\\dificil$ Dr. Chaos, el malevolo semiótico\n",
        "\n",
        "\"Chaos es caos en inglés\" te diría Dr. Chaos, charlando con una taza de té Chai en la mano. En verdad no es tán malo como su nombre lo hace aparentar... si es que tenes un buen manejo de los idiomas.\n",
        "\n",
        "Dr. Chaos esta armando un diccionario. Este diccionario tiene la particularidad de no tener definiciones; el diccionario de Dr. Chaos define *una palabra como otra*. Dr. Chaos quiere comenzar a traducir la literatura de todo el mundo usando el diccionario y ha venido a ti, el *Number One* programador de Python. \n",
        "\n",
        "**Objetivo:** Cambiar las palabras de una oración usando el diccionario de Dr. Chaos e imprimir la nueva oración en el lenguaje unificado.\n",
        "\n",
        "*Ejemplo:*\n",
        "\n",
        "``\n",
        "diccionario = {\"hola\":\"你好\",\"como\":\"how\",\"estás\":\"estáis\"}\n",
        "``\n",
        "\n",
        "``\n",
        "oracion = \"hola, como estás?\"\n",
        "``\n",
        "\n",
        "\n",
        "*OUTPUT:  *\n",
        "``\n",
        "\"你好, how estáis?\"\n",
        "``\n",
        "\n",
        "*Ejemplo 2:*\n",
        "\n",
        "``\n",
        "diccionario = {\"ve\":\"regards\",\"bien\":\"bom\",\"se\":\"it\"}\n",
        "``\n",
        "\n",
        "``\n",
        "oracion = \"se ve bien!\"\n",
        "``\n",
        "\n",
        "**Tips:** \n",
        "\n",
        "* El programa debería tratar los símbolos de interrogación, exclamación, los puntos y comas como `whitespace`, es decir, espacio en blanco.\n",
        " \n",
        "* Suponer que las letras son todas minusculas.\n"
      ]
    },
    {
      "cell_type": "code",
      "metadata": {
        "id": "IT27GKSLp72f",
        "colab_type": "code",
        "colab": {}
      },
      "source": [
        "espanolToChaos = {\"ve\":\"regards\",\"bien\":\"bom\",\"se\":\"it\"}\n",
        "oracion = \"se ve bien!\"\n",
        "whitespace = [\" \",\".\",\",\",\"!\",\"?\"]\n",
        "\n",
        "resultado = \"\"\n",
        "palabra = \"\"\n",
        "for i in range(0,len(oracion)):\n",
        "    letra=oracion[i]\n",
        "    if letra in whitespace:\n",
        "        if palabra!=\"\":\n",
        "            resultado = resultado+espanolToChaos[palabra]\n",
        "    \n",
        "        resultado = resultado+letra\n",
        "        palabra=\"\"\n",
        "    else:\n",
        "        palabra = palabra+letra\n",
        "print(resultado)"
      ],
      "execution_count": 0,
      "outputs": []
    },
    {
      "cell_type": "markdown",
      "metadata": {
        "id": "jK7ve8gvp8OY",
        "colab_type": "text"
      },
      "source": [
        "## $\\imposible$ Quiero Retruco\n",
        "El [Truco](https://es.wikipedia.org/wiki/Truco_argentino) es un juego de cartas muy popular en Argentina. Se suele jugar con naipes españoles de 40 cartas, las cuales tienen 4 palos (basto, oro, espada y copa) y 10 números, 1,2,3,4,5,6,7,10,11 y 12.\n",
        "Si bien en esta ocasión no vamos a programar un juego de truco, si, vamos a resolver uno de los problemas más usuales que surgen cuando jugamos el cual es definir cual carta gana y cual carta pierde cuando hay un duelo entre dos cartas. \n",
        "\n",
        "<img src=\"https://steemitimages.com/640x0/http://k46.kn3.net/taringa/B/D/9/7/2/4/KevinTrimboli/338.png\" height=300 alt =\"Esquema de hierarquia de cartas para el juego truco argentino\" title=\"Un palo le gana a 7 espadas y ambos pierden ante una espada envainada? What?\">\n",
        "\n",
        "En la imagen podemos observar en orden de importancia de las cartas de izquierda a derecha. El 1 de espada es la más importante (y por lo tanto **siempre** gana) mientras que los 4s son las cartas de menor importancia (casi siempre pierden). Las cartas en la misma columna empatan si se enfrentan.\n",
        "\n",
        "- Programar una función con dos inputs tipo string **carta A** y **carta B** que retorne la carta ganadora (tipo string), o \"empate\" en caso de que lo haya. Ejemplos de como debería funcionar\n",
        "\n",
        "```\n",
        "   dueloDeCartas(\"1 de espada\", \"1 de basto\")\n",
        "   >>> 1 de basto\n",
        "   dueloDeCartas(\"7 de oro\", \"5 de oro\")\n",
        "   >>> 7 de oro\n",
        "   dueloDeCartas(\"11 de copa\", \"11 de espada\")\n",
        "   >>> empate\n",
        "```\n",
        "\n",
        "Hint: usar un diccionario donde la **clave** sea el nombre de la carta, y su **contenido** su importancia (un tipo **int**). Aprovechen la instrucción for para evitar tener que cargar todas las cartas una por una\n",
        "\n",
        "- A veces se suele jugar al truco con más de dos jugadores. Podría ocurrir duelos en los que participan $n$ cartas. Programar una funcion cuyo input sea una lista de strings con todas las cartas y retorne la ganadora. (En caso de empate que retorne alguna de las ganadoras, o un arreglo con las ganadoras)\n",
        "Ejemplos de como podria funcionar funcionar\n",
        "```\n",
        "   dueloDeCartas([\"7 de basto\",\"7 de espada\",\"12 de espada\", \"4 de espada\"])\n",
        "   >>> \"7 de espada\"\n",
        "   dueloDeCartas([\"4 de espada\",\"7 de basto\",\"7 de copa\", \"5 de copa\"]) #también podría haber dado 7 de basto \n",
        "   >>> \"7 de copa\"\n",
        "```"
      ]
    },
    {
      "cell_type": "code",
      "metadata": {
        "id": "T_3yWOai1Zyx",
        "colab_type": "code",
        "colab": {}
      },
      "source": [
        "# antes de hacer la funcion dueloDeCartas, creamos el diccionario que leera \n",
        "#  para saber que carta gana\n",
        "valorCarta = dict() \n",
        "\n",
        " # casos especiales: esto no lo puedo hacer con un for\n",
        "valorCarta[\"1 de espada\"] = 14    \n",
        "valorCarta[\"1 de basto\"] = 13     \n",
        "valorCarta[\"7 de espada\"] = 12\n",
        "valorCarta[\"7 de oro\"] = 11\n",
        "\n",
        "# el resto de los valores son de 10 para abajo\n",
        "valor = 10\n",
        "for x in [3,2,1,12,11,10,7,6,5,4]: \n",
        "    # itero por los numeros de las cartas, de la mas a la menos poderosa\n",
        "    if x == 1: # con este if elijo que palos de este numero guardo\n",
        "        palos = [\"oro\",\"copa\"] \n",
        "    elif x == 7:\n",
        "        palos = [\"basto\", \"copa\"]\n",
        "    else: \n",
        "        palos = [\"oro\",\"copa\",\"basto\",\"espada\"]\n",
        "    \n",
        "    for palo in palos:\n",
        "        valorCarta[str(x)+\" de \" + palo] = valor\n",
        "        # para todos los palos que elegi para este numero, guardo la carta\n",
        "        # con el mismo valor\n",
        "    \n",
        "    valor -= 1 # la carta que viene es menos poderosa\n",
        "\n",
        "def dueloDeCartas(cartaA, cartaB):\n",
        "    # usamos el diccionario que creamos para saber el valor de las cartas\n",
        "    # que nos pasan\n",
        "    if valorCarta[cartaA] > valorCarta[cartaB]:\n",
        "        return cartaA\n",
        "    elif valorCarta[cartaA] < valorCarta[cartaB]:\n",
        "        return cartaB\n",
        "    else:\n",
        "        return \"empate\"\n",
        "    \n",
        "    \n",
        "# verificamos que la funcion ande correctamente\n",
        "print(dueloDeCartas(\"7 de basto\",\"1 de basto\")) #encontre más errores! el 7 trae problems!\n",
        "print(dueloDeCartas(\"1 de copa\", \"1 de oro\"))\n",
        "print(dueloDeCartas(\"7 de copa\",\"3 de copa\"))\n",
        "\n",
        "\n",
        "# verificamos que todos los valores esten correctamente calculados\n",
        "print(valorCarta) "
      ],
      "execution_count": 0,
      "outputs": []
    },
    {
      "cell_type": "markdown",
      "metadata": {
        "id": "UxoHwWVjoN1O",
        "colab_type": "text"
      },
      "source": [
        "# Clase 3\n"
      ]
    },
    {
      "cell_type": "markdown",
      "metadata": {
        "id": "lefADW-Fy9OG",
        "colab_type": "text"
      },
      "source": [
        "## $\\facil$ Copy\n",
        "Armar una función que copie un archivo, y lo guarde como Copia 1 - $nombre$, de ya existir debe guardarlo como Copia 2 -, Copia 3 - , ...\n",
        "\n",
        "Usar la libreria os para chequear si existe el archivo:\n",
        "> os.path.exists($nombre$) devolverá True si ya existe\n",
        "> importar con: Import os"
      ]
    },
    {
      "cell_type": "code",
      "metadata": {
        "id": "BDg1vYrOy-K_",
        "colab_type": "code",
        "colab": {}
      },
      "source": [
        "import os\n",
        "\n",
        "def copia(nombre):\n",
        "    if(os.path.exists(nombre)==True):\n",
        "        i=1\n",
        "        nuevo = 'Copia '+str(i)+' -'+nombre\n",
        "        while(os.path.exists(nuevo)==True):\n",
        "            i+=1\n",
        "            nuevo = 'Copia '+str(i)+' - '+nombre\n",
        "        with open(nuevo,'w') as fp:\n",
        "            archivo = open(nombre,'r')\n",
        "            l = archivo.readline()\n",
        "            while(l!=''):\n",
        "                fp.write(l)\n",
        "                l = archivo.readline()\n",
        "    else:\n",
        "        print('No existe')\n",
        "        \n",
        "copia('Datos.csv')"
      ],
      "execution_count": 0,
      "outputs": []
    },
    {
      "cell_type": "markdown",
      "metadata": {
        "id": "qR087zkIymq9",
        "colab_type": "text"
      },
      "source": [
        "## $\\facil$ California Housing\n",
        "Abrir el archivo que viene incluido ./sample_data/california_housing_train.csv. El archivo contiene un conjunto de datos de viviendas de California, el cual fue extraido del censo de nacional de 1990. Para mas info sobre el set de datos: https://developers.google.com/machine-learning/crash-course/california-housing-data-description\n",
        "\n",
        "Responder las siguientes preguntas:\n",
        "\n",
        "1) Cuantas casas hay con valor 'median_house_value' mayor a 80000 tomando de la longitud -120  a -118? Ans: 5466\n",
        "\n",
        "2) Cual es el promedio de habitaciones por manzana ('total_rooms') de estas casas? Ans: 2466.31\n",
        "\n",
        "3) Cual es la casa mas cara? Cuantas hay con este valor? Ans: 500001.0 - 814 \n",
        "\n",
        "4) $\\medio$ Obtener la media y la varianza de la propiedad 'median_house_value'. Ans: 207300.91 - 13451442293.57\n",
        "\n",
        "Tip: La función **enumerate**($lista$) devuele $posición,elemento$"
      ]
    },
    {
      "cell_type": "code",
      "metadata": {
        "id": "QQoNdDDCyq7_",
        "colab_type": "code",
        "colab": {}
      },
      "source": [
        "import pandas as pd\n",
        "import numpy as np\n",
        "\n",
        "archivo = pd.read_csv(\"./sample_data/california_housing_train.csv\") \n",
        "\n",
        "\n",
        "#Pregunta 1 y 2 (una manera de resolverlo)\n",
        "ans = 0\n",
        "hab = 0\n",
        "for i,lon in enumerate(archivo['longitude']):\n",
        "    if -120 <= lon and lon<=-118 :\n",
        "        if archivo['median_house_value'][i] > 80000:\n",
        "            ans+=1\n",
        "            hab+=archivo['total_rooms'][i]\n",
        "print(ans)\n",
        "print(hab/ans)\n",
        "#Pregunta 3\n",
        "\n",
        "m = max(archivo['median_house_value'])\n",
        "c = sum(archivo['median_house_value'] == m)\n",
        "print(m)\n",
        "print(c)\n",
        "#pregunta 4\n",
        "m = np.mean(archivo['median_house_value'])\n",
        "v = np.var(archivo['median_house_value'])\n",
        "print(m)\n",
        "print(v)"
      ],
      "execution_count": 0,
      "outputs": []
    },
    {
      "cell_type": "markdown",
      "metadata": {
        "id": "3P4hvkzgydrt",
        "colab_type": "text"
      },
      "source": [
        "## $\\dificil $ Buscando la $\n",
        "\n",
        "Utilizando el set de datos  incluido ./sample_data/california_housing_train.csv, dividir el area cubierta por el censo cuadrantes de 0.5 de lat y 0.5  de longitud, encontrar para que cuadrtante el 'median_house_value' es el mayor para todas las casas. Buscar donde estan estas coordenadas. Asignar el paso como una variable para que pueda cambiarse facilmente. Para filtrar las zonas de muy baja residencia descarten los valores cuando hay menos de 100 casas\n",
        "\n",
        "Datos utiles:\n",
        "- Minimo de longitud: -124.3\n",
        "- Máximo de longitud: -114.3\n",
        "- Minimo de latitud: 32.5\n",
        "- Máximo de latitud: 42.5\n",
        "\n",
        "Tip: El programa va a tardar en correr, no se asusten!\n",
        "\n",
        "Nota final: Busquen en el mapa estas coordenadas para ver donde quedan! "
      ]
    },
    {
      "cell_type": "code",
      "metadata": {
        "id": "D-Z-2p_DyjCV",
        "colab_type": "code",
        "colab": {}
      },
      "source": [
        "import pandas as pd\n",
        "import numpy as np\n",
        "\n",
        "archivo = pd.read_csv(\"./sample_data/california_housing_train.csv\") \n",
        "paso = .5\n",
        "\n",
        "lats = np.arange(32.5,42.5,paso)\n",
        "lons = np.arange(-124.3,113.3,paso) \n",
        "maximoValor = 0\n",
        "maximaLat = 0\n",
        "maximaLon = 0\n",
        "for lat in lats:\n",
        "    for lon in lons:\n",
        "        data = archivo[(archivo['latitude']>=lat) & (archivo['latitude']<=lat+paso)]\n",
        "        data = data[(data['longitude']>=lon) & (data['longitude']<=lon+paso)]\n",
        "        if(len(data)>100):\n",
        "            m = np.mean(data['median_house_value'])\n",
        "            if m > maximoValor:\n",
        "                maximaLat = lat\n",
        "                maximaLon = lon\n",
        "                maximoValor = m\n",
        "print('Latitude:',maximaLat,'Longitude',maximaLon,'Price',maximoValor)\n"
      ],
      "execution_count": 0,
      "outputs": []
    },
    {
      "cell_type": "markdown",
      "metadata": {
        "id": "5HB_AhErong7",
        "colab_type": "text"
      },
      "source": [
        "## El tiempo es dinero"
      ]
    },
    {
      "cell_type": "code",
      "metadata": {
        "id": "dckpZlW2rIAP",
        "colab_type": "code",
        "outputId": "bb427ab3-a447-4c7d-aba5-6803f92fd308",
        "colab": {
          "base_uri": "https://localhost:8080/",
          "height": 391
        }
      },
      "source": [
        "# obtenemos archivos de ejemplo\n",
        "\n",
        "! wget \"https://raw.githubusercontent.com/IEEESBITBA/Curso-Python/master/Clase_3_datos/transferencias.csv\" \n",
        "! wget \"https://raw.githubusercontent.com/IEEESBITBA/Curso-Python/master/Clase_3_datos/usuarios.csv\" \n",
        "\n"
      ],
      "execution_count": 0,
      "outputs": [
        {
          "output_type": "stream",
          "text": [
            "--2019-05-17 02:53:12--  https://raw.githubusercontent.com/IEEESBITBA/Curso-Python/master/Clase_3_datos/transferencias.csv\n",
            "Resolving raw.githubusercontent.com (raw.githubusercontent.com)... 151.101.0.133, 151.101.64.133, 151.101.128.133, ...\n",
            "Connecting to raw.githubusercontent.com (raw.githubusercontent.com)|151.101.0.133|:443... connected.\n",
            "HTTP request sent, awaiting response... 200 OK\n",
            "Length: 107 [text/plain]\n",
            "Saving to: ‘transferencias.csv’\n",
            "\n",
            "\rtransferencias.csv    0%[                    ]       0  --.-KB/s               \rtransferencias.csv  100%[===================>]     107  --.-KB/s    in 0s      \n",
            "\n",
            "2019-05-17 02:53:12 (17.3 MB/s) - ‘transferencias.csv’ saved [107/107]\n",
            "\n",
            "--2019-05-17 02:53:14--  https://raw.githubusercontent.com/IEEESBITBA/Curso-Python/master/Clase_3_datos/usuarios.csv\n",
            "Resolving raw.githubusercontent.com (raw.githubusercontent.com)... 151.101.0.133, 151.101.64.133, 151.101.128.133, ...\n",
            "Connecting to raw.githubusercontent.com (raw.githubusercontent.com)|151.101.0.133|:443... connected.\n",
            "HTTP request sent, awaiting response... 200 OK\n",
            "Length: 107 [text/plain]\n",
            "Saving to: ‘usuarios.csv’\n",
            "\n",
            "usuarios.csv        100%[===================>]     107  --.-KB/s    in 0s      \n",
            "\n",
            "2019-05-17 02:53:14 (16.0 MB/s) - ‘usuarios.csv’ saved [107/107]\n",
            "\n"
          ],
          "name": "stdout"
        }
      ]
    },
    {
      "cell_type": "code",
      "metadata": {
        "id": "2MwFPOwDokB8",
        "colab_type": "code",
        "outputId": "0488ee9e-88dc-4aff-c5d9-f9b47eab35f0",
        "colab": {
          "base_uri": "https://localhost:8080/",
          "height": 85
        }
      },
      "source": [
        "import pandas as pd\n",
        "\n",
        "usuarios_archivo = pd.read_csv(\"usuarios.csv\",index_col=[\"Usuario\"]) \n",
        "usuarios = usuarios_archivo.to_dict(\"index\")\n",
        "#leemos los usuarios \"indexados\" por su nombre\n",
        "\n",
        "transferencias_archivo = pd.read_csv(\"transferencias.csv\")\n",
        "transferencias = transferencias_archivo.to_dict(\"records\")\n",
        "# leemos en una lista de diccionarios con el contenido de cada fila\n",
        "\n",
        "\n",
        "for transferencia in transferencias:\n",
        "    print(\"Realizando transferencia \",transferencia[\"Emisor\"], transferencia[\"Receptor\"], \"$\", transferencia[\"Dinero\"])\n",
        "\n",
        "    receptor = transferencia[\"Receptor\"]\n",
        "    emisor = transferencia[\"Emisor\"]\n",
        "    dinero = transferencia[\"Dinero\"]\n",
        "    \n",
        "    usuarios[receptor][\"Dinero\"] += dinero\n",
        "    usuarios[emisor][\"Dinero\"] += dinero\n",
        "\n",
        "output = dict() # arreglo de salida que va a estar indexado segun los numeros de orden\n",
        "\n",
        "for user_name in usuarios:\n",
        "    usuario = usuarios[user_name]\n",
        "    order = usuario[\"Unnamed: 0\"]\n",
        "    output[order] = { \n",
        "        \"Usuario\": user_name,\n",
        "        \"Dinero\": usuarios[user_name][\"Dinero\"]\n",
        "    }\n",
        "salida_informacion = pd.DataFrame.from_dict(output, orient='index')\n",
        "\n",
        "salida_informacion.to_csv(\"usuarios_actualizados.csv\")\n",
        "\n"
      ],
      "execution_count": 0,
      "outputs": [
        {
          "output_type": "stream",
          "text": [
            "Realizando transferencia  Claudia Uriel $ 220\n",
            "Realizando transferencia  Rocio Ariel $ 2000\n",
            "Realizando transferencia  Agustin Rocio $ 43434\n",
            "Realizando transferencia  Uriel Joaquin $ 12434\n"
          ],
          "name": "stdout"
        }
      ]
    },
    {
      "cell_type": "markdown",
      "metadata": {
        "id": "xdddwFDB5s0q",
        "colab_type": "text"
      },
      "source": [
        "## Unificación de bases de datos"
      ]
    },
    {
      "cell_type": "code",
      "metadata": {
        "id": "z1xnB4XfCe3P",
        "colab_type": "code",
        "outputId": "244f949b-50dd-4a63-b589-eda3affe6567",
        "colab": {
          "base_uri": "https://localhost:8080/",
          "height": 411
        }
      },
      "source": [
        "! wget \"https://raw.githubusercontent.com/IEEESBITBA/Curso-Python/master/Clase_3_datos/lista1.csv\" \n",
        "# primera lista de clientes\n",
        "\n",
        "! wget \"https://raw.githubusercontent.com/IEEESBITBA/Curso-Python/master/Clase_3_datos/lista2.csv\"\n",
        "# segunda lista de clientes"
      ],
      "execution_count": 0,
      "outputs": [
        {
          "output_type": "stream",
          "text": [
            "--2019-05-13 21:13:47--  https://raw.githubusercontent.com/IEEESBITBA/Curso-Python/master/Clase_3_datos/lista1.csv\n",
            "Resolving raw.githubusercontent.com (raw.githubusercontent.com)... 151.101.0.133, 151.101.64.133, 151.101.128.133, ...\n",
            "Connecting to raw.githubusercontent.com (raw.githubusercontent.com)|151.101.0.133|:443... connected.\n",
            "HTTP request sent, awaiting response... 200 OK\n",
            "Length: 139 [text/plain]\n",
            "Saving to: ‘lista1.csv’\n",
            "\n",
            "\rlista1.csv            0%[                    ]       0  --.-KB/s               \rlista1.csv          100%[===================>]     139  --.-KB/s    in 0s      \n",
            "\n",
            "2019-05-13 21:13:47 (19.7 MB/s) - ‘lista1.csv’ saved [139/139]\n",
            "\n",
            "--2019-05-13 21:13:48--  https://raw.githubusercontent.com/IEEESBITBA/Curso-Python/master/Clase_3_datos/lista2.csv\n",
            "Resolving raw.githubusercontent.com (raw.githubusercontent.com)... 151.101.0.133, 151.101.64.133, 151.101.128.133, ...\n",
            "Connecting to raw.githubusercontent.com (raw.githubusercontent.com)|151.101.0.133|:443... connected.\n",
            "HTTP request sent, awaiting response... 200 OK\n",
            "Length: 195 [text/plain]\n",
            "Saving to: ‘lista2.csv’\n",
            "\n",
            "lista2.csv          100%[===================>]     195  --.-KB/s    in 0s      \n",
            "\n",
            "2019-05-13 21:13:48 (25.4 MB/s) - ‘lista2.csv’ saved [195/195]\n",
            "\n"
          ],
          "name": "stdout"
        }
      ]
    },
    {
      "cell_type": "code",
      "metadata": {
        "id": "Rqt-dnhB53hD",
        "colab_type": "code",
        "outputId": "31fba29a-bfec-433d-b6e5-e38409cefc99",
        "colab": {
          "base_uri": "https://localhost:8080/",
          "height": 71
        }
      },
      "source": [
        "import pandas as pd\n",
        "\n",
        "listas = [ \"lista2.csv\", \"lista1.csv\" ]\n",
        "clientes = dict()\n",
        "todosloscampos = set()\n",
        "\n",
        "for lista in listas:\n",
        "    archivo = pd.read_csv(lista, index_col =[\"Mail\"])\n",
        "    data = archivo.to_dict(\"index\") \n",
        "    \n",
        "    for mail in data.keys():\n",
        "        if mail not in clientes.keys():\n",
        "            clientes[mail] = dict()\n",
        "            \n",
        "        campos = data[mail]\n",
        "        for campo in data[mail].keys():\n",
        "            clientes[mail][campo] = data[mail][campo]\n",
        "            todosloscampos.add(campo)\n",
        "\n",
        "            \n",
        "for mail in clientes:\n",
        "    for campo in todosloscampos:\n",
        "        if campo not in clientes[mail]:\n",
        "            clientes[mail][campo] = \"-\"\n",
        "        \n",
        "df = pd.DataFrame.from_dict(clientes, orient='index')\n",
        "df.to_csv('listafinal.csv')\n",
        "\n",
        "            \n"
      ],
      "execution_count": 0,
      "outputs": [
        {
          "output_type": "stream",
          "text": [
            "{'payned@icloud.com': {'Nombre': 'Pedro', 'Apellido': 'Ayned', 'DNI': 23569875, 'Edad': '-'}, 'johnh@comcast.net': {'Nombre': 'John', 'Apellido': 'Harris', 'DNI': 99852365, 'Edad': '-'}, 'fairbank@icloud.com': {'Nombre': 'Fernanda', 'Apellido': 'Airbank', 'DNI': 99754231, 'Edad': '-'}, 'jrifkin@gmail.com': {'Nombre': 'Josefina', 'Apellido': 'Rifkin', 'DNI': 40896523, 'Edad': 27}, 'druschel@msn.com': {'Apellido': 'Druschel', 'Nombre': 'Julieta', 'Edad': 31, 'DNI': '-'}, 'hstiles@hotmail.com': {'Apellido': 'Stiles', 'Nombre': 'Harry', 'Edad': 23, 'DNI': '-'}}\n",
            "{'Apellido', 'Nombre', 'DNI', 'Edad'}\n"
          ],
          "name": "stdout"
        }
      ]
    },
    {
      "cell_type": "markdown",
      "metadata": {
        "id": "j1bm-zJQoQGt",
        "colab_type": "text"
      },
      "source": [
        "# Clase 4"
      ]
    },
    {
      "cell_type": "markdown",
      "metadata": {
        "id": "LQtr-71iFrgR",
        "colab_type": "text"
      },
      "source": [
        "## $\\pieceofcake$ Those 3 sides"
      ]
    },
    {
      "cell_type": "code",
      "metadata": {
        "id": "-13TKwVrFtut",
        "colab_type": "code",
        "outputId": "2864f787-253e-4c2a-b280-47aee5789b0d",
        "colab": {
          "base_uri": "https://localhost:8080/",
          "height": 269
        }
      },
      "source": [
        "import matplotlib.pyplot as plt\n",
        "\n",
        "def plot_triang(x, y, l):\n",
        "    sin60 = 0.86602540378 #seno de 60 grados\n",
        "    \n",
        "    # coordenadas de la esquina izquierda, arriba, derecha\n",
        "    # repito la izquierda para que se cierre el triangulo\n",
        "    xcoord = [x-l/2,    0,       x+l/2,   x-l/2]\n",
        "    ycoord = [0,        l*sin60, 0,       0]\n",
        "    \n",
        "    plt.plot(xcoord, ycoord)\n",
        "    plt.show()\n",
        "    \n",
        "    \n",
        "plot_triang(0, 0, 50)"
      ],
      "execution_count": 0,
      "outputs": [
        {
          "output_type": "display_data",
          "data": {
            "image/png": "[encoded data removed]",
            "text/plain": [
              "<Figure size 432x288 with 1 Axes>"
            ]
          },
          "metadata": {
            "tags": []
          }
        }
      ]
    },
    {
      "cell_type": "markdown",
      "metadata": {
        "id": "wkQ8QpuaFMfZ",
        "colab_type": "text"
      },
      "source": [
        "## $\\facil$ Caja y Bigote"
      ]
    },
    {
      "cell_type": "code",
      "metadata": {
        "id": "Q_Nv1vQ-oNM0",
        "colab_type": "code",
        "colab": {}
      },
      "source": [
        "def numeralizar(datos):\n",
        "  datosNumeralizados=[]\n",
        "  for i in range(len(datos)):\n",
        "    dato = datos[i]\n",
        "    if dato!=dato:\n",
        "      continue\n",
        "    elif dato=='Ausente':\n",
        "      continue\n",
        "    else:\n",
        "        datosNumeralizados.append(int(dato))\n",
        "  return datosNumeralizados\n",
        "\n",
        "\n",
        "! wget \"https://raw.githubusercontent.com/IEEESBITBA/Curso-Python/master/Clase_3_datos/NotasFinitos.csv\"\n",
        "\n",
        "import pandas as pd\n",
        "import matplotlib.pyplot as plt\n",
        "datos = pd.read_csv(\"NotasFinitos.csv\") \n",
        "\n",
        "notas1 = datos['1P']\n",
        "notas2 = datos['2P']\n",
        "notas3 = datos['3P']\n",
        "\n",
        "parcial1=numeralizar(notas1)\n",
        "parcial2=numeralizar(notas2)\n",
        "parcial3=numeralizar(notas3)\n",
        "\n",
        "\n",
        "intervalos_superiores=[30,60,90,120,140]\n",
        "nombreDeDatasets=['Parcial 1','Parcial 2','Parcial 3']\n",
        "plt.hist([parcial1,parcial2,parcial3], bins=intervalos_superiores ,label=nombreDeDatasets)\n",
        "plt.legend(loc=\"upper right\")\n",
        "plt.show()\n",
        "\n",
        "_=plt.boxplot([parcial1,parcial2,parcial3]) \n",
        "# ax1.show()\n"
      ],
      "execution_count": 0,
      "outputs": []
    },
    {
      "cell_type": "markdown",
      "metadata": {
        "id": "nwoq_FImFXhL",
        "colab_type": "text"
      },
      "source": [
        "## $\\normal$ Bug Catcher y el disco de la Eutrofia \n",
        "## $\\normal$ Las Algas del Nahuel Huapi (Bug Catcher Continuado)"
      ]
    },
    {
      "cell_type": "code",
      "metadata": {
        "id": "uCFtTOuNFYch",
        "colab_type": "code",
        "colab": {}
      },
      "source": [
        "import numpy as np\n",
        "import matplotlib.pyplot as plt\n",
        "IzIo=0.1\n",
        "zfNahuel = 56\n",
        "kNahuel=-np.log(IzIo)/zfNahuel\n",
        "\n",
        "kRioArriba = 0.009\n",
        "zfRioArriba = -np.log(IzIo)/kRioArriba\n",
        "print('Nahuel Huapi k=',kNahuel)\n",
        "print('Rio Arriba k=',kRioArriba)\n",
        "z = np.arange(0,zfRioArriba,1)\n",
        "\n",
        "I0= 700\n",
        "IzNahuel = I0*np.e**(-kNahuel*z)\n",
        "IzRioArriba = I0*np.e**(-kRioArriba*z)\n",
        "\n",
        "plt.figure(figsize=(15,9))\n",
        "plt.plot(z, IzNahuel, \"blue\",label=\"Nahuel Huapi\")\n",
        "plt.plot(z, IzRioArriba, \"cyan\",label=\"Río arriba\")\n",
        "plt.ylabel(\"Intensidad Iz [W/m^2]\")\n",
        "plt.xlabel(\"Profundidad z [cm]\")\n",
        "\n",
        "plt.title(\"Abajo con la fabrica\")\n",
        "plt.minorticks_on()\n",
        "plt.grid(which='minor', linestyle=':', linewidth=0.2, color='black')\n",
        "#Le asignamos el estilo a la grilla mayor\n",
        "plt.grid(which='major', linestyle='-', linewidth=0.3, color='black')\n",
        "\n",
        "## BUG CATCHER:Algas CONTINUED\n",
        "Izsuperior = 0.25\n",
        "Izinferior = 0.03\n",
        "zinferior= -np.log(Izsuperior)/kNahuel\n",
        "zsuperior = -np.log(Izinferior)/kNahuel\n",
        "\n",
        "zbien  = np.arange(zinferior,zsuperior,0.2)\n",
        "zmal =np.arange(zsuperior,zfRioArriba,0.2) \n",
        "\n",
        "Izbien = I0*np.e**(-kNahuel*zbien) \n",
        "Izmal = I0*np.e**(-kNahuel*zmal)\n",
        "plt.fill_between(zbien, Izbien, color=\"green\",label=\"Crecimiento bueno\")\n",
        "\n",
        "plt.fill_between(zmal, Izmal,color=\"red\",label=\"Crecimiento malo\")\n",
        "plt.legend(loc=\"upper right\")\n",
        "plt.show()\n"
      ],
      "execution_count": 0,
      "outputs": []
    },
    {
      "cell_type": "markdown",
      "metadata": {
        "id": "-BTfm_sJFkRB",
        "colab_type": "text"
      },
      "source": [
        "## $\\dificil$ Esos Malditos Mecánicos..."
      ]
    },
    {
      "cell_type": "code",
      "metadata": {
        "id": "DzonTkhlF3BA",
        "colab_type": "code",
        "colab": {}
      },
      "source": [
        "def isNaN(num):\n",
        "    return num != num\n",
        "\n",
        "def getNota(estado):\n",
        "  if estado == 'Ausente':\n",
        "    return 0\n",
        "  if isNaN(estado):\n",
        "    return 0\n",
        "  return int(estado)\n",
        "  \n",
        "def Aprobado(parcial1,parcial2,parcial3):\n",
        "  if parcial1+parcial2+parcial3<160:\n",
        "    return False\n",
        "  if parcial1>=60 and parcial2>=60:\n",
        "    return True\n",
        "  elif parcial1>=60 and parcial3>=60:\n",
        "    return True\n",
        "  elif parcial2>=60 and parcial3>=60:\n",
        "    return True\n",
        "  else:\n",
        "    return False\n",
        "\n",
        "! wget \"https://raw.githubusercontent.com/IEEESBITBA/Curso-Python/master/Clase_3_datos/NotasFinitos.csv\"\n",
        "\n",
        "import pandas as pd\n",
        "datos = pd.read_csv(\"NotasFinitos.csv\") \n",
        "\n",
        "notas1 = datos['1P']\n",
        "notas2 = datos['2P']\n",
        "notas3 = datos['3P']\n",
        "N = len(notas1) # La cantidad de alumnos\n",
        "notasNumericas\n",
        "# print(notas1[N-1])\n",
        "sum1=0\n",
        "sum2=0\n",
        "sum3=0\n",
        "sumAprobados1=0\n",
        "sumAprobados2=0\n",
        "sumAprobados3=0\n",
        "alumnosAprobados=0\n",
        "for i in range(len(notas1)):\n",
        "  nota1 = getNota(notas1[i])\n",
        "  nota2 = getNota(notas2[i])\n",
        "  nota3 = getNota(notas3[i])\n",
        "  sum1 += nota1\n",
        "  sum2 += nota2\n",
        "  sum3 += nota3\n",
        "  \n",
        "  estáAprobado = Aprobado(nota1,nota2,nota3)\n",
        "  if estáAprobado:\n",
        "    alumnosAprobados += 1\n",
        "    sumAprobados1    += nota1\n",
        "    sumAprobados2    += nota2\n",
        "    sumAprobados3    += nota3\n",
        "    \n",
        "prom1 = sum1/N\n",
        "prom2 = sum2/N\n",
        "prom3 = sum3/N\n",
        "  \n",
        "promAprobados1 = sumAprobados1/alumnosAprobados\n",
        "promAprobados2 = sumAprobados2/alumnosAprobados\n",
        "promAprobados3 = sumAprobados3/alumnosAprobados\n",
        "print('Cantidad alumnos:',N, '  Cantidad alumnos aprobados:',alumnosAprobados)\n",
        "print('Promedios para parciales: P1=',prom1,'P2=',prom2,'P3=',prom3)\n",
        "print('Promedios de los aprobados: P1=',promAprobados1 ,'P2=',promAprobados2,'P3=',promAprobados3 )\n"
      ],
      "execution_count": 0,
      "outputs": []
    }
  ]
}