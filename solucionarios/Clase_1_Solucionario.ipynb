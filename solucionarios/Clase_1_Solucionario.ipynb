{
  "nbformat": 4,
  "nbformat_minor": 0,
  "metadata": {
    "colab": {
      "name": "Clase 1 Solucionario.ipynb",
      "provenance": [],
      "collapsed_sections": [],
      "toc_visible": true,
      "include_colab_link": true
    },
    "kernelspec": {
      "name": "python3",
      "display_name": "Python 3"
    }
  },
  "cells": [
    {
      "cell_type": "markdown",
      "metadata": {
        "id": "view-in-github",
        "colab_type": "text"
      },
      "source": [
        "<a href=\"https://colab.research.google.com/github/IEEESBITBA/Curso-Python/blob/master/solucionarios/Clase_1_Solucionario.ipynb\" target=\"_parent\"><img src=\"https://colab.research.google.com/assets/colab-badge.svg\" alt=\"Open In Colab\"/></a>"
      ]
    },
    {
      "cell_type": "markdown",
      "metadata": {
        "id": "zUpAx4mvVgz6",
        "colab_type": "text"
      },
      "source": [
        "# Clase 1 - Solucionario\n",
        "\n",
        "En este documento se encuentra todos los mini-task de la clase 1 y ejercicios integradores resueltos\n"
      ]
    },
    {
      "cell_type": "markdown",
      "metadata": {
        "id": "Taq1M60JCWcf",
        "colab_type": "text"
      },
      "source": [
        "### Mini-task - input(), print()\n",
        "\n",
        "Diseñar un programa en el cual el usuario ingrese tres números y se muestre el promedio de los tres numeros."
      ]
    },
    {
      "cell_type": "code",
      "metadata": {
        "id": "CTYAThUpChMY",
        "colab_type": "code",
        "colab": {}
      },
      "source": [
        "n1 = int(input(\"Ingrese el número 1:\"))\n",
        "n2 = int(input('Ingrese el numero 2:'))\n",
        "n3 = int(input('Ingrese el numero 3:'))\n",
        "prom = (n1+n2+n3)/3\n",
        "print(prom)"
      ],
      "execution_count": 0,
      "outputs": []
    },
    {
      "cell_type": "markdown",
      "metadata": {
        "colab_type": "text",
        "id": "KrdB7sMFbPJw"
      },
      "source": [
        "### Mini-task - operador modulo %\n",
        "\n",
        "Realizar un programa al cual se ingresa el dia del año mediante un numero de 0 a 364, y que muestra en pantalla a qué dia de la semana corresponde mediante un numero de 0 a 6.\n",
        "\n",
        "Asumimos que el día 0 del año es el primer dia de la semana (dia numero 0 de la semana)."
      ]
    },
    {
      "cell_type": "code",
      "metadata": {
        "id": "lJkAZmLnbfjw",
        "colab_type": "code",
        "colab": {}
      },
      "source": [
        "dia = int( input(\"Ingrese el dia del año: \") )\n",
        "print( dia%7 )"
      ],
      "execution_count": 0,
      "outputs": []
    },
    {
      "cell_type": "markdown",
      "metadata": {
        "id": "mUrWYINjEk-6",
        "colab_type": "text"
      },
      "source": [
        "### Mini-task- if, else\n",
        "Realizar un programa que revise si una nota esta aprobada (es decir si es mayor o igual a 4).\n",
        "\n",
        "**Surgerencia**: utilizar un if/else"
      ]
    },
    {
      "cell_type": "code",
      "metadata": {
        "id": "rK3F0gJkFQlh",
        "colab_type": "code",
        "colab": {}
      },
      "source": [
        "nota = int(input(\"Ingrese nota:\"))\n",
        "if nota>=4:\n",
        "    print('Aprobado')\n",
        "else:\n",
        "    print('Desaprobado')"
      ],
      "execution_count": 0,
      "outputs": []
    },
    {
      "cell_type": "markdown",
      "metadata": {
        "id": "fDFzdkHrxnPE",
        "colab_type": "text"
      },
      "source": [
        "### Mini-task - if, while\n",
        "Implementa un programa que muestre la siguiente secuencia:\n",
        "\n",
        "1,2,3,4,5,4,3,2,1,0\n",
        "\n",
        "**Sugerencia:** utilizar un while y un if\n"
      ]
    },
    {
      "cell_type": "code",
      "metadata": {
        "id": "ELNQM61IIni8",
        "colab_type": "code",
        "outputId": "4a641a2e-a6a8-4cca-fd95-45a707007572",
        "colab": {
          "base_uri": "https://localhost:8080/",
          "height": 187
        }
      },
      "source": [
        "x = 1\n",
        "while x<=10:\n",
        "    if x < 6:\n",
        "        print(x)\n",
        "    else:\n",
        "        print(10-x)\n",
        "    x+=1"
      ],
      "execution_count": 0,
      "outputs": [
        {
          "output_type": "stream",
          "text": [
            "1\n",
            "2\n",
            "3\n",
            "4\n",
            "5\n",
            "4\n",
            "3\n",
            "2\n",
            "1\n",
            "0\n"
          ],
          "name": "stdout"
        }
      ]
    },
    {
      "cell_type": "markdown",
      "metadata": {
        "id": "UoNf8Ce-NAi5",
        "colab_type": "text"
      },
      "source": [
        "### Mini task - if, for\n",
        "Realizar la siguiente secuencia de datos utilizando la instrucción for y la instrucción if\n",
        "\n",
        "0,1,4,9,4,5,6"
      ]
    },
    {
      "cell_type": "code",
      "metadata": {
        "id": "E3NctxBaM3kG",
        "colab_type": "code",
        "colab": {}
      },
      "source": [
        "for x in range(0, 7, 1):\n",
        "    if x<4:\n",
        "        print(x**2)\n",
        "    else:\n",
        "        print(x)"
      ],
      "execution_count": 0,
      "outputs": []
    },
    {
      "cell_type": "markdown",
      "metadata": {
        "id": "sgCdpQfDS5wG",
        "colab_type": "text"
      },
      "source": [
        "### Mini task - funciones\n",
        "Escribir una función que cheque los siguientes usuarios y contraseñas:\n",
        "*  Usuario: Juan  -  Contraseña: 12345_\n",
        "*  Usuario: Pablo - Contraseña: xDcFvGbHn"
      ]
    },
    {
      "cell_type": "code",
      "metadata": {
        "id": "cqBdQ2P-RPU6",
        "colab_type": "code",
        "colab": {}
      },
      "source": [
        "def login(usuario, contraseña):\n",
        "    if (usuario == 'Juan' and contraseña == '12345_') or \\\n",
        "    (usuario == 'Pablo' and contraseña == 'xDcFvGbHn'):\n",
        "        return 'Acceso'\n",
        "    else:\n",
        "        return 'Acceso denegado'\n",
        "\n",
        "val = login('Pablo','xDcFvGbHn')\n",
        "print(val)"
      ],
      "execution_count": 0,
      "outputs": []
    },
    {
      "cell_type": "markdown",
      "metadata": {
        "id": "13AcDcKZWX0b",
        "colab_type": "text"
      },
      "source": [
        "# Ejercitación integradora $\\newcommand{\\dif}{\\bigstar}$$\\newcommand{\\facil}{\\color{\\green}{\\dif}}$ $\\newcommand{\\pieceofcake}{\\color{\\cyan}{\\dif}}$$\\newcommand{\\medio}{\\color{\\yellow}{\\dif\\dif}}$$\\newcommand{\\media}{\\medio}$$\\newcommand{\\normal}{\\medio}$  $\\newcommand{\\dificil}{\\color{\\orange}{\\dif\\dif\\dif}}$ $\\newcommand{\\imposible}{\\color{\\red}{\\dif\\dif\\dif\\dif}}$\n",
        "$\\newcommand{\\tarc}{\\large\\frown}$\n",
        "$\\newcommand{\\arc}[1]{\\stackrel{\\tarc}{#1}}$\n",
        "<head>\n",
        "<style type=\"text/css\">\n",
        "  img{ \n",
        "    display: block;\n",
        "    margin-left:auto;\n",
        "    margin-right:auto;\n",
        "  \n",
        "  }\n",
        "  </style>\n",
        "  </head>"
      ]
    },
    {
      "cell_type": "markdown",
      "metadata": {
        "id": "ZJ8oR4DW3z4A",
        "colab_type": "text"
      },
      "source": [
        "###$\\facil$   Cálculo de promedio \n",
        "Cálcular la nota de un alumno es una tarea cotidiana de un profesor. Esta tarea suele realizarse a mano o en excel muchas veces. En esta ocasión la haremos en python. \n",
        "- Escribir una función que calcule el promedio de 3 notas. \n",
        "- Escribir una función que calcule el promedio de 3 notas con ponderación (asignar de importancia al primer examen 20% al segundo 50% y al tercero 30%)\n",
        "- Llamar a la función anterior 3 veces con distintas notas y verificar, mediante la instrucción if, si el alumno aprobó (suponga que 4 es la nota de aprobación). en cada caso.\n",
        "\n"
      ]
    },
    {
      "cell_type": "markdown",
      "metadata": {
        "id": "6VAXnwt56VX4",
        "colab_type": "text"
      },
      "source": [
        "#### Solución"
      ]
    },
    {
      "cell_type": "code",
      "metadata": {
        "id": "3DHirONd90wp",
        "colab_type": "code",
        "colab": {}
      },
      "source": [
        "## Cáculo de promedio: Solución propuesta\n",
        "\n",
        "def promedioPond(n1,p1,n2,p2,n3,p3): # promedio ponderado\n",
        "    return n1*p1+n2*p2+n3*p3\n",
        "\n",
        "def promedio(n1,n2,n3): # promedio común, ponderaciones iguales a cada nota\n",
        "    return n1*(1/3)+n2*(1/3)+n3*(1/3)\n",
        "\n",
        "nota1 = 8\n",
        "nota2 = 9\n",
        "nota3 = 10\n",
        "print(promedioPond(nota1,0.25,nota2,0.25,nota3,0.5))\n",
        "print(promedio(nota1,nota2,nota3))"
      ],
      "execution_count": 0,
      "outputs": []
    },
    {
      "cell_type": "markdown",
      "metadata": {
        "colab_type": "text",
        "id": "Rvlf1T7MNTjo"
      },
      "source": [
        "###$\\facil$ La conjetura del Dr. Lothar\n",
        "Escriba un programa que reciba un numero del usuario y repita el siguiente proceso usando un *while*:\n",
        "\n",
        "\n",
        "*   Si el numero es par, se debe dividir por $2$.\n",
        "*   Si el numero es impar, se debe multiplicar por $3$ y sumar $1$.\n",
        "\n",
        "Este proceso se repite hasta llegar al numero $1$ y luego muestra en pantalla la cantidad de pasos que tardó en llegar.\n",
        "\n",
        "\n",
        "\n",
        "* Ejemplo para $n=6$:\n",
        "\n",
        " $6, 3, 10, 5, 16, 8, 4, 2, 1$"
      ]
    },
    {
      "cell_type": "markdown",
      "metadata": {
        "colab_type": "text",
        "id": "EyiR4NgWdMmf"
      },
      "source": [
        "#### Solución"
      ]
    },
    {
      "cell_type": "code",
      "metadata": {
        "id": "SSyKbEDEdLUw",
        "colab_type": "code",
        "colab": {}
      },
      "source": [
        "n = int(input(\"Ingresar un numero: \"))\n",
        "pasos = 0\n",
        "\n",
        "while n != 1:\n",
        "  pasos += 1\n",
        "  if n%2 == 0:\n",
        "    n /= 2\n",
        "  else:\n",
        "    n = n*3 + 1\n",
        "    \n",
        "print(pasos)"
      ],
      "execution_count": 0,
      "outputs": []
    },
    {
      "cell_type": "markdown",
      "metadata": {
        "id": "tS0MU0yrKfAs",
        "colab_type": "text"
      },
      "source": [
        "###$\\medio$ Ejercicio de entrevista en Ingemática \n",
        "Escriba un programa que imprima los números del 1 al 100, pero que para cada número que sea múltiplo de 3 imprima  `N3`, para los múltiplos de 5 imprima `N5`, y para los múltiplos de los dos, `N3N5`.\n",
        "\n",
        "**Tips**\n",
        "* ¡Si el número es divisible por 3 entonces el resto de la división vale cero!\n",
        "```\n",
        "numero % 3 == 0\n",
        ">> True\n",
        "```\n"
      ]
    },
    {
      "cell_type": "markdown",
      "metadata": {
        "id": "3GQmu8it6aAf",
        "colab_type": "text"
      },
      "source": [
        "#### Solución 1"
      ]
    },
    {
      "cell_type": "code",
      "metadata": {
        "id": "IUtY_MurVkMl",
        "colab_type": "code",
        "colab": {}
      },
      "source": [
        "## Ejercicio de entrevista en Ingemática: Solución propuesta 1\n",
        "\n",
        "for i in range(1,101):\n",
        "    if i%3==0 and i%5==0:\n",
        "        print('N3N5')\n",
        "    elif i%3==0:\n",
        "        print('N3')\n",
        "    elif i%5==0:\n",
        "        print('N5')\n",
        "    else:\n",
        "        print(i)"
      ],
      "execution_count": 0,
      "outputs": []
    },
    {
      "cell_type": "markdown",
      "metadata": {
        "id": "RWt93AgO6bH_",
        "colab_type": "text"
      },
      "source": [
        "#### Solución 2"
      ]
    },
    {
      "cell_type": "code",
      "metadata": {
        "id": "_pdCqbez2XPT",
        "colab_type": "code",
        "colab": {}
      },
      "source": [
        "## Ejercicio de entrevista en Ingemática:  Solución propuesta 2\n",
        "\n",
        "x = [(i%3==0 and i%5==0) and 'N3N5' or (i%3==0 and 'N3' or (i%5==0 and 'N5' or str(i))) for i in range(1,101)]\n",
        "print(x)\n",
        "\n",
        "# Esta clase de programas de una linea son popularmente conocidos como one-liners. \n",
        "# Siempre se debe tener especial precaución con este tipo de programas ya que\n",
        "# pueden ser dificiles de leer; no obstante ¡nadie puede negar que tienen estilo!"
      ],
      "execution_count": 0,
      "outputs": []
    },
    {
      "cell_type": "markdown",
      "metadata": {
        "colab_type": "text",
        "id": "0Af6_xLhRVrE"
      },
      "source": [
        "###$\\medio$   Test de primalidad \n",
        "Escribir una función que recibe un numero y devuelve *True* si el numero es primo y *False* en caso contrario.\n",
        "\n",
        "Mediante un *for* verificar la *primalidad* de los numeros del $1$ al $20$.\n",
        "\n",
        "**Tips**\n",
        "\n",
        "* Un número $N$ es primo cuando no es múltiplo de ningún número entre $2$ y $\\sqrt{N}$ (podemos chequear mientras que el divisor elevado al cuadrado sea menor o igual a $N$)\n",
        "* El numero 1 **no** es primo."
      ]
    },
    {
      "cell_type": "markdown",
      "metadata": {
        "colab_type": "text",
        "id": "QP2VvcvTcCMK"
      },
      "source": [
        "#### Solución"
      ]
    },
    {
      "cell_type": "code",
      "metadata": {
        "id": "GpKKblYHb_IR",
        "colab_type": "code",
        "colab": {}
      },
      "source": [
        "def esPrimo(n):\n",
        "  if n == 1:\n",
        "    return False\n",
        "  \n",
        "  d=2\n",
        "  while d**2 <= n:\n",
        "    if n%d == 0:\n",
        "      return False\n",
        "    d = d+1\n",
        "    \n",
        "  else:\n",
        "    return True\n",
        "  \n",
        "for x in range(1,21):\n",
        "  print( esPrimo(x) )"
      ],
      "execution_count": 0,
      "outputs": []
    },
    {
      "cell_type": "markdown",
      "metadata": {
        "id": "fm_1Ogs_k0Uu",
        "colab_type": "text"
      },
      "source": [
        "### $\\normal$ La leyenda de Filius Bonacci  \n",
        "\n",
        "\n",
        "\n",
        "\n",
        "\n",
        "<img src=\"https://childsci.org/wp-content/uploads/2016/04/Fibonacci-Sequence.jpg\" height=\"200\" alt = \"Espiral Fibonacci\" title = \"\">\n",
        "\n",
        "Imprima $n$ números de la [sucesion de Fibonacci](https://es.wikipedia.org/wiki/Sucesi%C3%B3n_de_Fibonacci)\n",
        "\n",
        "\n",
        "```\n",
        "0, 1, 1, 2, 3, 5, 8, 13, 21 ...\n",
        "```"
      ]
    },
    {
      "cell_type": "markdown",
      "metadata": {
        "id": "Dwb5ojE86dpX",
        "colab_type": "text"
      },
      "source": [
        "#### Solución 1"
      ]
    },
    {
      "cell_type": "code",
      "metadata": {
        "id": "Am1NHiy6xeMp",
        "colab_type": "code",
        "outputId": "b0710a96-c6ed-4b51-8fa0-bc9c6e302ddc",
        "colab": {
          "base_uri": "https://localhost:8080/",
          "height": 187
        }
      },
      "source": [
        "#  La leyenda de Filius Bonacci: Solución propuesta 1\n",
        "\n",
        "a0 = 0\n",
        "a1 = 1\n",
        "n = 10\n",
        "for i in range(n):\n",
        "    if i%2==0:\n",
        "        print(a0)\n",
        "        a0+=a1\n",
        "    else:\n",
        "        print(a1)\n",
        "        a1+=a0"
      ],
      "execution_count": 0,
      "outputs": [
        {
          "output_type": "stream",
          "text": [
            "0\n",
            "1\n",
            "1\n",
            "2\n",
            "3\n",
            "5\n",
            "8\n",
            "13\n",
            "21\n",
            "34\n"
          ],
          "name": "stdout"
        }
      ]
    },
    {
      "cell_type": "markdown",
      "metadata": {
        "id": "6IVUuhXK7tgW",
        "colab_type": "text"
      },
      "source": [
        "#### Solución 2"
      ]
    },
    {
      "cell_type": "code",
      "metadata": {
        "id": "I_SMzAn676j4",
        "colab_type": "code",
        "outputId": "cbd8b57e-2b85-4981-9c30-7a46365d7d1d",
        "colab": {
          "base_uri": "https://localhost:8080/",
          "height": 187
        }
      },
      "source": [
        "#  La leyenda de Filius Bonacci: Solución propuesta 2\n",
        "\n",
        "# les damos cualquier valor inicial a las variables que almacenan los valores anteriores\n",
        "ante_ultimo = 0\n",
        "ultimo = 0\n",
        "\n",
        "n = 11\n",
        "for i in range(1, n):\n",
        "    if i == 1:\n",
        "        actual = 0 # primer termino de fibonacci vale 0\n",
        "    elif i == 2:\n",
        "        actual = 1 # segundo termino de fibonacci vale 1\n",
        "    else:\n",
        "        # el resto de los terminos es la suma de los dos anteriores\n",
        "        actual = ante_ultimo + ultimo \n",
        "    \n",
        "    print(actual)\n",
        "    \n",
        "    ante_ultimo = ultimo\n",
        "    ultimo = actual\n",
        "  "
      ],
      "execution_count": 0,
      "outputs": [
        {
          "output_type": "stream",
          "text": [
            "0\n",
            "1\n",
            "1\n",
            "2\n",
            "3\n",
            "5\n",
            "8\n",
            "13\n",
            "21\n",
            "34\n"
          ],
          "name": "stdout"
        }
      ]
    },
    {
      "cell_type": "markdown",
      "metadata": {
        "id": "_QLEV2dP64fo",
        "colab_type": "text"
      },
      "source": [
        "###$\\medio$  Dominó  \n",
        "\n",
        "El [Dominó](https://es.wikipedia.org/wiki/Domin%C3%B3) es un juego de mesa muy popular. \n",
        "En este ejercicio no vamos a programar un juego de Domino, pero sí contar sus fichas.\n",
        "\n",
        "<img src=\"https://es.calcuworld.com/wp-content/uploads/sites/2/2018/04/cantidad-de-fichas-domino.jpg\" height=\"200\" alt = \"Fichas domino desparramadas sobre una mesa\">\n",
        "\n",
        "A pesar de que el domino tradicional se juega con fichas hasta el número 6, vamos a considerar un juego de fichas de valor máximo $n$.\n",
        "\n",
        "- Escribir una función que calcule la cantidad de fichas para un juego de dominó completo con fichas que contienen hasta el número $n$.\n",
        "Nota: ¡No hay fichas repetidas! 2-4 es la misma ficha que 4-2. ¡Observar que en el dominó hay fichas con valor 0!\n",
        "\n",
        "```\n",
        "   cantidadFichas(3)\n",
        "   >>> 10\n",
        "   cantidadFichas(4)\n",
        "   >>> 15\n",
        "```\n",
        "\n",
        "- Escribir una función que muestre todas las fichas para un juego de dominó como el anterior, en cualquier orden.\n",
        "\n",
        "```\n",
        "   mostrarFichas(3)\n",
        "   >>> 0-0\n",
        "   >>> 0-1\n",
        "   >>> 0-2\n",
        "   >>> 0-3\n",
        "   >>> 1-1\n",
        "   >>> 1-2\n",
        "   >>> 1-3\n",
        "   >>> 2-2\n",
        "   >>> 2-3\n",
        "   >>> 3-3\n",
        "```\n",
        "\n",
        "- Llamar a las funciones anteriores con distintos valores para corroborar su funcionamiento\n",
        "\n",
        "- $\\dificil$ *Challenge*: Escribir una función que, dada una cantidad de fichas, calcule cuál es el $n$ (valor máximo) de las fichas. Si el número de fichas no corresponde a la cantidad de fichas de ningún juego de dominó completo retornar -1.\n",
        "\n",
        "```\n",
        "   valorMaximo(10)\n",
        "   >>> 3\n",
        "   valorMaximo(11)\n",
        "   >>> -1\n",
        "   valorMaximo(15)\n",
        "   >>> 4\n",
        "```\n"
      ]
    },
    {
      "cell_type": "markdown",
      "metadata": {
        "id": "wqn7ONpV6gn3",
        "colab_type": "text"
      },
      "source": [
        "#### Solución"
      ]
    },
    {
      "cell_type": "code",
      "metadata": {
        "id": "Q5MAhD1Jb1rN",
        "colab_type": "code",
        "colab": {}
      },
      "source": [
        "# Dominó: Solución propuesta\n",
        "\n",
        "def cantidadFichas(n):\n",
        "    print((n+1)*(n+2)//2)\n",
        "    \n",
        "def mostrarFichas(n):\n",
        "    for i in range(0,n+1):\n",
        "        for j in range(i,n+1):\n",
        "            print(str(i)+'-'+str(j))\n",
        "            \n",
        "def valorMaximo(num):\n",
        "    n = 1\n",
        "    while (n+1)*(n+2)/2 < num:\n",
        "        n+=1\n",
        "    if (n+1)*(n+2)/2 == num:\n",
        "        print(n)\n",
        "    else:\n",
        "        print(-1)\n",
        "\n",
        "# Probamos con distintos casos las tres funciones\n",
        "\n",
        "print(\"CantidadFichas(3)\")\n",
        "cantidadFichas(3)\n",
        "\n",
        "print(\"CantidadFichas(4)\")\n",
        "cantidadFichas(4)\n",
        "\n",
        "print(\"mostrarFichas(3)\")\n",
        "mostrarFichas(3)\n",
        "\n",
        "print(\"ValorMaximo(10)\")\n",
        "valorMaximo(10)\n",
        "\n",
        "print(\"ValorMaximo(11)\")\n",
        "valorMaximo(11)\n",
        "\n",
        "print(\"ValorMaximo(15)\")\n",
        "valorMaximo(15)"
      ],
      "execution_count": 0,
      "outputs": []
    },
    {
      "cell_type": "markdown",
      "metadata": {
        "id": "QEuKKilBAAQG",
        "colab_type": "text"
      },
      "source": [
        "### $\\medio$ Teoría de cuerdas\n",
        "Hoy hablaremos de cuerdas. No de las que se ven en física teorica, si no las *geometricas.*\n",
        "<center>\n",
        "<img src=\"https://dr282zn36sxxg.cloudfront.net/datastreams/f-d%3Afda746e73385e476e8759e59f47b461d568c372a25943d0f7c391566%2BIMAGE_TINY%2BIMAGE_TINY.1\" alt=\"Chord length en función de un angulo\" height=250 title=\"Cuerdas\" />\n",
        "</center>\n",
        "\n",
        "Hay dos caminos posibles para llegar de $A$ a $B$. Uno es siguiendo la curvatura del circulo llamado *arco*, en la foto sería la linea $\\color{green}{\\textbf{ verde}}$. \n",
        "\n",
        "La otra forma es por una linea recta, llamada *cuerda*. En la foto aparece como una linea $\\color{blue}{\\textbf{ azul}}$.\n",
        "\n",
        "Escriba las funciones $\\mathrm{arco}$ y $\\mathrm{cuerda}$ que tomando el ángulo $\\theta$ de separación y un radio $r$ devuelva la distancia entre los puntos $A$ y $B$.\n",
        "\n",
        "Suponga que  $\\pi=3.141592$\n",
        "\n",
        "$$\\text{Algunas formulas útiles:     } \\arc{AB}=\\theta r, \\quad \\overline{AB}= 2 r \\sin\\left( \\frac{\\theta}{2} \\right)$$\n",
        "\n",
        "$ \\mathrm{cuerda}(21,\\pi)=42$\n",
        "\n",
        "$ \\mathrm{cuerda}(400,1.3965)\\approx 514.3$\n",
        "\n",
        "\n",
        "$ \\mathrm{arco}(99,2) = 198$\n",
        "\n",
        "$ \\\\$\n",
        "\n",
        "$\\dificil$ *Challenge*: Puede modificar su código para que encuentre el camino más corto entre dos puntos a un ángulo mayor a $\\pi$?\n",
        "\n",
        "$\\mathrm{arco}(99,4) \\approx 226.035$\n",
        "\n",
        "$\\mathrm{cuerda}(99,4) \\approx 180.04$\n",
        "\n",
        "$\\mathrm{cuerda}(2,600) \\approx 4$\n",
        "\n",
        "**Tips:**\n",
        "*  Para ángulos mayores a $2\\pi$ e incluso menores, se puede aplicar:  $\\theta_{\\mathrm{circulo}}=\\mathrm{mod}(\\theta,2\\pi)$\n",
        "* Para el challenge es útil hallar el ángulo más corto $\\theta_{\\mathrm{corto}}$\n"
      ]
    },
    {
      "cell_type": "markdown",
      "metadata": {
        "id": "M6JP_MwR85Wh",
        "colab_type": "text"
      },
      "source": [
        "#### Parte A : Solución funciones arco y cuerda  $\\medio$"
      ]
    },
    {
      "cell_type": "code",
      "metadata": {
        "id": "G2svTHGrMwb1",
        "colab_type": "code",
        "colab": {}
      },
      "source": [
        "# Teoría de cuerdas: Solución parte A propuesta\n",
        "from math import sin\n",
        "\n",
        "def cuerda(r,tita):\n",
        "  return 2*r*sin(tita/2)\n",
        "\n",
        "def arco(r,tita):\n",
        "    pi = 3.141592\n",
        "    distancia = tita*r\n",
        "    return distancia\n",
        "\n",
        "print(cuerda(21,3.141592))\n",
        "print(cuerda(400, 1.3965))\n",
        "print(arco(99,2))\n"
      ],
      "execution_count": 0,
      "outputs": []
    },
    {
      "cell_type": "markdown",
      "metadata": {
        "id": "wiPrRn0SNkT1",
        "colab_type": "text"
      },
      "source": [
        "#### Parte B : Solución 1 $\\dificil$"
      ]
    },
    {
      "cell_type": "markdown",
      "metadata": {
        "id": "9dRzLSB8OW0S",
        "colab_type": "text"
      },
      "source": [
        "Las soluciones que se muestran a continuación consideran todos los casos posibles con mucho detalle, tengan en cuenta que son más avanzadas"
      ]
    },
    {
      "cell_type": "code",
      "metadata": {
        "id": "ZUVcp4EAbX8g",
        "colab_type": "code",
        "colab": {}
      },
      "source": [
        "# Teoría de cuerdas parte B: Solución propuesta 1\n",
        "\n",
        "from math import cos,sin ## necesitamos coseno y seno para calcular la respuesta\n",
        "\n",
        "PI = 3.14159265359\n",
        "print(PI, 355/113)\n",
        "\n",
        "def arco(r,theta):\n",
        "    theta1 = theta%(2*PI)\n",
        "    theta2 = 2*PI-theta1\n",
        "    if(theta1<theta2):\n",
        "        theta = theta1\n",
        "    else:\n",
        "        theta = theta2\n",
        "    return r*theta\n",
        "\n",
        "def cuerda(r,theta):\n",
        "    theta1 = theta%(2*PI)\n",
        "    theta2 = 2*PI-theta1\n",
        "    if(theta1<theta2):\n",
        "        theta = theta1\n",
        "    else:\n",
        "        theta = theta2\n",
        "    x1 = r\n",
        "    y1 = 0\n",
        "    x2 = cos(theta)*r\n",
        "    y2 = sin(theta)*r\n",
        "    L = ((x1-x2)**2+(y1-y2)**2)**(0.5)\n",
        "    return L\n",
        "    \n",
        "\n",
        "print(arco(99,4))\n",
        "print(cuerda(99,4))"
      ],
      "execution_count": 0,
      "outputs": []
    },
    {
      "cell_type": "markdown",
      "metadata": {
        "id": "NIpCcVe5OY67",
        "colab_type": "text"
      },
      "source": [
        "#### Parte B : Solución 2 $\\dificil$"
      ]
    },
    {
      "cell_type": "code",
      "metadata": {
        "id": "iscKIE6QOa0L",
        "colab_type": "code",
        "colab": {}
      },
      "source": [
        "# Teoría de cuerdas parte B: Solución propuesta 2\n",
        "\n",
        "import math as m\n",
        "\n",
        "def sen(radianes):\n",
        "  return m.sin(radianes)# Use la funcion provista sen(angulo) en radianes\n",
        "print(sen(0))\n",
        "\n",
        "def cuerda(r,tita):\n",
        "  titacirculo = tita%(2*pi)\n",
        "  if titacirculo>pi:\n",
        "    a=2*pi-titacirculo\n",
        "  else:\n",
        "    a=titacirculo     \n",
        "  return 2*r*sen(a/2)\n",
        "\n",
        "def arco(r,tita):\n",
        "  pi = 355/113\n",
        "  titacirculo = tita%(2*pi)\n",
        "  if titacirculo>pi:\n",
        "    a=2*pi-titacirculo\n",
        "  else:\n",
        "    a=titacirculo\n",
        "  distancia = a*r\n",
        "  return distancia\n",
        "pi=m.pi\n",
        "\n",
        "print(cuerda(2,600))\n",
        "print(0==arco(2,0)) #case checking\n",
        "print(0==cuerda(2,0))"
      ],
      "execution_count": 0,
      "outputs": []
    },
    {
      "cell_type": "markdown",
      "metadata": {
        "id": "QkV_WCR4HUA5",
        "colab_type": "text"
      },
      "source": [
        "###$\\dificil$ Locos por las matemáticas \n",
        "En marzo 2019, Emma Haruka Iwao, una empleada de Google, logró calcular 31,4 trillones de dígitos del famoso número pi en 121 dias usando el poder de la nube de Google. ¡Hoy ustedes pueden hacer lo mismo con la ayuda de Python!\n",
        "\n",
        "Aprovechando el descubrimiento del matemático indio Sriniviasa Ramanujan (1910) podemos emplear nuestro propio aproximador de pi.\n",
        "$$ \\frac{1}{\\pi}= \\frac{2\\sqrt{2}}{9801}\\sum_{k=0}^{\\infty} \\frac{(4k)! \\cdot (1103+26390k)}{(k!)^4 396^{4k}}$$\n",
        "\n",
        "Pueden utilizar la siguiente función para calcular [factoriales](https://es.wikipedia.org/wiki/Factorial):\n",
        "\n",
        "```\n",
        "def factorial(n):\n",
        "  if n<=1:\n",
        "    return 1\n",
        "  else:\n",
        "    return n*factorial(n-1)\n",
        "```\n",
        "$$\\textrm{factorial(4)}=4!=24 $$\n",
        "\n",
        "Si no estamos tan locos por la matemáticas podemos usar otras aproximaciones más simples como\n",
        "\n",
        "$$\\pi \\approx \\frac{22}{7} \\approx \\frac{355}{113} $$\n",
        "\n",
        "Otros números famosos:\n",
        "$$e = \\sum_{k=0}^\\infty \\frac{1}{k!} \\qquad e=\\lim_{x\\rightarrow\\infty} \\left( 1+\\frac{1}{x} \\right)^x \\qquad \\varphi = \\frac{1+\\sqrt{5}}{2} $$"
      ]
    },
    {
      "cell_type": "markdown",
      "metadata": {
        "id": "C2wS6DuzJc7S",
        "colab_type": "text"
      },
      "source": [
        "#### Solución 1\n",
        "\n",
        "Atención: Utiliza [recursión](https://es.wikipedia.org/wiki/Recursi%C3%B3n) para calcular el factorial"
      ]
    },
    {
      "cell_type": "code",
      "metadata": {
        "id": "Mu1GbWGC-IW9",
        "colab_type": "code",
        "colab": {}
      },
      "source": [
        "# Locos por las matemáticas: Solución propuesta 1\n",
        "\n",
        "def factorial(n): # esto es una función recursiva\n",
        "    if n<=1:\n",
        "        return 1\n",
        "    else:\n",
        "        return n*factorial(n-1)\n",
        "    \n",
        "def piApprox(num): \n",
        "    mul = 2**(3/2)/9801\n",
        "    suma = 0\n",
        "    for k in range(num):\n",
        "        suma+=factorial(4*k) /factorial(k)**4 *(1103+26390*k)/396**(4*k)\n",
        "    return 1/(mul*suma)\n",
        "\n",
        "print(piApprox(10))"
      ],
      "execution_count": 0,
      "outputs": []
    },
    {
      "cell_type": "markdown",
      "metadata": {
        "id": "hy28Y8-GJygs",
        "colab_type": "text"
      },
      "source": [
        "#### Solución 2\n",
        "\n",
        "En esta solución el [factorial](https://es.wikipedia.org/wiki/Factorial) se cálcula de manera iterativa\n",
        "\n"
      ]
    },
    {
      "cell_type": "code",
      "metadata": {
        "id": "DTxNr43lJzpN",
        "colab_type": "code",
        "colab": {}
      },
      "source": [
        "# Locos por las matemáticas: Solución propuesta 2\n",
        "\n",
        "def factorial(n): # esto es una función iterativa\n",
        "    rta = 1 # variable donde almacenaremos la respuesta\n",
        "    for i in range(1, n+1):\n",
        "        rta *= i\n",
        "    return rta\n",
        "    \n",
        "def piApprox(num): \n",
        "    mul = 2**(3/2)/9801\n",
        "    suma = 0\n",
        "    for k in range(num):\n",
        "        suma+=factorial(4*k) /factorial(k)**4 *(1103+26390*k)/396**(4*k)\n",
        "    return 1/(mul*suma)\n",
        "\n",
        "print(piApprox(10))"
      ],
      "execution_count": 0,
      "outputs": []
    }
  ]
}