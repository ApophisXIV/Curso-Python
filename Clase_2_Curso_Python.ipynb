{
  "nbformat": 4,
  "nbformat_minor": 0,
  "metadata": {
    "colab": {
      "name": "Clase 2 - Curso Python.ipynb",
      "provenance": [],
      "collapsed_sections": [],
      "toc_visible": true,
      "include_colab_link": true
    },
    "kernelspec": {
      "name": "python3",
      "display_name": "Python 3"
    }
  },
  "cells": [
    {
      "cell_type": "markdown",
      "metadata": {
        "id": "view-in-github",
        "colab_type": "text"
      },
      "source": [
        "<a href=\"https://colab.research.google.com/github/IEEESBITBA/Curso-Python/blob/master/Clase_2_Curso_Python.ipynb\" target=\"_parent\"><img src=\"https://colab.research.google.com/assets/colab-badge.svg\" alt=\"Open In Colab\"/></a>"
      ]
    },
    {
      "cell_type": "markdown",
      "metadata": {
        "id": "ghBKrYxhuQTB",
        "colab_type": "text"
      },
      "source": [
        "#Clase 2: Tipos de datos\n",
        "Cuando se desarrolla un programa es usual la necesidad de trabajar con información; como fue visto en la clase anterior.\n",
        "Es natural pensar que una computadora debe saber cómo es la información que tiene almacenada. ¿Es un número? ¿Es una letra? ¿Es una palabra? ¿Es una lista de cosas?\n",
        "\n",
        "<img src=\"http://tensor-programming.com/wp-content/uploads/2016/09/variables-788x469.jpg\" alt = \"Wordcloud con tipos de datos comunes\" height = 400 title=\"Objects y structures son un conjunto de subtipos\">\n",
        "\n",
        "\n",
        "En esta ocasión vamos a profundizar sobre un aspecto en particular de dicha información el cual es llamado su \"tipo\". \n",
        "\n",
        "Distintos lenguajes de programación trabajan de diversas formas este aspecto de la información. En Python en particular, no se debe aclarar explicitamente cuál es el tipo de dato de una variable: el lenguaje de programación nos entiende y asume cuál debe ser dicho tipo. Tambien a diferencia de muchos lenguajes en Python las variables no tienen un unico tipo y pueden ir cambiando a lo largo de la ejecucion del programa, por esta razón se suele decir que Python es un lenguaje de tipado dinámico.\n",
        "\n",
        "A continuación mostraremos ejemplos con el uso de distintos tipos de dato en Python\n"
      ]
    },
    {
      "cell_type": "markdown",
      "metadata": {
        "id": "D0mAa2X5gple",
        "colab_type": "text"
      },
      "source": [
        "## Tipos numericos"
      ]
    },
    {
      "cell_type": "markdown",
      "metadata": {
        "id": "aWRzjdqUyy26",
        "colab_type": "text"
      },
      "source": [
        "### int\n",
        "Es el tipo de dato más básico, en donde puede almacenarse numeros enteros\n"
      ]
    },
    {
      "cell_type": "code",
      "metadata": {
        "id": "8d5ZJsBTxIYm",
        "colab_type": "code",
        "colab": {}
      },
      "source": [
        "dias = 5"
      ],
      "execution_count": 0,
      "outputs": []
    },
    {
      "cell_type": "markdown",
      "metadata": {
        "id": "Y-OIPTPOvaqg",
        "colab_type": "text"
      },
      "source": [
        "A veces operando con datos enteros podemos obtener números racionales, por ejemplo:"
      ]
    },
    {
      "cell_type": "code",
      "metadata": {
        "id": "c_WwVyZYvn7x",
        "colab_type": "code",
        "colab": {}
      },
      "source": [
        "x = 5\n",
        "y = 2\n",
        "print(x/y)"
      ],
      "execution_count": 0,
      "outputs": []
    },
    {
      "cell_type": "markdown",
      "metadata": {
        "id": "wl9jL2a7vng2",
        "colab_type": "text"
      },
      "source": [
        "Para evitar esto podemos usar el operador **división entera: //**, que divide el cociente entero entre los números.\n"
      ]
    },
    {
      "cell_type": "code",
      "metadata": {
        "id": "q8LCevAueZvH",
        "colab_type": "code",
        "colab": {}
      },
      "source": [
        "x = 5\n",
        "y = 3\n",
        "z = x//2\n",
        "print(z)"
      ],
      "execution_count": 0,
      "outputs": []
    },
    {
      "cell_type": "markdown",
      "metadata": {
        "id": "Xyy2vaK0ecR2",
        "colab_type": "text"
      },
      "source": [
        "\n",
        "Si queremos saber el resto de la división entera, usamos el operador **módulo %** \n",
        "\n",
        "En muchos lenguajes de programación se indica con:  $ x\\%y $"
      ]
    },
    {
      "cell_type": "code",
      "metadata": {
        "id": "YsRbDPj8wRZt",
        "colab_type": "code",
        "colab": {}
      },
      "source": [
        "x = 5\n",
        "y = 2\n",
        "print(x // y) # Redondea division para abajo\n",
        "print(x % y) # Operación Módulo\n",
        "print(x // y, \"*\", y, \"+\", x%y,\"=\", x)"
      ],
      "execution_count": 0,
      "outputs": []
    },
    {
      "cell_type": "markdown",
      "metadata": {
        "id": "tva8InGGxJas",
        "colab_type": "text"
      },
      "source": [
        "### float\n",
        "Tipo de dato utilizado para guardar números reales\n"
      ]
    },
    {
      "cell_type": "code",
      "metadata": {
        "id": "NsxOtoLWu0zi",
        "colab_type": "code",
        "colab": {}
      },
      "source": [
        "pi = 3.14\n",
        "x = 3. # Se la indica que es un numero real con el . \n",
        "z = 3  # Este será un número entero\n",
        "print(x)\n",
        "print(z)"
      ],
      "execution_count": 0,
      "outputs": []
    },
    {
      "cell_type": "markdown",
      "metadata": {
        "id": "LjAnxLyjyfLA",
        "colab_type": "text"
      },
      "source": [
        "Si queremos saber la parte entera de un float, podemos simplemente convertirlo a int.\n",
        "A la acción de convertir una variable de un tipo a otro diferente se la conoce como **cast**. Esto hará la siguiente operacion:\n",
        "\n",
        "$$x \\leftarrow \\lfloor y \\rfloor $$"
      ]
    },
    {
      "cell_type": "code",
      "metadata": {
        "id": "xY1euahoyevG",
        "colab_type": "code",
        "colab": {}
      },
      "source": [
        "y = 3.15\n",
        "x = int(y)\n",
        "print(x)"
      ],
      "execution_count": 0,
      "outputs": []
    },
    {
      "cell_type": "markdown",
      "metadata": {
        "id": "4sR5HbHxzMRW",
        "colab_type": "text"
      },
      "source": [
        "Es importante tener en cuenta que los float tienen un limite en su precisión debido a la limitación de memoria de la pc.\n",
        "\n",
        "Por esto suele ser preferible que cuando trabajamos con floats, realizar comparaciones del tipo **<** o **>**, en lugar de **==** o **!=** porque pueden surgir problemas.\n",
        "\n",
        "¿Cuál es el problema de estos programas?"
      ]
    },
    {
      "cell_type": "code",
      "metadata": {
        "id": "MlR-LD7NzKys",
        "colab_type": "code",
        "colab": {}
      },
      "source": [
        "# nunca va a terminar. Usar con cuidado!\n",
        "\n",
        "var = 0.3\n",
        "while var is not 0:\n",
        "    print(var)\n",
        "    var -= 0.01\n",
        "    "
      ],
      "execution_count": 0,
      "outputs": []
    },
    {
      "cell_type": "code",
      "metadata": {
        "id": "TDRC5TGT6Pqf",
        "colab_type": "code",
        "colab": {}
      },
      "source": [
        "a = 1/3\n",
        "b = 2/3\n",
        "c = a + b\n",
        "\n",
        "print(c-b == a)"
      ],
      "execution_count": 0,
      "outputs": []
    },
    {
      "cell_type": "markdown",
      "metadata": {
        "id": "jmHDo1cJyX3w",
        "colab_type": "text"
      },
      "source": [
        "#### Mini task 1\n",
        "\n",
        "Crear \n",
        "*   Una función que convierta grados **Celsius** a grados **Farenheit** (https://en.wikipedia.org/wiki/Fahrenheit)\n",
        "*   Una función que convierta grados **Celsius** a grados **Kelvin**\n",
        "\n",
        "<img src=\"https://cdn3.iconfinder.com/data/icons/silky-line-weather/48/Celcius-512.png\" alt = \"Wordcloud con tipos de datos comunes\" height = 200 title=\"Objects y structures son un conjunto de subtipos\">\n",
        "\n",
        "Pueden leer [aqui](https://en.wikipedia.org/wiki/Conversion_of_units_of_temperature) sobre como hacer las conversiones \n"
      ]
    },
    {
      "cell_type": "code",
      "metadata": {
        "id": "1URwRvoaymqj",
        "colab_type": "code",
        "colab": {}
      },
      "source": [
        ""
      ],
      "execution_count": 0,
      "outputs": []
    },
    {
      "cell_type": "markdown",
      "metadata": {
        "id": "LdvIekGjyu0Y",
        "colab_type": "text"
      },
      "source": [
        "Crear una función que convierta **Celcius** a **Farenheit** pero que redondee el resultado a un decimal. Pueden llamar a alguna de las funciones anteriores. (**Hint**: Pueden o usar la función [round](https://www.w3schools.com/python/ref_func_round.asp) de python, o ingeniarselas con operaciones y cast a int) "
      ]
    },
    {
      "cell_type": "code",
      "metadata": {
        "id": "0gQaqNL9zAmx",
        "colab_type": "code",
        "colab": {}
      },
      "source": [
        ""
      ],
      "execution_count": 0,
      "outputs": []
    },
    {
      "cell_type": "markdown",
      "metadata": {
        "id": "wejH0B1Zy8LG",
        "colab_type": "text"
      },
      "source": [
        "## boolean\n",
        "Es un tipo de dato que puede tomar dos valores distintos, True (Verdadero) o False (Falso)"
      ]
    },
    {
      "cell_type": "code",
      "metadata": {
        "id": "6zF4f_S0zfel",
        "colab_type": "code",
        "colab": {}
      },
      "source": [
        "llueve = False\n",
        "soleado = True\n",
        "print(not llueve == soleado)"
      ],
      "execution_count": 0,
      "outputs": []
    },
    {
      "cell_type": "markdown",
      "metadata": {
        "id": "TdpOoGXVx0Cy",
        "colab_type": "text"
      },
      "source": [
        "##string\n",
        "Tipo de dato utilizado para guardar letras, palabras, oraciones, texto, etc.\n"
      ]
    },
    {
      "cell_type": "code",
      "metadata": {
        "id": "tlhEoTyRyeR9",
        "colab_type": "code",
        "colab": {}
      },
      "source": [
        "nombre = \"Juan\"\n",
        "apellido = 'lopez'"
      ],
      "execution_count": 0,
      "outputs": []
    },
    {
      "cell_type": "markdown",
      "metadata": {
        "id": "rtkix74k1QEM",
        "colab_type": "text"
      },
      "source": [
        "¡También podemos convertir strings a números y viceversa! Así podemos operar con ellos."
      ]
    },
    {
      "cell_type": "code",
      "metadata": {
        "id": "BZsXI7P610CL",
        "colab_type": "code",
        "colab": {}
      },
      "source": [
        "nombre = \"3\"\n",
        "numero = 3\n",
        "\n",
        "print(nombre == numero)\n",
        "print(nombre == str(numero))\n",
        "print(nombre * 4)"
      ],
      "execution_count": 0,
      "outputs": []
    },
    {
      "cell_type": "markdown",
      "metadata": {
        "id": "D9ohvNTqhmoD",
        "colab_type": "text"
      },
      "source": [
        "### Operaciones con strings\n",
        "\n",
        "Con los strings podemos realizar muchas operaciones, por ejemplo:\n",
        "\n",
        "- **x+y**: En esta operacion se agrega al final de la string x el contenido de y. Ej: \n"
      ]
    },
    {
      "cell_type": "code",
      "metadata": {
        "id": "mwYffWASkWAt",
        "colab_type": "code",
        "colab": {}
      },
      "source": [
        "x= 'ho'\n",
        "y= 'la'  # Recuerden que x+=y es x=x+y\n",
        "print(x + y)\n",
        "print(y + x)"
      ],
      "execution_count": 0,
      "outputs": []
    },
    {
      "cell_type": "markdown",
      "metadata": {
        "id": "5ytFOjAhkWYR",
        "colab_type": "text"
      },
      "source": [
        " - **startswith**( $algo$ ): Le preguntamos a la string si empieza con cierto texto. Ej:\n"
      ]
    },
    {
      "cell_type": "code",
      "metadata": {
        "id": "b-yjwlABkc22",
        "colab_type": "code",
        "colab": {}
      },
      "source": [
        "print(x.startswith('h'))\n",
        "print(x.startswith('x'))"
      ],
      "execution_count": 0,
      "outputs": []
    },
    {
      "cell_type": "markdown",
      "metadata": {
        "id": "neyr-9WckncT",
        "colab_type": "text"
      },
      "source": [
        " - **endswith**( $algo$ ): Le preguntamos a la string si termina con cierto texto. Ej:"
      ]
    },
    {
      "cell_type": "code",
      "metadata": {
        "id": "eOpZjrHlkvg6",
        "colab_type": "code",
        "colab": {}
      },
      "source": [
        "print(x.endswith('o'))\n",
        "print(x.endswith('ola'))\n",
        "print(x.endswith('z'))"
      ],
      "execution_count": 0,
      "outputs": []
    },
    {
      "cell_type": "code",
      "metadata": {
        "id": "ccAWKaqrFySn",
        "colab_type": "code",
        "colab": {}
      },
      "source": [
        "print(x[0]+x[1])"
      ],
      "execution_count": 0,
      "outputs": []
    },
    {
      "cell_type": "markdown",
      "metadata": {
        "id": "L_4r67VRUpNC",
        "colab_type": "text"
      },
      "source": [
        "#### Mini task 2\n",
        "Hacer un programa en el que el usuario ingrese una palabra y se retorne si la palabra es [un verbo en infinitivo](https://www.ejemplode.com/12-clases_de_espanol/2407-ejemplo_de_verbos_infinitivo.html)."
      ]
    },
    {
      "cell_type": "code",
      "metadata": {
        "id": "5rBruUXJUqo0",
        "colab_type": "code",
        "colab": {}
      },
      "source": [
        ""
      ],
      "execution_count": 0,
      "outputs": []
    },
    {
      "cell_type": "markdown",
      "metadata": {
        "id": "3tipHbU_OHnQ",
        "colab_type": "text"
      },
      "source": [
        "#Estructuras de datos\n",
        "\n",
        "Utilizando variables de los distintos tipos de datos como los mostrados anteriormente se puede armar programas con una complejidad notable. Sin embargo, hay un límite en la versatilidad de los programas si solo utilizamos los tipos de datos que vimos hasta ahora.\n",
        "\n",
        "<img src=\"http://www.digitalexpert.co/images/courses/data-structure.png\" alt = \"Visualización básica de una data structure\" height = 280 title=\"Las estructuras de datos son un concepto muy importante para cualquier lenguaje de programacion\">\n",
        "\n",
        "\n",
        "Se suele llamar \"estructura de datos\" a cierta clase de tipos de datos más complejos, los cuales nos permiten organizar la información de manera más efectiva. \n",
        "\n",
        "En particular, nos permiten agrupar datos (cada uno de ellos con su tipo), e interactuar con ellos de la forma más apropiada. \n",
        "\n",
        "A continuación mostraremos dos de las estructuras de datos más sencillas (¡pero útiles!) que Python nos ofrece."
      ]
    },
    {
      "cell_type": "markdown",
      "metadata": {
        "id": "0VoVNCBaPdoF",
        "colab_type": "text"
      },
      "source": [
        "## Listas\n"
      ]
    },
    {
      "cell_type": "markdown",
      "metadata": {
        "id": "MfnKbbeBPjpJ",
        "colab_type": "text"
      },
      "source": [
        "Es una estructura de datos muy sencilla: nos permite almacenar elementos de manera secuencial, los cuales pueden ser accedidos mediante el conocimiento de su posición en la lista. Estas las creeamos de la siguiente manera:\n",
        "\n",
        "> a = **[** $ a_{0},a_{1},a_{2},\\dots $ **]**\n",
        "\n",
        "A continuación se mostrara un ejemplo sencillo con una lista"
      ]
    },
    {
      "cell_type": "code",
      "metadata": {
        "id": "K23GjgqMQB9-",
        "colab_type": "code",
        "colab": {}
      },
      "source": [
        "a = [ 13, 40, 10, 30, 67 ] \n",
        "print(a)\n"
      ],
      "execution_count": 0,
      "outputs": []
    },
    {
      "cell_type": "markdown",
      "metadata": {
        "id": "UlcBp_8UvehI",
        "colab_type": "text"
      },
      "source": [
        "Tambien podemos crear una lista del tamaño que queramos de la siguiente manera:\n",
        "\n",
        "> a = **[** 0 **for** x **in** **range**(N) **]**"
      ]
    },
    {
      "cell_type": "code",
      "metadata": {
        "id": "2tg0JHq_KwOM",
        "colab_type": "code",
        "colab": {}
      },
      "source": [
        "l = [x for x in range(10)]\n",
        "print(l)"
      ],
      "execution_count": 0,
      "outputs": []
    },
    {
      "cell_type": "markdown",
      "metadata": {
        "id": "3NnBGiXYKoFd",
        "colab_type": "text"
      },
      "source": [
        "\n",
        "Podemos tambien aplicarle una operación a la variable x\n",
        "> a = **[** (operacion con x) **for** x **in** **range**(N) **]**"
      ]
    },
    {
      "cell_type": "code",
      "metadata": {
        "id": "hiu1MacNvyQd",
        "colab_type": "code",
        "colab": {}
      },
      "source": [
        "j = [ x for x in range(0, 101)]\n",
        "print(j)\n",
        "a = [x*2 for x in range(15)]\n",
        "print(a)\n",
        "b = [3 * i for i in \"hola\"]\n",
        "print(b)\n",
        "p = []\n",
        "print(p)"
      ],
      "execution_count": 0,
      "outputs": []
    },
    {
      "cell_type": "markdown",
      "metadata": {
        "id": "BYiMd8IzlhNO",
        "colab_type": "text"
      },
      "source": [
        "Para acceder a un elemento de una lista se utiliza lista**[**posicion**]**.\n",
        "\n",
        "Tambien podemos modificar el elemento asignandole un valor.\n",
        "\n",
        "Nota: Para acceder al ultimo elemento podemos acceder con -1"
      ]
    },
    {
      "cell_type": "code",
      "metadata": {
        "id": "hH1f4B8fl1vG",
        "colab_type": "code",
        "colab": {}
      },
      "source": [
        "a = [x+2 for x in [2,3,4,5]]\n",
        "print(a)\n",
        "print(a[0]) \n",
        "print(a[2])\n",
        "print(a[-1])\n",
        "a[2] = 0\n",
        "print(a)\n",
        "a[3] = 0\n",
        "print(a)"
      ],
      "execution_count": 0,
      "outputs": []
    },
    {
      "cell_type": "markdown",
      "metadata": {
        "id": "njU7dNS8l9FL",
        "colab_type": "text"
      },
      "source": [
        "Notar que, a diferencia de lo que diría el sentido común, el primer elemento de la lista se accede con la posición 0. Esto sucede en muchos lenguajes de programación hoy en día y es un hecho muy aceptado en el ámbito."
      ]
    },
    {
      "cell_type": "markdown",
      "metadata": {
        "id": "QSB8OdyDw1i7",
        "colab_type": "text"
      },
      "source": [
        "### Operaciones sobre una lista\n",
        "Podemos realizar multiples operaciones sobre una lista:\n",
        "\n",
        "- **a+b**: Al igual que los strings se agrega el contenido de **b** al final de **a**. Ej: "
      ]
    },
    {
      "cell_type": "code",
      "metadata": {
        "id": "dSYKydfFxTSr",
        "colab_type": "code",
        "colab": {}
      },
      "source": [
        "a = [1,2]\n",
        "b = [3,4]\n",
        "z = a+b\n",
        "print(z)"
      ],
      "execution_count": 0,
      "outputs": []
    },
    {
      "cell_type": "markdown",
      "metadata": {
        "id": "4hht8kbW3Qvv",
        "colab_type": "text"
      },
      "source": [
        "- **append**($algo$): permite agregar un elemento al final de la lista."
      ]
    },
    {
      "cell_type": "code",
      "metadata": {
        "id": "vSgGzYcINGRv",
        "colab_type": "code",
        "colab": {}
      },
      "source": [
        "hola = \"Hola como estas\"\n",
        "v = [50,hola,150.5, True]\n",
        "print(v)\n",
        "v.append(200) # agrego al final de la lista un elemento que vale 200 (tipo int)\n",
        "v.append(\"hola\")\n",
        "print(v*2)"
      ],
      "execution_count": 0,
      "outputs": []
    },
    {
      "cell_type": "markdown",
      "metadata": {
        "id": "EomkxLecMMj3",
        "colab_type": "text"
      },
      "source": [
        "Para obtener largo de una lista la función:\n",
        "\n",
        "len(lista)"
      ]
    },
    {
      "cell_type": "code",
      "metadata": {
        "id": "4tCnGdcTMTvz",
        "colab_type": "code",
        "colab": {}
      },
      "source": [
        "a = [1,2,3,4]\n",
        "print(len(a))"
      ],
      "execution_count": 0,
      "outputs": []
    },
    {
      "cell_type": "markdown",
      "metadata": {
        "id": "kZjHeYw3xpu7",
        "colab_type": "text"
      },
      "source": [
        "- **pop**(): Permite remover el ultimo elemento de la lista."
      ]
    },
    {
      "cell_type": "code",
      "metadata": {
        "id": "UDWAtoERNfCw",
        "colab_type": "code",
        "colab": {}
      },
      "source": [
        "v = [1,'1',\"a\",'c']\n",
        "v.pop() #saco el ultimo elemento \n",
        "\n",
        "print(v)"
      ],
      "execution_count": 0,
      "outputs": []
    },
    {
      "cell_type": "markdown",
      "metadata": {
        "id": "xuJGzxm_30Vu",
        "colab_type": "text"
      },
      "source": [
        "- **remove**($valor$): Remueve el primer elemento que sea igual al valor."
      ]
    },
    {
      "cell_type": "code",
      "metadata": {
        "id": "rHDPAGdHNwlH",
        "colab_type": "code",
        "colab": {}
      },
      "source": [
        "v = [1,2,1,2]\n",
        "v.remove(2) # elimino el primer valor que cumpla\n",
        "print(v)\n",
        "v.remove(2) # elimino el primer valor que cumpla\n",
        "print(v)"
      ],
      "execution_count": 0,
      "outputs": []
    },
    {
      "cell_type": "markdown",
      "metadata": {
        "id": "5fLZ42t4zKbG",
        "colab_type": "text"
      },
      "source": [
        "- **del** lista**[**posicion**]**: Para eliminar un elemento en una posición determinada."
      ]
    },
    {
      "cell_type": "code",
      "metadata": {
        "id": "yTvsT5UazWN0",
        "colab_type": "code",
        "colab": {}
      },
      "source": [
        "a = [\"hola\",\"como\",\"estas\"]\n",
        "del a[1]\n",
        "print(a)\n",
        "\n",
        "l = [x for x in range(10)]\n"
      ],
      "execution_count": 0,
      "outputs": []
    },
    {
      "cell_type": "markdown",
      "metadata": {
        "id": "JBxjC81WznRe",
        "colab_type": "text"
      },
      "source": [
        "- $algo$ **in** lista: Muchas veces es necesario saber si un elemento esta dentro de una lista, para ello utilizamos esta estructura. Ej:\n"
      ]
    },
    {
      "cell_type": "code",
      "metadata": {
        "id": "mnrOeoecz4mI",
        "colab_type": "code",
        "colab": {}
      },
      "source": [
        "x = [1,2,3,4]\n",
        "\n",
        "print(x)\n",
        "\n",
        "\n",
        "if 5 in x:\n",
        "    x.remove(5)\n",
        "  \n",
        "if 4 in x:\n",
        "    print(str(4)+' esta en la lista')\n",
        "\n",
        "if 6 not in x:\n",
        "    print(6,'no esta en la lista',4,6,7)\n",
        "\n",
        "if 5 in x:\n",
        "    print(5,'esta en la lista')\n",
        "else:\n",
        "    print(5,'no esta en la lista')\n"
      ],
      "execution_count": 0,
      "outputs": []
    },
    {
      "cell_type": "code",
      "metadata": {
        "id": "TcAgoTD-Ocvz",
        "colab_type": "code",
        "colab": {}
      },
      "source": [
        "x = [1,2,3]\n",
        "if 5 in x:\n",
        "    x.remove(5)\n",
        "print(x)"
      ],
      "execution_count": 0,
      "outputs": []
    },
    {
      "cell_type": "markdown",
      "metadata": {
        "id": "XDGgUB3opnot",
        "colab_type": "text"
      },
      "source": [
        "### for sobre una lista\n",
        "Ahora cobra mas sentido la estructura for que vimos la clase pasada ya que puede ir avanzando sobre todos los elementos de una lista"
      ]
    },
    {
      "cell_type": "code",
      "metadata": {
        "id": "UNFJKu_YpwmU",
        "colab_type": "code",
        "colab": {}
      },
      "source": [
        "y = [1,10,100,1000, [5,6,7], 5, \"hola\"]\n",
        "\n",
        "for hola in y:\n",
        "    print(hola)"
      ],
      "execution_count": 0,
      "outputs": []
    },
    {
      "cell_type": "markdown",
      "metadata": {
        "id": "4YquTisyJ3qy",
        "colab_type": "text"
      },
      "source": [
        "A continuación hay tres mini tasks, recomendamos en a clase que eligan para hacer alguno de los tres."
      ]
    },
    {
      "cell_type": "markdown",
      "metadata": {
        "id": "ZXLYWjwqVJuc",
        "colab_type": "text"
      },
      "source": [
        "#### Mini task 3\n",
        "Crear una lista que se inicialice con los numeros pares hasta el 50"
      ]
    },
    {
      "cell_type": "code",
      "metadata": {
        "id": "YC8rVjYOVSO0",
        "colab_type": "code",
        "colab": {}
      },
      "source": [
        ""
      ],
      "execution_count": 0,
      "outputs": []
    },
    {
      "cell_type": "markdown",
      "metadata": {
        "id": "ple-OvO2QdeD",
        "colab_type": "text"
      },
      "source": [
        "#### Challenge de listas: ¿Cómo podría hacer una matriz?"
      ]
    },
    {
      "cell_type": "code",
      "metadata": {
        "id": "Mh25rvel6BLJ",
        "colab_type": "code",
        "colab": {}
      },
      "source": [
        ""
      ],
      "execution_count": 0,
      "outputs": []
    },
    {
      "cell_type": "markdown",
      "metadata": {
        "id": "YgV3kKg6u46j",
        "colab_type": "text"
      },
      "source": [
        "#### Mini task 4: Playlist\n",
        "Dada una lista con canciones (playlist), implementar una función que reciba como parámetros\n",
        "\n",
        "\n",
        "\n",
        "*   La lista de canciones\n",
        "*   Indice de una canción\n",
        "\n",
        "Debe retornar el nombre (un String) de la siguiente canción en la lista.\n",
        "\n",
        "**Aclaración: El elemento siguiente al último es el primero (se vuelve a empezar)**"
      ]
    },
    {
      "cell_type": "code",
      "metadata": {
        "id": "qM16niEQvEUN",
        "colab_type": "code",
        "colab": {}
      },
      "source": [
        "#le doy un estado inicial a la playlist\n",
        "playlist = ['Arctic Monkeys - R u mine',\n",
        "            'Twenty One Pilots - Stressed out',\n",
        "            'Queen - Bohemian Rapsody',\n",
        "            'Portugal. The man - Feel it still ']\n",
        "\n",
        "\n",
        "indice = 1\n",
        "\n",
        "print('Accedi a la canción', playlist[indice])\n",
        "\n",
        "def getNextSong(playlist, indice):\n",
        "    #implementá acá tu función\n",
        "    pass\n",
        "\n"
      ],
      "execution_count": 0,
      "outputs": []
    },
    {
      "cell_type": "markdown",
      "metadata": {
        "id": "KaKk5CfBvKaS",
        "colab_type": "text"
      },
      "source": [
        "Una función que reciba como parámetros\n",
        "\n",
        "*   La lista de canciones\n",
        "*   El indice de una canción.\n",
        "\n",
        "La función debe retornar el nombre (un String) de la canción anterior en la lista.\n",
        "\n",
        "**Aclaración: \n",
        "El elemento anterior al primero es el último**\n"
      ]
    },
    {
      "cell_type": "code",
      "metadata": {
        "id": "e2NcXvFtvQbf",
        "colab_type": "code",
        "colab": {}
      },
      "source": [
        "def getPreviousSong(playlist, indice):\n",
        "    #implementá acá tu función\n",
        "    pass\n"
      ],
      "execution_count": 0,
      "outputs": []
    },
    {
      "cell_type": "markdown",
      "metadata": {
        "id": "unAFRKQ24-ym",
        "colab_type": "text"
      },
      "source": [
        "### Nota final\n",
        "Es importante observar que en las listas los elementos se almacenan en un orden bien definido, es decir: siempre hay un elemento que está antes y otro que está después. Esto no será siempre cierto con otras estructuras de datos. \n",
        "\n",
        "Otro detalle es que si bien en este ejemplo utilizamos elementos de tipo de dato int, es posible utilizar cualquier tipo de dato para los elementos cuando se trabaja con una lista, o con cualquier estructura de datos.\n"
      ]
    },
    {
      "cell_type": "markdown",
      "metadata": {
        "id": "LWdgjC8mSxuE",
        "colab_type": "text"
      },
      "source": [
        "## Diccionarios"
      ]
    },
    {
      "cell_type": "markdown",
      "metadata": {
        "id": "KhV4CUvITVmc",
        "colab_type": "text"
      },
      "source": [
        "Un diccionario es otra estructura de datos muy útil y muy utilizada cotidianamente. La analogía directa que se suele hacer es con un diccionario físico. Un diccionario (en el sentido físico) contiene una gran cantidad de información organizada por palabras y contenido asociado a ellas. Más precisamente, cada una ordenadas alfabeticamente tiene asociada una información que describe en profundiad su significado.\n",
        "\n",
        "<img src=\"http://www.eslstation.net/ESL310L/dictionary.bk.gif \" height = 200 alt = \"Un diccionario, literalmente\" title=\"No les puedo asegurar que la imagen sea una buena analogia de lo que es un diccionario en Python...\">\n",
        "\n",
        "\n",
        "En programación los diccionarios no son muy distintos. Un \"diccionario\" en este contexto es una estructura de datos cuya información esta organizada igual que en un diccionario físico; es decir, cada bloque de información, es decir, cada elemento, tiene asociada una palabra, la cual se suele denominar **key**. Mediante la **key** se puede acceder a dicha informacion, la cual se suele denominar **contenido**. El par **key,contenido** suele llamarse **elemento**.\n",
        "\n",
        "Es muy importante notar que no pueden existir dos elementos con igual clave, estos serían indistinguibles.\n",
        "\n",
        "La clave suele ser información con tipo de dato **string** (aunque no unicamente), mientras que el contenido puede tener cualquier tipo de dato, esto será decisión de ustedes.\n",
        "\n",
        "Estos se crean utilizando la siguiente estructura:\n",
        "\n",
        "> x = **{** $k_{0}$**:**$c_{0}$**, $k_{1}$**:**$c_{1}$, $\\dots$}** # Noten el : que divide el key del valor y que se usa { }\n",
        "\n",
        "Comenzemos por crear un diccionario con la descripción de las palabras:"
      ]
    },
    {
      "cell_type": "code",
      "metadata": {
        "id": "x_M_vy5fUtyd",
        "colab_type": "code",
        "colab": {}
      },
      "source": [
        "d = {\n",
        "    \"trueno\": \"Ruido muy fuerte que sigue al rayo durante una tempestad, producido por la expansión del aire al paso de la descarga eléctrica.\",\n",
        "    \"rayo\": \"Chispa eléctrica de gran intensidad producida por la descarga entre dos nubes o entre una nube y la tierra.\"\n",
        "} \n",
        "a = {}\n",
        "print(d)\n",
        "print(a)"
      ],
      "execution_count": 0,
      "outputs": []
    },
    {
      "cell_type": "markdown",
      "metadata": {
        "id": "L4qzUGar266U",
        "colab_type": "text"
      },
      "source": [
        "Para acceder a los datos de un diccionario se utiliza la misma sintaxis que las listas pero utilizando la key a la que queremos acceder. Ej:"
      ]
    },
    {
      "cell_type": "code",
      "metadata": {
        "id": "X4NcAVrb3IOa",
        "colab_type": "code",
        "colab": {}
      },
      "source": [
        "print(d['rayo'])"
      ],
      "execution_count": 0,
      "outputs": []
    },
    {
      "cell_type": "markdown",
      "metadata": {
        "id": "Abnxh6zsuJp9",
        "colab_type": "text"
      },
      "source": [
        "Tambien podemos usar los diccionarios para acceder de forma sencilla a datos. Creemos una base de datos donde se guarda de la siguiente manera:\n",
        "\n",
        "> **key**=Legajo **contenido**=Nombre"
      ]
    },
    {
      "cell_type": "code",
      "metadata": {
        "id": "FLfNRSbXVxOr",
        "colab_type": "code",
        "colab": {}
      },
      "source": [
        "database = {\n",
        "    50033:\"Karen Fernandez\",\n",
        "    50002:\"Matías Perez\"\n",
        "}\n",
        "print(\"Nombre completo del legajo\",50002,\": \",database[50002])\n"
      ],
      "execution_count": 0,
      "outputs": []
    },
    {
      "cell_type": "markdown",
      "metadata": {
        "id": "XfBwbaJi2Epw",
        "colab_type": "text"
      },
      "source": [
        "### Operaciones con diccionarios\n",
        "- $key$ **in** diccionario: Nos permite saber si esa key se encuentra en el diccionario. Ej:"
      ]
    },
    {
      "cell_type": "code",
      "metadata": {
        "id": "IXfr9AU0JMMc",
        "colab_type": "code",
        "colab": {}
      },
      "source": [
        "database = {\n",
        "    50001:\"Karen Fernandez\",\n",
        "    50002:\"Matías Perez\"\n",
        "}\n",
        "if 50001 in database:\n",
        "    print(\"la key 50001 se encuentra en el diccionario\")\n",
        "x = int(input())\n",
        "if x in database:\n",
        "    print(x, 'Esta en el diccionario')"
      ],
      "execution_count": 0,
      "outputs": []
    },
    {
      "cell_type": "markdown",
      "metadata": {
        "id": "ved0xALF2ffS",
        "colab_type": "text"
      },
      "source": [
        "- **for** key **in** diccionario: Nos permite iterar por todas las keys del diccionario. Ej:"
      ]
    },
    {
      "cell_type": "code",
      "metadata": {
        "id": "Vrf_s_F1J7uA",
        "colab_type": "code",
        "colab": {}
      },
      "source": [
        "for key in database:\n",
        "    print('La key',key,'tiene asociado el valor',database[key])"
      ],
      "execution_count": 0,
      "outputs": []
    },
    {
      "cell_type": "markdown",
      "metadata": {
        "id": "xHAzhLywGEvB",
        "colab_type": "text"
      },
      "source": [
        "- **.items**(): nos devuelve la lista de llaves y valores contenidas por el diccionario. Ej: "
      ]
    },
    {
      "cell_type": "code",
      "metadata": {
        "id": "e58nY61-J_0D",
        "colab_type": "code",
        "colab": {}
      },
      "source": [
        "for k,y in database.items():\n",
        "    print(\"key:\",k,\" value: \",y)\n",
        "    "
      ],
      "execution_count": 0,
      "outputs": []
    },
    {
      "cell_type": "markdown",
      "metadata": {
        "id": "zQlclroya-2Y",
        "colab_type": "text"
      },
      "source": [
        "como agregar a un diccionario:\n",
        "\n",
        "diccionario[clave] = valor"
      ]
    },
    {
      "cell_type": "code",
      "metadata": {
        "id": "s0k9_NjxbGFm",
        "colab_type": "code",
        "colab": {}
      },
      "source": [
        "x = {\n",
        "    'hola':5,\n",
        "    'chau':4\n",
        "}\n",
        "x['como'] = 10\n",
        "print(x)\n",
        "x['hola'] = 'Hello'\n",
        "x['aaaa'] = 123\n",
        "print(x)"
      ],
      "execution_count": 0,
      "outputs": []
    },
    {
      "cell_type": "markdown",
      "metadata": {
        "id": "eK4Lm4w9WHfk",
        "colab_type": "text"
      },
      "source": [
        "#### Mini task 5\n",
        "Realizar un programa en el cual se decida cual es el ganador de una **elección a presidente** e\n",
        "\n",
        "En el diccionario candidatos la clave es el nombre del cadidato y el contenido la cantidad de votos. \n",
        "\n",
        "**Hint**: Usen for, if, variables auxiliares.\n",
        "\n"
      ]
    },
    {
      "cell_type": "code",
      "metadata": {
        "id": "2dcL9YmnWfbv",
        "colab_type": "code",
        "colab": {}
      },
      "source": [
        "candidatos = {\n",
        "    \"Michael Jackson\": 34453,\n",
        "    \"Oliver Kahn\": 18445,\n",
        "    \"Micky Vainilla\": 5434444,\n",
        "    \"John Lennon\": 12332,\n",
        "    \"Roque Sáenz Peña\": 5543,\n",
        "    \"Alexandria Ocasio-Cortez\": 343343,\n",
        "    \"Ludwig van Beethoven\":1232322\n",
        "}\n",
        "\n",
        "for nombre, votos in candidatos.items():\n",
        "    print(nombre,\":\", votos)"
      ],
      "execution_count": 0,
      "outputs": []
    },
    {
      "cell_type": "markdown",
      "metadata": {
        "id": "tYwk0b8BKGhb",
        "colab_type": "text"
      },
      "source": [
        "Hacer que el programa anterior indique si debe haber **[ballotage](https://es.wikipedia.org/wiki/Segunda_vuelta_electoral)** (es decir, si el ganador obtuvo menos del 50%+1 de los votos). "
      ]
    },
    {
      "cell_type": "code",
      "metadata": {
        "id": "1ffb9SBHKNTd",
        "colab_type": "code",
        "colab": {}
      },
      "source": [
        ""
      ],
      "execution_count": 0,
      "outputs": []
    },
    {
      "cell_type": "markdown",
      "metadata": {
        "id": "EbcY0DGr9mwE",
        "colab_type": "text"
      },
      "source": [
        "### Nota final\n",
        "Es importante ver que un diccionario tiene un orden al igual que las listas; por otro lado; también aceptan elementos repetidos, siempre que tengan distintas claves todo marchará correctamente. Uno de los dilemas más comunes cuando se trabaja con grandes volumenes de información es cuál tomar como clave.\n",
        "\n",
        "En la proxima sección veremos un tipo de datos que ya no organizará la información de manera tal que exista un orden establecido; en algunos casos es provechoso que la información se estructure de manera tal que no exista un orden en los elementos"
      ]
    },
    {
      "cell_type": "markdown",
      "metadata": {
        "id": "otim_uNIDYcm",
        "colab_type": "text"
      },
      "source": [
        "## Sets\n",
        "Un set es una estructura de datos ya más avanzada que las anteriores, la cual nos permite almacenar un grupo de elementos cuyo orden no es relevante. Lo único que tiene importancia cuando utilizamos un **set** es qué elemento esta y qué elemento no. \n",
        "\n",
        "<img src=\"https://files.realpython.com/media/t.8b7abb515ae8.png\" height = 200 alt = \"Representación de Set usando diagrama Venn\" title= \"A&B\">\n",
        "\n",
        "\n",
        "Un \"set\" no admite repetidos; ya que por su funcionamiento interno no tiene la capacidad de \"darse cuenta\" cuando un elemento se encuentra más de una vez; tan solo puede saber que elementos estan y que elementos no.\n",
        "A simple vista parecería que es muy limitado entonces un \"set\" ya que no esta ordenado y no acepta repetidos; no obstante, para algunos tipos de operaciones que programarlas en listas o diccionarios sería muy tedioso, con un **set** son muy prácticas."
      ]
    },
    {
      "cell_type": "markdown",
      "metadata": {
        "id": "vwXNR2eLMEHH",
        "colab_type": "text"
      },
      "source": [
        "### Operaciones con sets\n",
        "- **|**: Es la operacion de $A \\cup B$"
      ]
    },
    {
      "cell_type": "code",
      "metadata": {
        "id": "pGzhs39jEhPl",
        "colab_type": "code",
        "colab": {}
      },
      "source": [
        "x= {1,2,3,4,7,7,7,7,7,7}\n",
        "print(\"Set x=\",x)\n",
        "\n"
      ],
      "execution_count": 0,
      "outputs": []
    },
    {
      "cell_type": "code",
      "metadata": {
        "id": "yUtHifyMgoYc",
        "colab_type": "code",
        "colab": {}
      },
      "source": [
        "y= {1,2,10}\n",
        "#z = x or y #union entre x e y\n",
        "k = {15, 20}\n",
        "z = x | y | k\n",
        "print(z)"
      ],
      "execution_count": 0,
      "outputs": []
    },
    {
      "cell_type": "markdown",
      "metadata": {
        "id": "d51LnJdhMgxr",
        "colab_type": "text"
      },
      "source": [
        "\n",
        "-  **&**: Es la operacion de $A \\cap B$"
      ]
    },
    {
      "cell_type": "code",
      "metadata": {
        "id": "7pXUUZBMMunZ",
        "colab_type": "code",
        "colab": {}
      },
      "source": [
        "x= {1,2,3,4,7,7,7,7,7,7}\n",
        "y= {1,2,10}\n",
        "w = x & y #intersección entre x e y\n",
        "print(w)\n"
      ],
      "execution_count": 0,
      "outputs": []
    },
    {
      "cell_type": "markdown",
      "metadata": {
        "id": "i-jBKc8rQz2I",
        "colab_type": "text"
      },
      "source": [
        "- **A-B**: Quita los elementos de B de A. El equivalente logico es $ A\\cap \\neg B$"
      ]
    },
    {
      "cell_type": "code",
      "metadata": {
        "id": "Y-ERvaLKRFbS",
        "colab_type": "code",
        "colab": {}
      },
      "source": [
        "x= {1,2,3,4,7,7,7,7,7,7}\n",
        "y= {1,2,10}\n",
        "z = x-y\n",
        "print(z)\n",
        "print(y-x)"
      ],
      "execution_count": 0,
      "outputs": []
    },
    {
      "cell_type": "markdown",
      "metadata": {
        "id": "bD9Y4BIeQOY2",
        "colab_type": "text"
      },
      "source": [
        "- **.remove**($valor$): Remueve el valor del set. Ej:"
      ]
    },
    {
      "cell_type": "code",
      "metadata": {
        "id": "tLd3WIpxGT-o",
        "colab_type": "code",
        "colab": {}
      },
      "source": [
        "x= {1,2,3,4,7}\n",
        "x.remove(1)\n",
        "print(x)\n",
        "\n"
      ],
      "execution_count": 0,
      "outputs": []
    },
    {
      "cell_type": "markdown",
      "metadata": {
        "id": "B7B3zozkQZKe",
        "colab_type": "text"
      },
      "source": [
        "- **.add**($valor$): Agrega el valor al set. Ej:"
      ]
    },
    {
      "cell_type": "code",
      "metadata": {
        "id": "04Qm70ySHlEn",
        "colab_type": "code",
        "colab": {}
      },
      "source": [
        "x= {1,2,3,4,7}\n",
        "x.add(\"hola\")\n",
        "print(x)"
      ],
      "execution_count": 0,
      "outputs": []
    },
    {
      "cell_type": "markdown",
      "metadata": {
        "id": "GTYqk43YWl_3",
        "colab_type": "text"
      },
      "source": [
        "#### Mini task 6\n",
        "Tenemos varios sets que contienen las personas que les gustan un cierto sabor de helado:\n",
        "\n",
        "> vainilla              = {\"Juan\",\"Marina\",\"Tomas\",\"Paula\"}\n",
        "\n",
        "> chocolate         = {\"Pedro\",\"Paula\",\"Marina\"}\n",
        "\n",
        "> dulceDeLeche = {\"Juan\",\"Julian\",\"Pedro\",\"Marina\"}\n",
        "\n",
        "Responder usando operaciones de sets:\n",
        "\n",
        "- Hay alguna persona que le gusten todos los gustos?\n",
        "\n",
        "- Hay alguna persona que le gusten la vainilla y no el dulce de leche?\n",
        "\n",
        "- Cuantas personas distintas tenemos?"
      ]
    },
    {
      "cell_type": "code",
      "metadata": {
        "id": "g3blObRMYI1O",
        "colab_type": "code",
        "colab": {}
      },
      "source": [
        ""
      ],
      "execution_count": 0,
      "outputs": []
    },
    {
      "cell_type": "markdown",
      "metadata": {
        "id": "hpW3cNya1ESA",
        "colab_type": "text"
      },
      "source": [
        "# Ejercitación integradora\n",
        "$\\newcommand{\\dif}{\\bigstar}$$\\newcommand{\\facil}{\\color{\\green}{\\dif}}$ $\\newcommand{\\pieceofcake}{\\color{\\cyan}{\\dif}}$$\\newcommand{\\medio}{\\color{\\yellow}{\\dif\\dif}}$$\\newcommand{\\media}{\\medio}$$\\newcommand{\\normal}{\\medio}$  $\\newcommand{\\dificil}{\\color{\\orange}{\\dif\\dif\\dif}}$ $\\newcommand{\\imposible}{\\color{\\red}{\\dif\\dif\\dif\\dif}}$"
      ]
    },
    {
      "cell_type": "markdown",
      "metadata": {
        "id": "dz1uvBrZlIHA",
        "colab_type": "text"
      },
      "source": [
        "### $\\facil$ Call me $\\frac{\\partial}{\\partial x}$, or $\\mathrm{diff}$ for short\n",
        "Una operacion muy comun al manejar datos es la derivada\n",
        "\n",
        "$$ \\frac{d }{dt} (\\mathrm{Datos}) $$\n",
        "\n",
        "Objetivo: Escribir una funcion que tome una lista de $n$ numeros y devuelva la *derivada discreta* de la lista de tamano $n-1$.\n",
        "\n",
        "Tips\n",
        "* $\\mathrm{derivada}[i]=x[i+1]-x[i]$ \n"
      ]
    },
    {
      "cell_type": "code",
      "metadata": {
        "id": "NwAlHXUVrc7M",
        "colab_type": "code",
        "colab": {}
      },
      "source": [
        ""
      ],
      "execution_count": 0,
      "outputs": []
    },
    {
      "cell_type": "markdown",
      "metadata": {
        "id": "0CqTiYpZG-AO",
        "colab_type": "text"
      },
      "source": [
        "###$\\normal$  Opciones y Menús \n",
        "Escribir un programa que tome una lista y pida al usuario que seleccione un item de la lista y otorgarle un puntaje entre 1 y 5. Finalmente el programa debería imprimir la elección del usuario y el puntaje otorgado. Es importante el puntaje que seleccionen para el elemento de la lista quede almacenado en un diccionario\n",
        "\n",
        "\n",
        "**Ejemplo de lista input:**\n",
        "\n",
        "``\n",
        "opciones = [\"Bundesliga\", \"La Liga\", \"Liga BBVA\",\"Premiere League\"]\n",
        "``\n",
        "\n",
        "**Interacción:**\n",
        "\n",
        "```\n",
        "Ingresar número de la opción deseada.\n",
        "0 . Bundesliga\n",
        "1 . La Liga\n",
        "2 . Liga BBVA\n",
        "3 . Premiere League\n",
        ">>>1\n",
        "Cuantos puntos le otorga a: La Liga\n",
        ">>>3\n",
        "Se guardó su respuesta como: La Liga con  3  puntos.\n",
        "```"
      ]
    },
    {
      "cell_type": "code",
      "metadata": {
        "id": "81Kzws-ka5L9",
        "colab_type": "code",
        "colab": {}
      },
      "source": [
        ""
      ],
      "execution_count": 0,
      "outputs": []
    },
    {
      "cell_type": "markdown",
      "metadata": {
        "id": "3YitqSp9Z3sD",
        "colab_type": "text"
      },
      "source": [
        "###$\\normal$ Las naranjas de Miguel \n",
        "Miguel vive en un pueblo frutero con su hermana en el valle de Oz. Todos los días le llega un pedido recien cosechado de bananas y naranjas. Como son abundantes, suele darle 2 bananas y 1 naranja a su hermana. No obstante Miguel siempre quiere quedarse con por lo menos una naranja.\n",
        "\n",
        "Miguel ahora quiere modernizarse y te viene a pedir si sabrías como escribir un programa que lea el código del pedido y *devuelva la cantidad de bananas y naranjas que le quedaron*\n",
        "\n",
        "``\n",
        "ejemploCodigoDePedido = \"1111100000000\"\n",
        "``\n",
        "\n",
        "Cada 0 representa una naranja y cada 1 representa una banana.\n",
        "\n",
        "**Tips**\n",
        "* La función `list()` toma un string y lo convierte a una lista\n",
        "\n",
        "```\n",
        "P=list(ejemploCodigoDePedido)\n",
        ">> P = ['1', '1', '1', '1', '1', '0', '0', '0', '0', '0', '0', '0', '0']\n",
        "```"
      ]
    },
    {
      "cell_type": "code",
      "metadata": {
        "id": "3fotZ5anaVs6",
        "colab_type": "code",
        "colab": {}
      },
      "source": [
        ""
      ],
      "execution_count": 0,
      "outputs": []
    },
    {
      "cell_type": "markdown",
      "metadata": {
        "id": "58bbfFzqurNj",
        "colab_type": "text"
      },
      "source": [
        "### $\\dificil$ Dr. Chaos, el malevolo semiótico\n",
        "\n",
        "\"Chaos es caos en inglés\" te diría Dr. Chaos, charlando con una taza de té Chai en la mano. En verdad no es tán malo como su nombre lo hace aparentar... si es que tenes un buen manejo de los idiomas.\n",
        "\n",
        "Dr. Chaos esta armando un diccionario. Este diccionario tiene la particularidad de no tener definiciones; el diccionario de Dr. Chaos define *una palabra como otra*. Dr. Chaos quiere comenzar a traducir la literatura de todo el mundo usando el diccionario y ha venido a ti, el *Number One* programador de Python. \n",
        "\n",
        "**Objetivo:** Cambiar las palabras de una oración usando el diccionario de Dr. Chaos e imprimir la nueva oración en el lenguaje unificado.\n",
        "\n",
        "*Ejemplo:*\n",
        "\n",
        "``\n",
        "diccionario = {\"hola\":\"你好\",\"como\":\"how\",\"estás\":\"estáis\"}\n",
        "``\n",
        "\n",
        "``\n",
        "oracion = \"hola, como estás?\"\n",
        "``\n",
        "\n",
        "\n",
        "*OUTPUT:  *\n",
        "``\n",
        "\"你好, how estáis?\"\n",
        "``\n",
        "\n",
        "*Ejemplo 2:*\n",
        "\n",
        "``\n",
        "diccionario = {\"ve\":\"regards\",\"bien\":\"bom\",\"se\":\"it\"}\n",
        "``\n",
        "\n",
        "``\n",
        "oracion = \"se ve bien!\"\n",
        "``\n",
        "\n",
        "**Tips:** \n",
        "\n",
        "* El programa debería tratar los símbolos de interrogación, exclamación, los puntos y comas como `whitespace`, es decir, espacio en blanco.\n",
        " \n",
        "* Suponer que las letras son todas minusculas.\n"
      ]
    },
    {
      "cell_type": "code",
      "metadata": {
        "id": "kDvIsxZCxawO",
        "colab_type": "code",
        "colab": {}
      },
      "source": [
        ""
      ],
      "execution_count": 0,
      "outputs": []
    },
    {
      "cell_type": "markdown",
      "metadata": {
        "id": "2a0QjbS3QrlX",
        "colab_type": "text"
      },
      "source": [
        "###$\\imposible$ Quiero Retruco\n",
        "El [Truco](https://es.wikipedia.org/wiki/Truco_argentino) es un juego de cartas muy popular en Argentina. Se suele jugar con naipes españoles de 40 cartas, las cuales tienen 4 palos (basto, oro, espada y copa) y 10 números, 1,2,3,4,5,6,7,10,11 y 12.\n",
        "Si bien en esta ocasión no vamos a programar un juego de truco, si, vamos a resolver uno de los problemas más usuales que surgen cuando jugamos el cual es definir cual carta gana y cual carta pierde cuando hay un duelo entre dos cartas. \n",
        "\n",
        "<img src=\"https://steemitimages.com/640x0/http://k46.kn3.net/taringa/B/D/9/7/2/4/KevinTrimboli/338.png\" height=300 alt =\"Esquema de hierarquia de cartas para el juego truco argentino\" title=\"Un palo le gana a 7 espadas y ambos pierden ante una espada envainada? What?\">\n",
        "\n",
        "En la imagen podemos observar en orden de importancia de las cartas de izquierda a derecha. El 1 de espada es la más importante (y por lo tanto **siempre** gana) mientras que los 4s son las cartas de menor importancia (casi siempre pierden). Las cartas en la misma columna empatan si se enfrentan.\n",
        "\n",
        "- Programar una función con dos inputs tipo string **carta A** y **carta B** que retorne la carta ganadora (tipo string), o \"empate\" en caso de que lo haya. Ejemplos de como debería funcionar\n",
        "\n",
        "```\n",
        "   dueloDeCartas(\"1 de espada\", \"1 de basto\")\n",
        "   >>> 1 de espada\n",
        "   dueloDeCartas(\"7 de oro\", \"5 de oro\")\n",
        "   >>> 7 de oro\n",
        "   dueloDeCartas(\"11 de copa\", \"11 de espada\")\n",
        "   >>> empate\n",
        "```\n",
        "\n",
        "Hint: usar un diccionario donde la **clave** sea el nombre de la carta, y su **contenido** su importancia (un tipo **int**). Aprovechen la instrucción for para evitar tener que cargar todas las cartas una por una\n",
        "\n",
        "- A veces se suele jugar al truco con más de dos jugadores. Podría ocurrir duelos en los que participan $n$ cartas. Programar una funcion cuyo input sea una lista de strings con todas las cartas y retorne la ganadora. (En caso de empate que retorne alguna de las ganadoras, o un arreglo con las ganadoras)\n",
        "Ejemplos de como podria funcionar funcionar\n",
        "```\n",
        "   dueloDeCartas([\"7 de basto\",\"7 de espada\",\"12 de espada\", \"4 de espada\"])\n",
        "   >>> \"7 de espada\"\n",
        "   dueloDeCartas([\"4 de espada\",\"7 de basto\",\"7 de copa\", \"5 de copa\"]) #también podría haber dado 7 de basto \n",
        "   >>> \"7 de copa\"\n",
        "```"
      ]
    },
    {
      "cell_type": "code",
      "metadata": {
        "id": "L3jCZ-sc6Nd-",
        "colab_type": "code",
        "colab": {}
      },
      "source": [
        ""
      ],
      "execution_count": 0,
      "outputs": []
    }
  ]
}