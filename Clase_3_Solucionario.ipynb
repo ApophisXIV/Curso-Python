{
  "nbformat": 4,
  "nbformat_minor": 0,
  "metadata": {
    "colab": {
      "name": "Clase 3 Solucionario.ipynb",
      "provenance": [],
      "collapsed_sections": [],
      "toc_visible": true,
      "include_colab_link": true
    },
    "kernelspec": {
      "name": "python3",
      "display_name": "Python 3"
    }
  },
  "cells": [
    {
      "cell_type": "markdown",
      "metadata": {
        "id": "view-in-github",
        "colab_type": "text"
      },
      "source": [
        "<a href=\"https://colab.research.google.com/github/IEEESBITBA/Curso-Python/blob/master/Clase_3_Solucionario.ipynb\" target=\"_parent\"><img src=\"https://colab.research.google.com/assets/colab-badge.svg\" alt=\"Open In Colab\"/></a>"
      ]
    },
    {
      "cell_type": "markdown",
      "metadata": {
        "id": "MqmeN3EplZeQ",
        "colab_type": "text"
      },
      "source": [
        "# **Clase 3 - Solucionario**\n",
        "\n",
        "En este documento se encuentra todos los mini-task de la clase 3 y ejercicios integradores resueltos. Hay muchas soluciones propuestas para los ejercicios para que exista una buena mirada de las perspectivas posibles en cada uno.\n"
      ]
    },
    {
      "cell_type": "markdown",
      "metadata": {
        "id": "MINOEmEynV-f",
        "colab_type": "text"
      },
      "source": [
        "# **Mini task 1** - versión A - facil\n",
        "Leer el archivo **Tabla1.xlsx** que contiene los puntos de un campeonato. El archivo tiene dos columnas, **Equipo** y **Puntos**. Determinar de cada equipo la diferencia de gol (goles a favor - goles en contra), y mostrar todas las diferencias de gol con **print**"
      ]
    },
    {
      "cell_type": "code",
      "metadata": {
        "id": "xDB4yvL-oFtw",
        "colab_type": "code",
        "colab": {}
      },
      "source": [
        " ! wget \"https://raw.githubusercontent.com/IEEESBITBA/Curso-Python/master/Clase_3_datos/Tabla1.xlsx\""
      ],
      "execution_count": 0,
      "outputs": []
    },
    {
      "cell_type": "markdown",
      "metadata": {
        "id": "o8RKIlyNoI82",
        "colab_type": "text"
      },
      "source": [
        "**Solución 1** - La primera solución es con el comando **to_dict(\"list\")**"
      ]
    },
    {
      "cell_type": "code",
      "metadata": {
        "id": "yDusHvH4pDxX",
        "colab_type": "code",
        "colab": {}
      },
      "source": [
        "import pandas as pd\n",
        "\n",
        "archivo = pd.read_excel(\"Tabla1.xlsx\")\n",
        "\n",
        "data = archivo.to_dict(\"list\") # diccionario de listas. \n",
        "#La clave de los diccionarios es el nombre de la columna\n",
        "#El contenido de los diccionarios es una lista con el contenido de la columna\n",
        "\n",
        "filas = len(data[\"Equipo\"])\n",
        "\n",
        "print(\"Diferencias de gol:\")\n",
        "\n",
        "for i in range(len(data[\"Equipo\"])):\n",
        "    print(data[\"Equipo\"][i], \":\", data[\"Goles a favor\"][i] - data[\"Goles en contra\"][i])\n"
      ],
      "execution_count": 0,
      "outputs": []
    },
    {
      "cell_type": "markdown",
      "metadata": {
        "id": "BChkHaz1pEUH",
        "colab_type": "text"
      },
      "source": [
        "**Solución 2** - La segunda solución es con el comando **to_dict(\"records\")**"
      ]
    },
    {
      "cell_type": "code",
      "metadata": {
        "id": "GNpTS98UpGtG",
        "colab_type": "code",
        "colab": {}
      },
      "source": [
        "import pandas as pd\n",
        "\n",
        "archivo = pd.read_excel(\"Tabla1.xlsx\")\n",
        "\n",
        "data = archivo.to_dict(\"records\") # lista de diccionarios\n",
        "# cada elemento de la lista es un diccionario que contiene los valores de cada fila\n",
        "\n",
        "print(\"Diferencias de gol:\")\n",
        "\n",
        "for i in range(len(data)):\n",
        "    print(data[i][\"Equipo\"], \":\", data[i][\"Goles a favor\"] - data[i][\"Goles en contra\"])\n",
        "\n"
      ],
      "execution_count": 0,
      "outputs": []
    },
    {
      "cell_type": "markdown",
      "metadata": {
        "id": "kr2bEVA6pG7W",
        "colab_type": "text"
      },
      "source": [
        "**Solución 3**  - La segunda solución es con el comando **to_dict(\"index\")**. Se indexa por el nombre de los equipos que debe ser unico de cada equipo."
      ]
    },
    {
      "cell_type": "code",
      "metadata": {
        "id": "0aZ8AP31oGzW",
        "colab_type": "code",
        "colab": {}
      },
      "source": [
        "import pandas as pd\n",
        "\n",
        "archivo = pd.read_excel(\"Tabla1.xlsx\", index_col=\"Equipo\")\n",
        "\n",
        "data = archivo.to_dict(\"index\") # diccionario de diccionarios\n",
        "# la clave de cada campo del diccionario es el nombre del equipo (index_col)\n",
        "# el contenido de cada campo del diccionario es un diccionario con la información del equipo\n",
        "\n",
        "print(\"Diferencias de gol:\")\n",
        "\n",
        "for equipo in data.keys():\n",
        "    print(equipo, \":\", data[equipo][\"Goles a favor\"] - data[equipo][\"Goles en contra\"])"
      ],
      "execution_count": 0,
      "outputs": []
    },
    {
      "cell_type": "markdown",
      "metadata": {
        "id": "t7fvkyU4oFBP",
        "colab_type": "text"
      },
      "source": [
        "# **Mini task 1** - versión B - dificil\n",
        "\n",
        "Leer el archivo **Tabla1.xlsx** que contiene los puntos de un campeonato y determinar que equipo es el campeon (**1ro**) y perdedor (**último**). El archivo tiene dos columnas, **Equipo** y **Puntos**"
      ]
    },
    {
      "cell_type": "code",
      "metadata": {
        "id": "vUtmJjuWn_Fg",
        "colab_type": "code",
        "colab": {}
      },
      "source": [
        " ! wget \"https://raw.githubusercontent.com/IEEESBITBA/Curso-Python/master/Clase_3_datos/Tabla1.xlsx\""
      ],
      "execution_count": 0,
      "outputs": []
    },
    {
      "cell_type": "markdown",
      "metadata": {
        "id": "OmzRELrp3aMS",
        "colab_type": "text"
      },
      "source": [
        "**Solución 2** - Esta solución más logico-matematica, pero muy conceptual y util ya que esta clase de razonamientos son muy utilizados \n",
        "\n",
        "en la programación cotidiana."
      ]
    },
    {
      "cell_type": "code",
      "metadata": {
        "id": "W93Bb8k6fS7C",
        "colab_type": "code",
        "colab": {}
      },
      "source": [
        "import pandas as pd\n",
        "\n",
        "archivo = pd.read_excel(\"Tabla1.xlsx\", index_col =\"Equipo\") \n",
        "# Indicamos que la columna de indexación será Equipo. Se ingresa como una lista\n",
        "# porque es posible a veces indexar por dos columnas distintas\n",
        "data = archivo.to_dict(\"index\") \n",
        "# \"index\" significa que vamos a obtener el contenido como diccionarios \n",
        "# donde la clave es algun campo de cada fila, en este caso la clave de los \n",
        "# diccionarios será la clave \"Equipo\"\n",
        "#print(data)\n",
        "# convertimos el tipo de dato de pandas a un dict de python\n",
        "maxpunt = 0\n",
        "minpunt = 1000000\n",
        "maxname = ''\n",
        "minname = ''\n",
        "\n",
        "for key in data.keys():\n",
        "    punt = data[key]['Puntos']\n",
        "    if punt > maxpunt:\n",
        "        maxpunt=punt\n",
        "        maxname = key\n",
        "    if punt < minpunt:\n",
        "        minpunt=punt\n",
        "        minname = key\n",
        "\n",
        "print(maxname, 'resulto compeon con', maxpunt, 'puntos.' )\n",
        "print(minname, 'resulto descendido con', minpunt, 'puntos.' )\n"
      ],
      "execution_count": 0,
      "outputs": []
    },
    {
      "cell_type": "markdown",
      "metadata": {
        "id": "dO4WDrKF30T3",
        "colab_type": "text"
      },
      "source": [
        "**Solución 2** - Esta solución es un poco más práctica y versatil"
      ]
    },
    {
      "cell_type": "code",
      "metadata": {
        "id": "4-Jja4ZL32H3",
        "colab_type": "code",
        "colab": {}
      },
      "source": [
        "import pandas as pd\n",
        "\n",
        "archivo = pd.read_excel(\"Tabla1.xlsx\", index_col =\"Equipo\") \n",
        "# Indicamos que la columna de indexación será Equipo. Se ingresa como una lista\n",
        "# porque es posible a veces indexar por dos columnas distintas\n",
        "\n",
        "data = archivo.to_dict(\"index\")\n",
        "\n",
        "data_tuple = data.items() # provocamos que los datos esten como una lista de la forma (clave, contenido)\n",
        "\n",
        "def criterioDeOrden(item): # esta función determina el criterio de orden\n",
        "    clave, contenido = item\n",
        "    return contenido[\"Puntos\"] # indicamos que al criterio le importa los puntos\n",
        "\n",
        "\n",
        "data_ordenada = sorted(data_tuple, reverse=True, key=criterioDeOrden)\n",
        "\n",
        "ganador = data_ordenada[0][0] # el primer 0 indica que es el primer elemento (el ganador), el segundo 0 indica que nos interesa la clave (si fuera un 1 sería el contenido)\n",
        "perdedor = data_ordenada[-1][0] # el primer -1 indica que es el utimo elemento (el perdedor), el segundo 0 indica que nos interesa la clave (si fuera un 1 sería el contenido)\n",
        "\n",
        "print(ganador,\"resulto campeon con\",data[ganador][\"Puntos\"],\"puntos\")\n",
        "print(perdedor,\"resulto descendido con\", data[perdedor][\"Puntos\"],\"puntos\")\n"
      ],
      "execution_count": 0,
      "outputs": []
    },
    {
      "cell_type": "markdown",
      "metadata": {
        "id": "D4EY947g5RSL",
        "colab_type": "text"
      },
      "source": [
        "# **Mini task 2**\n",
        "\n",
        "Tip: Podemos usar la función **sum** para obtener la suma de todos los campos."
      ]
    },
    {
      "cell_type": "code",
      "metadata": {
        "id": "Mt1wK2Bx7Xkn",
        "colab_type": "code",
        "colab": {}
      },
      "source": [
        " ! wget \"https://raw.githubusercontent.com/IEEESBITBA/Curso-Python/master/Clase_3_datos/Datos.xlsx\""
      ],
      "execution_count": 0,
      "outputs": []
    },
    {
      "cell_type": "code",
      "metadata": {
        "id": "FBM_4bhb5Txz",
        "colab_type": "code",
        "colab": {}
      },
      "source": [
        "import pandas as pd\n",
        "\n",
        "datos = pd.read_excel(\"Datos.xlsx\") \n",
        "\n",
        "data = datos['Quimica']\n",
        "print(sum(data) / len(data))"
      ],
      "execution_count": 0,
      "outputs": []
    },
    {
      "cell_type": "markdown",
      "metadata": {
        "id": "oloubsnc6nKD",
        "colab_type": "text"
      },
      "source": [
        "# **Mini task 3**\n",
        "Escribir una funcion que se le de un dataframe, el indice (número) de un alumno y haga el promedio de sus materias."
      ]
    },
    {
      "cell_type": "code",
      "metadata": {
        "id": "R71K7ner6o8h",
        "colab_type": "code",
        "colab": {}
      },
      "source": [
        "datos = pd.read_excel(\"Datos.xlsx\")\n",
        "\n",
        "\n",
        "def promedio(df, index):\n",
        "    m = df.loc[index][\"Matematica\"]\n",
        "    f = df.loc[index][\"Fisica\"]\n",
        "    q = df.loc[index][\"Quimica\"]\n",
        "    \n",
        "    return (m + f + q)/3\n",
        "\n",
        "print(\"El promedio del dato 0 es %0.2f \" % promedio(datos, 0))\n",
        "print(\"El promedio del dato 1 es %0.2f \" % promedio(datos, 1))\n"
      ],
      "execution_count": 0,
      "outputs": []
    },
    {
      "cell_type": "markdown",
      "metadata": {
        "id": "LpPtaI977eSc",
        "colab_type": "text"
      },
      "source": [
        "# **Mini task 4**\n",
        "Obtener el promedio general de todos los aprobados en Matematica."
      ]
    },
    {
      "cell_type": "code",
      "metadata": {
        "id": "1aNWm0lp7c9-",
        "colab_type": "code",
        "colab": {}
      },
      "source": [
        "aprobadosMate = datos[(datos['Matematica']>=6)]\n",
        "promedios = (aprobadosMate[\"Quimica\"] + aprobadosMate[\"Matematica\"] + aprobadosMate[\"Fisica\"])/3\n",
        "\n",
        "promedio_general = sum(promedios)/len(promedios)\n",
        "\n",
        "print(\"El promedio general es %0.2f \" % promedio_general)"
      ],
      "execution_count": 0,
      "outputs": []
    },
    {
      "cell_type": "markdown",
      "metadata": {
        "id": "otvgfYbJWiyD",
        "colab_type": "text"
      },
      "source": [
        "# **Mini task 5** - versión A - facil"
      ]
    },
    {
      "cell_type": "markdown",
      "metadata": {
        "id": "sq_DN-uSW3Fq",
        "colab_type": "text"
      },
      "source": [
        "Encontrar cuál es la palabra con mayor número de ocurrencias en el texto **noticia.txt**. Necesitan crear un diccionario donde la **clave** sea la palabra, y el contenido el número de ocurrencias de la palabra"
      ]
    },
    {
      "cell_type": "code",
      "metadata": {
        "id": "LyD3_9jiZnUj",
        "colab_type": "code",
        "outputId": "384847b4-a63c-4e57-db7c-bfbd54dbc662",
        "colab": {
          "base_uri": "https://localhost:8080/",
          "height": 204
        }
      },
      "source": [
        "! wget \"https://raw.githubusercontent.com/IEEESBITBA/Curso-Python/master/Clase_3_datos/noticia.txt\""
      ],
      "execution_count": 30,
      "outputs": [
        {
          "output_type": "stream",
          "text": [
            "--2019-11-02 21:01:26--  https://raw.githubusercontent.com/IEEESBITBA/Curso-Python/master/Clase_3_datos/noticia.txt\n",
            "Resolving raw.githubusercontent.com (raw.githubusercontent.com)... 151.101.0.133, 151.101.64.133, 151.101.128.133, ...\n",
            "Connecting to raw.githubusercontent.com (raw.githubusercontent.com)|151.101.0.133|:443... connected.\n",
            "HTTP request sent, awaiting response... 200 OK\n",
            "Length: 1153 (1.1K) [text/plain]\n",
            "Saving to: ‘noticia.txt’\n",
            "\n",
            "\rnoticia.txt           0%[                    ]       0  --.-KB/s               \rnoticia.txt         100%[===================>]   1.13K  --.-KB/s    in 0s      \n",
            "\n",
            "2019-11-02 21:01:26 (339 MB/s) - ‘noticia.txt’ saved [1153/1153]\n",
            "\n"
          ],
          "name": "stdout"
        }
      ]
    },
    {
      "cell_type": "markdown",
      "metadata": {
        "id": "AQ7QV0ib2Xu2",
        "colab_type": "text"
      },
      "source": [
        "#### **Codigo previo de la clase**"
      ]
    },
    {
      "cell_type": "code",
      "metadata": {
        "id": "Z06-B8L4ZrwP",
        "colab_type": "code",
        "colab": {}
      },
      "source": [
        "file = open(\"noticia.txt\") # cargamos el archivo a la memoria\n",
        "\n",
        "contenido = file.readlines() # calculamos todas las lineas\n",
        "print(contenido)\n",
        "\n",
        "for line in contenido: \n",
        "    print(line) #mostramos linea a linea\n",
        "    \n",
        "palabras = []\n",
        "\n",
        "for line in contenido:\n",
        "    \n",
        "    # eliminamos los distintos carácteres no deseados uno por uno\n",
        "    line = line.replace('\\ufeff','')\n",
        "    line = line.replace('—','')\n",
        "    line = line.replace('\\n','')\n",
        "    line = line.replace('’s','')\n",
        "    line = line.replace(',','')\n",
        "    line = line.replace('.','')\n",
        "    \n",
        "    palabras_linea = line.split(' ') # separamos por espacios \n",
        "    \n",
        "    for palabra in palabras_linea: # por cada \"string\" separado por espacios\n",
        "        if palabra != '':\n",
        "            palabras.append(palabra.upper())\n",
        "\n",
        "print(palabras)"
      ],
      "execution_count": 0,
      "outputs": []
    },
    {
      "cell_type": "markdown",
      "metadata": {
        "id": "gnpIzbLZ2cE9",
        "colab_type": "text"
      },
      "source": [
        "**Solución**"
      ]
    },
    {
      "cell_type": "code",
      "metadata": {
        "id": "l3TZOs7mXVqB",
        "colab_type": "code",
        "colab": {}
      },
      "source": [
        "trump = 0\n",
        "the = 0\n",
        "print(palabras)\n",
        "for palabra in palabras:\n",
        "    if palabra == \"TRUMP\":\n",
        "        trump += 1\n",
        "    elif palabra == \"THE\":\n",
        "        the += 1\n",
        "        \n",
        "print(\"La palabra 'Trump' aparece %d veces \" % trump)\n",
        "print(\"La palabra 'the' aparece %d veces \" % the)\n"
      ],
      "execution_count": 0,
      "outputs": []
    },
    {
      "cell_type": "markdown",
      "metadata": {
        "id": "Ybh9zaFd7B7w",
        "colab_type": "text"
      },
      "source": [
        "# **Mini task 5** - versión B - dificil\n",
        "Encontrar la palabra con mayor numero de ocurrencias"
      ]
    },
    {
      "cell_type": "code",
      "metadata": {
        "id": "qfY8n5hB7DY4",
        "colab_type": "code",
        "colab": {
          "base_uri": "https://localhost:8080/",
          "height": 34
        },
        "outputId": "b31b14c6-a05d-4fc0-cce7-45e809d9ac29"
      },
      "source": [
        "palabras_unicas = set(palabras) # convertimos la lista de palabras a un set (lista que no admite repetidos)\n",
        "\n",
        "frecuencia_de_palabras = {}\n",
        "\n",
        "for palabra in palabras_unicas:\n",
        "    frecuencia_de_palabras[palabra] = 0 # incializamos todas las palabras en cantidad 0\n",
        "\n",
        "for palabra in palabras: # palabras tiene todas las palabras con las repeticiones\n",
        "    frecuencia_de_palabras[palabra] += 1\n",
        "\n",
        "\n",
        "def criterioDeOrden(item):\n",
        "    clave, contenido = item\n",
        "    return contenido\n",
        "\n",
        "lista_con_palabras = frecuencia_de_palabras.items()\n",
        "\n",
        "palabras_ordenadas = sorted(lista_con_palabras, reverse=True, key=criterioDeOrden)\n",
        "\n",
        "palabra_ganadora, frecuencia = palabras_ordenadas[0]\n",
        "\n",
        "print(\"La palabra más frecuente es\",palabra_ganadora,\"con\",frecuencia,\"ocurrencias\")"
      ],
      "execution_count": 34,
      "outputs": [
        {
          "output_type": "stream",
          "text": [
            "La palabra más frecuente es THE con 13 ocurrencias\n"
          ],
          "name": "stdout"
        }
      ]
    },
    {
      "cell_type": "markdown",
      "metadata": {
        "id": "4eUFAT3ujGsC",
        "colab_type": "text"
      },
      "source": [
        "# **Mini task 6**\n",
        "\n"
      ]
    },
    {
      "cell_type": "code",
      "metadata": {
        "id": "ma9WUnkKkEGl",
        "colab_type": "code",
        "colab": {}
      },
      "source": [
        "import matplotlib.pyplot as plt\n",
        "import numpy as np\n",
        "\n",
        "t = np.arange(-5,5,0.01)\n",
        "f = np.exp(-t**2/2)\n",
        "\n",
        "plt.plot(t,f)\n",
        "plt.show()"
      ],
      "execution_count": 0,
      "outputs": []
    },
    {
      "cell_type": "markdown",
      "metadata": {
        "id": "q_PScHCAWwAi",
        "colab_type": "text"
      },
      "source": [
        "\n",
        "## Nota final\n",
        "​\n",
        "Es importante que sepan que si bien el uso de librerías simplifica en gran medida nuestros programas, y es una habilidad de gran relevancia saber utilizarlas; a veces, pueden existir limitaciones de versatilidad en su uso, y necesitaremos realizar un programa especifico para analizar nuestros datos."
      ]
    },
    {
      "cell_type": "markdown",
      "metadata": {
        "id": "3UmXCJj6zoHw",
        "colab_type": "text"
      },
      "source": [
        "# Ejercitación integradora $\\newcommand{\\dif}{\\bigstar}$$\\newcommand{\\facil}{\\color{\\green}{\\dif}}$ $\\newcommand{\\pieceofcake}{\\color{\\cyan}{\\dif}}$$\\newcommand{\\medio}{\\color{\\yellow}{\\dif\\dif}}$$\\newcommand{\\media}{\\medio}$$\\newcommand{\\normal}{\\medio}$  $\\newcommand{\\dificil}{\\color{\\orange}{\\dif\\dif\\dif}}$ $\\newcommand{\\imposible}{\\color{\\red}{\\dif\\dif\\dif\\dif}}$\n"
      ]
    },
    {
      "cell_type": "markdown",
      "metadata": {
        "id": "dz1uvBrZlIHA",
        "colab_type": "text"
      },
      "source": [
        "## $\\facil$ Copy\n",
        "*   ***Manejo de archivos***\n",
        "\n"
      ]
    },
    {
      "cell_type": "markdown",
      "metadata": {
        "id": "8IWMzemXSxMB",
        "colab_type": "text"
      },
      "source": [
        "Armar una función que copie un archivo, y lo guarde como Copia 1 - $nombre$, de ya existir debe guardarlo como Copia 2 -, Copia 3 - , ...\n",
        "\n",
        "Usar la libreria os para chequear si existe el archivo:\n",
        "> os.path.exists($nombre$) devolverá True si ya existe\n",
        "> importar con: Import os"
      ]
    },
    {
      "cell_type": "code",
      "metadata": {
        "id": "ChcJscsB0tbE",
        "colab_type": "code",
        "colab": {}
      },
      "source": [
        "import os\n",
        "\n",
        "def func(nombre):\n",
        "    if(os.path.exists(nombre)==True):\n",
        "        print('Existe')\n",
        "    else:\n",
        "        print('No existe')\n",
        "        \n",
        "func('Datos.csv')\n",
        "func('Hola.csv')"
      ],
      "execution_count": 0,
      "outputs": []
    },
    {
      "cell_type": "markdown",
      "metadata": {
        "id": "Z8gmZrau0b4E",
        "colab_type": "text"
      },
      "source": [
        "## $\\facil$ Estudio de lenguaje\n",
        "\n",
        "*   ***Analísis de información no estructurada***\n"
      ]
    },
    {
      "cell_type": "markdown",
      "metadata": {
        "id": "QzYf6ACoS6Uz",
        "colab_type": "text"
      },
      "source": [
        "Importar el archivo **noticia.txt**"
      ]
    },
    {
      "cell_type": "code",
      "metadata": {
        "id": "rHALpjUJ0hlE",
        "colab_type": "code",
        "colab": {}
      },
      "source": [
        "! wget \"https://raw.githubusercontent.com/IEEESBITBA/Curso-Python/master/Clase_3_datos/noticia.txt\""
      ],
      "execution_count": 0,
      "outputs": []
    },
    {
      "cell_type": "markdown",
      "metadata": {
        "id": "upKG43LX0dCt",
        "colab_type": "text"
      },
      "source": [
        "Calcular la [frecuencia de aparición de letras](https://en.wikipedia.org/wiki/Letter_frequency). Compararla con la frecuencia de letras cáracteristica del idioma Inglés (En el articulo de wikipedia pueden encontrarla). ¿Existe alguna relación?"
      ]
    },
    {
      "cell_type": "code",
      "metadata": {
        "id": "5OyCXXgL0-9d",
        "colab_type": "code",
        "colab": {}
      },
      "source": [
        "file = open(\"noticia.txt\") # cargamos el archivo a la memoria\n",
        "\n",
        "contenido = file.readlines() # calculamos todas las lineas\n",
        "\n",
        "caracteres = dict()\n",
        "\n",
        "for linea in contenido:\n",
        "    for caracter in linea:\n",
        "        if not caracter in caracteres:\n",
        "            caracteres[caracter] = 1\n",
        "        else:\n",
        "            caracteres[caracter] += 1\n",
        "\n",
        "pares = []\n",
        "suma = 0\n",
        "\n",
        "for caracter in caracteres:\n",
        "    pares.append((caracter, caracteres[caracter]))\n",
        "    suma += caracteres[caracter]\n",
        "    \n",
        "\n",
        "    \n",
        "def sec_elem(s):\n",
        "    return s[1]\n",
        "\n",
        "pares = sorted(pares, key=sec_elem, reverse=True) \n",
        "\n",
        "for i,j in pares:\n",
        "    if i != ' ':\n",
        "        print(\"%s aparece %d veces (%0.2f%%)\" % (i,j,j / suma * 100) )\n"
      ],
      "execution_count": 0,
      "outputs": []
    },
    {
      "cell_type": "markdown",
      "metadata": {
        "id": "RhBBj36A0w3e",
        "colab_type": "text"
      },
      "source": [
        "## $\\facil$ California Housing\n",
        "\n",
        "*   ***Analísis de información estructurada***\n",
        "*   ***Librerías***\n",
        "\n",
        "\n"
      ]
    },
    {
      "cell_type": "markdown",
      "metadata": {
        "id": "YV-ehh-3TFE_",
        "colab_type": "text"
      },
      "source": [
        "Importar el archivo **california_housing_train.xlsx**. "
      ]
    },
    {
      "cell_type": "code",
      "metadata": {
        "id": "qDy9QmNZ4FS8",
        "colab_type": "code",
        "outputId": "ce860454-0d98-453a-92e9-0cbfb38c2300",
        "colab": {
          "base_uri": "https://localhost:8080/",
          "height": 224
        }
      },
      "source": [
        "! wget \"https://raw.githubusercontent.com/IEEESBITBA/Curso-Python/master/Clase_3_datos/california_housing_train.xlsx\""
      ],
      "execution_count": 0,
      "outputs": [
        {
          "output_type": "stream",
          "text": [
            "--2019-09-12 03:00:55--  https://raw.githubusercontent.com/IEEESBITBA/Curso-Python/master/Clase_3_datos/california_housing_train.xlsx\n",
            "Resolving raw.githubusercontent.com (raw.githubusercontent.com)... 151.101.0.133, 151.101.64.133, 151.101.128.133, ...\n",
            "Connecting to raw.githubusercontent.com (raw.githubusercontent.com)|151.101.0.133|:443... connected.\n",
            "HTTP request sent, awaiting response... 200 OK\n",
            "Length: 988464 (965K) [application/octet-stream]\n",
            "Saving to: ‘california_housing_train.xlsx’\n",
            "\n",
            "\r          californi   0%[                    ]       0  --.-KB/s               \rcalifornia_housing_ 100%[===================>] 965.30K  --.-KB/s    in 0.08s   \n",
            "\n",
            "2019-09-12 03:00:55 (12.5 MB/s) - ‘california_housing_train.xlsx’ saved [988464/988464]\n",
            "\n"
          ],
          "name": "stdout"
        }
      ]
    },
    {
      "cell_type": "markdown",
      "metadata": {
        "id": "Pfqjp8MH5sfY",
        "colab_type": "text"
      },
      "source": [
        "Este archivo contiene un conjunto de datos de viviendas de California, el cual fue extraido del censo de nacional de 1990. Para mas info sobre el set de datos: https://developers.google.com/machine-learning/crash-course/california-housing-data-description\n",
        "\n",
        "Extraer la siguiente información:\n",
        "\n",
        "*   ¿Cuantas casas hay con valor 'median_house_value' mayor a 80000 tomando de la longitud -120  a -118? Rta: 5466\n",
        "*   ¿Cual es el promedio de habitaciones por manzana ('total_rooms') de estas casas? Rta: 2466.31\n",
        "\n",
        "*   ¿Cual es la casa más cara? ¿Cuántas hay con este valor? Rta: 500001.0 - 814 \n",
        "\n",
        "*   $\\medio$ Obtener la media y la varianza de la propiedad 'median_house_value'. Rta: 207300.91 - 13451442293.57\n",
        "\n",
        "Tip: ¡Pueden utilizar funciones de python para conseguir la media y la varianza!  [numpy.var](https://docs.scipy.org/doc/numpy-1.6.0/reference/generated/numpy.var.html)"
      ]
    },
    {
      "cell_type": "code",
      "metadata": {
        "id": "i4eMHo5N1D6S",
        "colab_type": "code",
        "outputId": "48842840-d0d0-4171-ba7c-473cff559269",
        "colab": {
          "base_uri": "https://localhost:8080/",
          "height": 119
        }
      },
      "source": [
        "import pandas as pd\n",
        "import numpy as np\n",
        "\n",
        "archivo = pd.read_excel(\"california_housing_train.xlsx\") \n",
        "\n",
        "#Pregunta 1 y 2 (una manera de resolverlo)\n",
        "ans = 0\n",
        "hab = 0\n",
        "for i,lon in enumerate(archivo['longitude']):\n",
        "    if -120 <= lon and lon<=-118 :\n",
        "        if archivo['median_house_value'][i] > 80000:\n",
        "            ans+=1\n",
        "            hab+=archivo['total_rooms'][i]\n",
        "print(ans)\n",
        "print(hab/ans)\n",
        "#Pregunta 3\n",
        "\n",
        "m = max(archivo['median_house_value'])\n",
        "c = sum(archivo['median_house_value'] == m)\n",
        "print(m)\n",
        "print(c)\n",
        "#pregunta 4\n",
        "m = np.mean(archivo['median_house_value'])\n",
        "v = np.var(archivo['median_house_value'])\n",
        "print(m)\n",
        "print(v)\n",
        "\n"
      ],
      "execution_count": 0,
      "outputs": [
        {
          "output_type": "stream",
          "text": [
            "5466\n",
            "2466.3122941822176\n",
            "500001\n",
            "814\n",
            "207300.91235294117\n",
            "13451442293.568731\n"
          ],
          "name": "stdout"
        }
      ]
    },
    {
      "cell_type": "markdown",
      "metadata": {
        "id": "JZkXQVHHB9ps",
        "colab_type": "text"
      },
      "source": [
        "## $\\medio$ El tiempo es dinero\n",
        "\n",
        "*   ***Analisís de información estructurada***\n",
        "*   ***Librerías***\n",
        "\n"
      ]
    },
    {
      "cell_type": "markdown",
      "metadata": {
        "id": "PSS0bUd8CGQx",
        "colab_type": "text"
      },
      "source": [
        "<img src=\"https://psmag.com/.image/t_share/MTI3NTgyMzg2MzE2NzAxNjY2/time-is-money.jpg\" width=400>"
      ]
    },
    {
      "cell_type": "markdown",
      "metadata": {
        "id": "gOEr6pETTQ3d",
        "colab_type": "text"
      },
      "source": [
        "\n",
        "\n",
        "La administración del dinero es una tarea que requiere una altísima fiabilidad. En esta ocasión tu objetivo será programar un script que actualize los montos de dinero de una serie de usuarios a partir de la información de las transferencias que fueron realizadas. \n",
        "\n",
        "Importar el archivo **Finanzas.xlsx**"
      ]
    },
    {
      "cell_type": "code",
      "metadata": {
        "id": "xDfaq9hDCAii",
        "colab_type": "code",
        "outputId": "33220ad6-733e-418e-d239-8be401cd04ca",
        "colab": {
          "base_uri": "https://localhost:8080/",
          "height": 224
        }
      },
      "source": [
        "! wget \"https://raw.githubusercontent.com/IEEESBITBA/Curso-Python/master/Clase_3_datos/Finanzas.xlsx\""
      ],
      "execution_count": 0,
      "outputs": [
        {
          "output_type": "stream",
          "text": [
            "--2019-09-12 03:13:42--  https://raw.githubusercontent.com/IEEESBITBA/Curso-Python/master/Clase_3_datos/Finanzas.xlsx\n",
            "Resolving raw.githubusercontent.com (raw.githubusercontent.com)... 151.101.0.133, 151.101.64.133, 151.101.128.133, ...\n",
            "Connecting to raw.githubusercontent.com (raw.githubusercontent.com)|151.101.0.133|:443... connected.\n",
            "HTTP request sent, awaiting response... 200 OK\n",
            "Length: 10809 (11K) [application/octet-stream]\n",
            "Saving to: ‘Finanzas.xlsx’\n",
            "\n",
            "\rFinanzas.xlsx         0%[                    ]       0  --.-KB/s               \rFinanzas.xlsx       100%[===================>]  10.56K  --.-KB/s    in 0s      \n",
            "\n",
            "2019-09-12 03:13:43 (168 MB/s) - ‘Finanzas.xlsx’ saved [10809/10809]\n",
            "\n"
          ],
          "name": "stdout"
        }
      ]
    },
    {
      "cell_type": "markdown",
      "metadata": {
        "id": "TCM6UYHPGIdl",
        "colab_type": "text"
      },
      "source": [
        "Debes procesar las transferencias y actualizar el saldo de cada usuario (crear un nuevo archivo excel con los saldos actualizados)"
      ]
    },
    {
      "cell_type": "code",
      "metadata": {
        "id": "vNW7TVWHCc45",
        "colab_type": "code",
        "outputId": "57a83271-ac8f-4df3-a70c-14e199a3e33f",
        "colab": {
          "base_uri": "https://localhost:8080/",
          "height": 119
        }
      },
      "source": [
        "import pandas as pd\n",
        "import numpy as np\n",
        "\n",
        "\n",
        "usuarios_archivo = pd.read_excel(\"Finanzas.xlsx\", \"Usuarios\",index_col=\"Usuario\") \n",
        "usuarios = usuarios_archivo.to_dict(\"index\")\n",
        "#leemos los usuarios \"indexados\" por su nombre\n",
        "\n",
        "transferencias_archivo = pd.read_excel(\"Finanzas.xlsx\", \"Transferencias\")\n",
        "transferencias = transferencias_archiv o.to_dict(\"records\")\n",
        "# leemos en una lista de diccionarios con el contenido de cada fila\n",
        "\n",
        "\n",
        "for transferencia in transferencias:\n",
        "    print(\"Realizando transferencia \",transferencia[\"Emisor\"], transferencia[\"Receptor\"], \"$\", transferencia[\"Monto\"])\n",
        "\n",
        "    receptor = transferencia[\"Receptor\"]\n",
        "    emisor = transferencia[\"Emisor\"]\n",
        "    dinero = transferencia[\"Monto\"]\n",
        "    \n",
        "    usuarios[receptor][\"Presupuesto\"] += dinero\n",
        "    usuarios[emisor][\"Presupuesto\"] += dinero\n",
        "\n",
        "output = dict() # arreglo de salida que va a estar indexado segun los numeros de orden\n",
        "index = 0\n",
        "for user_name in usuarios:\n",
        "    usuario = usuarios[user_name]\n",
        "    order = index\n",
        "    output[order] = { \n",
        "        \"Usuario\": user_name,\n",
        "        \"Presupuesto\": usuarios[user_name][\"Presupuesto\"]\n",
        "    }\n",
        "    index += 1\n",
        "salida_informacion = pd.DataFrame.from_dict(output, orient='index')\n",
        "\n",
        "salida_informacion.to_excel(\"usuarios_actualizados.xlsx\")\n",
        "\n"
      ],
      "execution_count": 0,
      "outputs": [
        {
          "output_type": "stream",
          "text": [
            "Realizando transferencia  Claudia Ariel $ 220\n",
            "Realizando transferencia  Rocio Ariel $ 2000\n",
            "Realizando transferencia  Agustin Rocio $ 43434\n",
            "Realizando transferencia  Uriel Joaquin $ 12423\n",
            "Realizando transferencia  Martin Andrés $ 234223\n",
            "Realizando transferencia  Joaquin Ariel $ 23323\n"
          ],
          "name": "stdout"
        }
      ]
    },
    {
      "cell_type": "markdown",
      "metadata": {
        "id": "8CmN7SuE6ml-",
        "colab_type": "text"
      },
      "source": [
        "## $\\dificil $ Buscando la $\n",
        "\n",
        "\n",
        "*   ***Procesamiento de información estructurada***\n",
        "*   ***Librerías***\n",
        "\n",
        "\n",
        "\n"
      ]
    },
    {
      "cell_type": "markdown",
      "metadata": {
        "id": "WYHHRHbG7KEl",
        "colab_type": "text"
      },
      "source": [
        "Utilizando el set de datos del archivo **california_housing_train.xlsx**\n",
        "\n",
        "Dividir el area cubierta por el censo en cuadrantes de 0.5 de latitud x 0.5  de longitud, encontrar para que cuadrante el valor medio de 'median_house_value' es máximo. Asignar el paso como una variable para que pueda cambiarse facilmente. Para filtrar las zonas de muy baja residencia descarten los valores cuando hay menos de 100 casas\n",
        "\n",
        "Datos utiles:\n",
        "- Minimo de longitud: -124.3\n",
        "- Máximo de longitud: -114.3\n",
        "- Minimo de latitud: 32.5\n",
        "- Máximo de latitud: 42.5\n",
        "\n",
        "Tip: El programa va a tardar en correr, no se asusten!\n",
        "\n",
        "**Nota final**: Busquen en el mapa estas coordenadas para ver donde quedan! "
      ]
    },
    {
      "cell_type": "code",
      "metadata": {
        "id": "p72kPtc3kn19",
        "colab_type": "code",
        "colab": {}
      },
      "source": [
        "! wget \"https://raw.githubusercontent.com/IEEESBITBA/Curso-Python/master/Clase_3_datos/california_housing_train.xlsx\""
      ],
      "execution_count": 0,
      "outputs": []
    },
    {
      "cell_type": "code",
      "metadata": {
        "id": "HFNVBCai692J",
        "colab_type": "code",
        "colab": {}
      },
      "source": [
        "import pandas as pd\n",
        "import numpy as np\n",
        "\n",
        "archivo = pd.read_excel(\"california_housing_train.xlsx\") \n",
        "paso = .5\n",
        "\n",
        "lats = np.arange(32.5,42.5,paso)\n",
        "lons = np.arange(-124.3,113.3,paso) \n",
        "maximoValor = 0\n",
        "maximaLat = 0\n",
        "maximaLon = 0\n",
        "for lat in lats:\n",
        "    for lon in lons:\n",
        "        data = archivo[(archivo['latitude']>=lat) & (archivo['latitude']<=lat+paso)]\n",
        "        data = data[(data['longitude']>=lon) & (data['longitude']<=lon+paso)]\n",
        "        if(len(data)>100):\n",
        "            m = np.mean(data['median_house_value'])\n",
        "            if m > maximoValor:\n",
        "                maximaLat = lat\n",
        "                maximaLon = lon\n",
        "                maximoValor = m\n",
        "                \n",
        "print('Latitude:',maximaLat,'Longitude',maximaLon,'Price',maximoValor)"
      ],
      "execution_count": 0,
      "outputs": []
    },
    {
      "cell_type": "markdown",
      "metadata": {
        "id": "fLO8x3xOnn5r",
        "colab_type": "text"
      },
      "source": [
        "## $\\imposible $ Unificación de bases de datos\n",
        "\n",
        "Para notificar a sus clientes de promos y novedades, una empresa cuenta con varias listas de mails, obtenidos de eventos, compras, etc. Lamentablemente, hasta ahora no se ha trabajado de forma muy ordenada, y estas listas no tienen coherencia entre sí: hay personas que están presentes en más de una lista, y no todas las listas cuentan con la misma información sobre los clientes: **lo único que es consistente es que siempre el mail está en la primera columna**. Esta locura debe terminar.\n",
        "\n",
        "Se desea generar una lista unificada de mails, donde estén presentes todos los clientes que se tiene, y sin perder ningún dato sobre ellos. Asimismo, no debe haber personas repetidas, y si se tiene un mismo cliente en dos listas, debe asegurarse que se conserven todos los datos.\n",
        "\n",
        "Se puede asumir que no habrá datos incongruentes entre sí (por ejemplo, que para un mismo mail no figurarán dos nombres distintos), y que si ocurre se puede elegir uno arbitrariamente."
      ]
    },
    {
      "cell_type": "code",
      "metadata": {
        "id": "Wq40RyOZnr9y",
        "colab_type": "code",
        "colab": {}
      },
      "source": [
        "! wget \"https://raw.githubusercontent.com/IEEESBITBA/Curso-Python/master/Clase_3_datos/lista1.csv\" \n",
        "# primera lista de clientes\n",
        "\n",
        "! wget \"https://raw.githubusercontent.com/IEEESBITBA/Curso-Python/master/Clase_3_datos/lista2.csv\"\n",
        "# segunda lista de clientes"
      ],
      "execution_count": 0,
      "outputs": []
    },
    {
      "cell_type": "code",
      "metadata": {
        "id": "r5EmrJu9nolT",
        "colab_type": "code",
        "colab": {}
      },
      "source": [
        "import pandas as pd\n",
        "\n",
        "listas = [ \"lista2.csv\", \"lista1.csv\" ]\n",
        "clientes = dict()\n",
        "todosloscampos = set()\n",
        "\n",
        "for lista in listas:\n",
        "    archivo = pd.read_csv(lista, index_col =[\"Mail\"])\n",
        "    data = archivo.to_dict(\"index\") \n",
        "    \n",
        "    for mail in data.keys():\n",
        "        if mail not in clientes.keys():\n",
        "            clientes[mail] = dict()\n",
        "            \n",
        "        campos = data[mail]\n",
        "        for campo in data[mail].keys():\n",
        "            clientes[mail][campo] = data[mail][campo]\n",
        "            todosloscampos.add(campo)\n",
        "\n",
        "            \n",
        "for mail in clientes:\n",
        "    for campo in todosloscampos:\n",
        "        if campo not in clientes[mail]:\n",
        "            clientes[mail][campo] = \"-\"\n",
        "        \n",
        "df = pd.DataFrame.from_dict(clientes, orient='index')\n",
        "df.to_csv('listafinal.csv')"
      ],
      "execution_count": 0,
      "outputs": []
    }
  ]
}