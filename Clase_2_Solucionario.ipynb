{
  "nbformat": 4,
  "nbformat_minor": 0,
  "metadata": {
    "colab": {
      "name": "Clase 2 Solucionario.ipynb",
      "provenance": [],
      "collapsed_sections": [],
      "toc_visible": true,
      "include_colab_link": true
    },
    "kernelspec": {
      "name": "python3",
      "display_name": "Python 3"
    }
  },
  "cells": [
    {
      "cell_type": "markdown",
      "metadata": {
        "id": "view-in-github",
        "colab_type": "text"
      },
      "source": [
        "<a href=\"https://colab.research.google.com/github/IEEESBITBA/Curso-Python/blob/master/Clase_2_Solucionario.ipynb\" target=\"_parent\"><img src=\"https://colab.research.google.com/assets/colab-badge.svg\" alt=\"Open In Colab\"/></a>"
      ]
    },
    {
      "cell_type": "markdown",
      "metadata": {
        "id": "ghBKrYxhuQTB",
        "colab_type": "text"
      },
      "source": [
        "# Clase 2 - Solucionario\n",
        "\n",
        "En este documento se encuentra todos los mini-task de la clase 2 y ejercicios integradores resueltos\n"
      ]
    },
    {
      "cell_type": "markdown",
      "metadata": {
        "colab_type": "text",
        "id": "zKSV7bfyLWNv"
      },
      "source": [
        "### Mini-desafío: floats\n",
        "Crear: \n",
        "*   Una función que convierta grados **Celsius** a grados **Farenheit** (https://es.wikipedia.org/wiki/Grado_Fahrenheit)\n",
        "*   Una función que convierta grados **Celsius** a grados **Kelvin** (https://es.wikipedia.org/wiki/Kelvin)\n",
        "\n",
        "El usuario debe ingresar una temperatura en grados Celsius y el programa debe mostrar las conversiones a Farenheit y Kelvin utilizando las funciones. Si la temperatura ingresada es inferior al [cero absoluto](https://es.wikipedia.org/wiki/Cero_absoluto), el programa debe mostrar un mensaje de advertencia.\n",
        "\n",
        "Pueden leer [aqui](https://en.wikipedia.org/wiki/Conversion_of_units_of_temperature) sobre como hacer las conversiones "
      ]
    },
    {
      "cell_type": "code",
      "metadata": {
        "id": "Jel3LmEwQoDc",
        "colab_type": "code",
        "colab": {}
      },
      "source": [
        "def CelciusToFarenheit(temp):\n",
        "    return temp * 9 / 5 + 32\n",
        "\n",
        "def CelciusToKelvin(temp):\n",
        "    return temp + 273.15\n",
        "\n",
        "temp = float(input(\"Ingrese temperatura en celcius:\"))\n",
        "\n",
        "if temp < -273.15:\n",
        "  print(\"Advertencia: La temperatura es inferior al cero absoluto\")\n",
        "else:\n",
        "  print(\"Temperatura en Farenheit:\", CelciusToFarenheit(temp))\n",
        "  print(\"Temperatura en Kelvin:\", CelciusToKelvin(temp))"
      ],
      "execution_count": 0,
      "outputs": []
    },
    {
      "cell_type": "markdown",
      "metadata": {
        "id": "L_4r67VRUpNC",
        "colab_type": "text"
      },
      "source": [
        "### Mini-desafío: Operaciones con strings\n",
        "Hacer un programa que permita ingresar un nombre y un apellido usando dos veces la función input( ). Luego debe crear la variable *nombre_y_apellido* que contenga ambos datos separados por un espacio. Un fabricante de tarjetas admite la impresión de hasta 26 caracteres para el nombre del dueño de la tarjeta, el programa debe imprimir \"Nombre admitido\" si *nombre_y_apellido* cumple con esta restricción y \"Nombre no admitido\" en caso contrario (el espacio cuenta como uno de los 26 caracteres disponibles).\n",
        "\n",
        "**Para un desafío mayor:** Si *nombre_y_apellido* cumple la restricción, mostrar el nombre y apellido. En caso contrario *nombre_y_apellido* debe valer la inicial del nombre y luego el apellido separado por un espacio. Si todavía no se cumple la restricción entonces el valor será la inicial del nombre y las primeras 24 letras del apellido. Mostrar el nombre resultante."
      ]
    },
    {
      "cell_type": "code",
      "metadata": {
        "id": "qsyMK1YUR-0Y",
        "colab_type": "code",
        "colab": {}
      },
      "source": [
        "nombre = input(\"Ingrese el nombre: \")\n",
        "apellido = input(\"Ingrese el apellido: \")\n",
        "\n",
        "nombre_y_apellido = nombre + \" \" + apellido\n",
        "\n",
        "# El largo es mayor a 26?\n",
        "if len(nombre_y_apellido) > 26:\n",
        "  print(\"Nombre no admitido\")\n",
        "else:\n",
        "  print(\"Nombre admitido\")"
      ],
      "execution_count": 0,
      "outputs": []
    },
    {
      "cell_type": "code",
      "metadata": {
        "id": "uCfOg9NdRvyw",
        "colab_type": "code",
        "colab": {}
      },
      "source": [
        "# Desafío mayor\n",
        "\n",
        "nombre = input(\"Ingrese el nombre: \")\n",
        "apellido = input(\"Ingrese el apellido: \")\n",
        "\n",
        "nombre_y_apellido = nombre + \" \" + apellido\n",
        "\n",
        "# El largo es mayor a 26?\n",
        "if len(nombre_y_apellido) > 26:\n",
        "  nombre_y_apellido = nombre[0] + \" \" + apellido\n",
        "\n",
        "  # El largo todavia es mayor a 26?\n",
        "  if len(nombre_y_apellido) > 26:\n",
        "    nombre_y_apellido = nombre[0] + \" \" + apellido[:24]\n",
        "\n",
        "print(nombre_y_apellido)\n",
        "    "
      ],
      "execution_count": 0,
      "outputs": []
    },
    {
      "cell_type": "markdown",
      "metadata": {
        "colab_type": "text",
        "id": "3plZLq9dT-1t"
      },
      "source": [
        "### Ejercicios de listas\n",
        "1. Crear una lista con los números pares menores a 50.\n",
        "2. Crear una lista con el nombre de los días de la semana. Realizar un programa al cual se ingresa el día del año mediante un número de 0 a 364, que determine a qué día de la semana corresponde mediante un número de 0 (Lunes) a 6 (Domingo) y luego muestre en pantalla el elemento correspondiente de la lista (suponemos que el día 0 del año es Lunes).\n",
        "3. Realizar un programa que ordena nombres alfabeticamente. Primero debe pedir al usuario que ingrese el número de nombres que serán ingresados, luego debe pedir al usuario que ingrese un nombre y repetir ese pedido la cantidad de veces indicada. Los nombres se deben ir agregando a una lista. Por último, ordenar la lista alfabéticamente y mostrar en pantalla de a uno por vez los nombres ordenados (usando un for)."
      ]
    },
    {
      "cell_type": "markdown",
      "metadata": {
        "id": "WSsk5gTARHV6",
        "colab_type": "text"
      },
      "source": [
        "#### Solución 1, versión A"
      ]
    },
    {
      "cell_type": "code",
      "metadata": {
        "id": "YC8rVjYOVSO0",
        "colab_type": "code",
        "colab": {}
      },
      "source": [
        "numeros = []\n",
        "for i in range(50):\n",
        "    if i % 2 == 0:\n",
        "        numeros.append(i)\n",
        "print(numeros)"
      ],
      "execution_count": 0,
      "outputs": []
    },
    {
      "cell_type": "markdown",
      "metadata": {
        "id": "MTuQhvPqRNzT",
        "colab_type": "text"
      },
      "source": [
        "#### Solución 1, versión B"
      ]
    },
    {
      "cell_type": "code",
      "metadata": {
        "id": "ciYbvE5pRTSB",
        "colab_type": "code",
        "colab": {}
      },
      "source": [
        "numeros = []\n",
        "for i in range(0,50,2):\n",
        "    numeros.append(i)\n",
        "print(numeros)"
      ],
      "execution_count": 0,
      "outputs": []
    },
    {
      "cell_type": "markdown",
      "metadata": {
        "id": "eEUa1eECRdG2",
        "colab_type": "text"
      },
      "source": [
        "#### Solución 1, versión C"
      ]
    },
    {
      "cell_type": "code",
      "metadata": {
        "id": "lhqxnxGxRedZ",
        "colab_type": "code",
        "colab": {}
      },
      "source": [
        "numeros = [i for i in range(0,50,2)]\n",
        "print(numeros)"
      ],
      "execution_count": 0,
      "outputs": []
    },
    {
      "cell_type": "markdown",
      "metadata": {
        "id": "RQCMf2TlSp-Q",
        "colab_type": "text"
      },
      "source": [
        "#### Solución 2"
      ]
    },
    {
      "cell_type": "code",
      "metadata": {
        "id": "uGo7i0bHSuKj",
        "colab_type": "code",
        "colab": {}
      },
      "source": [
        "weekdays = ['Lunes', 'Martes', 'Miercoles', 'Jueves', 'Viernes', 'Sabado', 'Domingo']\n",
        "\n",
        "day_of_the_year = int(input(\"Ingrese el dia del año: \"))\n",
        "day_of_the_week = day_of_the_year % 7\n",
        "print( weekdays[day_of_the_week] )"
      ],
      "execution_count": 0,
      "outputs": []
    },
    {
      "cell_type": "markdown",
      "metadata": {
        "id": "_ucC51MhTSwy",
        "colab_type": "text"
      },
      "source": [
        "#### Solución 3"
      ]
    },
    {
      "cell_type": "code",
      "metadata": {
        "id": "bJAWmvaUTVgK",
        "colab_type": "code",
        "colab": {}
      },
      "source": [
        "cantidad = int(input(\"Cuantos nombres serán ingresados? \"))\n",
        "nombres = []\n",
        "\n",
        "for i in range(cantidad):\n",
        "  mensaje = \"Ingrese el nombre #\" + str(i+1) + \": \"\n",
        "  nuevo_nombre = input(mensaje)\n",
        "  nombres.append(nuevo_nombre)\n",
        "\n",
        "nombres.sort()\n",
        "\n",
        "print(\"Los nombres ingresados son: \")\n",
        "for n in nombres:\n",
        "  print(n)"
      ],
      "execution_count": 0,
      "outputs": []
    },
    {
      "cell_type": "markdown",
      "metadata": {
        "id": "eK4Lm4w9WHfk",
        "colab_type": "text"
      },
      "source": [
        "### Mini-desafío: Diccionarios\n",
        "Realizar un programa que pida al usuario un número de legajo y el nombre completo, luego lo guarde en un diccionario.\n",
        "\n",
        "Usar dos celdas de codigo, en una crear el diccionario, y en la otra agregar el nombre y legajo, mostrar el contenido. La idea es que cuando se ejecute varias veces la segunda celda se agrege un nuevo nombre y legajo a lo que ya había sido almacenado en el diccionario."
      ]
    },
    {
      "cell_type": "code",
      "metadata": {
        "id": "2dcL9YmnWfbv",
        "colab_type": "code",
        "colab": {}
      },
      "source": [
        "# celda 1\n",
        "dic = {}"
      ],
      "execution_count": 0,
      "outputs": []
    },
    {
      "cell_type": "code",
      "metadata": {
        "id": "8yuSm7HoA54V",
        "colab_type": "code",
        "colab": {}
      },
      "source": [
        "# celda 2\n",
        "\n",
        "nombre = input(\"Ingrese un nuevo nombre: \")\n",
        "legajo = int(input(\"Ingrese su número de legajo: \"))\n",
        "\n",
        "dic[legajo] = nombre\n",
        "\n",
        "print(dic)"
      ],
      "execution_count": 0,
      "outputs": []
    },
    {
      "cell_type": "markdown",
      "metadata": {
        "id": "VWdCPrBJxITk",
        "colab_type": "text"
      },
      "source": [
        "#### **Para un desafío mayor:** Mini-desafío: Diccionario²\n",
        "Se recibieron distintos postulantes para un empleo de traductor. Crear un diccionario en el cuál la *key* de cada elemento sea el nombre de un candidato y el *contenido* sea un diccionario de los idiomas que aprendió. Para armar el diccionario de idiomas de cada candidato, los elementos deben tener como *key* el nombre del idioma y como *contenido* el valor True o False para los siguientes idiomas: Español, Ingles, Chino, Frances, Italiano.\n",
        "\n",
        "Ejemplo del diccionario de idiomas:\n",
        "\n",
        "```\n",
        "{\"Español\":True, \"Ingles\":True, \"Chino\":False, \"Frances\":False, \"Italiano\":True}\n",
        "```\n",
        "\n",
        "Inventar valores para 5 candidatos.\n",
        "\n",
        "El usuario luego debe poder ingresar el nombre de un idioma y el programa deberá mostrar en pantalla el nombre de aquellos candidatos que aprendieron ese idioma."
      ]
    },
    {
      "cell_type": "code",
      "metadata": {
        "id": "Cu8waRJTVBdI",
        "colab_type": "code",
        "colab": {}
      },
      "source": [
        "postulantes ={\n",
        "    \"Juan\":{\"Español\":True, \"Ingles\":True, \"Chino\":False, \"Frances\":False, \"Italiano\":True} , \n",
        "    \"Pablo\": {\"Español\":False, \"Ingles\":True, \"Chino\":True, \"Frances\":False, \"Italiano\":False}, \n",
        "    \"Carlos\":{\"Español\":True, \"Ingles\":False, \"Chino\":False, \"Frances\":True, \"Italiano\":True},\n",
        "    \"Ana\": {\"Español\":True, \"Ingles\":True, \"Chino\":True, \"Frances\":False, \"Italiano\":True},\n",
        "    \"Maria\": {\"Español\":False, \"Ingles\":True, \"Chino\":False, \"Frances\":False, \"Italiano\":True}\n",
        "    }\n",
        "\n",
        "idioma = input(\"Qué idioma quiere traducir? \")\n",
        "\n",
        "print(\"Los siguientes traductores aprendieron ese idioma:\")\n",
        "\n",
        "# Recorro todos los postulantes\n",
        "for k in postulantes:\n",
        "  #Obtengo su diccionario de idiomas personal\n",
        "  dic_idioma = postulantes[k]\n",
        "  if dic_idioma[idioma] == True:\n",
        "    print( k )"
      ],
      "execution_count": 0,
      "outputs": []
    },
    {
      "cell_type": "markdown",
      "metadata": {
        "id": "GTYqk43YWl_3",
        "colab_type": "text"
      },
      "source": [
        "### Mini-desafío: Sets\n",
        "Se cuentan con varios sets que contienen las personas que les gusta un cierto sabor de helado:\n",
        "\n",
        "```\n",
        "vainilla = { \"Juan\", \"Marina\", \"Tomas\", \"Paula\" }\n",
        "chocolate = { \"Pedro\", \"Paula\", \"Marina\" }\n",
        "dulceDeLeche = { \"Juan\", \"Julian\", \"Pedro\", \"Marina\" }\n",
        "```\n",
        "\n",
        "Responder usando operaciones de sets:\n",
        "\n",
        "- Hay alguna persona que le gusten todos los gustos?\n",
        "\n",
        "- Hay alguna persona que le gusten la vainilla y no el dulce de leche?\n",
        "\n",
        "- Cuantas personas distintas tenemos?"
      ]
    },
    {
      "cell_type": "code",
      "metadata": {
        "id": "g3blObRMYI1O",
        "colab_type": "code",
        "colab": {}
      },
      "source": [
        "vainilla = {\"Juan\",\"Marina\",\"Tomas\",\"Paula\"}\n",
        "chocolate = {\"Pedro\",\"Paula\",\"Marina\"}\n",
        "dulceDeLeche = {\"Juan\",\"Julian\",\"Pedro\",\"Marina\"}\n",
        "\n",
        "print(\"Le gustan todos los gustos:\", vainilla & chocolate & dulceDeLeche )\n",
        "\n",
        "print(\"Le gusta la vainilla y no el dulce de leche:\", vainilla-dulceDeLeche )\n",
        "\n",
        "print(\"Total de personas:\", len(vainilla|chocolate|dulceDeLeche) )"
      ],
      "execution_count": 0,
      "outputs": []
    },
    {
      "cell_type": "markdown",
      "metadata": {
        "id": "hpW3cNya1ESA",
        "colab_type": "text"
      },
      "source": [
        "# Ejercitación integradora\n",
        "$\\newcommand{\\dif}{\\bigstar}$$\\newcommand{\\facil}{\\color{\\green}{\\dif}}$ $\\newcommand{\\pieceofcake}{\\color{\\cyan}{\\dif}}$$\\newcommand{\\medio}{\\color{\\yellow}{\\dif\\dif}}$$\\newcommand{\\media}{\\medio}$$\\newcommand{\\normal}{\\medio}$  $\\newcommand{\\dificil}{\\color{\\orange}{\\dif\\dif\\dif}}$ $\\newcommand{\\imposible}{\\color{\\red}{\\dif\\dif\\dif\\dif}}$"
      ]
    },
    {
      "cell_type": "markdown",
      "metadata": {
        "id": "dz1uvBrZlIHA",
        "colab_type": "text"
      },
      "source": [
        "### $\\facil$ Call me $\\frac{\\partial}{\\partial x}$, or $\\mathrm{diff}$ for short\n",
        "Una operacion muy comun al manejar datos es la derivada\n",
        "\n",
        "$$ \\frac{d }{dt} (\\mathrm{Datos}) $$\n",
        "\n",
        "Objetivo: Escribir una funcion que tome una lista de $n$ numeros y devuelva la *derivada discreta* de la lista de tamano $n-1$.\n",
        "\n",
        "Tips\n",
        "* $\\mathrm{derivada}[i]=x[i+1]-x[i]$ \n"
      ]
    },
    {
      "cell_type": "markdown",
      "metadata": {
        "id": "QHldLaTpQcCQ",
        "colab_type": "text"
      },
      "source": [
        "#### Solución"
      ]
    },
    {
      "cell_type": "code",
      "metadata": {
        "id": "NwAlHXUVrc7M",
        "colab_type": "code",
        "colab": {}
      },
      "source": [
        "## Derivada: Solución propuesta\n",
        "\n",
        "def derivada(x):\n",
        "    return [x[i]-x[i-1] for i in range(1,len(x))]\n",
        "\n",
        "z = [4,5,6]\n",
        "print(derivada(z))"
      ],
      "execution_count": 0,
      "outputs": []
    },
    {
      "cell_type": "markdown",
      "metadata": {
        "id": "0CqTiYpZG-AO",
        "colab_type": "text"
      },
      "source": [
        "###$\\normal$  Une y triunfarás\n",
        "Se recibieron distintos postulantes para un empleo de traductor. Crear un **diccionario** en el cuál la *key* de cada elemento sea el nombre de un candidato y el *contenido* sea un **set** con los idiomas que aprendió.\n",
        "Inventar valores para 5 candidatos.\n",
        "\n",
        "- Mostrar en pantalla los idiomas que todos los candidatos aprendieron.\n",
        "- Mostrar en pantalla todos los candidatos que aprendieron por lo menos Español e Inglés.\n",
        "\n",
        "El usuario luego debe poder ingresar el nombre de un idioma y el programa deberá mostrar en pantalla el nombre de aquellos candidatos que aprendieron ese idioma."
      ]
    },
    {
      "cell_type": "code",
      "metadata": {
        "id": "3q6_Qg93WeTk",
        "colab_type": "code",
        "colab": {}
      },
      "source": [
        "postulantes = {\n",
        "    \"Juan\":{\"Español\", \"Ingles\", \"Italiano\"} , \n",
        "    \"Pablo\": {\"Ingles\", \"Chino\", \"Italiano\"}, \n",
        "    \"Carlos\":{\"Español\", \"Frances\", \"Italiano\"},\n",
        "    \"Ana\": {\"Español\", \"Ingles\", \"Chino\", \"Italiano\"},\n",
        "    \"Maria\": {\"Ingles\", \"Italiano\"}\n",
        "    }\n",
        "\n",
        "#Creamos un set con todos los idiomas\n",
        "todos = {\"Español\", \"Ingles\", \"Chino\", \"Frances\", \"Italiano\"}\n",
        "\n",
        "for p in postulantes:\n",
        "  todos &= postulantes[p] # Es lo mismo que: todos = todos & postulantes[p]\n",
        "\n",
        "print(\"Todos los candidatos aprendieron estos idiomas:\")\n",
        "for i in todos:\n",
        "  print(i)\n",
        "\n",
        "esp_ing = set() #Creamos un set vacio\n",
        "for p in postulantes:\n",
        "  if \"Español\" in postulantes[p] and \"Ingles\" in postulantes[p]:\n",
        "    esp_ing.add(p)\n",
        "\n",
        "print(\"Los candidatos que aprendieron al menos Español e Inglés:\")\n",
        "for i in esp_ing:\n",
        "  print(i)"
      ],
      "execution_count": 0,
      "outputs": []
    },
    {
      "cell_type": "markdown",
      "metadata": {
        "id": "3YitqSp9Z3sD",
        "colab_type": "text"
      },
      "source": [
        "###$\\normal$ Las naranjas de Miguel \n",
        "Miguel vive en un pueblo frutero con su hermana en el valle de Oz. Todos los días cosecha bananas y naranjas de su campo. Como son abundantes, suele darle 2 bananas y 1 naranja a su hermana. No obstante Miguel siempre quiere quedarse con por lo menos una naranja, por lo cual le da una naranja a su hermana solo cuando se cosechan al menos 2 naranjas\n",
        "\n",
        "Miguel ahora quiere modernizarse, compró una cinta transportadora que detecta cada fruta que la atraviesa y te pide ayuda para  escribir un programa que reciba el código generado por la máquina y *devuelva la cantidad de bananas y naranjas que le quedarán* luego de quitar las frutas que le dará a su hermana.\n",
        "\n",
        "``\n",
        "ejemploCodigoDePedido = \"BBBBBNNNNNNNN\"\n",
        "``\n",
        "\n",
        "Cada N representa una naranja y cada B representa una banana.\n",
        "\n",
        "**Tips**\n",
        "* La función `list()` toma un string y lo convierte a una lista\n",
        "\n",
        "```\n",
        "P = list( ejemploCodigoDePedido )\n",
        ">> P = ['B', 'B', 'B', 'B', 'B', 'N', 'N', 'N', 'N', 'N', 'N', 'N', 'N']\n",
        "```"
      ]
    },
    {
      "cell_type": "markdown",
      "metadata": {
        "id": "a6klAEheQdHg",
        "colab_type": "text"
      },
      "source": [
        "#### Solución"
      ]
    },
    {
      "cell_type": "code",
      "metadata": {
        "id": "81Kzws-ka5L9",
        "colab_type": "code",
        "colab": {}
      },
      "source": [
        "## Las naranjas de Miguel: Solución propuesta\n",
        "\n",
        "P = \"BNBBBBN\"  \n",
        "\n",
        "def leerPedido(pedido):\n",
        "    naranjas=0\n",
        "    bananas=0\n",
        "    for i in range(len(pedido)): \n",
        "        letra = pedido[i]\n",
        "        if letra==\"N\": \n",
        "            naranjas+=1 \n",
        "        else:\n",
        "            bananas+=1\n",
        "    return naranjas,bananas\n",
        "\n",
        "def cuantasDar(naranjas,bananas):\n",
        "    naranjasParaHermana = 0\n",
        "    bananasParaHermana = 0\n",
        "    if naranjas<2:\n",
        "        naranjasParaHermana = 0\n",
        "    else:\n",
        "        naranjasParaHermana = 1 \n",
        "\n",
        "    if bananas > 1:\n",
        "        bananasParaHermana = 2\n",
        "    else:\n",
        "        bananasParaHermana = bananas\n",
        "\n",
        "    return naranjasParaHermana,bananasParaHermana\n",
        "\n",
        "n,b = leerPedido(P) #Leo pedido y guardo a memoria las frutas que tengo\n",
        "nh,bh = cuantasDar(n,b) #Aqui calculo naranjas para darle a la hermana\n",
        "\n",
        "print(\"Bienvenido Miguel. Hoy te quedaron \",n-nh,\" Naranja(s) y \",b-bh,\" banana(s).\")"
      ],
      "execution_count": 0,
      "outputs": []
    },
    {
      "cell_type": "markdown",
      "metadata": {
        "id": "58bbfFzqurNj",
        "colab_type": "text"
      },
      "source": [
        "### $\\dificil$ Dr. Chaos, el malevolo semiótico\n",
        "\n",
        "\"Chaos es caos en inglés\" te diría Dr. Chaos, charlando con una taza de té Chai en la mano. En verdad no es tán malo como su nombre lo hace aparentar... si es que tenes un buen manejo de los idiomas.\n",
        "\n",
        "Dr. Chaos esta armando un diccionario. Este diccionario tiene la particularidad de no tener definiciones; el diccionario de Dr. Chaos define *una palabra como otra*. Dr. Chaos quiere comenzar a traducir la literatura de todo el mundo usando el diccionario y ha venido a ti, el *Number One* programador de Python. \n",
        "\n",
        "**Objetivo:** Cambiar las palabras de una oración usando el diccionario de Dr. Chaos e imprimir la nueva oración en el lenguaje unificado.\n",
        "\n",
        "*Ejemplo:*\n",
        "\n",
        "``\n",
        "diccionario = {\"hola\":\"你好\",\"como\":\"how\",\"estás\":\"estáis\"}\n",
        "``\n",
        "\n",
        "``\n",
        "oracion = \"hola, como estás?\"\n",
        "``\n",
        "\n",
        "\n",
        "*OUTPUT:  *\n",
        "``\n",
        "\"你好, how estáis?\"\n",
        "``\n",
        "\n",
        "*Ejemplo 2:*\n",
        "\n",
        "``\n",
        "diccionario = {\"ve\":\"regards\",\"bien\":\"bom\",\"se\":\"it\"}\n",
        "``\n",
        "\n",
        "``\n",
        "oracion = \"se ve bien!\"\n",
        "``\n",
        "\n",
        "**Tips:** \n",
        "\n",
        "* El programa debería tratar los símbolos de interrogación, exclamación, los puntos y comas como `whitespace`, es decir, espacio en blanco.\n",
        " \n",
        "* Suponer que las letras son todas minusculas.\n"
      ]
    },
    {
      "cell_type": "markdown",
      "metadata": {
        "id": "4zEDfhn7QfrW",
        "colab_type": "text"
      },
      "source": [
        "#### Solución"
      ]
    },
    {
      "cell_type": "code",
      "metadata": {
        "id": "kDvIsxZCxawO",
        "colab_type": "code",
        "colab": {}
      },
      "source": [
        "espanolToChaos = {\"ve\":\"regards\",\"bien\":\"bom\",\"se\":\"it\"}\n",
        "oracion = \"se ve bien!\"\n",
        "whitespace = [\" \",\".\",\",\",\"!\",\"?\"]\n",
        "\n",
        "resultado = \"\"\n",
        "palabra = \"\"\n",
        "for i in range(0,len(oracion)):\n",
        "    letra=oracion[i]\n",
        "    if letra in whitespace:\n",
        "        if palabra!=\"\":\n",
        "            resultado = resultado+espanolToChaos[palabra]\n",
        "    \n",
        "        resultado = resultado+letra\n",
        "        palabra=\"\"\n",
        "    else:\n",
        "        palabra = palabra+letra\n",
        "print(resultado)"
      ],
      "execution_count": 0,
      "outputs": []
    },
    {
      "cell_type": "markdown",
      "metadata": {
        "id": "2a0QjbS3QrlX",
        "colab_type": "text"
      },
      "source": [
        "###$\\imposible$ Quiero Retruco\n",
        "El [Truco](https://es.wikipedia.org/wiki/Truco_argentino) es un juego de cartas muy popular en Argentina. Se suele jugar con naipes españoles de 40 cartas, las cuales tienen 4 palos (basto, oro, espada y copa) y 10 números, 1,2,3,4,5,6,7,10,11 y 12.\n",
        "Si bien en esta ocasión no vamos a programar un juego de truco, si, vamos a resolver uno de los problemas más usuales que surgen cuando jugamos el cual es definir cual carta gana y cual carta pierde cuando hay un duelo entre dos cartas. \n",
        "\n",
        "<img src=\"https://steemitimages.com/640x0/http://k46.kn3.net/taringa/B/D/9/7/2/4/KevinTrimboli/338.png\" height=300 alt =\"Esquema de hierarquia de cartas para el juego truco argentino\" title=\"Un palo le gana a 7 espadas y ambos pierden ante una espada envainada? What?\">\n",
        "\n",
        "En la imagen podemos observar en orden de importancia de las cartas de izquierda a derecha. El 1 de espada es la más importante (y por lo tanto **siempre** gana) mientras que los 4s son las cartas de menor importancia (casi siempre pierden). Las cartas en la misma columna empatan si se enfrentan.\n",
        "\n",
        "- Programar una función con dos inputs tipo string **carta A** y **carta B** que retorne la carta ganadora (tipo string), o \"empate\" en caso de que lo haya. Ejemplos de como debería funcionar\n",
        "\n",
        "```\n",
        "   dueloDeCartas(\"1 de espada\", \"1 de basto\")\n",
        "   >>> 1 de basto\n",
        "   dueloDeCartas(\"7 de oro\", \"5 de oro\")\n",
        "   >>> 7 de oro\n",
        "   dueloDeCartas(\"11 de copa\", \"11 de espada\")\n",
        "   >>> empate\n",
        "```\n",
        "\n",
        "Hint: usar un diccionario donde la **clave** sea el nombre de la carta, y su **contenido** su importancia (un tipo **int**). Aprovechen la instrucción for para evitar tener que cargar todas las cartas una por una\n",
        "\n",
        "- A veces se suele jugar al truco con más de dos jugadores. Podría ocurrir duelos en los que participan $n$ cartas. Programar una funcion cuyo input sea una lista de strings con todas las cartas y retorne la ganadora. (En caso de empate que retorne alguna de las ganadoras, o un arreglo con las ganadoras)\n",
        "Ejemplos de como podria funcionar funcionar\n",
        "```\n",
        "   dueloDeCartas([\"7 de basto\",\"7 de espada\",\"12 de espada\", \"4 de espada\"])\n",
        "   >>> \"7 de espada\"\n",
        "   dueloDeCartas([\"4 de espada\",\"7 de basto\",\"7 de copa\", \"5 de copa\"]) #también podría haber dado 7 de basto \n",
        "   >>> \"7 de copa\"\n",
        "```"
      ]
    },
    {
      "cell_type": "markdown",
      "metadata": {
        "id": "FdsIdtdhQgpn",
        "colab_type": "text"
      },
      "source": [
        "#### Solución"
      ]
    },
    {
      "cell_type": "code",
      "metadata": {
        "id": "L3jCZ-sc6Nd-",
        "colab_type": "code",
        "colab": {}
      },
      "source": [
        "# antes de hacer la funcion dueloDeCartas, creamos el diccionario que leera \n",
        "#  para saber que carta gana\n",
        "valorCarta = dict() \n",
        "\n",
        " # casos especiales: esto no lo puedo hacer con un for\n",
        "valorCarta[\"1 de espada\"] = 14    \n",
        "valorCarta[\"1 de basto\"] = 13     \n",
        "valorCarta[\"7 de espada\"] = 12\n",
        "valorCarta[\"7 de oro\"] = 11\n",
        "\n",
        "# el resto de los valores son de 10 para abajo\n",
        "valor = 10\n",
        "for x in [3,2,1,12,11,10,7,6,5,4]: \n",
        "    # itero por los numeros de las cartas, de la mas a la menos poderosa\n",
        "    if x == 1: # con este if elijo que palos de este numero guardo\n",
        "        palos = [\"oro\",\"copa\"] \n",
        "    elif x == 7:\n",
        "        palos = [\"basto\", \"copa\"]\n",
        "    else: \n",
        "        palos = [\"oro\",\"copa\",\"basto\",\"espada\"]\n",
        "    \n",
        "    for palo in palos:\n",
        "        valorCarta[str(x)+\" de \" + palo] = valor\n",
        "        # para todos los palos que elegi para este numero, guardo la carta\n",
        "        # con el mismo valor\n",
        "    \n",
        "    valor -= 1 # la carta que viene es menos poderosa\n",
        "\n",
        "def dueloDeCartas(cartaA, cartaB):\n",
        "    # usamos el diccionario que creamos para saber el valor de las cartas\n",
        "    # que nos pasan\n",
        "    if valorCarta[cartaA] > valorCarta[cartaB]:\n",
        "        return cartaA\n",
        "    elif valorCarta[cartaA] < valorCarta[cartaB]:\n",
        "        return cartaB\n",
        "    else:\n",
        "        return \"empate\"\n",
        "    \n",
        "    \n",
        "# verificamos que la funcion ande correctamente\n",
        "print(dueloDeCartas(\"7 de basto\",\"1 de basto\")) #encontre más errores! el 7 trae problems!\n",
        "print(dueloDeCartas(\"1 de copa\", \"1 de oro\"))\n",
        "print(dueloDeCartas(\"7 de copa\",\"3 de copa\"))\n",
        "\n",
        "\n",
        "# verificamos que todos los valores esten correctamente calculados\n",
        "print(valorCarta) "
      ],
      "execution_count": 0,
      "outputs": []
    }
  ]
}