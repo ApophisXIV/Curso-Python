{
  "nbformat": 4,
  "nbformat_minor": 0,
  "metadata": {
    "colab": {
      "name": "Clase 2 Solucionario.ipynb",
      "provenance": [],
      "collapsed_sections": [],
      "toc_visible": true,
      "include_colab_link": true
    },
    "kernelspec": {
      "name": "python3",
      "display_name": "Python 3"
    }
  },
  "cells": [
    {
      "cell_type": "markdown",
      "metadata": {
        "id": "view-in-github",
        "colab_type": "text"
      },
      "source": [
        "<a href=\"https://colab.research.google.com/github/IEEESBITBA/Curso-Python/blob/master/Clase_2_Solucionario.ipynb\" target=\"_parent\"><img src=\"https://colab.research.google.com/assets/colab-badge.svg\" alt=\"Open In Colab\"/></a>"
      ]
    },
    {
      "cell_type": "markdown",
      "metadata": {
        "id": "ghBKrYxhuQTB",
        "colab_type": "text"
      },
      "source": [
        "# Clase 2 - Solucionario\n",
        "\n",
        "En este documento se encuentra todos los mini-task de la clase 2 y ejercicios integradores resueltos\n"
      ]
    },
    {
      "cell_type": "markdown",
      "metadata": {
        "id": "ZO6LX0JMQi_V",
        "colab_type": "text"
      },
      "source": [
        "#### **Mini task 1**\n",
        "\n",
        "Crear \n",
        "*   Una función que convierta grados **Celsius** a grados **Farenheit** (https://en.wikipedia.org/wiki/Fahrenheit)\n",
        "*   Una función que convierta grados **Celsius** a grados **Kelvin**\n",
        "\n",
        "<img src=\"https://cdn3.iconfinder.com/data/icons/silky-line-weather/48/Celcius-512.png\" alt = \"Wordcloud con tipos de datos comunes\" height = 200 title=\"Objects y structures son un conjunto de subtipos\">\n",
        "\n",
        "Pueden leer [aqui](https://en.wikipedia.org/wiki/Conversion_of_units_of_temperature) sobre como hacer las conversiones \n"
      ]
    },
    {
      "cell_type": "code",
      "metadata": {
        "id": "Jel3LmEwQoDc",
        "colab_type": "code",
        "colab": {}
      },
      "source": [
        "def CelciusToFarenheit(temp):\n",
        "    return temp * 9 / 5 + 32\n",
        "\n",
        "def CelciusToKelvin(temp):\n",
        "    return temp + 273.15\n",
        "\n",
        "temp = float(input(\"Ingrese temperatura en celcius:\"))\n",
        "\n",
        "print(\"Temperatura en Farenheit:\", CelciusToFarenheit(temp))\n",
        "print(\"Temperatura en Kelvin:\", CelciusToKelvin(temp))"
      ],
      "execution_count": 0,
      "outputs": []
    },
    {
      "cell_type": "markdown",
      "metadata": {
        "id": "crK179ZQRDVO",
        "colab_type": "text"
      },
      "source": [
        "Crear una función que convierta **Celcius** a **Farenheit** pero que redondee el resultado a un decimal. Pueden llamar a alguna de las funciones anteriores. (**Hint**: Pueden o usar la función [round](https://www.w3schools.com/python/ref_func_round.asp) de python, o ingeniarselas con operaciones y cast a int) "
      ]
    },
    {
      "cell_type": "code",
      "metadata": {
        "id": "56gzLI-1RECF",
        "colab_type": "code",
        "colab": {}
      },
      "source": [
        "def CelciusToFarenheit(temp):\n",
        "    return round(temp * 9 / 5 + 32, 1)\n",
        "\n",
        "temp = float(input(\"Ingrese temperatura en celcius:\"))\n",
        "\n",
        "print(\"Temperatura en Farenheit:\", CelciusToFarenheit(temp))"
      ],
      "execution_count": 0,
      "outputs": []
    },
    {
      "cell_type": "markdown",
      "metadata": {
        "id": "ZXLYWjwqVJuc",
        "colab_type": "text"
      },
      "source": [
        "### **Mini task 2**\n",
        "Hacer un programa en el que el usuario ingrese una palabra y se retorne si la palabra es [un verbo en infinitivo](https://www.ejemplode.com/12-clases_de_espanol/2407-ejemplo_de_verbos_infinitivo.html)."
      ]
    },
    {
      "cell_type": "code",
      "metadata": {
        "id": "uCfOg9NdRvyw",
        "colab_type": "code",
        "colab": {
          "base_uri": "https://localhost:8080/",
          "height": 51
        },
        "outputId": "11611eab-a4a1-4098-931f-056c2fd0304d"
      },
      "source": [
        "def esVerboInfinitivo(palabara):\n",
        "    if palabra.endswith(\"ar\") or palabra.endswith(\"er\") or palabra.endswith(\"ir\"):\n",
        "        return True\n",
        "    else:\n",
        "        return False\n",
        "\n",
        "palabra = input(\"Ingrese una palabra:\")\n",
        "\n",
        "if esVerboInfinitivo(palabra):\n",
        "    print(\"La palabra es un verbo en infinitivo\")\n",
        "else:\n",
        "    print(\"La palabra no es un verbo en infinitivo\")\n",
        "    "
      ],
      "execution_count": 6,
      "outputs": [
        {
          "output_type": "stream",
          "text": [
            "Ingrese una palabrareir\n",
            "La palabra es un verbo en infinitivo\n"
          ],
          "name": "stdout"
        }
      ]
    },
    {
      "cell_type": "markdown",
      "metadata": {
        "id": "ZpWHS0KBSGX3",
        "colab_type": "text"
      },
      "source": [
        "#### **Mini task 3**\n",
        "\n",
        "Crear una lista que se inicialice con los numeros pares hasta el 50"
      ]
    },
    {
      "cell_type": "markdown",
      "metadata": {
        "id": "WSsk5gTARHV6",
        "colab_type": "text"
      },
      "source": [
        "#### Solución 1"
      ]
    },
    {
      "cell_type": "code",
      "metadata": {
        "id": "YC8rVjYOVSO0",
        "colab_type": "code",
        "colab": {}
      },
      "source": [
        "numeros = []\n",
        "for i in range(50):\n",
        "    if i % 2 == 0:\n",
        "        numeros.append(i)\n",
        "print(numeros)"
      ],
      "execution_count": 0,
      "outputs": []
    },
    {
      "cell_type": "markdown",
      "metadata": {
        "id": "MTuQhvPqRNzT",
        "colab_type": "text"
      },
      "source": [
        "#### Solución 2"
      ]
    },
    {
      "cell_type": "code",
      "metadata": {
        "id": "ciYbvE5pRTSB",
        "colab_type": "code",
        "outputId": "77b618c3-4479-4d94-e823-f043ed9686e0",
        "colab": {
          "base_uri": "https://localhost:8080/",
          "height": 34
        }
      },
      "source": [
        "numeros = []\n",
        "for i in range(0,50,2):\n",
        "    numeros.append(i)\n",
        "print(numeros)"
      ],
      "execution_count": 0,
      "outputs": [
        {
          "output_type": "stream",
          "text": [
            "[0, 2, 4, 6, 8, 10, 12, 14, 16, 18, 20, 22, 24, 26, 28, 30, 32, 34, 36, 38, 40, 42, 44, 46, 48]\n"
          ],
          "name": "stdout"
        }
      ]
    },
    {
      "cell_type": "markdown",
      "metadata": {
        "id": "eEUa1eECRdG2",
        "colab_type": "text"
      },
      "source": [
        "#### Solución 3"
      ]
    },
    {
      "cell_type": "code",
      "metadata": {
        "id": "lhqxnxGxRedZ",
        "colab_type": "code",
        "outputId": "d8deb076-80b1-42a6-eab6-3b63306bac01",
        "colab": {
          "base_uri": "https://localhost:8080/",
          "height": 34
        }
      },
      "source": [
        "numeros = [i for i in range(0,50,2)]\n",
        "print(numeros)"
      ],
      "execution_count": 0,
      "outputs": [
        {
          "output_type": "stream",
          "text": [
            "[0, 2, 4, 6, 8, 10, 12, 14, 16, 18, 20, 22, 24, 26, 28, 30, 32, 34, 36, 38, 40, 42, 44, 46, 48]\n"
          ],
          "name": "stdout"
        }
      ]
    },
    {
      "cell_type": "markdown",
      "metadata": {
        "id": "ple-OvO2QdeD",
        "colab_type": "text"
      },
      "source": [
        "#### **Mini task 4** ¿Cómo podría hacer una matriz?"
      ]
    },
    {
      "cell_type": "code",
      "metadata": {
        "id": "Mh25rvel6BLJ",
        "colab_type": "code",
        "outputId": "efee2dd9-3713-4487-a612-b7336de123dd",
        "colab": {
          "base_uri": "https://localhost:8080/",
          "height": 34
        }
      },
      "source": [
        "matriz = [[2,3], [4,6]]\n",
        "print(matriz)"
      ],
      "execution_count": 0,
      "outputs": [
        {
          "output_type": "stream",
          "text": [
            "[[2, 3], [4, 6]]\n"
          ],
          "name": "stdout"
        }
      ]
    },
    {
      "cell_type": "markdown",
      "metadata": {
        "id": "N4kl6_VhvdCs",
        "colab_type": "text"
      },
      "source": [
        "#### **Mini task 5: Playlist**"
      ]
    },
    {
      "cell_type": "markdown",
      "metadata": {
        "id": "KJTq4LGJvlF1",
        "colab_type": "text"
      },
      "source": [
        "Dada una lista con canciones (playlist), implementar dos funciones:\n",
        "\n",
        "1) Una función que reciba como parámetros:\n",
        "\n",
        "La lista de canciones y el indice de una canción. \n",
        "\n",
        "La función devuelve:\n",
        "\n",
        "El string asociado a la siguiente canción en la lista.\n",
        "\n",
        "**Aclaración: El elemento siguiente al último es el primero**"
      ]
    },
    {
      "cell_type": "markdown",
      "metadata": {
        "id": "FjrxU0ttSj8n",
        "colab_type": "text"
      },
      "source": [
        "2) Una función que reciba como parámetros:\n",
        "\n",
        "La lista de canciones y el indice de una canción. \n",
        "\n",
        "La función devuelve:\n",
        "\n",
        "El string asociado a la canción anterior en la lista.\n",
        "\n",
        "**Aclaración: \n",
        "El elemento anterior al primero es el último**"
      ]
    },
    {
      "cell_type": "markdown",
      "metadata": {
        "id": "qOT2UL6YSZpT",
        "colab_type": "text"
      },
      "source": [
        "Solución 1"
      ]
    },
    {
      "cell_type": "code",
      "metadata": {
        "id": "b9nS0x_HSYfk",
        "colab_type": "code",
        "colab": {}
      },
      "source": [
        "#le doy un estado inicial a la playlist\n",
        "playlist = ['Arctic Monkeys - R u mine',\n",
        "            'Twenty One Pilots - Stressed out',\n",
        "            'Queen - Bohemian Rapsody',\n",
        "            'Portugal. The man - Feel it still ']\n",
        "\n",
        "def getNextSong(playlist, indice):\n",
        "    if indice == 3:\n",
        "        return playlist[0]\n",
        "    else:\n",
        "        return playlist[(indice+1)]\n",
        "    \n",
        "def getPreviousSong(playlist, indice):\n",
        "    if indice == 0:\n",
        "        return playlist[3]\n",
        "    else:\n",
        "        return playlist[indice-1]"
      ],
      "execution_count": 0,
      "outputs": []
    },
    {
      "cell_type": "markdown",
      "metadata": {
        "id": "fILDwr52ShCb",
        "colab_type": "text"
      },
      "source": [
        "Solución 2"
      ]
    },
    {
      "cell_type": "code",
      "metadata": {
        "id": "T6Vc9wGKwAW0",
        "colab_type": "code",
        "colab": {}
      },
      "source": [
        "#le doy un estado inicial a la playlist\n",
        "playlist = ['Arctic Monkeys - R u mine',\n",
        "            'Twenty One Pilots - Stressed out',\n",
        "            'Queen - Bohemian Rapsody',\n",
        "            'Portugal. The man - Feel it still ']\n",
        "\n",
        "def getNextSong(playlist, indice):\n",
        "    return playlist[(indice+1)%(len(playlist))]\n",
        "\n",
        "def getPreviousSong(playlist, indice):\n",
        "    return playlist[(indice-1)%(len(playlist))]"
      ],
      "execution_count": 0,
      "outputs": []
    },
    {
      "cell_type": "markdown",
      "metadata": {
        "id": "neYCeQFIwJ8M",
        "colab_type": "text"
      },
      "source": [
        "Probamos las funciones"
      ]
    },
    {
      "cell_type": "code",
      "metadata": {
        "id": "LaOgo-aCwlEh",
        "colab_type": "code",
        "colab": {}
      },
      "source": [
        "print(getNextSong(playlist,3))"
      ],
      "execution_count": 0,
      "outputs": []
    },
    {
      "cell_type": "code",
      "metadata": {
        "id": "D1ZPApS0w3F0",
        "colab_type": "code",
        "colab": {}
      },
      "source": [
        "print(getPreviousSong(playlist,0))"
      ],
      "execution_count": 0,
      "outputs": []
    },
    {
      "cell_type": "markdown",
      "metadata": {
        "id": "eK4Lm4w9WHfk",
        "colab_type": "text"
      },
      "source": [
        "#### **Mini task 5**\n",
        "\n",
        "Realizar un programa en el cual se decida cual es el ganador de una **elección a presidente**\n",
        "\n",
        "En el diccionario candidatos la clave es el nombre del cadidato y el contenido la cantidad de votos. \n",
        "\n",
        "**Hint**: Usen for, if, variables auxiliares.\n",
        "\n",
        "\n"
      ]
    },
    {
      "cell_type": "markdown",
      "metadata": {
        "id": "mI_EwmKYTIr9",
        "colab_type": "text"
      },
      "source": [
        "**Solución 1**: usamos **[sorted](https://www.geeksforgeeks.org/sorted-function-python/)**. \n",
        "\n",
        "Esta solución es más corta pero deben saber como usar la función sort, en la cual uno de sus parámetros, key contiene que criterio usaremos para ordenar el diccionario (en este caso el criterio es ordenar por la cantidad de votos, es decir el contenido del diccionario)"
      ]
    },
    {
      "cell_type": "code",
      "metadata": {
        "id": "x1_z41UcTKXs",
        "colab_type": "code",
        "colab": {
          "base_uri": "https://localhost:8080/",
          "height": 51
        },
        "outputId": "5c41c17c-3961-4443-d37f-dd12210a4201"
      },
      "source": [
        "candidatos = {\n",
        "    \"Michael Jackson\": 34453,\n",
        "    \"Oliver Kahn\": 18445,\n",
        "    \"Micky Vainilla\": 5434444,\n",
        "    \"John Lennon\": 12332,\n",
        "    \"Roque Sáenz Peña\": 5543,\n",
        "    \"Alexandria Ocasio-Cortez\": 343343,\n",
        "    \"Ludwig van Beethoven\":1232322\n",
        "}\n",
        "\n",
        "\n",
        "def criterioDeOrden(candidato):\n",
        "    key, value = candidato\n",
        "    return value\n",
        "\n",
        "candidatos_ordenados = sorted(candidatos.items(), reverse=True, key=criterioDeOrden)\n",
        "    \n",
        "print(\"El ganador es\",candidatos_ordenados[0][0],\"con\",candidatos_ordenados[0][1],\"votos\")\n",
        "\n",
        "suma = 0\n",
        "for candidato in candidatos:\n",
        "    suma += candidatos[candidato]\n",
        "\n",
        "if (candidatos_ordenados[0][1] >= 0.5*suma + 1): # mayor a la mitad más uno de los votos\n",
        "    print(\"Hay ballotage\")"
      ],
      "execution_count": 18,
      "outputs": [
        {
          "output_type": "stream",
          "text": [
            "El ganador es Micky Vainilla con 5434444 votos\n",
            "Hay ballotage\n"
          ],
          "name": "stdout"
        }
      ]
    },
    {
      "cell_type": "markdown",
      "metadata": {
        "id": "ZjW2nBc1S-V1",
        "colab_type": "text"
      },
      "source": [
        "**Solución 2**: Trabajo a mano. Esta solución no usa funciones pero es un poco más complicada de razonar. La idea consiste en mantener una variable auxiliar (en este caso se llama ganador), que se actualiza a medida que \"iteramos\", \"recorremos\" cada candidato fijandose si el siguiente candidato tiene más votos que la mayor cantidad de votos que habíamos visto hasta el momento"
      ]
    },
    {
      "cell_type": "code",
      "metadata": {
        "id": "2dcL9YmnWfbv",
        "colab_type": "code",
        "colab": {
          "base_uri": "https://localhost:8080/",
          "height": 51
        },
        "outputId": "70482317-3ae3-456d-eb3d-d14db57a16f7"
      },
      "source": [
        "candidatos = {\n",
        "    \"Michael Jackson\": 30,\n",
        "    \"Oliver Kahn\": 25,\n",
        "    \"Micky Vainilla\": 22,\n",
        "    \"John Lennon\": 10,\n",
        "    \"Roque Sáenz Peña\": 15,\n",
        "    \"Alexandria Ocasio-Cortez\": 20,\n",
        "    \"Ludwig van Beethoven\":21\n",
        "}\n",
        "\n",
        "ganador = -1\n",
        "votos = 0\n",
        "\n",
        "for candidato in candidatos:\n",
        "    if ganador == -1 or candidatos[candidato] > candidatos[ganador]: # si ganador==-1 es la primera iteración\n",
        "        ganador = candidato\n",
        "    votos += candidatos[candidato]\n",
        "\n",
        "if candidatos[candidato] >= votos/2 + 1:\n",
        "    print(\"No hay ballotage\")\n",
        "else:\n",
        "    print(\"Hay ballotage\")\n",
        "    \n",
        "print(\"El ganador es \", ganador,\"con \",candidatos[ganador])"
      ],
      "execution_count": 14,
      "outputs": [
        {
          "output_type": "stream",
          "text": [
            "Hay ballotage\n",
            "El ganador es  Michael Jackson con  30\n"
          ],
          "name": "stdout"
        }
      ]
    },
    {
      "cell_type": "markdown",
      "metadata": {
        "id": "GTYqk43YWl_3",
        "colab_type": "text"
      },
      "source": [
        "### Mini task 6\n",
        "Tenemos varios sets que contienen las personas que les gustan un cierto sabor de helado:\n",
        "\n",
        "> vainilla              = {\"Juan\",\"Marina\",\"Tomas\",\"Paula\"}\n",
        "\n",
        "> chocolate         = {\"Pedro\",\"Paula\",\"Marina\"}\n",
        "\n",
        "> dulceDeLeche = {\"Juan\",\"Julian\",\"Pedro\",\"Marina\"}\n",
        "\n",
        "Responder usando operaciones de sets:\n",
        "\n",
        "- ¿Hay alguna persona que le gusten todos los gustos?\n",
        "\n",
        "- ¿Hay alguna persona que le gusten la vainilla y no el dulce de leche?\n",
        "\n",
        "- ¿Cuantas personas distintas tenemos?"
      ]
    },
    {
      "cell_type": "code",
      "metadata": {
        "id": "g3blObRMYI1O",
        "colab_type": "code",
        "colab": {}
      },
      "source": [
        "vainilla = {\"Juan\",\"Marina\",\"Tomas\",\"Paula\"}\n",
        "chocolate = {\"Pedro\",\"Paula\",\"Marina\"}\n",
        "dulceDeLeche = {\"Juan\",\"Julian\",\"Pedro\",\"Marina\"}\n",
        "\n",
        "print(vainilla&chocolate&dulceDeLeche)\n",
        "print(vainilla-dulceDeLeche)\n",
        "print(len(vainilla|chocolate|dulceDeLeche))"
      ],
      "execution_count": 0,
      "outputs": []
    },
    {
      "cell_type": "markdown",
      "metadata": {
        "id": "hpW3cNya1ESA",
        "colab_type": "text"
      },
      "source": [
        "# Ejercitación integradora\n",
        "$\\newcommand{\\dif}{\\bigstar}$$\\newcommand{\\facil}{\\color{\\green}{\\dif}}$ $\\newcommand{\\pieceofcake}{\\color{\\cyan}{\\dif}}$$\\newcommand{\\medio}{\\color{\\yellow}{\\dif\\dif}}$$\\newcommand{\\media}{\\medio}$$\\newcommand{\\normal}{\\medio}$  $\\newcommand{\\dificil}{\\color{\\orange}{\\dif\\dif\\dif}}$ $\\newcommand{\\imposible}{\\color{\\red}{\\dif\\dif\\dif\\dif}}$"
      ]
    },
    {
      "cell_type": "markdown",
      "metadata": {
        "id": "dz1uvBrZlIHA",
        "colab_type": "text"
      },
      "source": [
        "### $\\facil$ Call me $\\frac{\\partial}{\\partial x}$, or $\\mathrm{diff}$ for short\n",
        "Una operacion muy comun al manejar datos es la derivada\n",
        "\n",
        "$$ \\frac{d }{dt} (\\mathrm{Datos}) $$\n",
        "\n",
        "Objetivo: Escribir una funcion que tome una lista de $n$ numeros y devuelva la *derivada discreta* de la lista de tamano $n-1$.\n",
        "\n",
        "Tips\n",
        "* $\\mathrm{derivada}[i]=x[i+1]-x[i]$ \n"
      ]
    },
    {
      "cell_type": "markdown",
      "metadata": {
        "id": "QHldLaTpQcCQ",
        "colab_type": "text"
      },
      "source": [
        "#### Solución"
      ]
    },
    {
      "cell_type": "code",
      "metadata": {
        "id": "NwAlHXUVrc7M",
        "colab_type": "code",
        "colab": {}
      },
      "source": [
        "## Derivada: Solución propuesta\n",
        "\n",
        "def derivada(x):\n",
        "    return [x[i]-x[i-1] for i in range(1,len(x))]\n",
        "\n",
        "z = [4,5,6]\n",
        "print(derivada(z))"
      ],
      "execution_count": 0,
      "outputs": []
    },
    {
      "cell_type": "markdown",
      "metadata": {
        "id": "0CqTiYpZG-AO",
        "colab_type": "text"
      },
      "source": [
        "###$\\normal$  Opciones y Menús \n",
        "Escribir un programa que tome una lista y pida al usuario que seleccione un item de la lista y otorgarle un puntaje entre 1 y 5. Finalmente el programa debería imprimir la elección del usuario y el puntaje otorgado. Es importante el puntaje que seleccionen para el elemento de la lista quede almacenado en un diccionario\n",
        "\n",
        "**Ejemplo de lista input:**\n",
        "\n",
        "``\n",
        "opciones = [\"Bundesliga\", \"La Liga\", \"Liga BBVA\",\"Premiere League\"]\n",
        "``\n",
        "\n",
        "**Interaccion:**\n",
        "\n",
        "```\n",
        "Ingresar número de la opción deseada.\n",
        "0 . Bundesliga\n",
        "1 . La Liga\n",
        "2 . Liga BBVA\n",
        "3 . Premiere League\n",
        ">>>1\n",
        "Cuantos puntos le otorga a: La Liga\n",
        ">>>3\n",
        "Se guardó su respuesta como: La Liga con  3  puntos.\n",
        "```"
      ]
    },
    {
      "cell_type": "markdown",
      "metadata": {
        "id": "ZmkEMeScQeMf",
        "colab_type": "text"
      },
      "source": [
        "#### Solución"
      ]
    },
    {
      "cell_type": "code",
      "metadata": {
        "id": "Y1sWS0VPfgvp",
        "colab_type": "code",
        "colab": {}
      },
      "source": [
        "# Opciones y Menús: Solución propuesta\n",
        "\n",
        "puntos = {}"
      ],
      "execution_count": 0,
      "outputs": []
    },
    {
      "cell_type": "code",
      "metadata": {
        "id": "3fotZ5anaVs6",
        "colab_type": "code",
        "colab": {}
      },
      "source": [
        "opciones = [\"Bundesliga\", \"La Liga\", \"Liga BBVA\",\"Premiere League\"]\n",
        "print('Ingresar número de la opción deseada.')\n",
        "for i,op in enumerate(opciones):\n",
        "    print(i,'.',op)\n",
        "i = int(input())\n",
        "print('Cuantos puntos le otorga a:',opciones[i])\n",
        "pun = int(input())\n",
        "puntos[opciones[i]]=pun\n",
        "print('Se guardó su respuesta como:',opciones[i],'con',pun,'puntos')"
      ],
      "execution_count": 0,
      "outputs": []
    },
    {
      "cell_type": "markdown",
      "metadata": {
        "id": "3YitqSp9Z3sD",
        "colab_type": "text"
      },
      "source": [
        "###$\\normal$ Las naranjas de Miguel \n",
        "Miguel vive en un pueblo frutero con su hermana en el valle de Oz. Todos los días le llega un pedido recien cosechado de bananas y naranjas. Como son abundantes, suele darle 2 bananas y 1 naranja a su hermana. No obstante Miguel siempre quiere quedarse con por lo menos una naranja.\n",
        "\n",
        "Miguel ahora quiere modernizarse y te viene a pedir si sabrías como escribir un programa que lea el código del pedido y *devuelva la cantidad de bananas y naranjas que le quedaron*\n",
        "\n",
        "``\n",
        "ejemploCodigoDePedido = \"1111100000000\"\n",
        "``\n",
        "\n",
        "Cada 0 representa una naranja y cada 1 representa una banana.\n",
        "\n",
        "**Tips**\n",
        "* La función `list()` toma un string y lo convierte a una lista\n",
        "\n",
        "```\n",
        "P=list(ejemploCodigoDePedido)\n",
        ">> P = ['1', '1', '1', '1', '1', '0', '0', '0', '0', '0', '0', '0', '0']\n",
        "```"
      ]
    },
    {
      "cell_type": "markdown",
      "metadata": {
        "id": "a6klAEheQdHg",
        "colab_type": "text"
      },
      "source": [
        "#### Solución"
      ]
    },
    {
      "cell_type": "code",
      "metadata": {
        "id": "81Kzws-ka5L9",
        "colab_type": "code",
        "outputId": "d12b69bc-bc7b-4def-b87f-e2b481996c36",
        "colab": {
          "base_uri": "https://localhost:8080/",
          "height": 34
        }
      },
      "source": [
        "## Las naranjas de Miguel: Solución propuesta\n",
        "\n",
        "P=\"011\"  \n",
        "def leerPedido(pedido):\n",
        "    naranjas=0\n",
        "    bananas=0\n",
        "    for i in range(0,len(pedido)): \n",
        "        letra = pedido[i]\n",
        "        if letra==\"0\": \n",
        "            naranjas+=1 \n",
        "        else:\n",
        "            bananas+=1\n",
        "    return naranjas,bananas\n",
        "\n",
        "def cuantasDar(naranjas,bananas):\n",
        "    naranjasParaHermana = 0\n",
        "    bananasParaHermana = 0\n",
        "    if naranjas<2:\n",
        "        naranjasParaHermana = 0\n",
        "    else:\n",
        "        naranjasParaHermana = 1 \n",
        "    if bananas > 1:\n",
        "        bananasParaHermana = 2\n",
        "    else:\n",
        "        bananasParaHermana = bananas\n",
        "    return naranjasParaHermana,bananasParaHermana\n",
        "\n",
        "n,b = leerPedido(P) #Leo pedido y guardo a memoria las frutas que tengo\n",
        "nh,bh = cuantasDar(n,b) #Aqui calculo naranjas para darle a la hermana\n",
        "\n",
        "print(\"Bienvenido Miguel. Hoy te quedaron \",nh,\" Naranja(s) y \",bh,\" banana(s).\")"
      ],
      "execution_count": 0,
      "outputs": [
        {
          "output_type": "stream",
          "text": [
            "Bienvenido Miguel. Hoy te quedaron  0  Naranja(s) y  2  banana(s).\n"
          ],
          "name": "stdout"
        }
      ]
    },
    {
      "cell_type": "markdown",
      "metadata": {
        "id": "58bbfFzqurNj",
        "colab_type": "text"
      },
      "source": [
        "### $\\dificil$ Dr. Chaos, el malevolo semiótico\n",
        "\n",
        "\"Chaos es caos en inglés\" te diría Dr. Chaos, charlando con una taza de té Chai en la mano. En verdad no es tán malo como su nombre lo hace aparentar... si es que tenes un buen manejo de los idiomas.\n",
        "\n",
        "Dr. Chaos esta armando un diccionario. Este diccionario tiene la particularidad de no tener definiciones; el diccionario de Dr. Chaos define *una palabra como otra*. Dr. Chaos quiere comenzar a traducir la literatura de todo el mundo usando el diccionario y ha venido a ti, el *Number One* programador de Python. \n",
        "\n",
        "**Objetivo:** Cambiar las palabras de una oración usando el diccionario de Dr. Chaos e imprimir la nueva oración en el lenguaje unificado.\n",
        "\n",
        "*Ejemplo:*\n",
        "\n",
        "``\n",
        "diccionario = {\"hola\":\"你好\",\"como\":\"how\",\"estás\":\"estáis\"}\n",
        "``\n",
        "\n",
        "``\n",
        "oracion = \"hola, como estás?\"\n",
        "``\n",
        "\n",
        "\n",
        "*OUTPUT:  *\n",
        "``\n",
        "\"你好, how estáis?\"\n",
        "``\n",
        "\n",
        "*Ejemplo 2:*\n",
        "\n",
        "``\n",
        "diccionario = {\"ve\":\"regards\",\"bien\":\"bom\",\"se\":\"it\"}\n",
        "``\n",
        "\n",
        "``\n",
        "oracion = \"se ve bien!\"\n",
        "``\n",
        "\n",
        "**Tips:** \n",
        "\n",
        "* El programa debería tratar los símbolos de interrogación, exclamación, los puntos y comas como `whitespace`, es decir, espacio en blanco.\n",
        " \n",
        "* Suponer que las letras son todas minusculas.\n"
      ]
    },
    {
      "cell_type": "markdown",
      "metadata": {
        "id": "4zEDfhn7QfrW",
        "colab_type": "text"
      },
      "source": [
        "#### Solución"
      ]
    },
    {
      "cell_type": "code",
      "metadata": {
        "id": "kDvIsxZCxawO",
        "colab_type": "code",
        "colab": {}
      },
      "source": [
        "espanolToChaos = {\"ve\":\"regards\",\"bien\":\"bom\",\"se\":\"it\"}\n",
        "oracion = \"se ve bien!\"\n",
        "whitespace = [\" \",\".\",\",\",\"!\",\"?\"]\n",
        "\n",
        "resultado = \"\"\n",
        "palabra = \"\"\n",
        "for i in range(0,len(oracion)):\n",
        "    letra=oracion[i]\n",
        "    if letra in whitespace:\n",
        "        if palabra!=\"\":\n",
        "            resultado = resultado+espanolToChaos[palabra]\n",
        "    \n",
        "        resultado = resultado+letra\n",
        "        palabra=\"\"\n",
        "    else:\n",
        "        palabra = palabra+letra\n",
        "print(resultado)"
      ],
      "execution_count": 0,
      "outputs": []
    },
    {
      "cell_type": "markdown",
      "metadata": {
        "id": "2a0QjbS3QrlX",
        "colab_type": "text"
      },
      "source": [
        "###$\\imposible$ Quiero Retruco\n",
        "El [Truco](https://es.wikipedia.org/wiki/Truco_argentino) es un juego de cartas muy popular en Argentina. Se suele jugar con naipes españoles de 40 cartas, las cuales tienen 4 palos (basto, oro, espada y copa) y 10 números, 1,2,3,4,5,6,7,10,11 y 12.\n",
        "Si bien en esta ocasión no vamos a programar un juego de truco, si, vamos a resolver uno de los problemas más usuales que surgen cuando jugamos el cual es definir cual carta gana y cual carta pierde cuando hay un duelo entre dos cartas. \n",
        "\n",
        "<img src=\"https://steemitimages.com/640x0/http://k46.kn3.net/taringa/B/D/9/7/2/4/KevinTrimboli/338.png\" height=300 alt =\"Esquema de hierarquia de cartas para el juego truco argentino\" title=\"Un palo le gana a 7 espadas y ambos pierden ante una espada envainada? What?\">\n",
        "\n",
        "En la imagen podemos observar en orden de importancia de las cartas de izquierda a derecha. El 1 de espada es la más importante (y por lo tanto **siempre** gana) mientras que los 4s son las cartas de menor importancia (casi siempre pierden). Las cartas en la misma columna empatan si se enfrentan.\n",
        "\n",
        "- Programar una función con dos inputs tipo string **carta A** y **carta B** que retorne la carta ganadora (tipo string), o \"empate\" en caso de que lo haya. Ejemplos de como debería funcionar\n",
        "\n",
        "```\n",
        "   dueloDeCartas(\"1 de espada\", \"1 de basto\")\n",
        "   >>> 1 de basto\n",
        "   dueloDeCartas(\"7 de oro\", \"5 de oro\")\n",
        "   >>> 7 de oro\n",
        "   dueloDeCartas(\"11 de copa\", \"11 de espada\")\n",
        "   >>> empate\n",
        "```\n",
        "\n",
        "Hint: usar un diccionario donde la **clave** sea el nombre de la carta, y su **contenido** su importancia (un tipo **int**). Aprovechen la instrucción for para evitar tener que cargar todas las cartas una por una\n",
        "\n",
        "- A veces se suele jugar al truco con más de dos jugadores. Podría ocurrir duelos en los que participan $n$ cartas. Programar una funcion cuyo input sea una lista de strings con todas las cartas y retorne la ganadora. (En caso de empate que retorne alguna de las ganadoras, o un arreglo con las ganadoras)\n",
        "Ejemplos de como podria funcionar funcionar\n",
        "```\n",
        "   dueloDeCartas([\"7 de basto\",\"7 de espada\",\"12 de espada\", \"4 de espada\"])\n",
        "   >>> \"7 de espada\"\n",
        "   dueloDeCartas([\"4 de espada\",\"7 de basto\",\"7 de copa\", \"5 de copa\"]) #también podría haber dado 7 de basto \n",
        "   >>> \"7 de copa\"\n",
        "```"
      ]
    },
    {
      "cell_type": "markdown",
      "metadata": {
        "id": "FdsIdtdhQgpn",
        "colab_type": "text"
      },
      "source": [
        "#### Solución"
      ]
    },
    {
      "cell_type": "code",
      "metadata": {
        "id": "L3jCZ-sc6Nd-",
        "colab_type": "code",
        "colab": {}
      },
      "source": [
        "# antes de hacer la funcion dueloDeCartas, creamos el diccionario que leera \n",
        "#  para saber que carta gana\n",
        "valorCarta = dict() \n",
        "\n",
        " # casos especiales: esto no lo puedo hacer con un for\n",
        "valorCarta[\"1 de espada\"] = 14    \n",
        "valorCarta[\"1 de basto\"] = 13     \n",
        "valorCarta[\"7 de espada\"] = 12\n",
        "valorCarta[\"7 de oro\"] = 11\n",
        "\n",
        "# el resto de los valores son de 10 para abajo\n",
        "valor = 10\n",
        "for x in [3,2,1,12,11,10,7,6,5,4]: \n",
        "    # itero por los numeros de las cartas, de la mas a la menos poderosa\n",
        "    if x == 1: # con este if elijo que palos de este numero guardo\n",
        "        palos = [\"oro\",\"copa\"] \n",
        "    elif x == 7:\n",
        "        palos = [\"basto\", \"copa\"]\n",
        "    else: \n",
        "        palos = [\"oro\",\"copa\",\"basto\",\"espada\"]\n",
        "    \n",
        "    for palo in palos:\n",
        "        valorCarta[str(x)+\" de \" + palo] = valor\n",
        "        # para todos los palos que elegi para este numero, guardo la carta\n",
        "        # con el mismo valor\n",
        "    \n",
        "    valor -= 1 # la carta que viene es menos poderosa\n",
        "\n",
        "def dueloDeCartas(cartaA, cartaB):\n",
        "    # usamos el diccionario que creamos para saber el valor de las cartas\n",
        "    # que nos pasan\n",
        "    if valorCarta[cartaA] > valorCarta[cartaB]:\n",
        "        return cartaA\n",
        "    elif valorCarta[cartaA] < valorCarta[cartaB]:\n",
        "        return cartaB\n",
        "    else:\n",
        "        return \"empate\"\n",
        "    \n",
        "    \n",
        "# verificamos que la funcion ande correctamente\n",
        "print(dueloDeCartas(\"7 de basto\",\"1 de basto\")) #encontre más errores! el 7 trae problems!\n",
        "print(dueloDeCartas(\"1 de copa\", \"1 de oro\"))\n",
        "print(dueloDeCartas(\"7 de copa\",\"3 de copa\"))\n",
        "\n",
        "\n",
        "# verificamos que todos los valores esten correctamente calculados\n",
        "print(valorCarta) "
      ],
      "execution_count": 0,
      "outputs": []
    }
  ]
}