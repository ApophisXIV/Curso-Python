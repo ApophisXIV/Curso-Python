{
  "nbformat": 4,
  "nbformat_minor": 0,
  "metadata": {
    "colab": {
      "name": "Clase_3_Curso_Python.ipynb",
      "version": "0.3.2",
      "provenance": [],
      "collapsed_sections": [],
      "include_colab_link": true
    },
    "kernelspec": {
      "name": "python3",
      "display_name": "Python 3"
    }
  },
  "cells": [
    {
      "cell_type": "markdown",
      "metadata": {
        "id": "view-in-github",
        "colab_type": "text"
      },
      "source": [
        "<a href=\"https://colab.research.google.com/github/IEEESBITBA/Curso-Python/blob/master/Clase_3_Curso_Python.ipynb\" target=\"_parent\"><img src=\"https://colab.research.google.com/assets/colab-badge.svg\" alt=\"Open In Colab\"/></a>"
      ]
    },
    {
      "cell_type": "markdown",
      "metadata": {
        "id": "MqmeN3EplZeQ",
        "colab_type": "text"
      },
      "source": [
        "# Clase 3 \n",
        "Bienvenidos a la tercera clase, en esta ocasión estudiaremos lectura y análisis de archivos de datos junto con librerías.\n",
        "\n",
        "<img src=\"https://icons-for-free.com/iconfiles/png/512/document+file+page+paper+programming+icon-1320165844326114116.png\" width=300>"
      ]
    },
    {
      "cell_type": "markdown",
      "metadata": {
        "id": "PLG059Sx00NP",
        "colab_type": "text"
      },
      "source": [
        "## Repaso clase anterior\n",
        "\n",
        "Antes de comenzar con el contenido se hará un repaso de los conceptos previamente vistos, ya que el contenido de las clases anteriores es muy importante para el desarrollo de esta clase\n",
        "\n"
      ]
    },
    {
      "cell_type": "markdown",
      "metadata": {
        "id": "vijtxBoJ1xFy",
        "colab_type": "text"
      },
      "source": [
        "## Ejercicio 1\n",
        "\n",
        "Implementar un programa que imprima todos los elementos de una lista de la siguiente manera:\n",
        "\n",
        "> Para la lista [1,-1,2,-4]\n",
        "\n",
        "> En la posición 0 esta el valor 1\n",
        "\n",
        "> En la posición 1 esta el valor -1\n",
        "\n",
        "> ...\n",
        "\n",
        "Tip: La funcion **enumerate** devuelve la posicion y el elemento."
      ]
    },
    {
      "cell_type": "code",
      "metadata": {
        "id": "4B-Hdcc614ug",
        "colab_type": "code",
        "colab": {}
      },
      "source": [
        ""
      ],
      "execution_count": 0,
      "outputs": []
    },
    {
      "cell_type": "markdown",
      "metadata": {
        "id": "hDSUWCjc15OA",
        "colab_type": "text"
      },
      "source": [
        "## Ejercicio 2\n",
        "Implementar un programa que guarde el nombre de un alumno en un diccionario de forma tal de que la clave sea el número de lengajo y el contenido el nombre (un String). Si el número de legajo esta repetido  se debe avisar\n",
        "\n",
        " ```\n",
        ">>> Ingrese numero de legajo:\n",
        "\n",
        ">>> 12345\n",
        "\n",
        ">>> Ingrese nombre:\n",
        "\n",
        ">>> Juan Perez\n",
        "\n",
        ">>> Se ha agregado el alumno Juan Perez!\n",
        "\n",
        " ```\n",
        " \n",
        "Cuando se vuelve a correr:\n",
        "\n",
        " ```\n",
        ">>> Ingrese numero de legajo:\n",
        "\n",
        ">>> 12345\n",
        "\n",
        ">>> Ingrese nombre:\n",
        "\n",
        ">>> Juan Perez 2\n",
        "\n",
        ">>> Ya existe ese alumno!\n",
        "\n",
        "Tip: usar dos celdas de codigo.\n",
        " ```"
      ]
    },
    {
      "cell_type": "code",
      "metadata": {
        "id": "bJoetkYu1-Ao",
        "colab_type": "code",
        "colab": {}
      },
      "source": [
        ""
      ],
      "execution_count": 0,
      "outputs": []
    },
    {
      "cell_type": "markdown",
      "metadata": {
        "id": "Z9i5-cpq2Cxg",
        "colab_type": "text"
      },
      "source": [
        "# Librerías\n",
        "\n",
        "Una librería es un conjunto de funciones implementadas por otro programador que nos facilita realizar tareas principalmente porque no debemos reescribir el codigo. En esta clase será vital el uso de librerías para poder analizar archivos con información.\n",
        "\n",
        "<img src=\"http://www.goalexandria.com/wp-content/uploads/2016/02/alt-lib.png\" width=200px>\n",
        "\n",
        "¿Como usamos una libreria? Primero debemos importarla.\n",
        "\n",
        "> **import** (nombre de la libreria) **as** (nombre abreviado)\n",
        "\n",
        "Como estas pueden tener otras librerias adentro\n",
        "\n",
        "> **from** (nombre de la libreria) **import** (nombre de la otra) **as** (nombre abreviado)\n",
        "\n",
        "Para llamar luego a una función de la libreria usamos la siguiente sintaxis:\n",
        "\n",
        "> (Nombre de la libreria)**.**función(parametros)\n",
        "\n",
        "Nota: Es importante saber que el **as** es opcional, y que tambien pueden importar solo funciones que necesiten."
      ]
    },
    {
      "cell_type": "code",
      "metadata": {
        "id": "iOSDofLD22T4",
        "colab_type": "code",
        "colab": {}
      },
      "source": [
        "import math #Importamos la libreria math\n",
        "\n",
        "print('El seno de 0 es ',math.sin(0),'y el coseno',math.cos(0))"
      ],
      "execution_count": 0,
      "outputs": []
    },
    {
      "cell_type": "code",
      "metadata": {
        "id": "NPtBY8VO24B4",
        "colab_type": "code",
        "colab": {}
      },
      "source": [
        "from math import sin,cos\n",
        "\n",
        "print('El seno de 0 es ',sin(0),'y el coseno',cos(0))"
      ],
      "execution_count": 0,
      "outputs": []
    },
    {
      "cell_type": "code",
      "metadata": {
        "id": "PGlMjexW25cw",
        "colab_type": "code",
        "colab": {}
      },
      "source": [
        "import math as m\n",
        "\n",
        "print('El seno de 0 es ',m.sin(0),'y el coseno',m.cos(0))"
      ],
      "execution_count": 0,
      "outputs": []
    },
    {
      "cell_type": "code",
      "metadata": {
        "id": "pvT2S9nJ26rY",
        "colab_type": "code",
        "colab": {}
      },
      "source": [
        "from os import path as pth\n",
        "\n",
        "print(pth.join('Carpeta','Archivo.ar'))"
      ],
      "execution_count": 0,
      "outputs": []
    },
    {
      "cell_type": "markdown",
      "metadata": {
        "id": "ye6V-CbH4Cu5",
        "colab_type": "text"
      },
      "source": [
        "Algunas librerías muy conocidas e utilizadas son \n",
        "\n",
        "\n",
        "*   Numpy (cálculo matricial)\n",
        "*   Pandas (lectura de bases de datos)\n",
        "*   Maplotlib (gráficos)\n",
        "*   tkinter (interfaces gráficas)\n",
        "*   scipy (ciencia de datos)\n",
        "\n",
        "En esta clase utilizaremos **Pandas** para leer arhivos excel"
      ]
    },
    {
      "cell_type": "markdown",
      "metadata": {
        "id": "AqctVwVr3BGh",
        "colab_type": "text"
      },
      "source": [
        "# Lectura de archivos .xlsx .csv\n",
        "\n",
        "[Pandas](https://pandas.pydata.org) es una librería muy popular en los ultimos tiempos que nos permite, entre otras cosas, sistematizar con unas pocas funciones la conversión de un archivo de información en los tipos de datos que python maneja. En esta clase la utilizaremos para poder leer archivos con información en columnas, tales como los formatos excel o csv.\n",
        "\n",
        "<img src=\"https://pandas.pydata.org/_static/pandas_logo.png\" width=600px>\n",
        "\n",
        "A continuación mostraremos un ejemplo donde se accede a la información de un archivo utilizando *Pandas*. El archivo que leeremos se llama **Datos.xlsx**; lo cargamos a colabollatory con el siguiente comando\n",
        "\n",
        "\n"
      ]
    },
    {
      "cell_type": "code",
      "metadata": {
        "id": "pJqU8NbcdnFh",
        "colab_type": "code",
        "outputId": "53a669de-f3ce-460a-db87-84aad77a1164",
        "colab": {
          "base_uri": "https://localhost:8080/",
          "height": 230
        }
      },
      "source": [
        "! wget \"https://raw.githubusercontent.com/IEEESBITBA/Curso-Python/master/Clase_3_datos/Datos.xlsx\""
      ],
      "execution_count": 0,
      "outputs": [
        {
          "output_type": "stream",
          "text": [
            "--2019-08-23 23:48:24--  https://raw.githubusercontent.com/IEEESBITBA/Curso-Python/master/Clase_3_datos/Datos.xlsx\n",
            "Resolving raw.githubusercontent.com (raw.githubusercontent.com)... 151.101.0.133, 151.101.64.133, 151.101.128.133, ...\n",
            "Connecting to raw.githubusercontent.com (raw.githubusercontent.com)|151.101.0.133|:443... connected.\n",
            "HTTP request sent, awaiting response... 200 OK\n",
            "Length: 4054 (4.0K) [application/octet-stream]\n",
            "Saving to: ‘Datos.xlsx’\n",
            "\n",
            "\rDatos.xlsx            0%[                    ]       0  --.-KB/s               \rDatos.xlsx          100%[===================>]   3.96K  --.-KB/s    in 0s      \n",
            "\n",
            "2019-08-23 23:48:24 (77.8 MB/s) - ‘Datos.xlsx’ saved [4054/4054]\n",
            "\n"
          ],
          "name": "stdout"
        }
      ]
    },
    {
      "cell_type": "markdown",
      "metadata": {
        "id": "8yyXIgzOdmbh",
        "colab_type": "text"
      },
      "source": [
        "La función que utilizaremos para cargar los datos del archivo se llama [read_excel](https://pandas.pydata.org/pandas-docs/stable/reference/api/pandas.read_excel.html)"
      ]
    },
    {
      "cell_type": "code",
      "metadata": {
        "id": "rNtLWy_c3ibR",
        "colab_type": "code",
        "outputId": "86c46360-4c8d-46ff-d5b2-55068a555116",
        "colab": {
          "base_uri": "https://localhost:8080/",
          "height": 173
        }
      },
      "source": [
        "import pandas as pd\n",
        "\n",
        "archivo = pd.read_excel(\"Datos.xlsx\") \n",
        "# la variable archivo es un tipo de dato especial de pandas\n",
        "print(archivo)\n",
        "\n",
        "data = archivo.to_dict(\"list\") \n",
        "# \"list\" significa que vamos a almacenar a cada columna como una lista con su contenido\n",
        "\n",
        "print(data)"
      ],
      "execution_count": 0,
      "outputs": [
        {
          "output_type": "stream",
          "text": [
            "   Legajo Nombre    Apellido  Quimica  Matematica  Fisica\n",
            "0   34567   Juan    Martinez       10           7       9\n",
            "1   34678  Pablo    Gonzales        4           9       4\n",
            "2   34234  Maria  Citanovich        2           4       4\n",
            "3   35679    Sol        Rios        9           8      10\n",
            "4   36789  Paula       Lagos        8           5       8\n",
            "5   32578  Tomas         Reu        1           4       2\n",
            "{'Legajo': [34567, 34678, 34234, 35679, 36789, 32578], 'Nombre': ['Juan', 'Pablo', 'Maria', 'Sol', 'Paula', 'Tomas'], 'Apellido': ['Martinez', 'Gonzales', 'Citanovich', 'Rios', 'Lagos', 'Reu'], 'Quimica': [10, 4, 2, 9, 8, 1], 'Matematica': [7, 9, 4, 8, 5, 4], 'Fisica': [9, 4, 4, 10, 8, 2]}\n"
          ],
          "name": "stdout"
        }
      ]
    },
    {
      "cell_type": "markdown",
      "metadata": {
        "id": "wPpcHbNL3kig",
        "colab_type": "text"
      },
      "source": [
        "Cambiando el parámetro  \"list\" por \"records\" de la función [to_dict](https://pandas.pydata.org/pandas-docs/stable/reference/api/pandas.DataFrame.to_dict.html) podemos lograr obtener la información separada por fila"
      ]
    },
    {
      "cell_type": "code",
      "metadata": {
        "id": "HX3WZ8AJ3meh",
        "colab_type": "code",
        "outputId": "8715c332-eb82-4a00-8219-b5ba901924eb",
        "colab": {
          "base_uri": "https://localhost:8080/",
          "height": 54
        }
      },
      "source": [
        "data = archivo.to_dict(\"records\") \n",
        "# \"records\" significa que vamos a obtener el contenido separado por cada fila\n",
        "\n",
        "print(data)"
      ],
      "execution_count": 0,
      "outputs": [
        {
          "output_type": "stream",
          "text": [
            "[{'Legajo': 34567, 'Nombre': 'Juan', 'Apellido': 'Martinez', 'Quimica': 10, 'Matematica': 7, 'Fisica': 9}, {'Legajo': 34678, 'Nombre': 'Pablo', 'Apellido': 'Gonzales', 'Quimica': 4, 'Matematica': 9, 'Fisica': 4}, {'Legajo': 34234, 'Nombre': 'Maria', 'Apellido': 'Citanovich', 'Quimica': 2, 'Matematica': 4, 'Fisica': 4}, {'Legajo': 35679, 'Nombre': 'Sol', 'Apellido': 'Rios', 'Quimica': 9, 'Matematica': 8, 'Fisica': 10}, {'Legajo': 36789, 'Nombre': 'Paula', 'Apellido': 'Lagos', 'Quimica': 8, 'Matematica': 5, 'Fisica': 8}, {'Legajo': 32578, 'Nombre': 'Tomas', 'Apellido': 'Reu', 'Quimica': 1, 'Matematica': 4, 'Fisica': 2}]\n"
          ],
          "name": "stdout"
        }
      ]
    },
    {
      "cell_type": "markdown",
      "metadata": {
        "id": "1y_W3XCo3oOg",
        "colab_type": "text"
      },
      "source": [
        "También a veces es necesario \"indexar\" el archivo por alguna columna en particular, en estos casos \n",
        "podemos agregar un parámetro index_col con el nombre de la columna con la que queremos los datos indexados.\n",
        "Es importante observar que la columna seleccionada, en otras palabras la columna que contendrá las claves no puede tener valores repetidos."
      ]
    },
    {
      "cell_type": "code",
      "metadata": {
        "id": "_z9zIZpW3pnx",
        "colab_type": "code",
        "outputId": "444e46fc-8390-4656-cb9a-38a2f39bbb3b",
        "colab": {
          "base_uri": "https://localhost:8080/",
          "height": 54
        }
      },
      "source": [
        "archivo = pd.read_excel(\"Datos.xlsx\", index_col =\"Legajo\") \n",
        "# Indicamos que la columna de indexación será apellido. Se ingresa como una lista\n",
        "# porque es posible a veces indexar por dos columnas distintas\n",
        "\n",
        "data = archivo.to_dict(\"index\") \n",
        "# \"index\" significa que vamos a obtener el contenido como diccionarios \n",
        "# donde la clave es algun campo de cada fila, en este caso la clave de los \n",
        "# diccionarios será la clave \"Apellido\"\n",
        "\n",
        "# convertimos el tipo de dato de pandas a un dict de python\n",
        "\n",
        "print(data)"
      ],
      "execution_count": 0,
      "outputs": [
        {
          "output_type": "stream",
          "text": [
            "{34567: {'Nombre': 'Juan', 'Apellido': 'Martinez', 'Quimica': 10, 'Matematica': 7, 'Fisica': 9}, 34678: {'Nombre': 'Pablo', 'Apellido': 'Gonzales', 'Quimica': 4, 'Matematica': 9, 'Fisica': 4}, 34234: {'Nombre': 'Maria', 'Apellido': 'Citanovich', 'Quimica': 2, 'Matematica': 4, 'Fisica': 4}, 35679: {'Nombre': 'Sol', 'Apellido': 'Rios', 'Quimica': 9, 'Matematica': 8, 'Fisica': 10}, 36789: {'Nombre': 'Paula', 'Apellido': 'Lagos', 'Quimica': 8, 'Matematica': 5, 'Fisica': 8}, 32578: {'Nombre': 'Tomas', 'Apellido': 'Reu', 'Quimica': 1, 'Matematica': 4, 'Fisica': 2}}\n"
          ],
          "name": "stdout"
        }
      ]
    },
    {
      "cell_type": "markdown",
      "metadata": {
        "id": "4TozN7UY31fw",
        "colab_type": "text"
      },
      "source": [
        "Tambien es posible escribir archivos con pandas utilizando el comando [to_excel](https://pandas.pydata.org/pandas-docs/stable/reference/api/pandas.DataFrame.to_excel.html), a continuación mostraremos un ejemplo\n",
        "\n"
      ]
    },
    {
      "cell_type": "code",
      "metadata": {
        "id": "ttd4RpTy39FL",
        "colab_type": "code",
        "colab": {}
      },
      "source": [
        "data = {\n",
        "    \"personas\" : [\"Analía Ferreyra\" , \"Martin Hugo\", \"Fernando Lorenzo\"],\n",
        "    \"edad\" : [25, 35, 87] \n",
        "} # contenido como listas con el contenido de cada columna\n",
        "\n",
        "claves = data.keys()\n",
        "\n",
        "dataFrame = pd.DataFrame(data, None, claves) \n",
        "#generamos un dataframe (tipo de dato de pandas) con la informacion\n",
        "\n",
        "dataFrame.to_excel(\"personas.xlsx\") \n",
        "# exportamos la información a un archivo llamado \"personas.xlsx\""
      ],
      "execution_count": 0,
      "outputs": []
    },
    {
      "cell_type": "markdown",
      "metadata": {
        "id": "Ve8-YdUyagnD",
        "colab_type": "text"
      },
      "source": [
        "### Mini desafio\n",
        "Leer el archivo **Datos.xlsx** y determinar el nombre de la persona con el mayor promedio "
      ]
    },
    {
      "cell_type": "code",
      "metadata": {
        "id": "W93Bb8k6fS7C",
        "colab_type": "code",
        "colab": {}
      },
      "source": [
        ""
      ],
      "execution_count": 0,
      "outputs": []
    },
    {
      "cell_type": "markdown",
      "metadata": {
        "id": "f-IyPLyv3eKi",
        "colab_type": "text"
      },
      "source": [
        "###Uso de dataframes \n",
        "La librería pandas posee su propio tipo de datos para el manejo de información, a continuación veremos las operaciones más utilizadas."
      ]
    },
    {
      "cell_type": "code",
      "metadata": {
        "id": "yYH9Zaq13m4T",
        "colab_type": "code",
        "outputId": "b08d65c3-31d1-4d4c-b6f4-ebbe03831058",
        "colab": {
          "base_uri": "https://localhost:8080/",
          "height": 140
        }
      },
      "source": [
        "import pandas as pd\n",
        "\n",
        "datos = pd.read_excel(\"Datos.xlsx\") \n",
        "# la variable datos es un tipo de dato especial de pandas\n",
        "print(datos)"
      ],
      "execution_count": 0,
      "outputs": [
        {
          "output_type": "stream",
          "text": [
            "   Legajo Nombre    Apellido  Quimica  Matematica  Fisica\n",
            "0   34567   Juan    Martinez       10           7       9\n",
            "1   34678  Pablo    Gonzales        4           9       4\n",
            "2   34234  Maria  Citanovich        2           4       4\n",
            "3   35679    Sol        Rios        9           8      10\n",
            "4   36789  Paula       Lagos        8           5       8\n",
            "5   32578  Tomas         Reu        1           4       2\n"
          ],
          "name": "stdout"
        }
      ]
    },
    {
      "cell_type": "markdown",
      "metadata": {
        "id": "Hv008YkD4xbm",
        "colab_type": "text"
      },
      "source": [
        "Usualmente necesitamos acceder a los datos dispuestos en las columnas esto se hace de la siguiente forma:"
      ]
    },
    {
      "cell_type": "code",
      "metadata": {
        "id": "ywvdqmgz4whY",
        "colab_type": "code",
        "outputId": "b4e8f6b3-5b12-446f-a984-0928322263f0",
        "colab": {
          "base_uri": "https://localhost:8080/",
          "height": 140
        }
      },
      "source": [
        "columna = 'Quimica'\n",
        "print(datos[columna])"
      ],
      "execution_count": 0,
      "outputs": [
        {
          "output_type": "stream",
          "text": [
            "0    10\n",
            "1     4\n",
            "2     2\n",
            "3     9\n",
            "4     8\n",
            "5     1\n",
            "Name: Quimica, dtype: int64\n"
          ],
          "name": "stdout"
        }
      ]
    },
    {
      "cell_type": "markdown",
      "metadata": {
        "id": "D4EY947g5RSL",
        "colab_type": "text"
      },
      "source": [
        "####Mini-ejercicio: Hacer promedio de alumnos en química\n",
        "\n",
        "Tip: Podemos usar la función **sum**($iterable$) para obtener la suma de todos los campos."
      ]
    },
    {
      "cell_type": "code",
      "metadata": {
        "id": "FBM_4bhb5Txz",
        "colab_type": "code",
        "colab": {}
      },
      "source": [
        ""
      ],
      "execution_count": 0,
      "outputs": []
    },
    {
      "cell_type": "markdown",
      "metadata": {
        "id": "pt6ECixK5Un9",
        "colab_type": "text"
      },
      "source": [
        "Otra tarea solicitada es acceder una fila en particular, en el ejemplo sería acceder a un alumno en particular lo cual se hace de la siguiente forma:"
      ]
    },
    {
      "cell_type": "code",
      "metadata": {
        "id": "CR0RNXUm5kv8",
        "colab_type": "code",
        "outputId": "3a9812ee-dfa9-4948-c3d8-97039ae2134f",
        "colab": {
          "base_uri": "https://localhost:8080/",
          "height": 140
        }
      },
      "source": [
        "indice = 0\n",
        "alumno = datos.loc[indice] \n",
        "print(alumno)"
      ],
      "execution_count": 0,
      "outputs": [
        {
          "output_type": "stream",
          "text": [
            "Legajo           34567\n",
            "Nombre            Juan\n",
            "Apellido      Martinez\n",
            "Quimica             10\n",
            "Matematica           7\n",
            "Fisica               9\n",
            "Name: 0, dtype: object\n"
          ],
          "name": "stdout"
        }
      ]
    },
    {
      "cell_type": "markdown",
      "metadata": {
        "id": "ezDd8V7f59vn",
        "colab_type": "text"
      },
      "source": [
        "Veamos ahora cómo se puede acceder a un dato en particular del alumno:"
      ]
    },
    {
      "cell_type": "code",
      "metadata": {
        "id": "nthq4hDd5880",
        "colab_type": "code",
        "outputId": "9022e397-e4e9-4ed1-b64b-c7d3aa2dfb38",
        "colab": {
          "base_uri": "https://localhost:8080/",
          "height": 34
        }
      },
      "source": [
        "print(alumno['Matematica'])"
      ],
      "execution_count": 0,
      "outputs": [
        {
          "output_type": "stream",
          "text": [
            "7\n"
          ],
          "name": "stdout"
        }
      ]
    },
    {
      "cell_type": "markdown",
      "metadata": {
        "id": "oloubsnc6nKD",
        "colab_type": "text"
      },
      "source": [
        "####Mini-Ejercicio : Escribir una funcion que se le pase un dataframe, indice de un alumno y haga el promedio de sus materias."
      ]
    },
    {
      "cell_type": "code",
      "metadata": {
        "id": "R71K7ner6o8h",
        "colab_type": "code",
        "colab": {}
      },
      "source": [
        ""
      ],
      "execution_count": 0,
      "outputs": []
    },
    {
      "cell_type": "markdown",
      "metadata": {
        "id": "mL7YIBlP6vuE",
        "colab_type": "text"
      },
      "source": [
        "###Cómo filtrar datos\n",
        "Pandas nos permite trabajar de forma simple con los datos, filtrarlos, sumarlos.\n",
        "\n",
        "Veamos operaciones con los datos:\n",
        "\n",
        "- Operaciones matematicas: Veamos un ejemplo para sacar todos los promedios de los alumnos a la vez."
      ]
    },
    {
      "cell_type": "code",
      "metadata": {
        "id": "rcNWN_MB7IvD",
        "colab_type": "code",
        "colab": {}
      },
      "source": [
        "promedios = (datos['Quimica']+datos['Matematica']+datos['Fisica'])/3\n",
        "print('Todos los promedios')\n",
        "print(promedios)\n",
        "print('El promedio del alumno 0 es',promedios.loc[0])"
      ],
      "execution_count": 0,
      "outputs": []
    },
    {
      "cell_type": "markdown",
      "metadata": {
        "id": "EdGw9iAB7Fzz",
        "colab_type": "text"
      },
      "source": [
        "- Filtrado: Nos permite filtrar los datos segun alguna condicion. Esto se realiza de la siguiente manera\n",
        "> variable**[** (condicion1) &/| (condicion2) &/| (condicion3) ...  **]**\n",
        "\n",
        "Las condiciones siguien el siguiente formato: variable**[** propiedad **]** >/</<=/... (número)\n",
        "\n",
        "Nota: No debe ser si o si un numero, puede chequearse contra cualquier cosa mientras se puedan cumplir esas condiciones (mayor, menor, mayor o igual, igual, etc.).\n",
        "\n",
        "Veamos un ejemplo extrayendo todos los alumnos que hayan aprobado quimica (nota>4):"
      ]
    },
    {
      "cell_type": "code",
      "metadata": {
        "id": "3lSHLVUj7Yqn",
        "colab_type": "code",
        "colab": {}
      },
      "source": [
        "aprobados = datos[datos['Quimica']>=4]\n",
        "print(aprobados)"
      ],
      "execution_count": 0,
      "outputs": []
    },
    {
      "cell_type": "markdown",
      "metadata": {
        "id": "LpPtaI977eSc",
        "colab_type": "text"
      },
      "source": [
        "####Mini-Ejercicio: Obtener el promedio general de todos los aprobados en Matematica."
      ]
    },
    {
      "cell_type": "code",
      "metadata": {
        "id": "1aNWm0lp7c9-",
        "colab_type": "code",
        "colab": {}
      },
      "source": [
        ""
      ],
      "execution_count": 0,
      "outputs": []
    },
    {
      "cell_type": "markdown",
      "metadata": {
        "id": "GDfNoHO87qwm",
        "colab_type": "text"
      },
      "source": [
        "- Agregar columnas: Para agregar una columa simplemente utilizamos\n",
        "> variable**[** nombre nueva columna **]** = datos nueva columna\n",
        "\n",
        "Veamos un ejemplo:"
      ]
    },
    {
      "cell_type": "code",
      "metadata": {
        "id": "htxhD5s87_XS",
        "colab_type": "code",
        "colab": {}
      },
      "source": [
        "promedios = (datos['Quimica']+datos['Matematica']+datos['Fisica'])/3\n",
        "datos['Promedio'] = promedios\n",
        "print(datos)"
      ],
      "execution_count": 0,
      "outputs": []
    },
    {
      "cell_type": "markdown",
      "metadata": {
        "id": "qAl4rYZw8AIV",
        "colab_type": "text"
      },
      "source": [
        "- Obtener los datos en un diccionario: Pandas tambien nos permite obtener los datos de una forma que ya conocemos que es como un diccionario. Para ello le debemos decir cuales van a ser los keys que debe utilizar. Para eso cuando lo leemos le debemos decir la columna que queremos usar de indice.\n",
        "\n",
        "> pd.read_csv('archivo', **index_col** = [propiedad])\n",
        "\n",
        "Veamos un ejemplo:\n"
      ]
    },
    {
      "cell_type": "code",
      "metadata": {
        "id": "5ZKWYQwv8cag",
        "colab_type": "code",
        "colab": {}
      },
      "source": [
        "import pandas as pd\n",
        "\n",
        "archivo = pd.read_csv(\"Datos.csv\", index_col =[\"Legajo\"]) \n",
        "print(archivo)"
      ],
      "execution_count": 0,
      "outputs": []
    },
    {
      "cell_type": "markdown",
      "metadata": {
        "id": "JeQZWH148h5L",
        "colab_type": "text"
      },
      "source": [
        "Observen que ahora la primera columna en vez de ser 0,1,2,... son los legajos, esto nos permite acceder con .loc por legajo!"
      ]
    },
    {
      "cell_type": "code",
      "metadata": {
        "id": "yI_nCqg48mwN",
        "colab_type": "code",
        "colab": {}
      },
      "source": [
        "print(archivo.loc[34567])"
      ],
      "execution_count": 0,
      "outputs": []
    },
    {
      "cell_type": "markdown",
      "metadata": {
        "id": "CF7SjJdU4BA5",
        "colab_type": "text"
      },
      "source": [
        "## Nota final\n",
        "\n",
        "Esta libería nos permite simplificar en gran medida el trabajo de convertir información de archivos a datos manejables por nuestro programa en gran medida. Mostramos algunos ejemplos elementales del uso de pandas, no obstante pueden conseguir la documentación oficial de pandas [aquí](http://pandas.pydata.org/pandas-docs/stable/). \n",
        "\n",
        "La habilidad de leer y entender la documentación  de librerías se adquiere con tiempo y experiencia, es muy valorada en la industria."
      ]
    },
    {
      "cell_type": "markdown",
      "metadata": {
        "id": "H-KePvhOVimc",
        "colab_type": "text"
      },
      "source": [
        "# Lectura de otro tipos de archivos\n",
        "\n",
        "A veces es necesario realizar un programa que pueda procesar información que se encuentra en un formato \"personalizado\", necesitamos en tales casos realizar entonces un programa especializado.\n",
        "\n",
        "El analisis de un texto es un ejemplo de un archivo para el cual necesitamos realizar una lectura en modo \"manual\". \n",
        "\n",
        "Imaginemos que se necesita leer un archivo .txt con una noticia del diario **The New York Times** y analizar su contenido. \n",
        "\n",
        "<img src=\"http://www.harfordcountyhealth.com/wp-content/uploads/2015/01/Newspaper.jpg\" width=400>\n",
        "\n",
        "El archivo es **noticia.txt**, lo importaremos a la nube con el siguiente comando "
      ]
    },
    {
      "cell_type": "code",
      "metadata": {
        "id": "y_-0wkj4WK7x",
        "colab_type": "code",
        "outputId": "34d9d256-a8f7-4efa-cc8f-c29632edb2d1",
        "colab": {
          "base_uri": "https://localhost:8080/",
          "height": 224
        }
      },
      "source": [
        "! wget \"https://raw.githubusercontent.com/IEEESBITBA/Curso-Python/master/Clase_3_datos/noticia.txt\""
      ],
      "execution_count": 0,
      "outputs": [
        {
          "output_type": "stream",
          "text": [
            "--2019-08-23 21:26:06--  https://raw.githubusercontent.com/IEEESBITBA/Curso-Python/master/Clase_3_datos/noticia.txt\n",
            "Resolving raw.githubusercontent.com (raw.githubusercontent.com)... 151.101.0.133, 151.101.64.133, 151.101.128.133, ...\n",
            "Connecting to raw.githubusercontent.com (raw.githubusercontent.com)|151.101.0.133|:443... connected.\n",
            "HTTP request sent, awaiting response... 200 OK\n",
            "Length: 1153 (1.1K) [text/plain]\n",
            "Saving to: ‘noticia.txt’\n",
            "\n",
            "\rnoticia.txt           0%[                    ]       0  --.-KB/s               \rnoticia.txt         100%[===================>]   1.13K  --.-KB/s    in 0s      \n",
            "\n",
            "2019-08-23 21:26:06 (189 MB/s) - ‘noticia.txt’ saved [1153/1153]\n",
            "\n"
          ],
          "name": "stdout"
        }
      ]
    },
    {
      "cell_type": "markdown",
      "metadata": {
        "id": "NM3Fc5ImWOWz",
        "colab_type": "text"
      },
      "source": [
        "En este caso abriremos el archivo con el comando \"open\" de python y guardamos en una lista strings con el contenido \"en bruto\", separado en cada linea.\n",
        "Observen que no estamos utilizando librerías"
      ]
    },
    {
      "cell_type": "code",
      "metadata": {
        "id": "SZJ9SYxBWQCb",
        "colab_type": "code",
        "outputId": "62fb6c74-6906-4033-bb82-98ea480459c9",
        "colab": {
          "base_uri": "https://localhost:8080/",
          "height": 258
        }
      },
      "source": [
        "file = open(\"noticia.txt\") # cargamos el archivo a la memoria\n",
        "\n",
        "contenido = file.readlines() # calculamos todas las lineas\n",
        "\n",
        "for line in contenido: \n",
        "    print(line) #mostramos linea a linea"
      ],
      "execution_count": 0,
      "outputs": [
        {
          "output_type": "stream",
          "text": [
            "﻿WASHINGTON — The White House, blindsided by a pact between California and four automakers to oppose President Trump’s auto emissions rollbacks, has mounted an effort to prevent any more companies from joining the other side.\n",
            "\n",
            "\n",
            "\n",
            "Toyota, Fiat Chrysler and General Motors were all summoned by a senior Trump adviser to a White House meeting last month where he pressed them to stand by the president’s own initiative, according to four people familiar with the talks.\n",
            "\n",
            "\n",
            "\n",
            "But even as the White House was working to do this, it was losing ground. Yet another company, Mercedes-Benz, is preparing to join the four automakers already in the California agreement — Honda, Ford, Volkswagen and BMW — according to two people familiar with the German company’s plans.\n",
            "\n",
            "\n",
            "\n",
            "Mr Trump, described by three people as enraged by California’s deal, has demanded that his staff members step up the pace to complete his plan. His proposal, however, is directly at odds with the wishes of many automakers, which fear that the aggressive rollbacks will spark a legal battle between California and the federal government that could split the United States car market.\n"
          ],
          "name": "stdout"
        }
      ]
    },
    {
      "cell_type": "markdown",
      "metadata": {
        "id": "ZKs68NfOX2JM",
        "colab_type": "text"
      },
      "source": [
        "Luego de poder almacenar el contenido, lo separaremos por palabras utilizando en comando split"
      ]
    },
    {
      "cell_type": "code",
      "metadata": {
        "id": "LCNVL9hVWb0i",
        "colab_type": "code",
        "outputId": "a5d53ca3-e503-4885-c1e5-7817600c2a0c",
        "colab": {
          "base_uri": "https://localhost:8080/",
          "height": 54
        }
      },
      "source": [
        "palabras = []\n",
        "\n",
        "for line in contenido:\n",
        "    \n",
        "    palabras_linea = line.split(' ') # separamos por espacios\n",
        "    \n",
        "    for palabra in palabras_linea: # por cada \"string\" separado por espacios\n",
        "        palabras.append(palabra)\n",
        "\n",
        "print(palabras)"
      ],
      "execution_count": 0,
      "outputs": [
        {
          "output_type": "stream",
          "text": [
            "['\\ufeffWASHINGTON', '—', 'The', 'White', 'House,', 'blindsided', 'by', 'a', 'pact', 'between', 'California', 'and', 'four', 'automakers', 'to', 'oppose', 'President', 'Trump’s', 'auto', 'emissions', 'rollbacks,', 'has', 'mounted', 'an', 'effort', 'to', 'prevent', 'any', 'more', 'companies', 'from', 'joining', 'the', 'other', 'side.\\n', '\\n', 'Toyota,', 'Fiat', 'Chrysler', 'and', 'General', 'Motors', 'were', 'all', 'summoned', 'by', 'a', 'senior', 'Trump', 'adviser', 'to', 'a', 'White', 'House', 'meeting', 'last', 'month', 'where', 'he', 'pressed', 'them', 'to', 'stand', 'by', 'the', 'president’s', 'own', 'initiative,', 'according', 'to', 'four', 'people', 'familiar', 'with', 'the', 'talks.\\n', '\\n', 'But', 'even', 'as', 'the', 'White', 'House', 'was', 'working', 'to', 'do', 'this,', 'it', 'was', 'losing', 'ground.', 'Yet', 'another', 'company,', 'Mercedes-Benz,', 'is', 'preparing', 'to', 'join', 'the', 'four', 'automakers', 'already', 'in', 'the', 'California', 'agreement', '—', 'Honda,', 'Ford,', 'Volkswagen', 'and', 'BMW', '—', 'according', 'to', 'two', 'people', 'familiar', 'with', 'the', 'German', 'company’s', 'plans.\\n', '\\n', 'Mr', 'Trump,', 'described', 'by', 'three', 'people', 'as', 'enraged', 'by', 'California’s', 'deal,', 'has', 'demanded', 'that', 'his', 'staff', 'members', 'step', 'up', 'the', 'pace', 'to', 'complete', 'his', 'plan.', 'His', 'proposal,', 'however,', 'is', 'directly', 'at', 'odds', 'with', 'the', 'wishes', 'of', 'many', 'automakers,', 'which', 'fear', 'that', 'the', 'aggressive', 'rollbacks', 'will', 'spark', 'a', 'legal', 'battle', 'between', 'California', 'and', 'the', 'federal', 'government', 'that', 'could', 'split', 'the', 'United', 'States', 'car', 'market.']\n"
          ],
          "name": "stdout"
        }
      ]
    },
    {
      "cell_type": "markdown",
      "metadata": {
        "id": "idd9lVBFYInK",
        "colab_type": "text"
      },
      "source": [
        "¡Podemos observar que algunos carácteres no deseados (como '\\ufeff' o '\\n') se filtran entre las palabras! Es habitual que cuando analizemos un archivo a mano de manera \"personalizada\" ocurran esta clase de problemas, los cuales debemos resolver con algunos parches a nuestro programa. En este caso los carácteres no deseados que podemos observar a simple vista son **\\ufeff**, **—**, **\\n**, **’s**. Los filtraremos utilizando el comando [replace](https://www.geeksforgeeks.org/python-string-replace/) de python"
      ]
    },
    {
      "cell_type": "code",
      "metadata": {
        "id": "Q_mvfMWgYK3z",
        "colab_type": "code",
        "colab": {}
      },
      "source": [
        "palabras = []\n",
        "\n",
        "for line in contenido:\n",
        "    \n",
        "    # eliminamos los distintos carácteres no deseados uno por uno\n",
        "    line = line.replace('\\ufeff','')\n",
        "    line = line.replace('—','')\n",
        "    line = line.replace('\\n','')\n",
        "    line = line.replace('’s','')\n",
        "   \n",
        "    palabras_linea = line.split(' ') # separamos por espacios \n",
        "    \n",
        "    for palabra in palabras_linea: # por cada \"string\" separado por espacios\n",
        "        palabras.append(palabra)\n",
        "\n",
        "print(palabras)"
      ],
      "execution_count": 0,
      "outputs": []
    },
    {
      "cell_type": "markdown",
      "metadata": {
        "id": "otvgfYbJWiyD",
        "colab_type": "text"
      },
      "source": [
        "### Mini desafio"
      ]
    },
    {
      "cell_type": "markdown",
      "metadata": {
        "id": "sq_DN-uSW3Fq",
        "colab_type": "text"
      },
      "source": [
        "Encontrar cuál es la palabra con mayor número de ocurrencias"
      ]
    },
    {
      "cell_type": "code",
      "metadata": {
        "id": "l3TZOs7mXVqB",
        "colab_type": "code",
        "colab": {}
      },
      "source": [
        ""
      ],
      "execution_count": 0,
      "outputs": []
    },
    {
      "cell_type": "markdown",
      "metadata": {
        "id": "q_PScHCAWwAi",
        "colab_type": "text"
      },
      "source": [
        "\n",
        "## Nota final\n",
        "​\n",
        "Es importante que sepan que si bien el uso de librerías simplifica en gran medida nuestros programas, y es una habilidad de gran relevancia saber utilizarlas; a veces, pueden existir limitaciones de versatilidad en su uso, y necesitaremos realizar un programa especifico para analizar nuestros datos."
      ]
    },
    {
      "cell_type": "markdown",
      "metadata": {
        "id": "3UmXCJj6zoHw",
        "colab_type": "text"
      },
      "source": [
        "# Ejercitación integradora $\\newcommand{\\dif}{\\bigstar}$$\\newcommand{\\facil}{\\color{\\green}{\\dif}}$ $\\newcommand{\\pieceofcake}{\\color{\\cyan}{\\dif}}$$\\newcommand{\\medio}{\\color{\\yellow}{\\dif\\dif}}$$\\newcommand{\\media}{\\medio}$$\\newcommand{\\normal}{\\medio}$  $\\newcommand{\\dificil}{\\color{\\orange}{\\dif\\dif\\dif}}$ $\\newcommand{\\imposible}{\\color{\\red}{\\dif\\dif\\dif\\dif}}$\n"
      ]
    },
    {
      "cell_type": "markdown",
      "metadata": {
        "id": "dz1uvBrZlIHA",
        "colab_type": "text"
      },
      "source": [
        "## $\\facil$ Copy\n",
        "Armar una función que copie un archivo, y lo guarde como Copia 1 - $nombre$, de ya existir debe guardarlo como Copia 2 -, Copia 3 - , ...\n",
        "\n",
        "Usar la libreria os para chequear si existe el archivo:\n",
        "> os.path.exists($nombre$) devolverá True si ya existe\n",
        "> importar con: Import os\n"
      ]
    },
    {
      "cell_type": "code",
      "metadata": {
        "id": "ChcJscsB0tbE",
        "colab_type": "code",
        "colab": {}
      },
      "source": [
        "import os\n",
        "\n",
        "def func(nombre):\n",
        "    if(os.path.exists(nombre)==True):\n",
        "        print('Existe')\n",
        "    else:\n",
        "        print('No existe')\n",
        "        \n",
        "func('Datos.csv')\n",
        "func('Hola.csv')"
      ],
      "execution_count": 0,
      "outputs": []
    },
    {
      "cell_type": "markdown",
      "metadata": {
        "id": "Z8gmZrau0b4E",
        "colab_type": "text"
      },
      "source": [
        "## $\\facil$ Análisis de texto\n",
        "\n",
        "Importar el archivo **noticia.txt**\n",
        "\n"
      ]
    },
    {
      "cell_type": "code",
      "metadata": {
        "id": "rHALpjUJ0hlE",
        "colab_type": "code",
        "colab": {}
      },
      "source": [
        "! wget \"https://raw.githubusercontent.com/IEEESBITBA/Curso-Python/master/Clase_3_datos/noticia.txt\""
      ],
      "execution_count": 0,
      "outputs": []
    },
    {
      "cell_type": "markdown",
      "metadata": {
        "id": "upKG43LX0dCt",
        "colab_type": "text"
      },
      "source": [
        "Calcular la [frecuencia de aparición de letras](https://en.wikipedia.org/wiki/Letter_frequency). Compararla con la frecuencia de letras del Ingles. ¿Existe alguna relación?"
      ]
    },
    {
      "cell_type": "code",
      "metadata": {
        "id": "5OyCXXgL0-9d",
        "colab_type": "code",
        "colab": {}
      },
      "source": [
        "file = open(\"noticia.txt\") # cargamos el archivo a la memoria\n",
        "\n",
        "contenido = file.readlines() # calculamos todas las lineas"
      ],
      "execution_count": 0,
      "outputs": []
    },
    {
      "cell_type": "markdown",
      "metadata": {
        "id": "RhBBj36A0w3e",
        "colab_type": "text"
      },
      "source": [
        "## $\\facil$ California Housing\n",
        "Importar el archivo **california_housing_train.xlsx**. \n",
        "\n",
        "\n"
      ]
    },
    {
      "cell_type": "code",
      "metadata": {
        "id": "qDy9QmNZ4FS8",
        "colab_type": "code",
        "outputId": "9602f807-7e7e-4445-fc2e-b95f5681ffae",
        "colab": {
          "base_uri": "https://localhost:8080/",
          "height": 224
        }
      },
      "source": [
        "! wget \"https://raw.githubusercontent.com/IEEESBITBA/Curso-Python/master/Clase_3_datos/california_housing_train.xlsx\""
      ],
      "execution_count": 0,
      "outputs": [
        {
          "output_type": "stream",
          "text": [
            "--2019-08-24 18:31:51--  https://raw.githubusercontent.com/IEEESBITBA/Curso-Python/master/Clase_3_datos/california_housing_train.xlsx\n",
            "Resolving raw.githubusercontent.com (raw.githubusercontent.com)... 151.101.0.133, 151.101.64.133, 151.101.128.133, ...\n",
            "Connecting to raw.githubusercontent.com (raw.githubusercontent.com)|151.101.0.133|:443... connected.\n",
            "HTTP request sent, awaiting response... 200 OK\n",
            "Length: 988464 (965K) [application/octet-stream]\n",
            "Saving to: ‘california_housing_train.xlsx.1’\n",
            "\n",
            "\r          californi   0%[                    ]       0  --.-KB/s               \rcalifornia_housing_ 100%[===================>] 965.30K  --.-KB/s    in 0.07s   \n",
            "\n",
            "2019-08-24 18:31:51 (12.7 MB/s) - ‘california_housing_train.xlsx.1’ saved [988464/988464]\n",
            "\n"
          ],
          "name": "stdout"
        }
      ]
    },
    {
      "cell_type": "markdown",
      "metadata": {
        "id": "Pfqjp8MH5sfY",
        "colab_type": "text"
      },
      "source": [
        "Este archivo contiene un conjunto de datos de viviendas de California, el cual fue extraido del censo de nacional de 1990. Para mas info sobre el set de datos: https://developers.google.com/machine-learning/crash-course/california-housing-data-description\n",
        "\n",
        "Extraer la siguiente información:\n",
        "\n",
        "*   ¿Cuantas casas hay con valor 'median_house_value' mayor a 80000 tomando de la longitud -120  a -118? Rta: 5466\n",
        "*   ¿Cual es el promedio de habitaciones por manzana ('total_rooms') de estas casas? Rta: 2466.31\n",
        "\n",
        "*   ¿Cual es la casa más cara? ¿Cuántas hay con este valor? Rta: 500001.0 - 814 \n",
        "\n",
        "*   $\\medio$ Obtener la media y la varianza de la propiedad 'median_house_value'. Rta: 207300.91 - 13451442293.57\n",
        "\n",
        "Tip: ¡Pueden utilizar funciones de python para conseguir la media y la varianza!  [numpy.var](https://docs.scipy.org/doc/numpy-1.6.0/reference/generated/numpy.var.html)"
      ]
    },
    {
      "cell_type": "code",
      "metadata": {
        "id": "i4eMHo5N1D6S",
        "colab_type": "code",
        "colab": {}
      },
      "source": [
        "import pandas as pd\n",
        "import numpy as np\n",
        "\n",
        "archivo = pd.read_csv(\"california_housing_train.xlsx\") \n"
      ],
      "execution_count": 0,
      "outputs": []
    },
    {
      "cell_type": "markdown",
      "metadata": {
        "id": "JZkXQVHHB9ps",
        "colab_type": "text"
      },
      "source": [
        "## $\\medio$ El tiempo es dinero\n",
        "\n",
        "La administración del dinero es una tarea que requiere una altísima fiabilidad. En esta ocasión tu objetivo será programar un script que actualize los montos de dinero de una serie de usuarios a partir de la información de las transferencias que fueron realizadas. \n",
        "\n",
        "Importar el archivo **Finanzas.xlsx**\n"
      ]
    },
    {
      "cell_type": "code",
      "metadata": {
        "id": "xDfaq9hDCAii",
        "colab_type": "code",
        "outputId": "36029e64-fb54-449b-a11c-774599170808",
        "colab": {
          "base_uri": "https://localhost:8080/",
          "height": 224
        }
      },
      "source": [
        "! wget \"https://raw.githubusercontent.com/IEEESBITBA/Curso-Python/master/Clase_3_datos/Finanzas.xlsx\""
      ],
      "execution_count": 0,
      "outputs": [
        {
          "output_type": "stream",
          "text": [
            "--2019-08-24 19:17:36--  https://raw.githubusercontent.com/IEEESBITBA/Curso-Python/master/Clase_3_datos/Finanzas.xlsx\n",
            "Resolving raw.githubusercontent.com (raw.githubusercontent.com)... 151.101.0.133, 151.101.64.133, 151.101.128.133, ...\n",
            "Connecting to raw.githubusercontent.com (raw.githubusercontent.com)|151.101.0.133|:443... connected.\n",
            "HTTP request sent, awaiting response... 200 OK\n",
            "Length: 10809 (11K) [application/octet-stream]\n",
            "Saving to: ‘Finanzas.xlsx’\n",
            "\n",
            "\rFinanzas.xlsx         0%[                    ]       0  --.-KB/s               \rFinanzas.xlsx       100%[===================>]  10.56K  --.-KB/s    in 0s      \n",
            "\n",
            "2019-08-24 19:17:36 (80.3 MB/s) - ‘Finanzas.xlsx’ saved [10809/10809]\n",
            "\n"
          ],
          "name": "stdout"
        }
      ]
    },
    {
      "cell_type": "markdown",
      "metadata": {
        "id": "PSS0bUd8CGQx",
        "colab_type": "text"
      },
      "source": [
        "<img src=\"https://psmag.com/.image/t_share/MTI3NTgyMzg2MzE2NzAxNjY2/time-is-money.jpg\" width=400>"
      ]
    },
    {
      "cell_type": "markdown",
      "metadata": {
        "id": "TCM6UYHPGIdl",
        "colab_type": "text"
      },
      "source": [
        "Debes procesar las transferencias y actualizar el saldo de cada usuario (crear un nuevo archivo excel con los saldos actualizados)"
      ]
    },
    {
      "cell_type": "code",
      "metadata": {
        "id": "vNW7TVWHCc45",
        "colab_type": "code",
        "outputId": "837ccd83-2aba-4550-a90d-0b18605861fb",
        "colab": {
          "base_uri": "https://localhost:8080/",
          "height": 357
        }
      },
      "source": [
        "import pandas as pd\n",
        "import numpy as np\n",
        "\n",
        "saldoUsuarios = pd.read_excel(\"Finanzas.xlsx\", \"Usuarios\") \n",
        "transferencias = pd.read_excel(\"Finanzas.xlsx\", \"Transferencias\")\n",
        "\n",
        "print(\"Saldo de los usuarios: \")\n",
        "print(saldoUsuarios)\n",
        "print(\"----------------------------------\")\n",
        "print(\"Transferencias por realizar:\")\n",
        "print(transferencias)\n",
        "print(\"----------------------------------\")"
      ],
      "execution_count": 0,
      "outputs": [
        {
          "output_type": "stream",
          "text": [
            "Saldo de los usuarios: \n",
            "   Usuario  Edad  Presupuesto\n",
            "0  Claudia    43        43433\n",
            "1  Agustin    22        23432\n",
            "2    Rocio    25        65444\n",
            "3    Ariel    34        76533\n",
            "4  Joaquin    65        34521\n",
            "5    Uriel    43        23422\n",
            "6   Martin    32        34534\n",
            "7   Andrés    26        23423\n",
            "----------------------------------\n",
            "Transferencias por hacer:\n",
            "    Emisor Receptor   Monto Efectuada\n",
            "0  Claudia    Ariel     220        No\n",
            "1    Rocio    Ariel    2000        No\n",
            "2  Agustin    Rocio   43434        No\n",
            "3    Uriel  Joaquin   12423        No\n",
            "4   Martin   Andrés  234223        No\n",
            "5  Joaquin    Ariel   23323        No\n",
            "----------------------------------\n"
          ],
          "name": "stdout"
        }
      ]
    },
    {
      "cell_type": "markdown",
      "metadata": {
        "id": "8CmN7SuE6ml-",
        "colab_type": "text"
      },
      "source": [
        "## $\\dificil $ Buscando la $\n"
      ]
    },
    {
      "cell_type": "markdown",
      "metadata": {
        "id": "WYHHRHbG7KEl",
        "colab_type": "text"
      },
      "source": [
        "Utilizando el set de datos del archivo **california_housing_train.xlsx**\n",
        "\n",
        "Dividir el area cubierta por el censo en cuadrantes de 0.5 de latitud x 0.5  de longitud, encontrar para que cuadrante el valor medio de 'median_house_value' es máximo. Asignar el paso como una variable para que pueda cambiarse facilmente. Para filtrar las zonas de muy baja residencia descarten los valores cuando hay menos de 100 casas\n",
        "\n",
        "Datos utiles:\n",
        "- Minimo de longitud: -124.3\n",
        "- Máximo de longitud: -114.3\n",
        "- Minimo de latitud: 32.5\n",
        "- Máximo de latitud: 42.5\n",
        "\n",
        "Tip: El programa va a tardar en correr, no se asusten!\n",
        "\n",
        "Nota final: Busquen en el mapa estas coordenadas para ver donde quedan! "
      ]
    },
    {
      "cell_type": "code",
      "metadata": {
        "id": "HFNVBCai692J",
        "colab_type": "code",
        "colab": {}
      },
      "source": [
        "import pandas as pd\n",
        "import numpy as np\n",
        "\n",
        "archivo = pd.read_excel(\"california_housing_train.xlsx\") \n",
        "paso = .5\n",
        "\n",
        "lats = np.arange(32.5,42.5,paso)\n",
        "lons = np.arange(-124.3,113.3,paso) \n",
        "maximoValor = 0\n",
        "maximaLat = 0\n",
        "maximaLon = 0"
      ],
      "execution_count": 0,
      "outputs": []
    }
  ]
}