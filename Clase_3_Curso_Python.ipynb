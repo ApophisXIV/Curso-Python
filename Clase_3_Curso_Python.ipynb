{
  "nbformat": 4,
  "nbformat_minor": 0,
  "metadata": {
    "colab": {
      "name": "Clase 3 - Curso Python.ipynb",
      "version": "0.3.2",
      "provenance": [],
      "collapsed_sections": [],
      "toc_visible": true,
      "include_colab_link": true
    },
    "kernelspec": {
      "name": "python3",
      "display_name": "Python 3"
    }
  },
  "cells": [
    {
      "cell_type": "markdown",
      "metadata": {
        "id": "view-in-github",
        "colab_type": "text"
      },
      "source": [
        "<a href=\"https://colab.research.google.com/github/IEEESBITBA/Curso-Python/blob/master/Clase_3_Curso_Python.ipynb\" target=\"_parent\"><img src=\"https://colab.research.google.com/assets/colab-badge.svg\" alt=\"Open In Colab\"/></a>"
      ]
    },
    {
      "cell_type": "markdown",
      "metadata": {
        "id": "Y2jyK5CJDTZB",
        "colab_type": "text"
      },
      "source": [
        "\n",
        "# Clase 3 \n",
        "Bienvenidos a nuestra tercera clase, en esta ocasión se estudiará lectura y análisis de archivos de datos.\n",
        "\n",
        "## Repaso clase anterior\n",
        "\n",
        "Antes de comenzar con el contenido se hará un repaso de los conceptos previamente vistos, ya que el contenido de las clases anteriores es muy importante para el desarrollo de esta clase\n",
        "\n",
        "<img src=\"https://psmag.com/.image/t_share/MTI3NTgyMzg2MzE2NzAxNjY2/time-is-money.jpg\" width=400>\n",
        "\n",
        "\n",
        "## Ejercicio de repaso 1\n",
        "\n",
        "Implementar un programa que imprima todos los elementos de una lista de la siguiente manera:\n",
        "\n",
        "> Para la lista [1,-1,2,-4]\n",
        "\n",
        "> En la posición 0 esta el valor 1\n",
        "\n",
        "> En la posición 1 esta el valor -1\n",
        "\n",
        "> ...\n",
        "\n",
        "Tip: La funcion enumerate devuelve la posicion y el elemento (Googlear)."
      ]
    },
    {
      "cell_type": "code",
      "metadata": {
        "id": "pKTYwcaUEFG8",
        "colab_type": "code",
        "colab": {}
      },
      "source": [
        ""
      ],
      "execution_count": 0,
      "outputs": []
    },
    {
      "cell_type": "markdown",
      "metadata": {
        "id": "00f_fc24FFjk",
        "colab_type": "text"
      },
      "source": [
        "## Ejercicio de repaso 2\n",
        "Implementar un programa que guarde el nombre de un alumno en un diccionario de forma tal de que la clave sea el número de lengajo y el contenido el nombre (un String). Si el número de legajo esta repetido  se debe avisar\n",
        "\n",
        " ```\n",
        ">>> Ingrese numero de legajo:\n",
        "\n",
        ">>> 12345\n",
        "\n",
        ">>> Ingrese nombre:\n",
        "\n",
        ">>> Juan Perez\n",
        "\n",
        ">>> Se a agregado el alumno Juan Perez!\n",
        "\n",
        " ```\n",
        " \n",
        "Cuando se vuelve a correr:\n",
        "\n",
        " ```\n",
        ">>> Ingrese numero de legajo:\n",
        "\n",
        ">>> 12345\n",
        "\n",
        ">>> Ingrese nombre:\n",
        "\n",
        ">>> Juan Perez 2\n",
        "\n",
        ">>> Ya existe ese alumno!\n",
        "\n",
        "Tip: usar dos celdas de codigo.\n",
        " ```"
      ]
    },
    {
      "cell_type": "code",
      "metadata": {
        "id": "Gw-cJIkSGbeL",
        "colab_type": "code",
        "colab": {}
      },
      "source": [
        ""
      ],
      "execution_count": 0,
      "outputs": []
    },
    {
      "cell_type": "code",
      "metadata": {
        "id": "wUQYeBwD_M_V",
        "colab_type": "code",
        "colab": {}
      },
      "source": [
        ""
      ],
      "execution_count": 0,
      "outputs": []
    },
    {
      "cell_type": "markdown",
      "metadata": {
        "id": "s4G6i1kTG3Vh",
        "colab_type": "text"
      },
      "source": [
        "# Manejo de archivos\n",
        "## Como cargar un archivo en colab\n",
        "Dentro de Google Colaboratory, en el menu de la izquierda (si no lo ven toquen la flechita), hay tres pestañas **Indice**,**Fragmentos de código** y **Archivos**. Seleccionamos la pestaña **Archivos**.\n",
        "\n",
        "Al selecciona esta pestaña podremos ver los archivos que estan cargados a nuestra sesión. Debajo de la selección de tabs tenemos la opción **Subir**. Ahi podrán elegir un archivo de su computadora para subir. Subimos el archivo \"Datos.csv\", si no lo tienen pueden entrar a este [link](https://raw.githubusercontent.com/IEEESBITBA/Curso-Python/master/Datos.csv) y guardar como \"Datos.csv\" y subirlo.\n",
        "\n",
        "Una vez que tengan el archivo en Colaboratory deberia aparecerles en la lista de archivos.\n",
        "\n",
        "Si no tambien pueden ejecutar el siguiente codigo:"
      ]
    },
    {
      "cell_type": "code",
      "metadata": {
        "id": "8_nMAWE6COPu",
        "colab_type": "code",
        "outputId": "e92ce5fa-8971-4220-88d7-a580d8842d20",
        "colab": {
          "base_uri": "https://localhost:8080/",
          "height": 224
        }
      },
      "source": [
        "! wget \"https://raw.githubusercontent.com/IEEESBITBA/Curso-Python/master/Clase_3_datos/Datos.csv\""
      ],
      "execution_count": 0,
      "outputs": [
        {
          "output_type": "stream",
          "text": [
            "--2019-05-13 19:54:21--  https://raw.githubusercontent.com/IEEESBITBA/Curso-Python/master/Clase_3_datos/Datos.csv\n",
            "Resolving raw.githubusercontent.com (raw.githubusercontent.com)... 151.101.0.133, 151.101.64.133, 151.101.128.133, ...\n",
            "Connecting to raw.githubusercontent.com (raw.githubusercontent.com)|151.101.0.133|:443... connected.\n",
            "HTTP request sent, awaiting response... 200 OK\n",
            "Length: 200 [text/plain]\n",
            "Saving to: ‘Datos.csv.1’\n",
            "\n",
            "\rDatos.csv.1           0%[                    ]       0  --.-KB/s               \rDatos.csv.1         100%[===================>]     200  --.-KB/s    in 0s      \n",
            "\n",
            "2019-05-13 19:54:21 (26.5 MB/s) - ‘Datos.csv.1’ saved [200/200]\n",
            "\n"
          ],
          "name": "stdout"
        }
      ]
    },
    {
      "cell_type": "markdown",
      "metadata": {
        "id": "hv8f99fOL7Fh",
        "colab_type": "text"
      },
      "source": [
        "## Como abrir un archivo\n",
        "Los archivos se se abren con la función open( $'carpeta/subCarpeta/archivo.nnn'$)."
      ]
    },
    {
      "cell_type": "code",
      "metadata": {
        "id": "tENkyQpMLwvD",
        "colab_type": "code",
        "colab": {}
      },
      "source": [
        "archivo = open('Datos.csv')"
      ],
      "execution_count": 0,
      "outputs": []
    },
    {
      "cell_type": "markdown",
      "metadata": {
        "id": "p-U-ZU7lMjHt",
        "colab_type": "text"
      },
      "source": [
        "El archivo esta en formato CSV, que quiere decir esto? **C**omma **S**eparated **V**alues, es un formato estandar para manejar tablas de datos, por ejemplo en excel pueden guardar los archivos como csv en la opción guardar como -> *.csv .\n",
        "\n",
        "Analizemos como es el contenido de este archivo:\n",
        "> Legajo,Nombre,Apellido,Quimica,Matematica,Fisica\n",
        "\n",
        "> 34567,Juan,Martinez,10,7,9\n",
        "\n",
        "> 34678,Pablo,Gonzales,4,9,4\n",
        " \n",
        "> 34234,Maria,Citanovich,2,4,4\n",
        " \n",
        "> 35679,Sol,Rios,9,8,10\n",
        " \n",
        "> 36789,Paula,Lagos,8,5,8\n",
        "\n",
        "> 32578,Tomas,Reu,1,4,2\n",
        "\n",
        "En la primera fila tenemos los titulos de cada columna separados por comas, y luego en cada fila tenemos la información de un alumno, su legajo, nombre, apellido y notas.\n",
        "\n",
        "Para leer una linea del archivo hacemos lo siguiente:"
      ]
    },
    {
      "cell_type": "code",
      "metadata": {
        "id": "ctPBCisKMhOs",
        "colab_type": "code",
        "colab": {}
      },
      "source": [
        "linea = archivo.readline()\n",
        "print(linea)"
      ],
      "execution_count": 0,
      "outputs": []
    },
    {
      "cell_type": "markdown",
      "metadata": {
        "id": "fElQZle3O564",
        "colab_type": "text"
      },
      "source": [
        "Que pasa si ejecutamos dos veces el codigo de la celda de arriba?\n",
        "\n",
        "El resultado que se obtiene es porque al leer una linea se avanza sobre el archivo, por lo que en el siguiente readline se obtendrá la segunda linea, y asi sucesivamente.\n",
        "\n",
        "Para volver a leer el archivo del principio buscamos el principio con la función seek:\n"
      ]
    },
    {
      "cell_type": "code",
      "metadata": {
        "id": "t7iOCPXuPsbZ",
        "colab_type": "code",
        "colab": {}
      },
      "source": [
        "archivo.seek(0)"
      ],
      "execution_count": 0,
      "outputs": []
    },
    {
      "cell_type": "markdown",
      "metadata": {
        "id": "YAawMV5ZhF4Q",
        "colab_type": "text"
      },
      "source": [
        "Esto es necesario ya que los archivos no son como una lista en la que podes acceder a cualquier elemento, si no que se va accediendo a la parte que se necesite.\n",
        "\n",
        "Ejercicio, mostrar todo lo que tiene el archivo.\n",
        "\n",
        "Tip: Cuando no queden mas lineas, .**readline**() devolverá $''$"
      ]
    },
    {
      "cell_type": "code",
      "metadata": {
        "id": "vkZwTMWkO34S",
        "colab_type": "code",
        "colab": {}
      },
      "source": [
        ""
      ],
      "execution_count": 0,
      "outputs": []
    },
    {
      "cell_type": "markdown",
      "metadata": {
        "id": "aZGm9EJsjly8",
        "colab_type": "text"
      },
      "source": [
        "## Como cargar los datos a una variable\n",
        "Ahora leamos estos y guardemoslo en una variable, para esto podemos usar el metodo de strings split:\n",
        "> $string.split(caracter)$: Devuelve una lista con el string separado en el caracter especificado.\n",
        "\n",
        "Veamos un ejemplo:"
      ]
    },
    {
      "cell_type": "code",
      "metadata": {
        "id": "1ODwVSJ6PxkG",
        "colab_type": "code",
        "colab": {}
      },
      "source": [
        "texto  = 'hola como estas'\n",
        "texto2 = 'hola,como,estas'\n",
        "print(texto.split(' '))\n",
        "print(texto2.split(','))"
      ],
      "execution_count": 0,
      "outputs": []
    },
    {
      "cell_type": "markdown",
      "metadata": {
        "id": "iPwbtS70mAzT",
        "colab_type": "text"
      },
      "source": [
        "Ahora hagamos esto para el archivo, no se olviden de rebobinarlo!\n",
        "\n",
        "<img src=\"https://media.giphy.com/media/UlyYLOltfU9W/giphy.gif\" width=300>"
      ]
    },
    {
      "cell_type": "code",
      "metadata": {
        "id": "KzYz0FOekyk4",
        "colab_type": "code",
        "colab": {}
      },
      "source": [
        "archivo.seek(0)\n",
        "linea = 0\n",
        "while(linea != ''):\n",
        "    linea = archivo.readline()\n",
        "    columna = linea.split(',')\n",
        "    print(columna)"
      ],
      "execution_count": 0,
      "outputs": []
    },
    {
      "cell_type": "markdown",
      "metadata": {
        "id": "OT0nLksDnpGU",
        "colab_type": "text"
      },
      "source": [
        "¿Cómo podemos solucionar la linea vacia?"
      ]
    },
    {
      "cell_type": "code",
      "metadata": {
        "id": "q0eLk1zSnYcZ",
        "colab_type": "code",
        "colab": {}
      },
      "source": [
        ""
      ],
      "execution_count": 0,
      "outputs": []
    },
    {
      "cell_type": "markdown",
      "metadata": {
        "id": "OWWG_Ixxn-bm",
        "colab_type": "text"
      },
      "source": [
        "El \\n que vemos en la ultima columna es el caracter que representa el enter, \\\\**n**ewline.\n",
        "\n",
        "Analizemos los datos:\n",
        "> ['Legajo', 'Nombre', 'Apellido', 'Quimica', 'Matematica', 'Fisica\\n'] $\\leftarrow$ son los nombres de las columnas. \n",
        "\n",
        "> ['34567', 'Juan', 'Martinez', '10', '7', '9\\n'] $\\leftarrow$ Son los datos de un alumno\n",
        "\n",
        "> ['34678', 'Pablo', 'Gonzales', '4', '9', '4\\n'] $\\leftarrow^{\\space \\dots}$\n",
        "\n",
        "> ['34234', 'Maria', 'Citanovich', '2', '4', '4\\n'] $\\leftarrow^{\\space \\dots}$\n",
        "\n",
        "> ['35679', 'Sol', 'Rios', '9', '8', '10\\n'] $\\leftarrow^{\\space \\dots}$\n",
        "\n",
        "> ['36789', 'Paula', 'Lagos', '8', '5', '8\\n'] $\\leftarrow^{\\space \\dots}$\n",
        "\n",
        "> ['32578', 'Tomas', 'Reu', '1', '4', '2\\n'] $\\leftarrow^{\\space \\dots}$\n",
        "\n",
        "Para eliminar los caracteres vacios del final de un string podemos usar:\n",
        "\n",
        "> (string).**strip**()\n",
        "\n",
        "Por lo que cuando leemos la primera linea podemos guardarla como los titulos y con las siguientes armar una matriz."
      ]
    },
    {
      "cell_type": "code",
      "metadata": {
        "id": "bIhmWaXSn1fV",
        "colab_type": "code",
        "colab": {}
      },
      "source": [
        "archivo.seek(0)\n",
        "titulos = archivo.readline().strip()\n",
        "linea = archivo.readline().strip()\n",
        "datos = []\n",
        "while(linea != ''):\n",
        "    columna = linea.split(',')\n",
        "    datos.append(columna)\n",
        "    linea = archivo.readline().strip()  \n",
        "    \n",
        "print(datos)"
      ],
      "execution_count": 0,
      "outputs": []
    },
    {
      "cell_type": "markdown",
      "metadata": {
        "id": "HbdclwMlssFL",
        "colab_type": "text"
      },
      "source": [
        "Ahora observamos que las columnas 3 4 5 son numeros, por lo que le tenemos que decir esto a Python, si no lo tomará como texto y no podremos hacer cuentas!"
      ]
    },
    {
      "cell_type": "code",
      "metadata": {
        "id": "PAPaALXTsqfq",
        "colab_type": "code",
        "colab": {}
      },
      "source": [
        "for col in [3,4,5]:\n",
        "    for fila in datos:\n",
        "        fila[col] = float(fila[col])\n",
        "print(datos)"
      ],
      "execution_count": 0,
      "outputs": []
    },
    {
      "cell_type": "markdown",
      "metadata": {
        "id": "tnjkSSMftR7L",
        "colab_type": "text"
      },
      "source": [
        "Ahora podemos empezar a trabajar con estos datos!\n",
        "\n",
        "Calculemos el promedio del primer alumno:"
      ]
    },
    {
      "cell_type": "code",
      "metadata": {
        "id": "bg4yAsZ_sXI8",
        "colab_type": "code",
        "colab": {}
      },
      "source": [
        ""
      ],
      "execution_count": 0,
      "outputs": []
    },
    {
      "cell_type": "markdown",
      "metadata": {
        "id": "vtC9RTiZue6Z",
        "colab_type": "text"
      },
      "source": [
        "Y si ahora queremos calcular el promedio de quimica?\n",
        "\n",
        "Tip: podemos obtener cuantas filas hay usando len(datos)."
      ]
    },
    {
      "cell_type": "code",
      "metadata": {
        "id": "sCiebYohuAGf",
        "colab_type": "code",
        "colab": {}
      },
      "source": [
        ""
      ],
      "execution_count": 0,
      "outputs": []
    },
    {
      "cell_type": "markdown",
      "metadata": {
        "id": "NaQaSf1CzMZR",
        "colab_type": "text"
      },
      "source": [
        "Ahora podemos guardarlo de una manera mas util, para que sea mas claro el acceso.\n",
        "\n",
        "Vamos a guardar los datos de la siguiente manera:\n",
        "\n",
        "> Legajo $\\rightarrow$ \"nombre\": () , \"apellido\": () , \"quimica\": () ,\"matematica\": () ,\"fisica\": ()  "
      ]
    },
    {
      "cell_type": "code",
      "metadata": {
        "id": "Q56RPZ0Qu24m",
        "colab_type": "code",
        "colab": {}
      },
      "source": [
        "archivo.seek(0)\n",
        "titulos = archivo.readline()\n",
        "\n",
        "linea = archivo.readline()\n",
        "datos = {}  #Es un diccionario\n",
        "\n",
        "while linea != '':\n",
        "    \n",
        "    columna = linea.split(',')\n",
        "    alumno = {\"Nombre\": columna[1] , \n",
        "              \"Apellido\": columna[2] , \n",
        "              \"Quimica\": float(columna[3]) ,\n",
        "              \"Matematica\": float(columna[4]) ,\n",
        "              \"Fisica\": float(columna[5])\n",
        "             }\n",
        "    \n",
        "    datos[columna[0]]=alumno\n",
        "    linea = archivo.readline()    \n",
        "    \n",
        "print(datos)"
      ],
      "execution_count": 0,
      "outputs": []
    },
    {
      "cell_type": "markdown",
      "metadata": {
        "id": "iJGxRoLZ1HHJ",
        "colab_type": "text"
      },
      "source": [
        "Pero esto solo sirve si conocemos bien todos los datos, podemos hacerlo de manera genérica:\n"
      ]
    },
    {
      "cell_type": "code",
      "metadata": {
        "id": "0jvJ7QLQ0rSD",
        "colab_type": "code",
        "colab": {}
      },
      "source": [
        "archivo.seek(0)\n",
        "titulos = archivo.readline()\n",
        "titulos = titulos.split(',')\n",
        "linea = archivo.readline()\n",
        "datos = {}  #Es un diccionario\n",
        "\n",
        "while linea != '':\n",
        "    \n",
        "    columna = linea.split(',')\n",
        "    alumno = {}\n",
        "    \n",
        "    for i in range(1,len(titulos)):\n",
        "        alumno[titulos[i]]=columna[i]\n",
        "        \n",
        "    datos[columna[0]]=alumno\n",
        "    linea = archivo.readline()    \n",
        "    \n",
        "print(datos)"
      ],
      "execution_count": 0,
      "outputs": []
    },
    {
      "cell_type": "markdown",
      "metadata": {
        "id": "t5dgpsgERT35",
        "colab_type": "text"
      },
      "source": [
        "Ejercicio: Hacer una lista de diccionarios con las llaves los titulos, cada elemento de la lista debe ser un alumno"
      ]
    },
    {
      "cell_type": "code",
      "metadata": {
        "id": "QRhWwKnQRTZ5",
        "colab_type": "code",
        "colab": {}
      },
      "source": [
        ""
      ],
      "execution_count": 0,
      "outputs": []
    },
    {
      "cell_type": "markdown",
      "metadata": {
        "id": "kEkMLFbvDFKo",
        "colab_type": "text"
      },
      "source": [
        "## Como escribir en un archivo"
      ]
    },
    {
      "cell_type": "markdown",
      "metadata": {
        "id": "HkaL-HOnDIeT",
        "colab_type": "text"
      },
      "source": [
        "### Texto y csv\n",
        "Para escribir en un archivo debemos utilizar el metodo write:\n",
        "\n",
        "> (archivo).**write**('Lo que queramos escribir')\n",
        "\n",
        "Para poder realizar esta acción debemos abrir un archivo en modo de escritura, por defecto **open** abre en metodo de solo lectura.\n",
        "\n",
        "Nota: Para que el archivo se guarde debemos cerrarlo!\n",
        "Nota2: El write no es como el print no agrega el enter al final para agregar un enter debemos poner **\\\\n**\n",
        "\n"
      ]
    },
    {
      "cell_type": "code",
      "metadata": {
        "id": "OfUirdlt_MQc",
        "colab_type": "code",
        "colab": {}
      },
      "source": [
        "aOut = open('out.txt','w') # El segundo parámetro es para indicar que es de escritura\n",
        "aOut.write('Hola!')\n",
        "aOut.close()  # No se olviden de cerrar"
      ],
      "execution_count": 0,
      "outputs": []
    },
    {
      "cell_type": "markdown",
      "metadata": {
        "id": "5yQkcTeO__eu",
        "colab_type": "text"
      },
      "source": [
        "Ahora hagan un programa que escriba en out.csv un archivo con titulo Nombre,Edad,Peso y inventen 5 personas."
      ]
    },
    {
      "cell_type": "code",
      "metadata": {
        "id": "GfclnidaAUzw",
        "colab_type": "code",
        "colab": {}
      },
      "source": [
        ""
      ],
      "execution_count": 0,
      "outputs": []
    },
    {
      "cell_type": "markdown",
      "metadata": {
        "id": "EWVmru0fAklp",
        "colab_type": "text"
      },
      "source": [
        "Ahora lean ese archivo y hagan el promedio de peso de todas las personas y el promedio de edad "
      ]
    },
    {
      "cell_type": "code",
      "metadata": {
        "id": "z2dwb_YYBDhS",
        "colab_type": "code",
        "colab": {}
      },
      "source": [
        ""
      ],
      "execution_count": 0,
      "outputs": []
    },
    {
      "cell_type": "markdown",
      "metadata": {
        "id": "X9KsP7lHDLUF",
        "colab_type": "text"
      },
      "source": [
        "### Pickle\n",
        "Es una manera de guardar cualquier estructura de datos de python en un archivo y luego leerla. Les dejamos más info: https://docs.python.org/2/library/pickle.html"
      ]
    },
    {
      "cell_type": "code",
      "metadata": {
        "id": "qK7CjHF5Bs9E",
        "colab_type": "code",
        "colab": {}
      },
      "source": [
        "import pickle\n",
        "\n",
        "data = {\"dato\":25,\"nombre\":\"1234\"}\n",
        "archivo = open('out.pck','wb') # Con wb le indicamos que va a escribir en binario (no solo texto)\n",
        "pickle.dump(data,archivo)\n",
        "archivo.close()\n",
        "archivo = open('out.pck','rb') # Con rb le indicamos que va a leer binario\n",
        "data2 = pickle.load(archivo)\n",
        "archivo.close()\n",
        "print(data2)"
      ],
      "execution_count": 0,
      "outputs": []
    },
    {
      "cell_type": "markdown",
      "metadata": {
        "id": "m8pk1uWpC60_",
        "colab_type": "text"
      },
      "source": [
        "## Nota final\n",
        "Para evitar todo el tiempo estar escribiendo open ... close usamos la siguiente estructura que se encarga de esto.\n",
        "\n",
        "> **with** open($archivo,forma$) **as** $nombre$:\n",
        ">      #En nombre tenemos el archivo\n",
        "\n",
        "Y cuando termine la indentación cerrará el archivo.\n"
      ]
    },
    {
      "cell_type": "code",
      "metadata": {
        "id": "p-83UZPmDlGA",
        "colab_type": "code",
        "colab": {}
      },
      "source": [
        "with open('Datos.csv','r') as fp:\n",
        "    linea =fp.readline().strip()\n",
        "    while linea!='':\n",
        "        print(linea)\n",
        "        linea =fp.readline().strip()"
      ],
      "execution_count": 0,
      "outputs": []
    },
    {
      "cell_type": "markdown",
      "metadata": {
        "id": "UnXcQHkYC5uI",
        "colab_type": "text"
      },
      "source": [
        "# Librerias\n",
        "Una librería es un conjunto de funciones implementadas por otro programador que nos facilita realizar tareas principalmente porque no debemos reescribir el codigo.\n",
        "\n",
        "<img src=\"http://www.goalexandria.com/wp-content/uploads/2016/02/alt-lib.png\" width=200px>\n",
        "\n",
        "¿Como usamos una libreria? Primero debemos importarla.\n",
        "\n",
        "> **import** (nombre de la libreria) **as** (nombre abreviado)\n",
        "\n",
        "Como estas pueden tener otras librerias adentro\n",
        "\n",
        "> **from** (nombre de la libreria) **import** (nombre de la otra) **as** (nombre abreviado)\n",
        "\n",
        "Para llamar luego a una función de la libreria usamos la siguiente sintaxis:\n",
        "\n",
        "> (Nombre de la libreria)**.**(funcion)(parametros)\n",
        "\n",
        "Nota: Es importante saber que el **as** es opcional, y que tambien pueden importar solo funciones que necesiten.\n"
      ]
    },
    {
      "cell_type": "code",
      "metadata": {
        "id": "EMhUatdo2ams",
        "colab_type": "code",
        "colab": {}
      },
      "source": [
        "import math #Importamos la libreria math\n",
        "\n",
        "print('El seno de 0 es ',math.sin(0),'y el coseno',math.cos(0))\n"
      ],
      "execution_count": 0,
      "outputs": []
    },
    {
      "cell_type": "code",
      "metadata": {
        "id": "AAdUmBpM2r5D",
        "colab_type": "code",
        "colab": {}
      },
      "source": [
        "from math import sin,cos\n",
        "\n",
        "print('El seno de 0 es ',sin(0),'y el coseno',cos(0))"
      ],
      "execution_count": 0,
      "outputs": []
    },
    {
      "cell_type": "code",
      "metadata": {
        "id": "5Ojl53oL26ok",
        "colab_type": "code",
        "colab": {}
      },
      "source": [
        "import math as m\n",
        "\n",
        "print('El seno de 0 es ',m.sin(0),'y el coseno',m.cos(0))"
      ],
      "execution_count": 0,
      "outputs": []
    },
    {
      "cell_type": "code",
      "metadata": {
        "id": "sbkeVMtn4RkE",
        "colab_type": "code",
        "colab": {}
      },
      "source": [
        "from os import path as pth\n",
        "\n",
        "print(pth.join('Carpeta','Archivo.ar'))"
      ],
      "execution_count": 0,
      "outputs": []
    },
    {
      "cell_type": "markdown",
      "metadata": {
        "id": "aL0XAITW39Bx",
        "colab_type": "text"
      },
      "source": [
        "A continuación les mostramos algunos links con la documentación de algunas libererias\n",
        "\n",
        "- Documentación libreria [math](https://docs.python.org/2/library/math.html)\n",
        "- Documentación libreria [os](https://docs.python.org/2/library/os.html)\n",
        "- Documentación general de [liberias estandar](https://docs.python.org/2/library/index.html)"
      ]
    },
    {
      "cell_type": "markdown",
      "metadata": {
        "id": "Z3cnLbeMygE-",
        "colab_type": "text"
      },
      "source": [
        "## Numpy\n",
        "Es la libreria estandar para manejo de matrices y cálculo matematico. Tiene muchisimos modulos que nos facilitan el trabajo con muchos datos matemáticos. Nosotros solo le haremos una breve introducción, pueden encontrar toda la info en https://docs.scipy.org/doc/numpy/reference/ y una pequeña guía en https://docs.scipy.org/doc/numpy/user/quickstart.html .\n"
      ]
    },
    {
      "cell_type": "code",
      "metadata": {
        "id": "aR4gyuqk8__Z",
        "colab_type": "code",
        "colab": {}
      },
      "source": [
        "import numpy as np\n",
        "#Creamos una matriz de 10x2 con todos ceros\n",
        "matriz = np.zeros((10,2))\n",
        "for fila in range(len(matriz)):\n",
        "    for col in range(len(matriz[0])):\n",
        "        matriz[fila][col]=fila+col\n",
        "matriz2 = np.zeros((2,1))\n",
        "matriz2[0][0]= 1\n",
        "matriz2[1][0]=2\n",
        "print(matriz)\n",
        "print(matriz2)\n",
        "res = np.dot(matriz,matriz2)\n",
        "print(res)"
      ],
      "execution_count": 0,
      "outputs": []
    },
    {
      "cell_type": "markdown",
      "metadata": {
        "id": "cw7VqxkG-cq6",
        "colab_type": "text"
      },
      "source": [
        "La funcion de numpy arange se utiliza de la siguiente manera:\n",
        "> **np.arange**(inicio,fin,paso)\n",
        "\n",
        "Nos devuelve un vector que en la posición 0 tiene $inicio$ y avanza con $paso$ hasta llegar a $fin$"
      ]
    },
    {
      "cell_type": "code",
      "metadata": {
        "id": "4VQS9eeF9cuR",
        "colab_type": "code",
        "colab": {}
      },
      "source": [
        "#Creo un arreglo (matriz de 1 dimension) con los numeros del 0 al 1 en paso de 0.1 \n",
        "t = np.arange(0,1,0.01)\n",
        "seno = np.sin(2*np.pi*t)\n",
        "print(t)\n",
        "#Magia lo vemos la clase que viene\n",
        "import matplotlib.pyplot as plt\n",
        "plt.plot(t,seno)\n",
        "plt.show()"
      ],
      "execution_count": 0,
      "outputs": []
    },
    {
      "cell_type": "markdown",
      "metadata": {
        "id": "JRKJiU_h-BvU",
        "colab_type": "text"
      },
      "source": [
        "Tambien podemos utilizar la función:\n",
        "> **np.linspace**(inicio,fin,cantidadDePuntos)\n",
        "\n",
        "Que genera un vector como **.arange** pero en vez de indicarle el paso le indicamos la cantidad de puntos entre inicio y fin.\n",
        "\n",
        "Nos facilita hacer calculos con muchos datos ya que podemos hacer lo siguiente para modelar funciones:"
      ]
    },
    {
      "cell_type": "code",
      "metadata": {
        "id": "_omOzRyQ-JjT",
        "colab_type": "code",
        "colab": {}
      },
      "source": [
        "t = np.linspace(-10,10,10000)\n",
        "y = 0.5*t**3 - 2*t**2 +2\n",
        "\n",
        "\n",
        "#Magia lo vemos la clase que viene\n",
        "import matplotlib.pyplot as plt\n",
        "plt.plot(t,y)\n",
        "plt.show()"
      ],
      "execution_count": 0,
      "outputs": []
    },
    {
      "cell_type": "markdown",
      "metadata": {
        "id": "M1MOq4nVybNb",
        "colab_type": "text"
      },
      "source": [
        "## Pandas\n",
        "\n",
        "\n",
        "La tarea de \"parsear\" (procesar) archivos con información (por ejemplo) csv, excel, muchas veces es algo tediosa programarla. [Pandas](https://pandas.pydata.org) es una librería muy popular en los ultimos tiempos que nos permite, entre otras cosas, sistematizar con unas pocas funciones la conversión de un archivo de información en los tipos de datos que python maneja.\n",
        "\n",
        "<img src=\"https://pandas.pydata.org/_static/pandas_logo.png\" width=600px>\n",
        "\n",
        "A continuación mostraremos un ejemplo donde se accede a la información de un archivo utilizando *Pandas*. La función que se utiliza se llama [read_csv](https://pandas.pydata.org/pandas-docs/stable/reference/api/pandas.read_csv.html)\n",
        "\n"
      ]
    },
    {
      "cell_type": "code",
      "metadata": {
        "id": "kLUxs1_npfoB",
        "colab_type": "code",
        "colab": {}
      },
      "source": [
        "import pandas as pd\n",
        "\n",
        "archivo = pd.read_csv(\"Datos.csv\") \n",
        "# la variable archivo es un tipo de dato especial de pandas\n",
        "print(archivo)\n",
        "\n",
        "data = archivo.to_dict(\"list\") \n",
        "# \"list\" significa que vamos a almacenar a cada columna como una lista con su contenido\n",
        "\n",
        "print(data)\n"
      ],
      "execution_count": 0,
      "outputs": []
    },
    {
      "cell_type": "markdown",
      "metadata": {
        "id": "3jfiwA2VLPyC",
        "colab_type": "text"
      },
      "source": [
        "Cambiando el parámetro  \"list\" por \"records\" de la función [to_dict](https://pandas.pydata.org/pandas-docs/stable/reference/api/pandas.DataFrame.to_dict.html) podemos lograr obtener la información separada por fila"
      ]
    },
    {
      "cell_type": "code",
      "metadata": {
        "id": "tlXc8KweL4Pr",
        "colab_type": "code",
        "colab": {}
      },
      "source": [
        "import pandas as pd\n",
        "\n",
        "archivo = pd.read_csv(\"Datos.csv\") \n",
        "# la variable archivo es un tipo de dato especial de pandas\n",
        "\n",
        "data = archivo.to_dict(\"records\") \n",
        "# \"records\" significa que vamos a obtener el contenido separado por cada fila\n",
        "\n",
        "print(data)\n"
      ],
      "execution_count": 0,
      "outputs": []
    },
    {
      "cell_type": "markdown",
      "metadata": {
        "id": "RApJk1mvMSX8",
        "colab_type": "text"
      },
      "source": [
        "También a veces es necesario \"indexar\" el archivo por alguna columna en particular, en estos casos \n",
        "podemos agregar un parámetro index_col con el nombre de la columna con la que queremos los datos indexados.\n",
        "Es importante observar que la columna seleccionada, en otras palabras la columna que contendrá las claves no puede tener valores repetidos."
      ]
    },
    {
      "cell_type": "code",
      "metadata": {
        "id": "DMSd_cEBM-WV",
        "colab_type": "code",
        "colab": {}
      },
      "source": [
        "import pandas as pd\n",
        "\n",
        "archivo = pd.read_csv(\"Datos.csv\", index_col =[\"Apellido\"]) \n",
        "# Indicamos que la columna de indexación será apellido. Se ingresa como una lista\n",
        "# porque es posible a veces indexar por dos columnas distintas\n",
        "\n",
        "data = archivo.to_dict(\"index\") \n",
        "# \"index\" significa que vamos a obtener el contenido como diccionarios \n",
        "# donde la clave es algun campo de cada fila, en este caso la clave de los \n",
        "# diccionarios será la clave \"Apellido\"\n",
        "\n",
        "# convertimos el tipo de dato de pandas a un dict de python\n",
        "\n",
        "print(data)"
      ],
      "execution_count": 0,
      "outputs": []
    },
    {
      "cell_type": "markdown",
      "metadata": {
        "id": "SzKnJgVGrdND",
        "colab_type": "text"
      },
      "source": [
        "Tambien es posible escribir archivos con pandas; a continuación mostraremos un ejemplo"
      ]
    },
    {
      "cell_type": "code",
      "metadata": {
        "id": "lH5a7j0RrglT",
        "colab_type": "code",
        "colab": {}
      },
      "source": [
        "data = {\n",
        "    \"personas\" : [\"Analía Ferreyra\" , \"Martin Hugo\"],\n",
        "    \"edad\" : [25, 35] \n",
        "} # contenido como listas con el contenido de cada columna\n",
        "\n",
        "claves = data.keys()\n",
        "\n",
        "dataFrame = pd.DataFrame(data, None, claves) \n",
        "#generamos un dataframe (tipo de dato de pandas) con la informacion\n",
        "\n",
        "dataFrame.to_csv(\"personas.csv\") \n",
        "# exportamos la información a un archivo llamado \"personas.csv\"\n"
      ],
      "execution_count": 0,
      "outputs": []
    },
    {
      "cell_type": "markdown",
      "metadata": {
        "id": "jKpPXznMRcEp",
        "colab_type": "text"
      },
      "source": [
        "Lo que nos permite tambien pandas es trabajar muy facilmente con los datos para separar por propiedades:\n",
        "\n",
        "> archivo[archivo['propiedad']> un valor] nos dara todas las filas de los elementos que cumplan que la propiedad es mayor que el valor.\n",
        "\n",
        "> Deben unir condiciones como los sets con & y | "
      ]
    },
    {
      "cell_type": "code",
      "metadata": {
        "id": "DJsN7_h_Rq1i",
        "colab_type": "code",
        "colab": {}
      },
      "source": [
        "import pandas as pd\n",
        "\n",
        "archivo = pd.read_csv(\"Datos.csv\")\n",
        "print(archivo)\n",
        "print('Los aprobados en quimica son:\\n',archivo[archivo['Quimica']>=4])\n",
        "print('Los aprobados en matematica con notas entre 4 y 8 son:\\n',archivo[(archivo['Matematica']>=4) & (archivo['Matematica']<=8) ])"
      ],
      "execution_count": 0,
      "outputs": []
    },
    {
      "cell_type": "markdown",
      "metadata": {
        "id": "gplp51jHNtpy",
        "colab_type": "text"
      },
      "source": [
        "## Nota final\n",
        "\n",
        "Esta libería nos permite simplificar en gran medida el trabajo de convertir información de archivos a datos manejables por nuestro programa en gran medida. Mostramos algunos ejemplos elementales del uso de pandas, no obstante pueden conseguir la documentación oficial de pandas [aquí](http://pandas.pydata.org/pandas-docs/stable/). \n",
        "\n",
        "La habilidad de leer y entender la documentación  de librerías se adquiere con tiempo y experiencia, es muy valorada en la industria."
      ]
    },
    {
      "cell_type": "markdown",
      "metadata": {
        "id": "n8jGDyJXD9vF",
        "colab_type": "text"
      },
      "source": [
        "# Ejercitación Integradora\n",
        "\n",
        "$\\newcommand{\\dif}{\\bigstar}$$\\newcommand{\\facil}{\\color{\\green}{\\dif}}$ $\\newcommand{\\pieceofcake}{\\color{\\cyan}{\\dif}}$$\\newcommand{\\medio}{\\color{\\yellow}{\\dif\\dif}}$$\\newcommand{\\media}{\\medio}$$\\newcommand{\\normal}{\\medio}$  $\\newcommand{\\dificil}{\\color{\\orange}{\\dif\\dif\\dif}}$ $\\newcommand{\\imposible}{\\color{\\red}{\\dif\\dif\\dif\\dif}}$"
      ]
    },
    {
      "cell_type": "markdown",
      "metadata": {
        "id": "q25K8M4gSFeE",
        "colab_type": "text"
      },
      "source": [
        "## $\\facil$ Copy\n",
        "Armar una función que copie un archivo, y lo guarde como Copia 1 - $nombre$, de ya existir debe guardarlo como Copia 2 -, Copia 3 - , ...\n",
        "\n",
        "Usar la libreria os para chequear si existe el archivo:\n",
        "> os.path.exists($nombre$) devolverá True si ya existe\n",
        "> importar con: Import os"
      ]
    },
    {
      "cell_type": "code",
      "metadata": {
        "id": "GkDdwIRJS_XS",
        "colab_type": "code",
        "colab": {}
      },
      "source": [
        "import os\n",
        "\n",
        "def func(nombre):\n",
        "    if(os.path.exists(nombre)==True):\n",
        "        print('Existe')\n",
        "    else:\n",
        "        print('No existe')\n",
        "        \n",
        "func('Datos.csv')\n",
        "func('Hola.csv')"
      ],
      "execution_count": 0,
      "outputs": []
    },
    {
      "cell_type": "markdown",
      "metadata": {
        "id": "VgDj6yaHIAhZ",
        "colab_type": "text"
      },
      "source": [
        "## $\\facil$ California Housing\n",
        "Abrir el archivo que viene incluido ./sample_data/california_housing_train.csv. El archivo contiene un conjunto de datos de viviendas de California, el cual fue extraido del censo de nacional de 1990. Para mas info sobre el set de datos: https://developers.google.com/machine-learning/crash-course/california-housing-data-description\n",
        "\n",
        "Responder las siguientes preguntas:\n",
        "\n",
        "1) Cuantas casas hay con valor 'median_house_value' mayor a 80000 tomando de la longitud -120  a -118? Ans: 5466\n",
        "\n",
        "2) Cual es el promedio de habitaciones por manzana ('total_rooms') de estas casas? Ans: 2466.31\n",
        "\n",
        "3) Cual es la casa mas cara? Cuantas hay con este valor? Ans: 500001.0 - 814 \n",
        "\n",
        "4) $\\medio$ Obtener la media y la varianza de la propiedad 'median_house_value'. Ans: 207300.91 - 13451442293.57\n",
        "\n",
        "Tip: La función **enumerate**($lista$) devuele $posición,elemento$"
      ]
    },
    {
      "cell_type": "code",
      "metadata": {
        "id": "52gHlouFD_ga",
        "colab_type": "code",
        "colab": {}
      },
      "source": [
        "import pandas as pd\n",
        "import numpy as np\n",
        "\n",
        "archivo = pd.read_csv(\"./sample_data/california_housing_train.csv\") \n"
      ],
      "execution_count": 0,
      "outputs": []
    },
    {
      "cell_type": "markdown",
      "metadata": {
        "id": "Xl48eWQ2TJhJ",
        "colab_type": "text"
      },
      "source": [
        "## $\\dificil $ Buscando la $\n",
        "\n",
        "Utilizando el set de datos  incluido ./sample_data/california_housing_train.csv, dividir el area cubierta por el censo cuadrantes de 0.5 de lat y 0.5  de longitud, encontrar para que cuadrtante el 'median_house_value' es el mayor para todas las casas. Buscar donde estan estas coordenadas. Asignar el paso como una variable para que pueda cambiarse facilmente. Para filtrar las zonas de muy baja residencia descarten los valores cuando hay menos de 100 casas\n",
        "\n",
        "Datos utiles:\n",
        "- Minimo de longitud: -124.3\n",
        "- Máximo de longitud: -114.3\n",
        "- Minimo de latitud: 32.5\n",
        "- Máximo de latitud: 42.5\n",
        "\n",
        "Tip: El programa va a tardar en correr, no se asusten!\n",
        "\n",
        "Nota final: Busquen en el mapa estas coordenadas para ver donde quedan! "
      ]
    },
    {
      "cell_type": "code",
      "metadata": {
        "id": "56eXSXlfTqCE",
        "colab_type": "code",
        "colab": {}
      },
      "source": [
        "import pandas as pd\n",
        "import numpy as np\n",
        "\n",
        "archivo = pd.read_csv(\"./sample_data/california_housing_train.csv\") \n",
        "paso = .5\n",
        "\n",
        "lats = np.arange(32.5,42.5,paso)\n",
        "lons = np.arange(-124.3,113.3,paso) \n",
        "maximoValor = 0\n",
        "maximaLat = 0\n",
        "maximaLon = 0\n"
      ],
      "execution_count": 0,
      "outputs": []
    },
    {
      "cell_type": "markdown",
      "metadata": {
        "id": "hn_WCH1PazjB",
        "colab_type": "text"
      },
      "source": [
        "## $\\dificil $ Unificación de bases de datos"
      ]
    },
    {
      "cell_type": "markdown",
      "metadata": {
        "id": "KRXUyhvhbQ7W",
        "colab_type": "text"
      },
      "source": [
        "Para notificar a sus clientes de promos y novedades, una empresa cuenta con varias listas de mails, obtenidos de eventos, compras, etc. Lamentablemente, hasta ahora no se ha trabajado de forma muy ordenada, y estas listas no tienen coherencia entre sí: hay personas que están presentes en más de una lista, y no todas las listas cuentan con la misma información sobre los clientes: **lo único que es consistente es que siempre el mail está en la primera columna**. Esta locura debe terminar.\n",
        "\n",
        "Se desea generar una lista unificada de mails, donde estén presentes todos los clientes que se tiene, y sin perder ningún dato sobre ellos. Asimismo, no debe haber personas repetidas, y si se tiene un mismo cliente en dos listas, debe asegurarse que se conserven todos los datos.\n",
        "\n",
        "Se puede asumir que no habrá datos incongruentes entre sí (por ejemplo, que para un mismo mail no figurarán dos nombres distintos), y que si ocurre se puede elegir uno arbitrariamente.\n",
        "\n",
        "\n",
        "\n",
        "\n"
      ]
    },
    {
      "cell_type": "code",
      "metadata": {
        "id": "o5P_ffQYwzFB",
        "colab_type": "code",
        "colab": {}
      },
      "source": [
        "! wget \"https://raw.githubusercontent.com/IEEESBITBA/Curso-Python/master/Clase_3_datos/lista1.csv\" \n",
        "# primera lista de clientes\n",
        "\n",
        "! wget \"https://raw.githubusercontent.com/IEEESBITBA/Curso-Python/master/Clase_3_datos/lista2.csv\"\n",
        "# segunda lista de clientes\n",
        "\n",
        "! wget \"https://raw.githubusercontent.com/IEEESBITBA/Curso-Python/master/Clase_3_datos/lista_final.csv\"\n",
        "# ejemplo de como tiene que quedar (las columnas pueden quedar en otro orden! salvo la primera)"
      ],
      "execution_count": 0,
      "outputs": []
    },
    {
      "cell_type": "markdown",
      "metadata": {
        "id": "yBP_kg0H7i4s",
        "colab_type": "text"
      },
      "source": [
        "## $\\medio$ El tiempo es dinero\n",
        "\n",
        "La administración del dinero es una tarea que requiere una altísima fiabilidad. Hoy en día ya no existen bancos que administren el dinero \"a mano\".  En esta ocasión tu objetivo será ayudar a John a administrar su banco, en particular necesita un software que administre las cuentas de sus usuarios, en particular, para actualizarlas con las transferencias realizadas en el mes.\n",
        "\n",
        "https://programacionavan.files.wordpress.com/2014/06/code_157775207.jpg\n",
        "\n",
        "<img src=\"https://psmag.com/.image/t_share/MTI3NTgyMzg2MzE2NzAxNjY2/time-is-money.jpg\" width=300>\n",
        "\n",
        "John, por un lado, te brindará un archivo *usuarios.csv* con el dinero disponible de cada usuario, por ejemplo\n",
        "\n",
        "\n",
        "```\n",
        "Usuario,Dinero,\n",
        "Claudia,44000,\n",
        "Agustin,20000,\n",
        "Rocio,30000,\n",
        "Ariel,50000,\n",
        "Joaquin,65555,\n",
        "Uriel,-40000,\n",
        "```\n",
        "\n",
        "Y por otro lado, te dará otro archivo *transferencias.csv* con la información de todas las transferencias entre ususarios del ultimo mes\n",
        "\n",
        "\n",
        "```\n",
        "Dinero,Emisor,Receptor\n",
        "220,Claudia,Uriel\n",
        "2000,Rocio,Ariel\n",
        "43434,Agustin, Rocio,\n",
        "12434,Uriel,Joaquin,\n",
        "```\n",
        "\n",
        "Tu objetivo será actualizar las cuentas de los usuarios en función de las transferencias realizadas generando un nuevo archivo *usuarios_actualizados.csv*\n",
        "En este caso el contenido del archivo *usuarios_actualizados.csv* será\n",
        "\n",
        "\n",
        "```\n",
        "Usuario,Dinero,\n",
        "Claudia,\n",
        "Agustin,\n",
        "Rocio,\n",
        "Ariel,\n",
        "Joaquin,\n",
        "Uriel,\n",
        "```\n",
        "\n",
        "Tip: Se recomienda el uso de pandas para que la lectura y escritura de los archivos se realize en forma consisa."
      ]
    },
    {
      "cell_type": "code",
      "metadata": {
        "id": "kL6WMHsZ7mRU",
        "colab_type": "code",
        "colab": {}
      },
      "source": [
        ""
      ],
      "execution_count": 0,
      "outputs": []
    }
  ]
}