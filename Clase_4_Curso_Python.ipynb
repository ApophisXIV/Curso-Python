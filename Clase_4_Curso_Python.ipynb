{
  "nbformat": 4,
  "nbformat_minor": 0,
  "metadata": {
    "colab": {
      "name": "Clase 4 - Curso Python.ipynb",
      "version": "0.3.2",
      "provenance": [],
      "collapsed_sections": [],
      "toc_visible": true,
      "include_colab_link": true
    },
    "kernelspec": {
      "name": "python3",
      "display_name": "Python 3"
    }
  },
  "cells": [
    {
      "cell_type": "markdown",
      "metadata": {
        "id": "view-in-github",
        "colab_type": "text"
      },
      "source": [
        "<a href=\"https://colab.research.google.com/github/IEEESBITBA/Curso-Python/blob/master/Clase_4_Curso_Python.ipynb\" target=\"_parent\"><img src=\"https://colab.research.google.com/assets/colab-badge.svg\" alt=\"Open In Colab\"/></a>"
      ]
    },
    {
      "cell_type": "markdown",
      "metadata": {
        "id": "hPvRVMxOWd8p",
        "colab_type": "text"
      },
      "source": [
        "# Clase 4\n",
        "\n",
        "¡Bienvenidos a la última clase! Concluiremos el curso aprendiendo a realizar gráficos en Python. Pero primero, repasemos el último tema.\n",
        "\n",
        "\n",
        "## Repaso de pandas\n",
        "\n",
        "Si tuviésemos que realizar el trabajo de leer cada spreadsheet (.xml, .csv) línea por línea, separando cuando hay comas, estructurando a mano la información que vamos obteniendo, sería un trabajo muy tedioso, repetitivo y propenso a errores, ¡no valdría la pena! \n",
        "\n",
        "Por suerte, las funciones que realizan estas tareas ya han sido programadas por la comunidad de Python, y entonces lo que tenemos que hacer se reduce sólo a llamar a funciones de la librería Pandas con distintos parámetros. Este es el caso para la mayoría de las tareas de este tipo: siempre que una función ya esté implementada en una librería estándar, usarla nos ahorra tiempo y mejora nuestro código - ¡no hay que reinventar la rueda!\n",
        "\n",
        "Traigamos el archivo de la clase anterior usando el siguiente codigo:\n",
        "\n"
      ]
    },
    {
      "cell_type": "code",
      "metadata": {
        "id": "2tlaXMfY9qt6",
        "colab_type": "code",
        "colab": {}
      },
      "source": [
        "! wget \"https://raw.githubusercontent.com/IEEESBITBA/Curso-Python/master/Clase_3_datos/Datos.csv\""
      ],
      "execution_count": 0,
      "outputs": []
    },
    {
      "cell_type": "markdown",
      "metadata": {
        "id": "L4akNMQ58y22",
        "colab_type": "text"
      },
      "source": [
        "### Como abrir un csv\n",
        "Primero por tratarse de una libreria debemos realizar el import con:\n",
        "\n",
        "> **import** pandas **as** pd\n",
        "\n",
        "Recueden que el **pd** es unicamente el nombre que le damos a la libreria dentro de nuestro codigo para no tener que escribir todas las veces pandas. .\n",
        "\n",
        "Ahora para leer un csv podemos utilizar:\n",
        "\n",
        "> **pd.read_csv**($nombre$ $del$ $archivo$) \n",
        "\n",
        "Esto nos devolvera un pandas **dataframe** es un tipo de estructura de datos muy utilizada para machine learning y big data."
      ]
    },
    {
      "cell_type": "code",
      "metadata": {
        "id": "_hz8SIrd9kPV",
        "colab_type": "code",
        "colab": {}
      },
      "source": [
        "import pandas as pd\n",
        "\n",
        "datos = pd.read_csv(\"Datos.csv\") \n",
        "# la variable datos es un tipo de dato especial de pandas\n",
        "print(datos)"
      ],
      "execution_count": 0,
      "outputs": []
    },
    {
      "cell_type": "markdown",
      "metadata": {
        "id": "Kx_ypdV8-Iu9",
        "colab_type": "text"
      },
      "source": [
        "Ahora para acceder a una columna simplemente accedemos de la siguiente manera:\n",
        "\n",
        "> variable**[** $columna$ **]**: esto nos devolvera la columa deseada.\n",
        "\n",
        "Veamos un ejemplo:"
      ]
    },
    {
      "cell_type": "code",
      "metadata": {
        "id": "5S2F_Dkx-las",
        "colab_type": "code",
        "colab": {}
      },
      "source": [
        "print(datos['Quimica'])"
      ],
      "execution_count": 0,
      "outputs": []
    },
    {
      "cell_type": "markdown",
      "metadata": {
        "id": "SRZdf0AL-tje",
        "colab_type": "text"
      },
      "source": [
        "Ahora hagamos un promedio de los alumnos en quimica:\n",
        "\n",
        "Tip: Podemos usar la función **sum**($iterable$) para obtener la suma de todos los campos.\n"
      ]
    },
    {
      "cell_type": "code",
      "metadata": {
        "id": "_Q6WY0_-_Tqv",
        "colab_type": "code",
        "colab": {}
      },
      "source": [
        "suma = sum(datos['Quimica'])\n",
        "prom = suma/len(datos['Quimica'])\n",
        "print(prom)"
      ],
      "execution_count": 0,
      "outputs": []
    },
    {
      "cell_type": "markdown",
      "metadata": {
        "id": "VNEyuRbw_sof",
        "colab_type": "text"
      },
      "source": [
        "Ejercicio:\n",
        "Obtener el promedio de Matematica"
      ]
    },
    {
      "cell_type": "code",
      "metadata": {
        "id": "Gw9wxzHe_w_m",
        "colab_type": "code",
        "colab": {}
      },
      "source": [
        ""
      ],
      "execution_count": 0,
      "outputs": []
    },
    {
      "cell_type": "markdown",
      "metadata": {
        "id": "ugPvfaT6_xwk",
        "colab_type": "text"
      },
      "source": [
        "Ahora si queremos acceder a unicamente un alumno podemos realizar lo siguiente:\n",
        "\n",
        "> variable.**loc[**indice**]**\n",
        "\n",
        "Esto nos permite acceder por fila al dataframe, es distinto su acceso ya que los dataframes estan pensados para extraer información de grandes volumens de datos sin que importe el individuo."
      ]
    },
    {
      "cell_type": "code",
      "metadata": {
        "id": "rPIxFK3eAS7O",
        "colab_type": "code",
        "colab": {}
      },
      "source": [
        "print(datos.loc[0])"
      ],
      "execution_count": 0,
      "outputs": []
    },
    {
      "cell_type": "code",
      "metadata": {
        "id": "7Cptf32cA3oG",
        "colab_type": "code",
        "colab": {}
      },
      "source": [
        "print(datos.loc[0]['Legajo'])\n",
        "print(datos.loc[0]['Matematica'])"
      ],
      "execution_count": 0,
      "outputs": []
    },
    {
      "cell_type": "markdown",
      "metadata": {
        "id": "_seKGxnqBB9H",
        "colab_type": "text"
      },
      "source": [
        "Ejercicio: Escribir una función que le pases el dataframe, el indice y haga el promedio de sus materias."
      ]
    },
    {
      "cell_type": "code",
      "metadata": {
        "id": "yrrgQC_7BBSb",
        "colab_type": "code",
        "colab": {}
      },
      "source": [
        ""
      ],
      "execution_count": 0,
      "outputs": []
    },
    {
      "cell_type": "markdown",
      "metadata": {
        "id": "7gcGeoGqBpVV",
        "colab_type": "text"
      },
      "source": [
        "Pandas nos permite trabajar de forma simple con los datos, filtrarlos, sumarlos.\n",
        "\n",
        "Veamos operaciones con los datos:\n",
        "\n",
        "- Operaciones matematicas: Veamos un ejemplo para sacar todos los promedios de los alumnos a la vez."
      ]
    },
    {
      "cell_type": "code",
      "metadata": {
        "id": "hV0EM6NTBaLL",
        "colab_type": "code",
        "colab": {}
      },
      "source": [
        "promedios = (datos['Quimica']+datos['Matematica']+datos['Fisica'])/3\n",
        "print('Todos los promedios')\n",
        "print(res)\n",
        "print('El promedio del alumno 0 es',promedios.loc[0])"
      ],
      "execution_count": 0,
      "outputs": []
    },
    {
      "cell_type": "markdown",
      "metadata": {
        "id": "tVtReU0DCSQV",
        "colab_type": "text"
      },
      "source": [
        "- Filtrado: Nos permite filtrar los datos segun alguna condicion. Esto se realiza de la siguiente manera\n",
        ">> variable**[** (condicion1) &/| (condicion2) &/| (condicion3) ...  **]**\n",
        "\n",
        ">> Las condiciones siguien el siguiente formato: variable**[** propiedad **]** >/</<=/... (numero)\n",
        "\n",
        "> Nota: No debe ser si o si un numero, puede chequearse contra cualquier cosa mientras se puedan cumplir esas condiciones (mayor, menor, mayor o igual, igual, etc.).\n",
        "\n",
        "> Veamos un ejemplo extrayendo todos los alumnos que hayan aprobado quimica (nota>4):"
      ]
    },
    {
      "cell_type": "code",
      "metadata": {
        "id": "RK5TWo0RC0Iz",
        "colab_type": "code",
        "colab": {}
      },
      "source": [
        "aprobados = datos[datos['Quimica']>4]\n",
        "print(aprobados)"
      ],
      "execution_count": 0,
      "outputs": []
    },
    {
      "cell_type": "markdown",
      "metadata": {
        "id": "DKQBux9BDepg",
        "colab_type": "text"
      },
      "source": [
        "Ejercicio: Obtener el promedio general de todos los aprobados en Matematica."
      ]
    },
    {
      "cell_type": "code",
      "metadata": {
        "id": "NdkBXa73DrbH",
        "colab_type": "code",
        "colab": {}
      },
      "source": [
        ""
      ],
      "execution_count": 0,
      "outputs": []
    },
    {
      "cell_type": "markdown",
      "metadata": {
        "id": "wqOHSuRKDr20",
        "colab_type": "text"
      },
      "source": [
        "- Agregar columnas: Para agregar una columa simplemente utilizamos\n",
        ">> variable**[** nombre nueva columna **]** = datos nueva columna\n",
        "\n",
        "> Veamos un ejemplo:"
      ]
    },
    {
      "cell_type": "code",
      "metadata": {
        "id": "8nRu1bEWFAds",
        "colab_type": "code",
        "colab": {}
      },
      "source": [
        "promedios = (datos['Quimica']+datos['Matematica']+datos['Fisica'])/3\n",
        "datos['Promedio'] = promedios\n",
        "print(datos)"
      ],
      "execution_count": 0,
      "outputs": []
    },
    {
      "cell_type": "markdown",
      "metadata": {
        "id": "RpyPqm6zXbBI",
        "colab_type": "text"
      },
      "source": [
        "- Obtener los datos en un diccionario: Pandas tambien nos permite obtener los datos de una forma que ya conocemos que es como un diccionario. Para ello le debemos decir cuales van a ser los keys que debe utilizar. Para eso cuando lo leemos le debemos decir la columna que queremos usar de indice.\n",
        "\n",
        ">> pd.read_csv('archivo', **index_col** = [propiedad])\n",
        "\n",
        "> Veamos un ejemplo:\n",
        "\n"
      ]
    },
    {
      "cell_type": "code",
      "metadata": {
        "id": "56-YtHenF251",
        "colab_type": "code",
        "colab": {}
      },
      "source": [
        "import pandas as pd\n",
        "\n",
        "archivo = pd.read_csv(\"Datos.csv\", index_col =[\"Legajo\"]) \n",
        "print(archivo)"
      ],
      "execution_count": 0,
      "outputs": []
    },
    {
      "cell_type": "markdown",
      "metadata": {
        "id": "LwaCYuzZGB5p",
        "colab_type": "text"
      },
      "source": [
        "> Observen que ahora la primera columna en vez de ser 0,1,2,... son los legajos, esto nos permite acceder con .loc por legajo!"
      ]
    },
    {
      "cell_type": "code",
      "metadata": {
        "id": "PHT9D2uAGNV1",
        "colab_type": "code",
        "colab": {}
      },
      "source": [
        "print(archivo.loc[34567])"
      ],
      "execution_count": 0,
      "outputs": []
    },
    {
      "cell_type": "markdown",
      "metadata": {
        "id": "2A2Xf-BOGYY5",
        "colab_type": "text"
      },
      "source": [
        "> Ahora podemos pedirle que nos transforme en un diccionario como el que armamos la clase pasada, para ello usamos lo siguiente:\n",
        "\n",
        ">> variable.**to_dict**(\"index\")\n",
        "\n",
        "> Nota: El metodo to_dict permite pasarle otras cosas que no sean \"index\" para obtener los datos de multiples maneras. Si quieren investigar les dejamos el siguiente link: https://pandas.pydata.org/pandas-docs/stable/reference/api/pandas.DataFrame.to_dict.html "
      ]
    },
    {
      "cell_type": "code",
      "metadata": {
        "id": "HYaeYefhG77w",
        "colab_type": "code",
        "colab": {}
      },
      "source": [
        "diccionario = archivo.to_dict(\"index\")\n",
        "print(diccionario)"
      ],
      "execution_count": 0,
      "outputs": []
    },
    {
      "cell_type": "markdown",
      "metadata": {
        "id": "BdFvKELO9JM9",
        "colab_type": "text"
      },
      "source": [
        "## Visualización de datos\n",
        "Bienvenidos a la clase 4. Hasta ahora, se les ha enseñado un manejo del lenguaje que les permitió escribir, leer e interactuar con información. \n",
        "\n",
        "En esta clase comenzaremos a enseñarles formas de que la información sea visualizada de una manera sencilla pero al mismo tiempo adecuada. \n",
        "\n",
        "Siempre la forma en la que mostramos datos debe enfatizar algun aspecto de ellos que queremos enfatizar.\n",
        "\n",
        "En Python la forma más usual con la que se visualiza la información es utilizando la libería maplotlib\n",
        "\n",
        "<img src=\"https://matplotlib.org/_static/logo2.png\" width=\"500\" alt=\"matplotlib logo\" title=\"Utilizado en el ámbito cientifico para todo tipo de graficos. Casi mejor que MATLAB... casi\">"
      ]
    },
    {
      "cell_type": "markdown",
      "metadata": {
        "id": "2fGGAByT9uD-",
        "colab_type": "text"
      },
      "source": [
        "### MatplotLib\n",
        "[Matplotlib](https://en.wikipedia.org/wiki/Matplotlib) nos ofrece una gran variedad de formas para visualizar datos. A continuación les mostramos algunos ejemplos de graficos realizados con la librería\n",
        "\n",
        "<img src=\"https://scipy-cookbook.readthedocs.io/_downloads/contourf3D.png\" width=300px>\n",
        "\n",
        "<img src=\"https://s3.amazonaws.com/stackabuse/media/linear-regression-python-scikit-learn-1.png\" width=300px>\n",
        "\n",
        "<img src=\"https://www.machinelearningplus.com/wp-content/uploads/2018/11/23_DensityPlot_With_Histogram_Matplotlib-min.png\" width=300px>\n",
        "\n",
        "<img src=\"https://www.machinelearningplus.com/wp-content/uploads/2018/11/29_PyramidPlot_Matplotlib-min.png\" width=300px>\n",
        "<img src=\"https://www.machinelearningplus.com/wp-content/uploads/2018/11/36_TimeSeries_Peaks_Troughs_Matplotlib-min.png\" width=300px>"
      ]
    },
    {
      "cell_type": "markdown",
      "metadata": {
        "id": "d39mSW8LKggp",
        "colab_type": "text"
      },
      "source": [
        "A partir de ahora les daremos una introducción en el uso de matplotlib, en particular complementaremos los conocimientos de la clase anterior para la lectura y de archivos; les mostraremos como lograr que dicha información sea mostrada en distintos tipos de graficos"
      ]
    },
    {
      "cell_type": "markdown",
      "metadata": {
        "id": "L5P7psGoPvQo",
        "colab_type": "text"
      },
      "source": [
        "### Gráfico simple (función plot)\n",
        "Es el gráfico comun con una linea que interpola todos los puntos. Lo llamamos de la siguiente manera.\n",
        "\n",
        "> plt.**plot**(x,y,$propiedades$)\n",
        "\n",
        "Para que muestre los graficos le debemos decir a matplotlib:\n",
        "\n",
        "> plt.**show**()"
      ]
    },
    {
      "cell_type": "code",
      "metadata": {
        "id": "jkf1Eso5P_rJ",
        "colab_type": "code",
        "colab": {}
      },
      "source": [
        "import matplotlib.pyplot as plt\n",
        "import numpy as np\n",
        "\n",
        "x = np.arange(0,2*3.14,0.01)\n",
        "y = np.sin(x)\n",
        "y2 = np.cos(x)\n",
        "plt.plot(x,y) # graficamos función y\n",
        "plt.plot(x,y2) # graficamos función x\n",
        "plt.show()"
      ],
      "execution_count": 0,
      "outputs": []
    },
    {
      "cell_type": "markdown",
      "metadata": {
        "id": "Qb5YYzG6LX_F",
        "colab_type": "text"
      },
      "source": [
        "Algunas propiedades utiles que le podemos agregar son:\n",
        "\n",
        "- En la primera opcion le podemos pasar un string que indica el color y el tipo de linea. 'b-.' seria una linea azul linea punto: "
      ]
    },
    {
      "cell_type": "code",
      "metadata": {
        "id": "uiDyy7lnLq1q",
        "colab_type": "code",
        "colab": {}
      },
      "source": [
        "x = np.arange(0,2*3.14,0.01)\n",
        "y = np.sin(x)\n",
        "plt.plot(x,y,'b-.') # graficamos función y\n",
        "plt.show()"
      ],
      "execution_count": 0,
      "outputs": []
    },
    {
      "cell_type": "markdown",
      "metadata": {
        "id": "Ya46ONWbL2MQ",
        "colab_type": "text"
      },
      "source": [
        "> Les dejamos algunos colores y tipos de lineas:\n",
        "\n",
        "<img src=\"https://github.com/IEEESBITBA/Curso-Python/blob/master/_assets/ColoresLineas.png?raw=True\" height=\"600px\">\n",
        "\n"
      ]
    },
    {
      "cell_type": "markdown",
      "metadata": {
        "id": "ZK7hQa0XOHS0",
        "colab_type": "text"
      },
      "source": [
        "- label: Nos permite ponerle un nombre a la linea. Esto lo hacemos agregando el parametro **label=**nombre de la funcion.\n",
        "\n",
        "> Nota: Debemos decirle a matplotlib que muestre el nombre esto lo hacemos llamando a:  plt.**legend**()"
      ]
    },
    {
      "cell_type": "code",
      "metadata": {
        "id": "CCeKaBGTOLXN",
        "colab_type": "code",
        "colab": {}
      },
      "source": [
        "x = np.arange(0,2*3.14,0.01)\n",
        "y = np.sin(x)\n",
        "y2 = np.cos(x)\n",
        "plt.plot(x,y,'b-',label='Seno') # graficamos función y\n",
        "plt.plot(x,y2,'r-.',label='Coseno') # graficamos función x\n",
        "plt.legend()\n",
        "plt.show()"
      ],
      "execution_count": 0,
      "outputs": []
    },
    {
      "cell_type": "markdown",
      "metadata": {
        "id": "69Wh3mpUT920",
        "colab_type": "text"
      },
      "source": [
        "Ejercicio: Graficar un circulo. recordar que $x=r\\cdot cos(\\theta),y=r\\cdot sin(\\theta)$"
      ]
    },
    {
      "cell_type": "code",
      "metadata": {
        "id": "EOHJisi-T9iQ",
        "colab_type": "code",
        "colab": {}
      },
      "source": [
        ""
      ],
      "execution_count": 0,
      "outputs": []
    },
    {
      "cell_type": "markdown",
      "metadata": {
        "id": "fCGYdRTLuGlc",
        "colab_type": "text"
      },
      "source": [
        "### Piechart\n",
        "Este grafico lo realizamos con la siguiente funcion:\n",
        "\n",
        "> plt.**pie**($tamaños$)"
      ]
    },
    {
      "cell_type": "code",
      "metadata": {
        "id": "TQIcsgGWuHwF",
        "colab_type": "code",
        "colab": {}
      },
      "source": [
        "import matplotlib.pyplot as plt\n",
        "\n",
        "sizes = [215, 130, 245, 210]\n",
        "\n",
        " \n",
        "plt.pie(sizes)\n",
        "plt.axis('equal')\n",
        "plt.show()"
      ],
      "execution_count": 0,
      "outputs": []
    },
    {
      "cell_type": "markdown",
      "metadata": {
        "id": "zv78JFjaJaaw",
        "colab_type": "text"
      },
      "source": [
        "El gráfico asi no nos dice mucho, por lo que con las siguientes opciones podemos hacerlo mas util:\n",
        "\n",
        "- explode: Le indicamos si alguna de las porciones deben estar alejadas del centro/\n",
        "\n"
      ]
    },
    {
      "cell_type": "code",
      "metadata": {
        "id": "Jk6Nv2yMJlEx",
        "colab_type": "code",
        "colab": {}
      },
      "source": [
        "import matplotlib.pyplot as plt\n",
        "\n",
        "\n",
        "sizes = [215, 130, 245, 210]\n",
        "\n",
        "\n",
        "explode = (0.1, 0, 0, 0)  # explode 1st slice\n",
        " \n",
        "plt.pie(sizes, explode=explode)\n",
        " #en autopct ponemos como deseamos que se escriban los porcentajes\n",
        "\n",
        "plt.axis('equal')\n",
        "plt.show()"
      ],
      "execution_count": 0,
      "outputs": []
    },
    {
      "cell_type": "markdown",
      "metadata": {
        "id": "fpdmvSLVO80u",
        "colab_type": "text"
      },
      "source": [
        "- labels: Le indicamos el nombre de cada porción.\n"
      ]
    },
    {
      "cell_type": "code",
      "metadata": {
        "id": "7-ocZVzxPLjh",
        "colab_type": "code",
        "colab": {}
      },
      "source": [
        "import matplotlib.pyplot as plt\n",
        "\n",
        "labels = ('Python', 'C++', 'Ruby', 'Java')\n",
        "sizes = [215, 130, 245, 210]\n",
        "\n",
        "\n",
        "explode = (0.1, 0, 0, 0)  # explode 1st slice\n",
        " \n",
        "plt.pie(sizes, explode=explode, labels=labels)\n",
        " #en autopct ponemos como deseamos que se escriban los porcentajes\n",
        "\n",
        "plt.axis('equal')\n",
        "plt.show()"
      ],
      "execution_count": 0,
      "outputs": []
    },
    {
      "cell_type": "markdown",
      "metadata": {
        "id": "raEm6BoKO-OY",
        "colab_type": "text"
      },
      "source": [
        "- colors: Le podemos asignar un color nosotros.\n"
      ]
    },
    {
      "cell_type": "code",
      "metadata": {
        "id": "5jSnB_BGPTlt",
        "colab_type": "code",
        "colab": {}
      },
      "source": [
        "import matplotlib.pyplot as plt\n",
        "\n",
        "labels = ('Python', 'C++', 'Ruby', 'Java')\n",
        "sizes = [215, 130, 245, 210]\n",
        "colors = ['gold', 'yellowgreen', 'lightcoral', 'lightskyblue']\n",
        "\n",
        "explode = (0.1, 0, 0, 0)  # explode 1st slice\n",
        " \n",
        "plt.pie(sizes, explode=explode, labels=labels, colors=colors)\n",
        " #en autopct ponemos como deseamos que se escriban los porcentajes\n",
        "\n",
        "plt.axis('equal')\n",
        "plt.show()"
      ],
      "execution_count": 0,
      "outputs": []
    },
    {
      "cell_type": "markdown",
      "metadata": {
        "id": "lf_sexpvO_pg",
        "colab_type": "text"
      },
      "source": [
        "- startangle: Le idnicamos el angulo de rotación.\n"
      ]
    },
    {
      "cell_type": "code",
      "metadata": {
        "id": "dFNYdz1aPjHb",
        "colab_type": "code",
        "colab": {}
      },
      "source": [
        "import matplotlib.pyplot as plt\n",
        "\n",
        "labels = 'Python', 'C++', 'Ruby', 'Java'\n",
        "sizes = [215, 130, 245, 210]\n",
        "colors = ['gold', 'yellowgreen', 'lightcoral', 'lightskyblue']\n",
        "\n",
        "explode = (0.1, 0, 0, 0)  # explode 1st slice\n",
        " \n",
        "plt.pie(sizes, explode=explode, labels=labels, colors=colors,  startangle=140)\n",
        " #en autopct ponemos como deseamos que se escriban los porcentajes\n",
        "\n",
        "plt.axis('equal')\n",
        "plt.show()"
      ],
      "execution_count": 0,
      "outputs": []
    },
    {
      "cell_type": "markdown",
      "metadata": {
        "id": "q9uPv8dMPBL-",
        "colab_type": "text"
      },
      "source": [
        "- autopct: Le indicamos que nos muestre los porcentajes. Esto sigue una sintaxis estandar, pero para que muestre un decimal se usa la siguiente \"%1.1f%%\" esto le dice que vamos a mostrar un numero float con 1 decimal, el %% indica que queremos el simbolo %. "
      ]
    },
    {
      "cell_type": "code",
      "metadata": {
        "id": "CpRRXZuwPqJK",
        "colab_type": "code",
        "colab": {}
      },
      "source": [
        "import matplotlib.pyplot as plt\n",
        "\n",
        "labels = ('Python', 'C++', 'Ruby', 'Java')\n",
        "sizes = [215, 130, 245, 210]\n",
        "colors = ['gold', 'yellowgreen', 'lightcoral', 'lightskyblue']\n",
        "\n",
        "explode = (0.1, 0, 0, 0)  # explode 1st slice\n",
        " \n",
        "plt.pie(sizes, explode=explode, labels=labels, colors=colors, autopct='%1.1f%%',  startangle=140)\n",
        " #en autopct ponemos como deseamos que se escriban los porcentajes\n",
        "\n",
        "plt.axis('equal')\n",
        "plt.show()"
      ],
      "execution_count": 0,
      "outputs": []
    },
    {
      "cell_type": "markdown",
      "metadata": {
        "id": "6SffUwPmVIFB",
        "colab_type": "text"
      },
      "source": [
        "Ejercicio: Hacer una pizza con 4 sabores distintos"
      ]
    },
    {
      "cell_type": "code",
      "metadata": {
        "id": "tTrfrH89VShy",
        "colab_type": "code",
        "colab": {}
      },
      "source": [
        ""
      ],
      "execution_count": 0,
      "outputs": []
    },
    {
      "cell_type": "markdown",
      "metadata": {
        "id": "wUUuj0WsWQ-d",
        "colab_type": "text"
      },
      "source": [
        "Nota: SI quieren mas información de como mostrar la información efectivamente usando piecharts les dejamos este link: https://medium.com/@kvnamipara/a-better-visualisation-of-pie-charts-by-matplotlib-935b7667d77f"
      ]
    },
    {
      "cell_type": "markdown",
      "metadata": {
        "id": "ZTkKUuURvNwm",
        "colab_type": "text"
      },
      "source": [
        "### Stem plot\n",
        "Para graficar puntos, esto se realiza de la siguiente manera:\n",
        "\n",
        "> plt.**stem**(x,y)"
      ]
    },
    {
      "cell_type": "code",
      "metadata": {
        "id": "aEUYUSpYvWoF",
        "colab_type": "code",
        "colab": {}
      },
      "source": [
        "import matplotlib.pyplot as plt\n",
        "import numpy as np\n",
        "\n",
        "puntos = 10\n",
        "espacio = 1\n",
        "\n",
        "inicio = 0 \n",
        "fin =  5\n",
        "\n",
        "x = np.linspace(inicio,fin, puntos)\n",
        "y = x**2-4\n",
        "y2 = -0.5*x**2-4\n",
        "# En la priemra letra le decimos el color y despues el estilo de linea\n",
        "\n",
        "plt.stem(x, y )\n",
        "plt.stem(x,y2)\n",
        "\n",
        "\n",
        "plt.show()"
      ],
      "execution_count": 0,
      "outputs": []
    },
    {
      "cell_type": "markdown",
      "metadata": {
        "id": "32K3lFg9LP6C",
        "colab_type": "text"
      },
      "source": [
        "Pero esto no se ve muy lindo, por lo que podemos al igual que las lineas decirle el color, el tipo de linea y el nombre:\n",
        "\n",
        "Nota: Podemos combinar este grafico con plot!"
      ]
    },
    {
      "cell_type": "code",
      "metadata": {
        "id": "EzxJL0YXLO06",
        "colab_type": "code",
        "colab": {}
      },
      "source": [
        "import matplotlib.pyplot as plt\n",
        "import numpy as np\n",
        "\n",
        "puntos = 10\n",
        "espacio = 1\n",
        "\n",
        "inicio = 0 \n",
        "fin =  5\n",
        "\n",
        "x = np.linspace(inicio,fin, puntos)\n",
        "y = x**2-4\n",
        "y2 = -0.5*x**2-4\n",
        "# En la priemra letra le decimos el color y despues el estilo de linea\n",
        "\n",
        "plt.stem(x, y ,'g-',label='Ingresos')\n",
        "plt.stem(x,y2,'r-.',label = 'Gastos')\n",
        "plt.plot(x,y+y2,'b-',label = 'Ganancia')\n",
        "\n",
        "plt.legend()\n",
        "plt.show()"
      ],
      "execution_count": 0,
      "outputs": []
    },
    {
      "cell_type": "markdown",
      "metadata": {
        "id": "UeEadXCrP-X1",
        "colab_type": "text"
      },
      "source": [
        "Pero observamos que el punto de los gastos esta en azul, esto podemos cambiarlo con:\n",
        "-  markerfmt=color y punto: Le indicamos un color y un tipo de punto con una sintaxis parecida el tipo de linea."
      ]
    },
    {
      "cell_type": "code",
      "metadata": {
        "id": "gX_4ZbByQUwR",
        "colab_type": "code",
        "colab": {}
      },
      "source": [
        "import matplotlib.pyplot as plt\n",
        "import numpy as np\n",
        "\n",
        "puntos = 10\n",
        "espacio = 1\n",
        "\n",
        "inicio = 0 \n",
        "fin =  5\n",
        "\n",
        "x = np.linspace(inicio,fin, puntos)\n",
        "y = x**2\n",
        "y2 = -0.5*x**2-4\n",
        "# En la priemra letra le decimos el color y despues el estilo de linea\n",
        "\n",
        "plt.stem(x, y ,'g-',label='Ingresos',markerfmt='b*')\n",
        "plt.stem(x,y2,'r-.',label = 'Gastos',markerfmt='rx')\n",
        "plt.plot(x,y+y2,'b-',label = 'Ganancia')\n",
        "\n",
        "plt.legend()\n",
        "plt.show()"
      ],
      "execution_count": 0,
      "outputs": []
    },
    {
      "cell_type": "markdown",
      "metadata": {
        "id": "xeS30JGVvoxO",
        "colab_type": "text"
      },
      "source": [
        "### Histograma"
      ]
    },
    {
      "cell_type": "markdown",
      "metadata": {
        "id": "b0WC53YIWztC",
        "colab_type": "text"
      },
      "source": [
        "Para realizar un histograma utilizamos la función:\n",
        "\n",
        "> plt.**hist**(x,numero de bins,propiedades)\n",
        "\n",
        "Veamos un ejemplo:"
      ]
    },
    {
      "cell_type": "code",
      "metadata": {
        "id": "a4qHb__9XK__",
        "colab_type": "code",
        "colab": {}
      },
      "source": [
        "import matplotlib.pyplot as plt\n",
        "import numpy as np\n",
        "\n",
        "rand = np.random.normal(0,2,1000)\n",
        "plt.hist(rand,20)\n",
        "plt.show()"
      ],
      "execution_count": 0,
      "outputs": []
    },
    {
      "cell_type": "markdown",
      "metadata": {
        "id": "ThejJH3YXlO6",
        "colab_type": "text"
      },
      "source": [
        "Podemos superponerle la función teorica:\n",
        "\n",
        "Nota: le podemos pasar el parametro densit=True indicandole que normalize el histograma"
      ]
    },
    {
      "cell_type": "code",
      "metadata": {
        "id": "GnZN6ZeZXpWQ",
        "colab_type": "code",
        "colab": {}
      },
      "source": [
        "import matplotlib.pyplot as plt\n",
        "import numpy as np\n",
        "mu = 0\n",
        "var = 2\n",
        "t = np.arange(-10,10,0.01)\n",
        "y = 1/np.sqrt(2*np.pi*var)*np.exp(-(t-mu)**2/(2*var))\n",
        "rand = np.random.normal(mu,var,10000)\n",
        "plt.hist(rand,20,density=True)\n",
        "plt.plot(t,y)\n",
        "plt.show()"
      ],
      "execution_count": 0,
      "outputs": []
    },
    {
      "cell_type": "markdown",
      "metadata": {
        "id": "4Tc1jr5xxAC-",
        "colab_type": "text"
      },
      "source": [
        "## Gráficos: opciones"
      ]
    },
    {
      "cell_type": "markdown",
      "metadata": {
        "id": "yZk2kMQlIuMl",
        "colab_type": "text"
      },
      "source": [
        "Cuando realizamos un gráfico, no sólo es importante la información que mostramos en el mismo, sino cómo lo hacemos. Si bien Matplotlib tiene una configuración por default para el formato, lo cual nos permite realizar gráficos rápidos sin preocuparnos por esos detalles, de ser nesario nos permite personalizar el formato del gráfico tanto como requiera nuestro proyecto.\n",
        "\n",
        "Para poder indicarle a Matplotlib qué parte del formato queremos configurar, primero debemos saber los nombres que utiliza para las partes del gráfico. \n",
        "\n",
        "<img src=\"https://matplotlib.org/_images/anatomy.png\" width=400px>\n",
        "\n",
        "---\n",
        "*Comentario: esta nomenclatura no es única de matplotlib - les sirve también para otras librerías de python y otros lenguajes*\n",
        "\n",
        "Muchas veces es conveniente agregarle grilla y referencias a los gráficos, para poder lograr contrastar la información de manera adecuada. Una de las formas de lograr esto es con el siguiente código:"
      ]
    },
    {
      "cell_type": "code",
      "metadata": {
        "id": "mTeXkJfzIzZQ",
        "colab_type": "code",
        "colab": {}
      },
      "source": [
        "import matplotlib.pyplot as plt\n",
        "import numpy as np\n",
        "import matplotlib.patches as mpatches\n",
        "\n",
        "x = np.arange(0,2*3.14,0.01)\n",
        "y = np.sin(x)\n",
        "y2 = np.cos(x)\n",
        "plt.plot(x,y,label='seno') # graficamos función y\n",
        "plt.plot(x,y2,label='coseno') # graficamos función x\n",
        "\n",
        "plt.grid()    # agrego grilla\n",
        "plt.legend()  # muestro las labels\n",
        "\n",
        "plt.show()    # muestro el grafico"
      ],
      "execution_count": 0,
      "outputs": []
    },
    {
      "cell_type": "markdown",
      "metadata": {
        "id": "3gZgdNKaQ4Lm",
        "colab_type": "text"
      },
      "source": [
        "Tambien podemos ponerle nombres a los ejes usando:\n",
        "\n",
        "> plt.**xlabel**(nombre) o plt.**ylabel**(nombre)"
      ]
    },
    {
      "cell_type": "code",
      "metadata": {
        "id": "mnWE6Mk5Q_Kf",
        "colab_type": "code",
        "colab": {}
      },
      "source": [
        "import matplotlib.pyplot as plt\n",
        "import numpy as np\n",
        "\n",
        "puntos = 10\n",
        "espacio = 1\n",
        "\n",
        "inicio = 0 \n",
        "fin =  5\n",
        "\n",
        "x = np.linspace(inicio,fin, puntos)\n",
        "y = x**2\n",
        "y2 = -0.5*x**2-4\n",
        "# En la priemra letra le decimos el color y despues el estilo de linea\n",
        "\n",
        "plt.stem(x, y ,'g-',label='Ingresos',markerfmt='b*')\n",
        "plt.stem(x,y2,'r-.',label = 'Gastos',markerfmt='rx')\n",
        "plt.plot(x,y+y2,'b-',label = 'Ganancia')\n",
        "\n",
        "plt.legend()\n",
        "plt.grid()\n",
        "plt.xlabel('Tiempo (meses)')\n",
        "plt.ylabel('Dinero (miles de dolares)')\n",
        "plt.show()"
      ],
      "execution_count": 0,
      "outputs": []
    },
    {
      "cell_type": "markdown",
      "metadata": {
        "id": "wmvppLEeZ7vE",
        "colab_type": "text"
      },
      "source": [
        "Podemos agregarle un titulo al gráfico con la siguiente función:\n",
        "\n",
        "> plt.**title**(titulo)"
      ]
    },
    {
      "cell_type": "code",
      "metadata": {
        "id": "tobSco6PZ7bt",
        "colab_type": "code",
        "colab": {}
      },
      "source": [
        "import numpy as np\n",
        "import matplotlib.pyplot as plt\n",
        "\n",
        "# valores de los componentes\n",
        "# genero un vector con tiempos para evaluar las funciones y plotear\n",
        "\n",
        "t = np.arange(0, 1, 0.01)\n",
        "\n",
        "y = np.exp(-t*2+1)\n",
        "\n",
        "y2 = 1.25*np.exp(t*2-1)\n",
        "\n",
        "plt.plot(t, y, \"green\",label=\"Demanda\")\n",
        "plt.plot(t, y2, \"orange\",label=\"Oferta\")\n",
        "\n",
        "\n",
        "plt.ylabel(\"Cantidad (Millones)\")\n",
        "plt.xlabel(\"Precio ($)\")\n",
        "\n",
        "# pongo una grilla\n",
        "#Agregamos Sub divisiones a la grilla\n",
        "plt.minorticks_on()\n",
        "#Le asignamos el estilo a la grilla pequeña\n",
        "plt.grid(which='minor', linestyle=':', linewidth=0.2, color='black')\n",
        "#Le asignamos el estilo a la grilla mayor\n",
        "plt.grid(which='major', linestyle='-', linewidth=0.3, color='black')\n",
        "\n",
        "#agregamos el titulo\n",
        "plt.title(\"Ganancias de mi empresa 2019\")\n",
        "# agregamos leyenda\n",
        "plt.legend()\n",
        "\n",
        "# muestro el grafico que prepare\n",
        "\n",
        "plt.show()"
      ],
      "execution_count": 0,
      "outputs": []
    },
    {
      "cell_type": "markdown",
      "metadata": {
        "id": "4UHodso7yX-d",
        "colab_type": "text"
      },
      "source": [
        "Podemos tambien modificar la grilla utilizando:\n",
        "\n",
        "> plt.**minorticks_on**(): Para encender los minor ticks\n",
        "\n",
        "> plt.**grid**(which='minor'/'mayor', linestyle=tipo de linea, linewidth=ancho, color=color)"
      ]
    },
    {
      "cell_type": "code",
      "metadata": {
        "id": "23v05Z77yYNU",
        "colab_type": "code",
        "colab": {}
      },
      "source": [
        "import numpy as np\n",
        "import matplotlib.pyplot as plt\n",
        "\n",
        "# valores de los componentes\n",
        "# genero un vector con tiempos para evaluar las funciones y plotear\n",
        "\n",
        "t = np.arange(0, 1, 0.01)\n",
        "\n",
        "y = np.exp(-t*2+1)\n",
        "\n",
        "y2 = 1.25*np.exp(t*2-1)\n",
        "\n",
        "plt.plot(t, y, \"green\",label=\"Demanda\")\n",
        "plt.plot(t, y2, \"orange\",label=\"Oferta\")\n",
        "\n",
        "\n",
        "plt.ylabel(\"Cantidad (Millones)\")\n",
        "plt.xlabel(\"Precio ($)\")\n",
        "\n",
        "# pongo una grilla\n",
        "#Agregamos Sub divisiones a la grilla\n",
        "plt.minorticks_on()\n",
        "#Le asignamos el estilo a la grilla pequeña\n",
        "plt.grid(which='minor', linestyle=':', linewidth=0.2, color='black')\n",
        "#Le asignamos el estilo a la grilla mayor\n",
        "plt.grid(which='major', linestyle='-', linewidth=0.3, color='black')\n",
        "\n",
        "\n",
        "# agregamos leyenda\n",
        "plt.legend()\n",
        "\n",
        "# muestro el grafico que prepare\n",
        "\n",
        "plt.show()"
      ],
      "execution_count": 0,
      "outputs": []
    },
    {
      "cell_type": "markdown",
      "metadata": {
        "id": "hPeDsCwUTDsZ",
        "colab_type": "text"
      },
      "source": [
        "Tambien podemos cambiarle el tamaño a la figura, para ello le debemos indicar antes de graficar que vamos a trabajar en una figura del tamaño que queramos (en pulgadas =( ). Esto lo hacemos de la siguiente manera:\n",
        "\n",
        "> plt.**figure(** figsize = (ancho,alto) **)**\n",
        "\n",
        "> ... Todo lo que queramos graficar\n",
        "\n",
        "> plt.**show**()"
      ]
    },
    {
      "cell_type": "code",
      "metadata": {
        "id": "VjJgzYBETkFq",
        "colab_type": "code",
        "colab": {}
      },
      "source": [
        "import matplotlib.pyplot as plt\n",
        "import numpy as np\n",
        "\n",
        "puntos = 10\n",
        "espacio = 1\n",
        "\n",
        "inicio = 0 \n",
        "fin =  5\n",
        "\n",
        "x = np.linspace(inicio,fin, puntos)\n",
        "y = x**2\n",
        "y2 = -0.5*x**2-4\n",
        "\n",
        "#Le idnciamos el tamaño de la figura\n",
        "plt.figure(figsize=(20,10))\n",
        "\n",
        "# En la priemra letra le decimos el color y despues el estilo de linea\n",
        "\n",
        "plt.stem(x, y ,'g-',label='Ingresos',markerfmt='b*')\n",
        "plt.stem(x,y2,'r-.',label = 'Gastos',markerfmt='rx')\n",
        "plt.plot(x,y+y2,'b-',label = 'Ganancia')\n",
        "\n",
        "plt.legend()\n",
        "plt.grid()\n",
        "plt.xlabel('Tiempo (meses)')\n",
        "plt.ylabel('Dinero (miles de dolares)')\n",
        "plt.title(\"Ganancia de mi empresa\")\n",
        "plt.show()"
      ],
      "execution_count": 0,
      "outputs": []
    },
    {
      "cell_type": "markdown",
      "metadata": {
        "id": "j2QG451SZbIV",
        "colab_type": "text"
      },
      "source": [
        "Si solo nos interesa una parte del gráfico podemos pasarle que nos muestre solo esa parte usando:\n",
        "\n",
        "> plt.**xlim**((xmin,xmax)) y plt.**ylim**((ymin,ymax))"
      ]
    },
    {
      "cell_type": "code",
      "metadata": {
        "id": "2NYQw83pZp33",
        "colab_type": "code",
        "colab": {}
      },
      "source": [
        "import numpy as np\n",
        "import matplotlib.pyplot as plt\n",
        "\n",
        "# valores de los componentes\n",
        "# genero un vector con tiempos para evaluar las funciones y plotear\n",
        "\n",
        "t = np.arange(0, 1, 0.01)\n",
        "\n",
        "y = np.exp(-t*2+1)\n",
        "\n",
        "y2 = 1.25*np.exp(t*2-1)\n",
        "\n",
        "plt.plot(t, y, \"green\",label=\"Demanda\")\n",
        "plt.plot(t, y2, \"orange\",label=\"Oferta\")\n",
        "\n",
        "\n",
        "plt.ylabel(\"Cantidad (Millones)\")\n",
        "plt.xlabel(\"Precio ($)\")\n",
        "\n",
        "# pongo una grilla\n",
        "#Agregamos Sub divisiones a la grilla\n",
        "plt.minorticks_on()\n",
        "#Le asignamos el estilo a la grilla pequeña\n",
        "plt.grid(which='minor', linestyle=':', linewidth=0.2, color='black')\n",
        "#Le asignamos el estilo a la grilla mayor\n",
        "plt.grid(which='major', linestyle='-', linewidth=0.3, color='black')\n",
        "\n",
        "\n",
        "# agregamos leyenda\n",
        "plt.legend()\n",
        "\n",
        "# muestro el grafico que prepare\n",
        "\n",
        "plt.show()"
      ],
      "execution_count": 0,
      "outputs": []
    },
    {
      "cell_type": "markdown",
      "metadata": {
        "id": "r6UOdDeFSP7o",
        "colab_type": "text"
      },
      "source": [
        "## Como guardar un grafico\n",
        "Todos los gráficos que estuvimos haciendo podemos guardarlos como png o jpg para agregarlos a nuestros informes!\n",
        "\n",
        "Esto lo hacemos con la siguiente función:\n",
        "\n",
        "> plt.**savefig**(nombre del archivo)\n",
        "\n",
        "Nota: Es muy imporante que lo hagan antes del **show** ya que si no el gráfico ya se habra enviado a pantalla y se limpia para hacer otro grafico!"
      ]
    },
    {
      "cell_type": "code",
      "metadata": {
        "id": "43105cnjSmv6",
        "colab_type": "code",
        "colab": {}
      },
      "source": [
        "import numpy as np\n",
        "import matplotlib.pyplot as plt\n",
        "\n",
        "# valores de los componentes\n",
        "# genero un vector con tiempos para evaluar las funciones y plotear\n",
        "\n",
        "t = np.arange(0, 1, 0.01)\n",
        "\n",
        "y = np.exp(-t*2+1)\n",
        "\n",
        "y2 = 1.25*np.exp(t*2-1)\n",
        "plt.figure(figsize=(20,10))\n",
        "plt.plot(t, y, \"green\",label=\"Demanda\")\n",
        "plt.plot(t, y2, \"orange\",label=\"Oferta\")\n",
        "\n",
        "\n",
        "plt.ylabel(\"Cantidad (Millones)\")\n",
        "plt.xlabel(\"Precio ($)\")\n",
        "\n",
        "# pongo una grilla\n",
        "#Agregamos Sub divisiones a la grilla\n",
        "plt.minorticks_on()\n",
        "#Le asignamos el estilo a la grilla pequeña\n",
        "plt.grid(which='minor', linestyle=':', linewidth=0.2, color='black')\n",
        "#Le asignamos el estilo a la grilla mayor\n",
        "plt.grid(which='major', linestyle='-', linewidth=0.3, color='black')\n",
        "\n",
        "\n",
        "# agregamos leyenda\n",
        "plt.legend(loc=\"upper left\")\n",
        "\n",
        "# muestro el grafico que prepare\n",
        "plt.savefig('ofdem.png')\n",
        "plt.show()\n"
      ],
      "execution_count": 0,
      "outputs": []
    },
    {
      "cell_type": "code",
      "metadata": {
        "id": "U3zgeOCpSpND",
        "colab_type": "code",
        "colab": {}
      },
      "source": [
        ""
      ],
      "execution_count": 0,
      "outputs": []
    },
    {
      "cell_type": "markdown",
      "metadata": {
        "id": "M7mGij2tllPl",
        "colab_type": "text"
      },
      "source": [
        "# Temas extra\n",
        "## Como instalar python\n",
        "Muchas veces querremos trabajar con python en nuestra computadora, para ello vamos a necesitar instalarlo.\n",
        "\n",
        "\n",
        "1.   Descargar la utlima versión de python en: https://www.python.org/downloads/\n",
        "\n",
        "2.  Marcar la opción add python to path. La versión puede variar, al escribir este tutorial la ultima versión es (3.7.2).\n",
        "\n",
        "![](https://files.realpython.com/media/win-install-dialog.40e3ded144b0.png)\n",
        "\n",
        "3. Seguir el instalador!\n",
        "\n",
        "## IDE\n",
        "\n",
        "Es cómodo programar en Colaboratory de Google hasta que el proyecto empieza a tomar tamaño y los bugs se vuelven más prevalentes. Llegado a este punto es una buena decisión mudar el proyecto a un IDE offline. \n",
        "\n",
        "IDE  (Integrated Development Enviroment o **Entorno de Desarollo Integrado**) es una aplicación usada para programar. Seguro ya conocen un par, como por ejemplo Colaboratory!\n",
        "\n",
        "El IDE preferido por la Cátedra del Curso de Python es *PyCharm*. \n",
        "\n",
        "---\n",
        "<center>\n",
        "  <img src=\"http://resources.jetbrains.com/storage/products/pycharm/img/meta/pycharm_logo_300x300.png\" height=200>\n",
        "  \n",
        "  ***PyCharm es de la compañía JetBrains***\n",
        "</center>\n",
        "\n",
        "\n",
        "\n",
        "---\n",
        "\n",
        "Para instalar PyCharm siga el <a href= \"https://www.jetbrains.com/pycharm/\" >link</a> a la página y haga click en download y escoja la versión comunidad (gratis).\n",
        "\n",
        "Tenga en cuenta que con el mail <a>@itba.edu.ar</a> otorgado por la facultad se puede adquirir cualquier software de la compañía JetBrains de forma gratuita. Solo hace falta <a href=\"https://account.jetbrains.com/login\">crearse una cuenta</a> con dicho mail y bajarse el <a href=\"https://www.jetbrains.com/toolbox/app/?fromMenu\">Toolbox App</a>."
      ]
    },
    {
      "cell_type": "markdown",
      "metadata": {
        "id": "XqdYtQKC2Nbl",
        "colab_type": "text"
      },
      "source": [
        "Cuando usamos una IDE, en general organizamos el trabajo en **proyectos**, donde tenemos todos los archivos y configuraciones pertinentes a un mismo programa. En Pycharm, un proyecto siempre está asociado a una carpeta en particular.\n",
        "\n",
        "Para crear un proyecto, vamos a *File -> New Project*. Allí podremos elegir un nombre para nuestro proyecto (y la carpeta donde estará guardada), y configurar el intérprete del proyecto. El intérprete es el programa que ejecutará nuestro código.\n",
        "\n",
        "En general, nos conviene elegir \"Existing intepreter\" y buscar el Python que tenemos instalado, si es que no aparece automáticamente. Virtual environment puede servir para hacer aplicaciones de distribución.\n",
        "\n",
        "\n",
        "<center>\n",
        "  <img src=\"https://i.imgur.com/K2hI2r2.png\" width=800>\n",
        "</center>\n"
      ]
    },
    {
      "cell_type": "markdown",
      "metadata": {
        "id": "WQe4mM_M-7zS",
        "colab_type": "text"
      },
      "source": [
        "Utilizar una IDE como esta nos da herramientas muy útiles a la hora de programar, a saber:\n",
        "\n",
        "- [Debugger](https://www.jetbrains.com/help/pycharm/debugging-your-first-python-application.html)\n",
        "- Corrección de sintaxis: si faltan dos puntos, paréntesis, indentación incorrecta...\n",
        "- Identificación rápida de errores: variables no usadas, líneas que no tienen efecto en el programa, etc\n",
        "- Autocomplete\n",
        "- Navegación rápida por el código, por ejemplo ir rápidamente a una función\n",
        "- Información sobre los parámetros que recibe cada función\n",
        "- Correción de estilo y ortográfica (opcional)"
      ]
    },
    {
      "cell_type": "markdown",
      "metadata": {
        "id": "zHzNes7co80h",
        "colab_type": "text"
      },
      "source": [
        "# Ejercitación Integrada\n",
        "$\\newcommand{\\dif}{\\bigstar}$$\\newcommand{\\facil}{\\color{\\green}{\\dif}}$ $\\newcommand{\\pieceofcake}{\\color{cyan}{\\dif}}$$\\newcommand{\\medio}{\\color{\\yellow}{\\dif\\dif}}$$\\newcommand{\\media}{\\medio}$$\\newcommand{\\normal}{\\medio}$  $\\newcommand{\\dificil}{\\color{\\orange}{\\dif\\dif\\dif}}$ $\\newcommand{\\imposible}{\\color{\\red}{\\dif\\dif\\dif\\dif}}$ "
      ]
    },
    {
      "cell_type": "markdown",
      "metadata": {
        "id": "r27ziYulSJX4",
        "colab_type": "text"
      },
      "source": [
        "## $\\pieceofcake$ Those 3 sides\n",
        "Escribir una función que dibuje un triangulo equilatero, debe recibir 3 parametros: \n",
        "\n",
        "\n",
        "-   X,Y: coordenadas del centro\n",
        "-   L: Largo de los lados\n",
        "\n",
        "\n"
      ]
    },
    {
      "cell_type": "code",
      "metadata": {
        "id": "BWiy5nlkTGKy",
        "colab_type": "code",
        "colab": {}
      },
      "source": [
        ""
      ],
      "execution_count": 0,
      "outputs": []
    },
    {
      "cell_type": "markdown",
      "metadata": {
        "id": "_mO7uTNHI-Zy",
        "colab_type": "text"
      },
      "source": [
        "## $\\facil$ Caja y Bigote\n",
        "\n",
        "Vamos a crear un histograma (visto a comienzo de clase) y un <a href=\"https://matplotlib.org/api/_as_gen/matplotlib.pyplot.boxplot.html\">*Box-and-Whisker plot*</a>. \n",
        "\n",
        "\n",
        "<center>\n",
        "<img src=\"https://matplotlib.org/_images/sphx_glr_boxplot_demo_pyplot_001.png\" height=300 title=\"Box and Whisker plot ejemplo.\">\n",
        " </center>\n",
        " \n",
        " Este tipo de gráfico es comunmente utilizado para mostrar la distribución de una población de forma muy visual.\n",
        "\n",
        "## Código dado\n",
        "```\n",
        "! wget \"https://raw.githubusercontent.com/IEEESBITBA/Curso-Python/master/Clase_3_datos/NotasFinitos.csv\"\n",
        "\n",
        "import pandas as pd\n",
        "import matplotlib.pyplot as plt\n",
        "datos = pd.read_csv(\"NotasFinitos.csv\")\n",
        "print(datos)\n",
        "```\n",
        "## Objetivos\n",
        "\n",
        "### Procesamiento de datos\n",
        "Procesar Notas de tres parciales (convertirlas a números). Se debería obtener tres listas con notas del 0-140, una para cada uno de los tres parciales. Tengan cuidado que pandas devuelve las notas en formato `string`!\n",
        "\n",
        "  Función para ver si un valor es `NaN`\n",
        " ```\n",
        " def isNaN(num):\n",
        "    return num != num\n",
        " ```\n",
        " \n",
        " ### Graficar Histograma\n",
        " \n",
        "El histograma debería tener 5 barras **por cada parcial**.\n",
        " \n",
        " **Intervalos:**\n",
        " * Notas entre 0-30\n",
        " * Notas entre 31-60\n",
        " *  Notas entre 61-90\n",
        " * Notas entre 91-120\n",
        " * Notas entre 121-140\n",
        " \n",
        " Esto se puede lograr otorgandole un valor a la propiedad  <a href=\"https://en.wikipedia.org/wiki/Histogram\">`bins` del histograma</a>. \n",
        " \n",
        "```\n",
        "plt.hist([parcial1,parcial2,parcial3], bins=intervalos_superiores ,label=nombreDeDatasets)\n",
        "```\n",
        "\n",
        "  ### Graficar Box-and-Whisker plot\n",
        " Graficar el *box-and-whisker plot*\n",
        " \n",
        " ```\n",
        " plt.boxplot([notasParcial1, notasParcial2, notasParcial3])\n",
        " ```\n",
        "\n",
        " \n",
        " \n",
        " **Datos y Tips**\n",
        " \n",
        " * Las notas pueden contener los siguientes valores:\n",
        "  * `0-140` : Nota numérica\n",
        "  * `'Ausente'` : Indica ausencia al parcial\n",
        "  * `'NaN'` : El alumno no cumplio condiciones para rendir parcial (celda vacia)\n",
        " \n",
        " * Descartar los valores no-numéricos (Ausente y NaN)\n",
        " \n",
        " * Usar $\\mathrm{int()}$ para convertir valores numericos de `string` a `int`!\n"
      ]
    },
    {
      "cell_type": "code",
      "metadata": {
        "id": "fp2ZL-rXKge0",
        "colab_type": "code",
        "colab": {}
      },
      "source": [
        ""
      ],
      "execution_count": 0,
      "outputs": []
    },
    {
      "cell_type": "markdown",
      "metadata": {
        "id": "srBpv_amp3bl",
        "colab_type": "text"
      },
      "source": [
        "## $\\normal$ Bug Catcher y el disco de la Eutrofia \n",
        "Pasaron 10 años desde que se concretó un acuerdo para la construcción de una fabrica de queso al lado del Lago Nahuel Huapi, a dos kilometros de la ciudad natal de *Bug Catcher*. *Bug Catcher* dice que en ese tiempo el agua del lago ha visto un deterioro en su calidad y esta peticionando ante la ciudad la imposición de regulaciones más estrictas sobre los efluentes de la fabrica.\n",
        "\n",
        "Pero primero tiene que demostrar este deterioro... *Y así,* Bug Catcher *ha venido a tí para pedirte ayuda graficando los resultados de un estudio de agua.*\n",
        "\n",
        "$\\newcommand{\\zf}{{z_{\\mathrm{f}}}}$\n",
        "\n",
        "---\n",
        "\n",
        "\n",
        "<center>\n",
        "<img src=\"https://cdn.bulbagarden.net/upload/archive/3/3f/20091012043640%21Spr_RG_Bug_Catcher.png\" height=200 title=\"I catch bugs and stop global conglomerates from getting away with enviromental crimes.\" ></center>\n",
        "\n",
        "\n",
        "---\n",
        "\n",
        "\n",
        "**El estudio**\n",
        "\n",
        "Se efectua un estudio de <a href=\"https://en.wikipedia.org/wiki/Trophic_state_index#Eutrophic\">turbiedad</a> de agua del tipo <a href=\"https://en.wikipedia.org/wiki/Secchi_disk\">*Secchi*</a> . El estudio consiste en hundir un disco blanco en el cuerpo de agua a estudiar y medir la profundidad $\\zf$  a la cual el disco desaparece. Para el estudio se tiene que tener en cuenta la intensidad de la luz sobre el cuerpo de agua $I_0$.\n",
        "\n",
        "\n",
        "\n",
        "**El problema**\n",
        "\n",
        "*Bug Catcher* quiere un gráfico que muestre la turbiedad del lago Nahuel Huapi y compararlo a la de otro lago cercano <a href=\"https://es.wikipedia.org/wiki/Anexo:Definiciones_usuales_en_hidrolog%C3%ADa#Aguas_arriba\">*río arriba*</a>. \n",
        "\n",
        "**Objetivo**\n",
        "\n",
        "Graficar la intensidad de luz $I_z$ en el eje vertical a una profundidad $z$ ($z$ en el eje horizontal) para el Nahuel Huapi y el otro lago. \n",
        "\n",
        "**Datos**\n",
        "\n",
        "Rige la ley de <a href=\"https://en.wikipedia.org/wiki/Beer%E2%80%93Lambert_law\">Beer-Lambert</a>:\n",
        "$$\\frac{I_{z}}{I_{0}}=e^{-k z}$$\n",
        "donde \n",
        "* $I_z$ es la intensidad de luz a una profundidad $z$\n",
        "* $I_0$ es la intensidad de luz sobre la superficie del agua, para un día soleado $I_0\\approx 700\\  \\mathrm{W/m}^2$\n",
        "* $k$ es el factor de atenuación del agua. Indica turbiedad.\n",
        "\n",
        "Sabemos que el disco <a href=\"https://en.wikipedia.org/wiki/Secchi_disk\">*Secchi*</a>  de *Bug Catcher* desaparece bajo **56cm** de agua del Nahuel Huapi.  **Para todos los cálculos suponga que la relación** $\\frac{I_\\zf}{I_0}$ **vale** $10\\%$ (para la profundidad a la cual desaparece el disco).\n",
        "\n",
        "El factor de atenuación del lago *río arriba* fue medido la semana pasada y vale $k_{\\mathrm{ra}}=0,009\\ \\mathrm{cm}^{-1}$.\n",
        "\n",
        "**Tips:**\n",
        "\n",
        "* Hay que despejar $k$ y calcularla para el lago Nahuel Huapi antes de graficar\n",
        "* la función `log` de la libreria `math` es el logaritmo natural\n",
        "* Pruebe graficar ambas curvas hasta la profundidad $\\zf$ del lago río arriba\n",
        "* **Tener una bolígrafo y un cuaderno abierto ayuda.**"
      ]
    },
    {
      "cell_type": "code",
      "metadata": {
        "id": "E8AoWU_f32WH",
        "colab_type": "code",
        "colab": {}
      },
      "source": [
        ""
      ],
      "execution_count": 0,
      "outputs": []
    },
    {
      "cell_type": "markdown",
      "metadata": {
        "id": "jyOdmudlCdjP",
        "colab_type": "text"
      },
      "source": [
        "## $\\normal$ Las Algas del Nahuel Huapi (Bug Catcher Continuado)\n",
        "\n",
        "*Bug Catcher* ha <a href=\"https://link.springer.com/article/10.1007/BF00041459\">encontrado un paper</a> sobre el crecimiento de algas en relación a la intensidad de luz. No entiende los gráficos del paper (porque no estan hechos en Python) pero llega a leer:\n",
        "\n",
        "* Debajo de una intensidad de $3\\%$ de la del sol ($I_0$) el crecimiento de las algas dismunuye rapidamente\n",
        "\n",
        "* entre $3\\%$ y $25\\%$ las algas crecen bien.\n",
        "\n",
        "**Objetivo**\n",
        "\n",
        "Mostrar rango de profundidad a la cual las algas podrían sobrevivir en el Nahuel Huapi en $\\color{green}{\\textsf{verde}}$ y la zona a partir de la cual sufren en $\\color{red}{\\textsf{rojo}}$.\n",
        "\n",
        "**Tips:**\n",
        "* $\\% I_0=\\frac{I_{z}}{I_{0}}=e^{-k z}\\quad \\longrightarrow \\quad z = -\\frac{\\ln(\\% I_0)}{k}$  \n",
        "* Funcion coloreado debajo la curva: `plt.fill_between(zbien, Izbien, color=\"green\",label=\"Crecimiento bueno\")`\n",
        "\n",
        "**Bonus**\n",
        "\n",
        "Como se ve afectada la zona donde sobreviven las algas al modificar el parametro $k$?"
      ]
    },
    {
      "cell_type": "markdown",
      "metadata": {
        "id": "FOavKBMEzJWl",
        "colab_type": "text"
      },
      "source": [
        "## $\\dificil$ Esos Malditos Mecánicos...\n",
        "Los mecánicos viven bajo la impresión que el $\\text{MATLAB}$ resuelve todos los problemas. Lo que no te cuentan es que cuando llega el momento de guardar o promediar las notas, *abren un Excel*... Si solo alguien les enseñara un poco de Python...\n",
        "\n",
        "**Intro**\n",
        "\n",
        "Volodymyr es un profesor de la materia **Elementos Finitos I** en el ITBA. El <a href=\"https://en.wikipedia.org/wiki/Finite_element_method\">método de los elementos finitos</a> consiste en modelar sistemas de solidos o fluidos mediante una partición del sistema en subsistemas que se resuelven en conjunto según condiciones de borde y condiciones iniciales. \n",
        "\n",
        "**Problema**\n",
        "\n",
        "El segundo cuatrimestre del 2018 Volodymyr tomó 3 parciales y ahora quiere obtener estadisticas y además saber cuales alumnos aprobaron y cuales no. El archivo `NotasFinitos.csv` contiene los datos **reales** de dicha materia sin los nombres de los alumnos. \n",
        "\n",
        "\n",
        "\n",
        "---\n",
        "<center>\n",
        "<img src=\"https://grupocarman.com/blog/wp-content/uploads/2014/10/Mallado-por-elementos-finitos.png\" title=\"Un modelo de un motor. En rojo las partes más comprometidas por fuerzas.\" height=200>\n",
        "  \n",
        "  ***La resolución correcta de este ejercicio indica que el programador tiene un solido conocimiento del manejo de datos y estructuras de control.***\n",
        "</center>\n",
        "\n",
        "---\n",
        "\n",
        "\n",
        "**Objetivos**\n",
        "\n",
        "Del archivo `\"https://raw.githubusercontent.com/IEEESBITBA/Curso-Python/master/Clase_3_datos/NotasFinitos.csv\"` : \n",
        "\n",
        "* Obtener promedios para cada parcial\n",
        "* Obtener promedio para toda la cursada\n",
        "* Obtener promedios de de los que aprobaron la materia, para cada parcial.\n",
        "\n",
        "\n",
        "***Condiciones de Borde***\n",
        "\n",
        "* Condición de aprobación de parcial:   `Nota>=60`\n",
        "\n",
        "* Para aprobar la materia se necesita aprobar 2 parciales y sumar entre los tres parciales: `sumaNotas>=160` \n",
        "\n",
        "* Las notas pueden contener los siguientes valores:\n",
        "  * `0-140` : Nota numérica\n",
        "  * `'Ausente'` : Indica ausencia al parcial\n",
        "  * `'NaN'` : El alumno no cumplio condiciones para rendir parcial (celda vacia)\n",
        "\n",
        "* Tomar los valores `Ausente` y `NaN` como `0`. Usar la función $\\mathrm{isNaN}$ en el código de arriba\n",
        "\n",
        "**Tips:**\n",
        "* Las funciones pueden ser muy utiles para este ejercicio! \n",
        "\n",
        "* Convertir la nota de `string` a `int` usando la función $\\mathrm{int}(Nota)$\n",
        "\n",
        "* ***hint:*** Hay `49` alumnos de los cuales `19` aprobaron la materia según el criterio dado\n"
      ]
    },
    {
      "cell_type": "code",
      "metadata": {
        "id": "8n_67uSozRDE",
        "colab_type": "code",
        "colab": {}
      },
      "source": [
        "\n"
      ],
      "execution_count": 0,
      "outputs": []
    }
  ]
}