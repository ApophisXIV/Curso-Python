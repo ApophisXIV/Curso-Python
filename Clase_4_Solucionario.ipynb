{
  "nbformat": 4,
  "nbformat_minor": 0,
  "metadata": {
    "colab": {
      "name": "Clase 4 Solucionario.ipynb",
      "provenance": [],
      "collapsed_sections": [],
      "toc_visible": true,
      "include_colab_link": true
    },
    "kernelspec": {
      "name": "python3",
      "display_name": "Python 3"
    }
  },
  "cells": [
    {
      "cell_type": "markdown",
      "metadata": {
        "id": "view-in-github",
        "colab_type": "text"
      },
      "source": [
        "<a href=\"https://colab.research.google.com/github/IEEESBITBA/Curso-Python/blob/master/Clase_4_Solucionario.ipynb\" target=\"_parent\"><img src=\"https://colab.research.google.com/assets/colab-badge.svg\" alt=\"Open In Colab\"/></a>"
      ]
    },
    {
      "cell_type": "markdown",
      "metadata": {
        "id": "Nnp1YQrsxBTA",
        "colab_type": "text"
      },
      "source": [
        "# **Clase 4 - Solucionario**\n",
        "\n",
        "En este documento se encuentra todos los mini-task de la clase 4 y ejercicios integradores resueltos\n"
      ]
    },
    {
      "cell_type": "markdown",
      "metadata": {
        "id": "lLCE50YvT5hW",
        "colab_type": "text"
      },
      "source": [
        "### **Mini desafío 1**\n",
        "\n",
        "Gráficar en el intervalo de **[-5, 5]** una [función gaussiana](https://es.wikipedia.org/wiki/Funci%C3%B3n_gaussiana) definida como:\n",
        "\n",
        "$$ f(x) = e^{-x^2/2} $$\n",
        "\n",
        "Usar la funcion [np.exp](https://docs.scipy.org/doc/numpy/reference/generated/numpy.exp.html) de numpy."
      ]
    },
    {
      "cell_type": "code",
      "metadata": {
        "id": "nM5droQ7xEQf",
        "colab_type": "code",
        "colab": {}
      },
      "source": [
        "import matplotlib.pyplot as plt\n",
        "import numpy as np\n",
        "import math\n",
        "\n",
        "x = np.linspace(-5,5,10000)\n",
        "gaussiana = 5*np.exp(-x**2/2) # expresion vectorizada, tenemos los valores de sin(x) en cada instante\n",
        "\n",
        "plt.plot(x, gaussiana)\n",
        "plt.show()"
      ],
      "execution_count": 0,
      "outputs": []
    },
    {
      "cell_type": "markdown",
      "metadata": {
        "id": "69Wh3mpUT920",
        "colab_type": "text"
      },
      "source": [
        "\n",
        "#### **Mini desafío 2.A** - Versión fácil\n",
        "\n",
        " Se pide realizar un grafico del valor del  **Bitcoin** de los ultimos 10 años, marcar con un punto el valor máximo del gráfico, calcular cuándo sucedió.\n",
        "\n",
        " **Nota:**  \n",
        " - Usen la función [read_csv](https://pandas.pydata.org/pandas-docs/stable/reference/api/pandas.read_csv.html). Un **.csv** es prácticamente idéntico a un **.xlsx**.\n",
        " - Los valores a graficar estan la columna \"Open\" (usando **to_dict(\"list\"**) podrían resolver el problema).\n",
        "\n",
        " "
      ]
    },
    {
      "cell_type": "code",
      "metadata": {
        "id": "TcdWTbVMiG5y",
        "colab_type": "code",
        "colab": {}
      },
      "source": [
        "! wget  https://raw.githubusercontent.com/LedesmaFran/python/master/BTC.csv         #WARNING No tiene 10 Años\n",
        "\n",
        "#Datos extraidos desde https://es.finance.yahoo.com/"
      ],
      "execution_count": 0,
      "outputs": []
    },
    {
      "cell_type": "code",
      "metadata": {
        "id": "5w9BZoRfDBSC",
        "colab_type": "code",
        "colab": {}
      },
      "source": [
        "import pandas as pd\n",
        "import matplotlib.pyplot as plt\n",
        "import numpy as np\n",
        "archivo = pd.read_csv(\"BTC.csv\")\n",
        "data = archivo.to_dict(\"list\")\n",
        "cant = len(data[\"Date\"])\n",
        "x = []\n",
        "y = []\n",
        "for i in range(cant):\n",
        "  x.append(data[\"Date\"][i])\n",
        "  y.append(data[\"Open\"][i])\n",
        "\n",
        "plt.plot(x,y)\n",
        "plt.show()"
      ],
      "execution_count": 0,
      "outputs": []
    },
    {
      "cell_type": "markdown",
      "metadata": {
        "id": "kXcuNxlGn-x5",
        "colab_type": "text"
      },
      "source": [
        "#### **Mini desafío 2.B** - Versión difícil\n",
        "Se pide realizar un grafico del valor de las acciones diarias de las compañias **Amazon** y **Google** de los ultimos 10 años. Encontrar los puntos donde se cruzan los dos gráficos y marcarlos con un punto. Usar dos tipos de línea distintos. \n",
        "\n",
        "**Nota:**  \n",
        " - Usen la función [read_csv](https://pandas.pydata.org/pandas-docs/stable/reference/api/pandas.read_csv.html) Un **.csv** es prácticamente identico a un **.xlsx**.\n",
        " - Los valores a graficar estan la columna Open (usando **to_dict(\"list\"**) podrían resolver el problema).\n",
        "\n",
        "**Pista:** Ya que los gráficos son discretos, para detectar un cruce deberán revisar que la acción que es la más cara hoy sea la que era más barata ayer. Esto es porque sería muy raro que haya un día en el cual ambas acciones tengan exactamente el mismo precio."
      ]
    },
    {
      "cell_type": "code",
      "metadata": {
        "id": "a9jNGxytsxIW",
        "colab_type": "code",
        "colab": {}
      },
      "source": [
        "! wget  https://raw.githubusercontent.com/LedesmaFran/python/master/GOOGLE.csv\n",
        "! wget  https://raw.githubusercontent.com/LedesmaFran/python/master/AMZN.csv\n",
        "\n",
        "#Datos extraidos desde https://es.finance.yahoo.com/"
      ],
      "execution_count": 0,
      "outputs": []
    },
    {
      "cell_type": "code",
      "metadata": {
        "id": "E_7QSA72ufTV",
        "colab_type": "code",
        "colab": {}
      },
      "source": [
        "import pandas as pd\n",
        "import matplotlib.pyplot as plt\n",
        "import numpy as np\n",
        "googlefile = pd.read_csv(\"GOOGLE.csv\")\n",
        "amazonfile = pd.read_csv(\"AMZN.csv\")\n",
        "google = googlefile.to_dict(\"list\")\n",
        "amazon = amazonfile.to_dict(\"list\")\n",
        "\n",
        "plt.figure(figsize=(16, 8))\n",
        "\n",
        "#Empiezan con el valor del primer dia\n",
        "gx = [google[\"Date\"][0]]\n",
        "gy = [google[\"Open\"][0]]\n",
        "ax = [amazon[\"Date\"][0]]\n",
        "ay = [amazon[\"Open\"][0]]\n",
        "\n",
        "crucex = []\n",
        "crucey = []\n",
        "\n",
        "for i in range(1, len(google[\"Date\"])): #range empieza desde 1 en vez de 0\n",
        "  gx.append(google[\"Date\"][i])\n",
        "  gy.append(google[\"Open\"][i])\n",
        "  ax.append(amazon[\"Date\"][i])\n",
        "  ay.append(amazon[\"Open\"][i])\n",
        "\n",
        "  if (ay[i] == gy[i]) or (ay[i] > gy[i] and ay[i-1] < gy[i-1]) or (ay[i] < gy[i] and ay[i-1] > gy[i-1]):\n",
        "    crucex.append(gx[i])\n",
        "    crucey.append(gy[i])\n",
        "\n",
        "plt.plot(gx,gy)\n",
        "plt.plot(ax,ay)\n",
        "plt.plot(crucex,crucey, 'k.')\n",
        "\n",
        "plt.show()"
      ],
      "execution_count": 0,
      "outputs": []
    },
    {
      "cell_type": "markdown",
      "metadata": {
        "id": "6SffUwPmVIFB",
        "colab_type": "text"
      },
      "source": [
        "### **Mini desafío 3**\n",
        "\n",
        "1. Visualizar usando un piechart la cuota de mercado de diferentes compañías que ofrecen un producto (por ejemplo: marcas de celulares).\n",
        "2. Averiguar el color favorito de caramelos Sugus de diferentes amigos o conocidos y visualizar la información con un gráfico piechart, mostrando los colores de cada sección que corresponden al color de caramelo.\n",
        "\n",
        "![sugus](https://drive.google.com/uc?id=1lGlGRF4DpV9WQIwe5fSeb8BQvtMC4IUL)"
      ]
    },
    {
      "cell_type": "code",
      "metadata": {
        "id": "tTrfrH89VShy",
        "colab_type": "code",
        "colab": {}
      },
      "source": [
        "import matplotlib.pyplot as plt\n",
        "\n",
        "labels = ('Apple', 'Samsung', 'Huawei', 'Xiaomi', 'vivo', 'Oppo', 'Lenovo', 'Otros')\n",
        "sizes = [72.3, 70.4, 56.2, 32.9, 31.5, 31.4, 11.7, 94.7] #Millones de unidades: 2019 Q4\n",
        "colors = ['silver', 'blue', 'red', 'orange', 'royalblue', 'green', 'navy', 'grey']\n",
        "\n",
        "plt.pie(sizes, labels=labels, colors=colors, autopct='%5.01f%%', startangle=90)\n",
        "\n",
        "plt.show()"
      ],
      "execution_count": 0,
      "outputs": []
    },
    {
      "cell_type": "code",
      "metadata": {
        "id": "hko0y7qQ8VF9",
        "colab_type": "code",
        "colab": {}
      },
      "source": [
        "import matplotlib.pyplot as plt\n",
        "\n",
        "labels = ('Frutilla', 'Menta', 'Anana', 'Limon', 'Manzana', 'Naranja')\n",
        "sizes = [10, 6, 2, 9, 4, 0]\n",
        "colors = ['red', 'green', 'blue', 'yellow', 'lime', 'orange']\n",
        "\n",
        "plt.pie(sizes, labels=labels, colors=colors, autopct='%5.01f%%', startangle=90)\n",
        "\n",
        "plt.show()"
      ],
      "execution_count": 0,
      "outputs": []
    },
    {
      "cell_type": "markdown",
      "metadata": {
        "id": "OBjW_tjn0uUD",
        "colab_type": "text"
      },
      "source": [
        "### **Mini task 4**\n",
        "\n",
        "Leer el archivo **notas.xlsx** que tiene en el campo **Notas** los puntajes de alumnos en un examen (van de 0 a 10) y armar un histograma con los datos, guardarlo en un archivo **Notas.png**"
      ]
    },
    {
      "cell_type": "code",
      "metadata": {
        "id": "Y-zPJ5_cxKtT",
        "colab_type": "code",
        "colab": {}
      },
      "source": [
        "! wget \"https://raw.githubusercontent.com/IEEESBITBA/Curso-Python/master/Clase_4_datos/notas.xlsx\""
      ],
      "execution_count": 0,
      "outputs": []
    },
    {
      "cell_type": "code",
      "metadata": {
        "id": "vb-z2cvlxL2L",
        "colab_type": "code",
        "colab": {}
      },
      "source": [
        "import pandas as pd\n",
        "\n",
        "archivo = pd.read_excel(\"notas.xlsx\") \n",
        "\n",
        "data = archivo.to_dict(\"list\")\n",
        "\n",
        "plt.hist(data[\"notas\"])\n",
        "plt.savefig('Notas.png')\n",
        "plt.show()"
      ],
      "execution_count": 0,
      "outputs": []
    },
    {
      "cell_type": "markdown",
      "metadata": {
        "id": "zHzNes7co80h",
        "colab_type": "text"
      },
      "source": [
        "# **Ejercitación Integradora**\n",
        "$\\newcommand{\\dif}{\\bigstar}$$\\newcommand{\\facil}{\\color{\\green}{\\dif}}$ $\\newcommand{\\pieceofcake}{\\color{cyan}{\\dif}}$$\\newcommand{\\medio}{\\color{\\yellow}{\\dif\\dif}}$$\\newcommand{\\media}{\\medio}$$\\newcommand{\\normal}{\\medio}$  $\\newcommand{\\dificil}{\\color{\\orange}{\\dif\\dif\\dif}}$ $\\newcommand{\\imposible}{\\color{\\red}{\\dif\\dif\\dif\\dif}}$ "
      ]
    },
    {
      "cell_type": "markdown",
      "metadata": {
        "id": "r27ziYulSJX4",
        "colab_type": "text"
      },
      "source": [
        "## $\\pieceofcake$ Those 3 sides\n",
        "Escribir una función que dibuje un triangulo equilatero, debe recibir 3 parametros: \n",
        "\n",
        "\n",
        "-   X,Y: coordenadas del centro\n",
        "-   L: Largo de los lados\n",
        "\n",
        "\n"
      ]
    },
    {
      "cell_type": "code",
      "metadata": {
        "id": "N1v61Ii2xhes",
        "colab_type": "code",
        "colab": {}
      },
      "source": [
        "import matplotlib.pyplot as plt\n",
        "\n",
        "def plot_triang(x, y, l):\n",
        "    sin60 = 0.86602540378 #seno de 60 grados\n",
        "    \n",
        "    # coordenadas de la esquina izquierda, arriba, derecha\n",
        "    # repito la izquierda para que se cierre el triangulo\n",
        "    xcoord = [x-l/2,    0,       x+l/2,   x-l/2]\n",
        "    ycoord = [0,        l*sin60, 0,       0]\n",
        "    \n",
        "    plt.plot(xcoord, ycoord)\n",
        "    plt.show()\n",
        "    \n",
        "    \n",
        "plot_triang(0, 0, 50)"
      ],
      "execution_count": 0,
      "outputs": []
    },
    {
      "cell_type": "markdown",
      "metadata": {
        "id": "WoL0EmqQxOVc",
        "colab_type": "text"
      },
      "source": [
        "## $\\facil$ Caja y Bigote\n",
        "\n",
        "Vamos a crear un histograma (visto a comienzo de clase) y un <a href=\"https://matplotlib.org/api/_as_gen/matplotlib.pyplot.boxplot.html\">*Box-and-Whisker plot*</a>. \n",
        "\n",
        "\n",
        "<center>\n",
        "<img src=\"https://matplotlib.org/_images/sphx_glr_boxplot_demo_pyplot_001.png\" height=300 title=\"Box and Whisker plot ejemplo.\">\n",
        " </center>\n",
        " \n",
        " Este tipo de gráfico es comunmente utilizado para mostrar la distribución de una población de forma muy visual.\n",
        "\n",
        "## Código dado\n",
        "```\n",
        "! wget \"https://raw.githubusercontent.com/IEEESBITBA/Curso-Python/master/Clase_3_datos/NotasFinitos.csv\"\n",
        "\n",
        "import pandas as pd\n",
        "import matplotlib.pyplot as plt\n",
        "datos = pd.read_csv(\"NotasFinitos.csv\")\n",
        "print(datos)\n",
        "```\n",
        "## Objetivos\n",
        "\n",
        "### Procesamiento de datos\n",
        "Procesar Notas de tres parciales (convertirlas a números). Se debería obtener tres listas con notas del 0-140, una para cada uno de los tres parciales. Tengan cuidado que pandas devuelve las notas en formato `string`!\n",
        "\n",
        "  Función para ver si un valor es `NaN`\n",
        " ```\n",
        " def isNaN(num):\n",
        "    return num != num\n",
        " ```\n",
        " \n",
        " ### Graficar Histograma\n",
        " \n",
        "El histograma debería tener 5 barras **por cada parcial**.\n",
        " \n",
        " **Intervalos:**\n",
        " * Notas entre 0-30\n",
        " * Notas entre 31-60\n",
        " *  Notas entre 61-90\n",
        " * Notas entre 91-120\n",
        " * Notas entre 121-140\n",
        " \n",
        " Esto se puede lograr otorgandole un valor a la propiedad  <a href=\"https://en.wikipedia.org/wiki/Histogram\">`bins` del histograma</a>. \n",
        " \n",
        "```\n",
        "plt.hist([parcial1,parcial2,parcial3], bins=intervalos_superiores ,label=nombreDeDatasets)\n",
        "```\n",
        "\n",
        "  ### Graficar Box-and-Whisker plot\n",
        " Graficar el *box-and-whisker plot*\n",
        " \n",
        " ```\n",
        " plt.boxplot([notasParcial1, notasParcial2, notasParcial3])\n",
        " ```\n",
        "\n",
        " \n",
        " \n",
        " **Datos y Tips**\n",
        " \n",
        " * Las notas pueden contener los siguientes valores:\n",
        "  * `0-140` : Nota numérica\n",
        "  * `'Ausente'` : Indica ausencia al parcial\n",
        "  * `'NaN'` : El alumno no cumplio condiciones para rendir parcial (celda vacia)\n",
        " \n",
        " * Descartar los valores no-numéricos (Ausente y NaN)\n",
        " \n",
        " * Usar $\\mathrm{int()}$ para convertir valores numericos de `string` a `int`!\n"
      ]
    },
    {
      "cell_type": "code",
      "metadata": {
        "id": "4q7BCjAMxQar",
        "colab_type": "code",
        "colab": {}
      },
      "source": [
        "def numeralizar(datos):\n",
        "  datosNumeralizados=[]\n",
        "  for i in range(len(datos)):\n",
        "    dato = datos[i]\n",
        "    if dato!=dato:\n",
        "      continue\n",
        "    elif dato=='Ausente':\n",
        "      continue\n",
        "    else:\n",
        "        datosNumeralizados.append(int(dato))\n",
        "  return datosNumeralizados\n",
        "\n",
        "\n",
        "! wget \"https://raw.githubusercontent.com/IEEESBITBA/Curso-Python/master/Clase_3_datos/NotasFinitos.csv\"\n",
        "\n",
        "import pandas as pd\n",
        "import matplotlib.pyplot as plt\n",
        "datos = pd.read_csv(\"NotasFinitos.csv\") \n",
        "\n",
        "notas1 = datos['1P']\n",
        "notas2 = datos['2P']\n",
        "notas3 = datos['3P']\n",
        "\n",
        "parcial1=numeralizar(notas1)\n",
        "parcial2=numeralizar(notas2)\n",
        "parcial3=numeralizar(notas3)\n",
        "\n",
        "\n",
        "intervalos_superiores=[30,60,90,120,140]\n",
        "nombreDeDatasets=['Parcial 1','Parcial 2','Parcial 3']\n",
        "plt.hist([parcial1,parcial2,parcial3], bins=intervalos_superiores ,label=nombreDeDatasets)\n",
        "plt.legend(loc=\"upper right\")\n",
        "plt.show()\n",
        "\n",
        "_=plt.boxplot([parcial1,parcial2,parcial3]) \n",
        "# ax1.show()\n"
      ],
      "execution_count": 0,
      "outputs": []
    },
    {
      "cell_type": "markdown",
      "metadata": {
        "id": "vZNxd_kGRZzA",
        "colab_type": "text"
      },
      "source": [
        "## $\\normal$ Demografía en Argentina\n",
        "\n",
        "Se pide visualizar la distribución etaria de la población, para ello se cuenta con la información de 2019 en el archivo *PopulationArgentina2019.csv* en el cual se detalla para cada rango de edades, el número de hombres y mujeres en el rango. La primer columna '*Age*' tiene los valores '*0-4*', '*5-9*', '*10-14*', '*15-20*', etc. hasta '*100+*' para cada rango de edades. Las siguientes dos columnas son '*M*' y '*F*', contienen el número de hombres y de mujeres en la población respectivamente. Se deben mostrar un *grafico de barras* para hombres y uno para mujeres, mostrando los rangos de edad en el eje horizontal y el **porcentaje** con respecto a la población total en el eje vertical.\n",
        "\n",
        "**Tip:** Usar [plt.bar(x, height)](https://matplotlib.org/3.2.1/api/_as_gen/matplotlib.pyplot.bar.html) para crear gráficos de barra.\n",
        "\n",
        "Fuentes: https://www.populationpyramid.net/sources"
      ]
    },
    {
      "cell_type": "code",
      "metadata": {
        "id": "OL0XGdrAbKiL",
        "colab_type": "code",
        "colab": {}
      },
      "source": [
        "! wget \"https://raw.githubusercontent.com/IEEESBITBA/Curso-Python/master/Clase_4_datos/PopulationArgentina2019.csv\""
      ],
      "execution_count": 0,
      "outputs": []
    },
    {
      "cell_type": "code",
      "metadata": {
        "id": "NzkCV5GLULdi",
        "colab_type": "code",
        "colab": {}
      },
      "source": [
        "import matplotlib.pyplot as plt\n",
        "import pandas as pd\n",
        "\n",
        "archivo = pd.read_csv(\"PopulationArgentina2019.csv\")\n",
        "datos = archivo.to_dict('list')\n",
        "Age = datos['Age']\n",
        "M = datos['M']\n",
        "F = datos['F']\n",
        "\n",
        "total = sum(M) + sum(F)\n",
        "M_porcentual = [ 100* i/total for i in M ]\n",
        "F_porcentual = [ 100* i/total for i in F ]\n",
        "\n",
        "plt.figure(figsize=(16, 8))\n",
        "plt.subplot(2, 1, 1)\n",
        "plt.title('Distribución etaria en mujeres')\n",
        "plt.bar(Age, F_porcentual)\n",
        "plt.ylabel('Porcentaje')\n",
        "\n",
        "plt.subplot(2, 1, 2)\n",
        "plt.title('Distribución etaria en hombres')\n",
        "plt.bar(Age, M_porcentual)\n",
        "plt.ylabel('Porcentaje')\n",
        "plt.show()"
      ],
      "execution_count": 0,
      "outputs": []
    },
    {
      "cell_type": "markdown",
      "metadata": {
        "id": "5PCZKDk7xrtN",
        "colab_type": "text"
      },
      "source": [
        "## $\\normal$ Bug Catcher y el disco de la Eutrofia \n",
        "Pasaron 10 años desde que se concretó un acuerdo para la construcción de una fabrica de queso al lado del Lago Nahuel Huapi, a dos kilometros de la ciudad natal de *Bug Catcher*. *Bug Catcher* dice que en ese tiempo el agua del lago ha visto un deterioro en su calidad y esta peticionando ante la ciudad la imposición de regulaciones más estrictas sobre los efluentes de la fabrica.\n",
        "\n",
        "Pero primero tiene que demostrar este deterioro... *Y así,* Bug Catcher *ha venido a tí para pedirte ayuda graficando los resultados de un estudio de agua.*\n",
        "\n",
        "$\\newcommand{\\zf}{{z_{\\mathrm{f}}}}$\n",
        "\n",
        "---\n",
        "\n",
        "\n",
        "<center>\n",
        "<img src=\"https://cdn.bulbagarden.net/upload/archive/3/3f/20091012043640%21Spr_RG_Bug_Catcher.png\" height=200 title=\"I catch bugs and stop global conglomerates from getting away with enviromental crimes.\" ></center>\n",
        "\n",
        "\n",
        "---\n",
        "\n",
        "\n",
        "**El estudio**\n",
        "\n",
        "Se efectua un estudio de <a href=\"https://en.wikipedia.org/wiki/Trophic_state_index#Eutrophic\">turbiedad</a> de agua del tipo <a href=\"https://en.wikipedia.org/wiki/Secchi_disk\">*Secchi*</a> . El estudio consiste en hundir un disco blanco en el cuerpo de agua a estudiar y medir la profundidad $\\zf$  a la cual el disco desaparece. Para el estudio se tiene que tener en cuenta la intensidad de la luz sobre el cuerpo de agua $I_0$.\n",
        "\n",
        "\n",
        "\n",
        "**El problema**\n",
        "\n",
        "*Bug Catcher* quiere un gráfico que muestre la turbiedad del lago Nahuel Huapi y compararlo a la de otro lago cercano <a href=\"https://es.wikipedia.org/wiki/Anexo:Definiciones_usuales_en_hidrolog%C3%ADa#Aguas_arriba\">*río arriba*</a>. \n",
        "\n",
        "**Objetivo**\n",
        "\n",
        "Graficar la intensidad de luz $I_z$ en el eje vertical a una profundidad $z$ ($z$ en el eje horizontal) para el Nahuel Huapi y el otro lago. \n",
        "\n",
        "**Datos**\n",
        "\n",
        "Rige la ley de <a href=\"https://en.wikipedia.org/wiki/Beer%E2%80%93Lambert_law\">Beer-Lambert</a>:\n",
        "$$\\frac{I_{z}}{I_{0}}=e^{-k z}$$\n",
        "donde \n",
        "* $I_z$ es la intensidad de luz a una profundidad $z$\n",
        "* $I_0$ es la intensidad de luz sobre la superficie del agua, para un día soleado $I_0\\approx 700\\  \\mathrm{W/m}^2$\n",
        "* $k$ es el factor de atenuación del agua. Indica turbiedad.\n",
        "\n",
        "Sabemos que el disco <a href=\"https://en.wikipedia.org/wiki/Secchi_disk\">*Secchi*</a>  de *Bug Catcher* desaparece bajo **56cm** de agua del Nahuel Huapi.  **Para todos los cálculos suponga que la relación** $\\frac{I_\\zf}{I_0}$ **vale** $10\\%$ (para la profundidad a la cual desaparece el disco).\n",
        "\n",
        "El factor de atenuación del lago *río arriba* fue medido la semana pasada y vale $k_{\\mathrm{ra}}=0,009\\ \\mathrm{cm}^{-1}$.\n",
        "\n",
        "**Tips:**\n",
        "\n",
        "* Hay que despejar $k$ y calcularla para el lago Nahuel Huapi antes de graficar\n",
        "* la función `log` de la libreria `math` es el logaritmo natural\n",
        "* Pruebe graficar ambas curvas hasta la profundidad $\\zf$ del lago río arriba\n",
        "* **Tener una bolígrafo y un cuaderno abierto ayuda.**"
      ]
    },
    {
      "cell_type": "code",
      "metadata": {
        "id": "v0nyx3pSxvQZ",
        "colab_type": "code",
        "colab": {}
      },
      "source": [
        "import numpy as np\n",
        "import matplotlib.pyplot as plt\n",
        "IzIo=0.1\n",
        "zfNahuel = 56\n",
        "kNahuel=-np.log(IzIo)/zfNahuel\n",
        "\n",
        "kRioArriba = 0.009\n",
        "zfRioArriba = -np.log(IzIo)/kRioArriba\n",
        "print('Nahuel Huapi k=',kNahuel)\n",
        "print('Rio Arriba k=',kRioArriba)\n",
        "z = np.arange(0,zfRioArriba,1)\n",
        "\n",
        "I0= 700\n",
        "IzNahuel = I0*np.e**(-kNahuel*z)\n",
        "IzRioArriba = I0*np.e**(-kRioArriba*z)\n",
        "\n",
        "plt.figure(figsize=(15,9))\n",
        "plt.plot(z, IzNahuel, \"blue\",label=\"Nahuel Huapi\")\n",
        "plt.plot(z, IzRioArriba, \"cyan\",label=\"Río arriba\")\n",
        "plt.ylabel(\"Intensidad Iz [W/m^2]\")\n",
        "plt.xlabel(\"Profundidad z [cm]\")\n",
        "\n",
        "plt.title(\"Abajo con la fabrica\")\n",
        "plt.minorticks_on()\n",
        "plt.grid(which='minor', linestyle=':', linewidth=0.2, color='black')\n",
        "#Le asignamos el estilo a la grilla mayor\n",
        "plt.grid(which='major', linestyle='-', linewidth=0.3, color='black')\n",
        "\n",
        "## BUG CATCHER:Algas CONTINUED\n",
        "Izsuperior = 0.25\n",
        "Izinferior = 0.03\n",
        "zinferior= -np.log(Izsuperior)/kNahuel\n",
        "zsuperior = -np.log(Izinferior)/kNahuel\n",
        "\n",
        "zbien  = np.arange(zinferior,zsuperior,0.2)\n",
        "zmal =np.arange(zsuperior,zfRioArriba,0.2) \n",
        "\n",
        "Izbien = I0*np.e**(-kNahuel*zbien) \n",
        "Izmal = I0*np.e**(-kNahuel*zmal)\n",
        "plt.fill_between(zbien, Izbien, color=\"green\",label=\"Crecimiento bueno\")\n",
        "\n",
        "plt.fill_between(zmal, Izmal,color=\"red\",label=\"Crecimiento malo\")\n",
        "plt.legend(loc=\"upper right\")\n",
        "plt.show()"
      ],
      "execution_count": 0,
      "outputs": []
    },
    {
      "cell_type": "markdown",
      "metadata": {
        "id": "x_bnonM3x1PE",
        "colab_type": "text"
      },
      "source": [
        "## $\\dificil$ Esos Malditos Mecánicos...\n",
        "Los mecánicos viven bajo la impresión que el $\\text{MATLAB}$ resuelve todos los problemas. Lo que no te cuentan es que cuando llega el momento de guardar o promediar las notas, *abren un Excel*... Si solo alguien les enseñara un poco de Python...\n",
        "\n",
        "**Intro**\n",
        "\n",
        "Volodymyr es un profesor de la materia **Elementos Finitos I** en el ITBA. El <a href=\"https://en.wikipedia.org/wiki/Finite_element_method\">método de los elementos finitos</a> consiste en modelar sistemas de solidos o fluidos mediante una partición del sistema en subsistemas que se resuelven en conjunto según condiciones de borde y condiciones iniciales. \n",
        "\n",
        "**Problema**\n",
        "\n",
        "El segundo cuatrimestre del 2018 Volodymyr tomó 3 parciales y ahora quiere obtener estadisticas y además saber cuales alumnos aprobaron y cuales no. El archivo `NotasFinitos.csv` contiene los datos **reales** de dicha materia sin los nombres de los alumnos. \n",
        "\n",
        "\n",
        "\n",
        "---\n",
        "<center>\n",
        "<img src=\"https://grupocarman.com/blog/wp-content/uploads/2014/10/Mallado-por-elementos-finitos.png\" title=\"Un modelo de un motor. En rojo las partes más comprometidas por fuerzas.\" height=200>\n",
        "  \n",
        "  ***La resolución correcta de este ejercicio indica que el programador tiene un solido conocimiento del manejo de datos y estructuras de control.***\n",
        "</center>\n",
        "\n",
        "---\n",
        "\n",
        "\n",
        "**Objetivos**\n",
        "\n",
        "Del archivo `\"https://raw.githubusercontent.com/IEEESBITBA/Curso-Python/master/Clase_3_datos/NotasFinitos.csv\"` : \n",
        "\n",
        "* Obtener promedios para cada parcial\n",
        "* Obtener promedio para toda la cursada\n",
        "* Obtener promedios de de los que aprobaron la materia, para cada parcial.\n",
        "\n",
        "\n",
        "***Condiciones de Borde***\n",
        "\n",
        "* Condición de aprobación de parcial:   `Nota>=60`\n",
        "\n",
        "* Para aprobar la materia se necesita aprobar 2 parciales y sumar entre los tres parciales: `sumaNotas>=160` \n",
        "\n",
        "* Las notas pueden contener los siguientes valores:\n",
        "  * `0-140` : Nota numérica\n",
        "  * `'Ausente'` : Indica ausencia al parcial\n",
        "  * `'NaN'` : El alumno no cumplio condiciones para rendir parcial (celda vacia)\n",
        "\n",
        "* Tomar los valores `Ausente` y `NaN` como `0`. Usar la función $\\mathrm{isNaN}$ en el código de arriba\n",
        "\n",
        "**Tips:**\n",
        "* Las funciones pueden ser muy utiles para este ejercicio! \n",
        "\n",
        "* Convertir la nota de `string` a `int` usando la función $\\mathrm{int}(Nota)$\n",
        "\n",
        "* ***hint:*** Hay `49` alumnos de los cuales `19` aprobaron la materia según el criterio dado\n"
      ]
    },
    {
      "cell_type": "code",
      "metadata": {
        "id": "S91DN_w2x4b8",
        "colab_type": "code",
        "colab": {}
      },
      "source": [
        "def isNaN(num):\n",
        "    return num != num\n",
        "\n",
        "def getNota(estado):\n",
        "  if estado == 'Ausente':\n",
        "    return 0\n",
        "  if isNaN(estado):\n",
        "    return 0\n",
        "  return int(estado)\n",
        "  \n",
        "def Aprobado(parcial1,parcial2,parcial3):\n",
        "  if parcial1+parcial2+parcial3<160:\n",
        "    return False\n",
        "  if parcial1>=60 and parcial2>=60:\n",
        "    return True\n",
        "  elif parcial1>=60 and parcial3>=60:\n",
        "    return True\n",
        "  elif parcial2>=60 and parcial3>=60:\n",
        "    return True\n",
        "  else:\n",
        "    return False\n",
        "\n",
        "! wget \"https://raw.githubusercontent.com/IEEESBITBA/Curso-Python/master/Clase_3_datos/NotasFinitos.csv\"\n",
        "\n",
        "import pandas as pd\n",
        "datos = pd.read_csv(\"NotasFinitos.csv\") \n",
        "\n",
        "notas1 = datos['1P']\n",
        "notas2 = datos['2P']\n",
        "notas3 = datos['3P']\n",
        "N = len(notas1) # La cantidad de alumnos\n",
        "notasNumericas\n",
        "# print(notas1[N-1])\n",
        "sum1=0\n",
        "sum2=0\n",
        "sum3=0\n",
        "sumAprobados1=0\n",
        "sumAprobados2=0\n",
        "sumAprobados3=0\n",
        "alumnosAprobados=0\n",
        "for i in range(len(notas1)):\n",
        "  nota1 = getNota(notas1[i])\n",
        "  nota2 = getNota(notas2[i])\n",
        "  nota3 = getNota(notas3[i])\n",
        "  sum1 += nota1\n",
        "  sum2 += nota2\n",
        "  sum3 += nota3\n",
        "  \n",
        "  estáAprobado = Aprobado(nota1,nota2,nota3)\n",
        "  if estáAprobado:\n",
        "    alumnosAprobados += 1\n",
        "    sumAprobados1    += nota1\n",
        "    sumAprobados2    += nota2\n",
        "    sumAprobados3    += nota3\n",
        "    \n",
        "prom1 = sum1/N\n",
        "prom2 = sum2/N\n",
        "prom3 = sum3/N\n",
        "  \n",
        "promAprobados1 = sumAprobados1/alumnosAprobados\n",
        "promAprobados2 = sumAprobados2/alumnosAprobados\n",
        "promAprobados3 = sumAprobados3/alumnosAprobados\n",
        "print('Cantidad alumnos:',N, '  Cantidad alumnos aprobados:',alumnosAprobados)\n",
        "print('Promedios para parciales: P1=',prom1,'P2=',prom2,'P3=',prom3)\n",
        "print('Promedios de los aprobados: P1=',promAprobados1 ,'P2=',promAprobados2,'P3=',promAprobados3 )\n"
      ],
      "execution_count": 0,
      "outputs": []
    }
  ]
}