{
  "nbformat": 4,
  "nbformat_minor": 0,
  "metadata": {
    "colab": {
      "name": "Clase 4 Solucionario.ipynb",
      "provenance": [],
      "collapsed_sections": [],
      "toc_visible": true,
      "include_colab_link": true
    },
    "kernelspec": {
      "name": "python3",
      "display_name": "Python 3"
    }
  },
  "cells": [
    {
      "cell_type": "markdown",
      "metadata": {
        "id": "view-in-github",
        "colab_type": "text"
      },
      "source": [
        "<a href=\"https://colab.research.google.com/github/IEEESBITBA/Curso-Python/blob/master/Clase_4_Solucionario.ipynb\" target=\"_parent\"><img src=\"https://colab.research.google.com/assets/colab-badge.svg\" alt=\"Open In Colab\"/></a>"
      ]
    },
    {
      "cell_type": "markdown",
      "metadata": {
        "id": "Nnp1YQrsxBTA",
        "colab_type": "text"
      },
      "source": [
        "# **Clase 4 - Solucionario**\n",
        "\n",
        "En este documento se encuentra todos los mini-task de la clase 4 y ejercicios integradores resueltos\n"
      ]
    },
    {
      "cell_type": "markdown",
      "metadata": {
        "id": "d72AwCx4xDJz",
        "colab_type": "text"
      },
      "source": [
        "### **Mini task 1**\n",
        "\n",
        "Gráficar en el intervalo de **[-5, 5]** una [función gaussiana](https://es.wikipedia.org/wiki/Funci%C3%B3n_gaussiana) definida como\n",
        "\n",
        "$$ f(x) = e^{-x^2/2} $$\n",
        "\n",
        "Usar la funcion [np.exp](https://docs.scipy.org/doc/numpy/reference/generated/numpy.exp.html) de numpy "
      ]
    },
    {
      "cell_type": "code",
      "metadata": {
        "id": "nM5droQ7xEQf",
        "colab_type": "code",
        "colab": {}
      },
      "source": [
        "import matplotlib.pyplot as plt\n",
        "import numpy as np\n",
        "import math\n",
        "\n",
        "x = np.linspace(-5,5,10000)\n",
        "gaussiana = 5*np.exp(-x**2/2) # expresion vectorizada, tenemos los valores de sin(x) en cada instante\n",
        "\n",
        "plt.plot(x, gaussiana)\n",
        "plt.show()"
      ],
      "execution_count": 0,
      "outputs": []
    },
    {
      "cell_type": "markdown",
      "metadata": {
        "id": "chmOYkobec-T",
        "colab_type": "text"
      },
      "source": [
        "#### **Mini task 2** - versión A facil\n",
        "\n",
        " Se pide realizar un grafico del valor del  **Bitcoin** de los ultimos 10 años, marcar con un punto el valor maximo del gráfico, calcular cuando sucedió.\n",
        "\n",
        " **Nota:**  \n",
        " - Usen la función [read_csv](https://pandas.pydata.org/pandas-docs/stable/reference/api/pandas.read_csv.html). Un **.csv** es prácticamente identico a un **.xlsx**.\n",
        " - Los valores a graficar estan la columna \"Open\" (usando **to_dict(\"list\"**) podrían resolver el problema)."
      ]
    },
    {
      "cell_type": "code",
      "metadata": {
        "id": "3PhQ1KtxenSA",
        "colab_type": "code",
        "colab": {}
      },
      "source": [
        "! wget  https://raw.githubusercontent.com/LedesmaFran/python/master/BTC.csv         #WARNING No tiene 10 Años\n",
        "\n",
        "#Datos extraidos desde https://es.finance.yahoo.com/"
      ],
      "execution_count": 0,
      "outputs": []
    },
    {
      "cell_type": "markdown",
      "metadata": {
        "id": "hAbTmfbAnWDp",
        "colab_type": "text"
      },
      "source": [
        "### **Solución 1** - usando for para buscar el máximo"
      ]
    },
    {
      "cell_type": "code",
      "metadata": {
        "id": "smkI0K11nWbB",
        "colab_type": "code",
        "colab": {}
      },
      "source": [
        "import pandas as pd\n",
        "import matplotlib.pyplot as plt\n",
        "\n",
        "archivo = pd.read_csv(\"BTC.csv\")\n",
        "data = archivo.to_dict(\"list\")\n",
        "columnaOpen = data[\"Open\"]\n",
        "\n",
        "maximo_valor = -1000 # muy chico\n",
        "item_maximo = -1 # cualquier valor\n",
        "\n",
        "for i in range(len(columnaOpen)):\n",
        "    if columnaOpen[i] > maximo_valor:\n",
        "        maximo_valor = columnaOpen[i]\n",
        "        item_maximo = i\n",
        "\n",
        "plt.plot(columnaOpen)\n",
        "plt.plot(item_maximo, maximo_valor, 'ro')\n",
        "plt.show()\n"
      ],
      "execution_count": 0,
      "outputs": []
    },
    {
      "cell_type": "markdown",
      "metadata": {
        "id": "5jxwVBXlnj7Z",
        "colab_type": "text"
      },
      "source": [
        "### **Solución 2** - usando max para buscar el máximo"
      ]
    },
    {
      "cell_type": "code",
      "metadata": {
        "id": "jTqYHzgNnh8h",
        "colab_type": "code",
        "colab": {}
      },
      "source": [
        "import pandas as pd\n",
        "import matplotlib.pyplot as plt\n",
        "\n",
        "archivo = pd.read_csv(\"BTC.csv\")\n",
        "data = archivo.to_dict(\"list\")\n",
        "columnaOpen = data[\"Open\"]\n",
        "\n",
        "maximoValor = max(columnaOpen)\n",
        "item_maximo = -1 # cualquier valor\n",
        "for i in range(len(columnaOpen)):\n",
        "    if columnaOpen[i] == maximoValor:\n",
        "        item_maximo = i\n",
        "\n",
        "plt.plot(columnaOpen)\n",
        "plt.plot(item_maximo, maximoValor, 'ro')\n",
        "plt.show()"
      ],
      "execution_count": 0,
      "outputs": []
    },
    {
      "cell_type": "markdown",
      "metadata": {
        "id": "oEWAX7w4nnhw",
        "colab_type": "text"
      },
      "source": [
        "### **Solución 3** usando la funcion [index](https://www.tutorialspoint.com/python-program-to-find-maximum-and-minimum-element-s-position-in-a-list)"
      ]
    },
    {
      "cell_type": "code",
      "metadata": {
        "id": "Lu_77p3Dnn4K",
        "colab_type": "code",
        "colab": {}
      },
      "source": [
        "import pandas as pd\n",
        "import matplotlib.pyplot as plt\n",
        "\n",
        "archivo = pd.read_csv(\"BTC.csv\")\n",
        "data = archivo.to_dict(\"list\")\n",
        "columnaOpen = data[\"Open\"]\n",
        "\n",
        "maximoValor = max(columnaOpen)\n",
        "itemMaximo = columnaOpen.index(maximoValor) # funcion index aplicada a columnaOpen\n",
        "\n",
        "plt.plot(columnaOpen)\n",
        "plt.plot(itemMaximo, maximoValor, 'ro')\n",
        "plt.show()"
      ],
      "execution_count": 0,
      "outputs": []
    },
    {
      "cell_type": "markdown",
      "metadata": {
        "id": "Yt4woLeInp6o",
        "colab_type": "text"
      },
      "source": [
        " #### **Mini task 2** - versión B dificil\n",
        " \n",
        " Se pide realizar un grafico del valor de las acciones diarias de las compañias **Amazon** y **Google** de los ultimos 10 años. Encontrar los puntos donde se cruzan los dos gráficos y marcarlos con un punto. Usar dos tipos de linea distintos. \n",
        "\n",
        "  **Nota:**  \n",
        " - Usen la función [read_csv](https://pandas.pydata.org/pandas-docs/stable/reference/api/pandas.read_csv.html) Un **.csv** es prácticamente identico a un **.xlsx**.\n",
        " - Los valores a graficar estan la columna open (usando **to_dict(\"list\"**) podrían resolver el problema)."
      ]
    },
    {
      "cell_type": "code",
      "metadata": {
        "id": "Sln6guYlntqg",
        "colab_type": "code",
        "colab": {
          "base_uri": "https://localhost:8080/",
          "height": 391
        },
        "outputId": "4394c956-b042-458a-8957-6ad66f7b72b3"
      },
      "source": [
        "! wget  https://raw.githubusercontent.com/LedesmaFran/python/master/GOOGLE.csv\n",
        "! wget  https://raw.githubusercontent.com/LedesmaFran/python/master/AMZN.csv\n",
        "\n",
        "#Datos extraidos desde https://es.finance.yahoo.com/"
      ],
      "execution_count": 3,
      "outputs": [
        {
          "output_type": "stream",
          "text": [
            "--2019-11-09 13:29:42--  https://raw.githubusercontent.com/LedesmaFran/python/master/GOOGLE.csv\n",
            "Resolving raw.githubusercontent.com (raw.githubusercontent.com)... 151.101.0.133, 151.101.64.133, 151.101.128.133, ...\n",
            "Connecting to raw.githubusercontent.com (raw.githubusercontent.com)|151.101.0.133|:443... connected.\n",
            "HTTP request sent, awaiting response... 200 OK\n",
            "Length: 188655 (184K) [text/plain]\n",
            "Saving to: ‘GOOGLE.csv’\n",
            "\n",
            "\rGOOGLE.csv            0%[                    ]       0  --.-KB/s               \rGOOGLE.csv          100%[===================>] 184.23K  --.-KB/s    in 0.04s   \n",
            "\n",
            "2019-11-09 13:29:43 (4.88 MB/s) - ‘GOOGLE.csv’ saved [188655/188655]\n",
            "\n",
            "--2019-11-09 13:29:44--  https://raw.githubusercontent.com/LedesmaFran/python/master/AMZN.csv\n",
            "Resolving raw.githubusercontent.com (raw.githubusercontent.com)... 151.101.0.133, 151.101.64.133, 151.101.128.133, ...\n",
            "Connecting to raw.githubusercontent.com (raw.githubusercontent.com)|151.101.0.133|:443... connected.\n",
            "HTTP request sent, awaiting response... 200 OK\n",
            "Length: 189005 (185K) [text/plain]\n",
            "Saving to: ‘AMZN.csv’\n",
            "\n",
            "AMZN.csv            100%[===================>] 184.58K  --.-KB/s    in 0.04s   \n",
            "\n",
            "2019-11-09 13:29:45 (4.82 MB/s) - ‘AMZN.csv’ saved [189005/189005]\n",
            "\n"
          ],
          "name": "stdout"
        }
      ]
    },
    {
      "cell_type": "markdown",
      "metadata": {
        "id": "U4umQYBUn0CG",
        "colab_type": "text"
      },
      "source": [
        "#### **Solución 1** - con **Epsilon**\n",
        "\n",
        "Sugerencia: repasar en la [clase 2](bit.ly/PyClase2) la tercer celda de código de la sección de floats. Alli se explica que los floats no pueden ser comparados con el operador == debido a que tienen un error asociado, y que entonces para revisar si dos variables de tipo float son iguales se debe revisar si son parecidos calculando la distancia entre los dos numeros (*abs(x_1-x_2)*) y fijandose si es menor a un número pequeño, que se suele llamar **epsilon**.\n",
        "\n",
        "El establecimiento del valor de dicho número es por [prueba y error](https://es.wikipedia.org/wiki/Ensayo_y_error)."
      ]
    },
    {
      "cell_type": "code",
      "metadata": {
        "id": "QU6ADiwin0s1",
        "colab_type": "code",
        "colab": {}
      },
      "source": [
        "import pandas as pd\n",
        "import matplotlib.pyplot as plt\n",
        "\n",
        "def floatsIguales(n1, n2): # revisa si dos numeros n1 y n2 son iguales\n",
        "    epsilon = 1 #esto es equivalente a escribir 10**-5\n",
        "    return abs(n1-n2) < epsilon\n",
        "\n",
        "google = pd.read_csv(\"GOOGLE.csv\")\n",
        "amzn = pd.read_csv(\"AMZN.csv\")\n",
        "\n",
        "dataGoogle = google.to_dict(\"list\")[\"Open\"] # accedemos a la comuna Open\n",
        "dataAmzn = amzn.to_dict(\"list\")[\"Open\"]\n",
        "\n",
        "puntosDeIgualdad = []\n",
        "valoresDeIgualdad = []\n",
        "\n",
        "for i in range(len(dataGoogle)):\n",
        "    if floatsIguales(dataGoogle[i], dataAmzn[i]):\n",
        "        puntosDeIgualdad.append(i)\n",
        "        valoresDeIgualdad.append(dataGoogle[i]) # podria ser dataAmzn\n",
        "\n",
        "\n",
        "plt.plot(dataGoogle, label=\"Google\")\n",
        "plt.plot(dataAmzn, label=\"Amzn\")\n",
        "plt.plot(puntosDeIgualdad, valoresDeIgualdad, 'ro')\n",
        "\n",
        "plt.legend()\n",
        "plt.show()"
      ],
      "execution_count": 0,
      "outputs": []
    },
    {
      "cell_type": "markdown",
      "metadata": {
        "id": "WZQ-rXJao8qr",
        "colab_type": "text"
      },
      "source": [
        "### **Solución 2** - con inferencias\n",
        "\n",
        "En esta solución se infinere que hubo una interseccion si suecede que en un instante i google supera a Amazon, y al siguiente (el i+1) ocurre lo contrario (Amazon supera google). También si ocurren los sucesos en el orden contrario se entiende que existió una intersección. En esta solució no se necesita buscar empiricamente el valor de **epsilon**."
      ]
    },
    {
      "cell_type": "code",
      "metadata": {
        "id": "Cpc40GoNpymg",
        "colab_type": "code",
        "colab": {}
      },
      "source": [
        "import pandas as pd\n",
        "import matplotlib.pyplot as plt\n",
        "\n",
        "google = pd.read_csv(\"GOOGLE.csv\")\n",
        "amzn = pd.read_csv(\"AMZN.csv\")\n",
        "\n",
        "dataGoogle = google.to_dict(\"list\")[\"Open\"] # accedemos a la comuna Open\n",
        "dataAmzn = amzn.to_dict(\"list\")[\"Open\"]\n",
        "\n",
        "puntosDeIgualdad = []\n",
        "valoresDeIgualdad = []\n",
        "\n",
        "for i in range(len(dataGoogle)-1):\n",
        "    if dataGoogle[i] > dataAmzn[i] and dataGoogle[i+1] < dataAmzn[i+1]:\n",
        "        puntosDeIgualdad.append(i)\n",
        "        valoresDeIgualdad.append(dataGoogle[i]) # podria ser dataAmzn\n",
        "    elif dataGoogle[i] < dataAmzn[i] and dataGoogle[i+1] > dataAmzn[i+1]:\n",
        "        puntosDeIgualdad.append(i)\n",
        "        valoresDeIgualdad.append(dataGoogle[i]) # podria ser dataAmzn\n",
        "\n",
        "\n",
        "plt.plot(dataGoogle, label=\"Google\")\n",
        "plt.plot(dataAmzn, label=\"Amzn\")\n",
        "plt.plot(puntosDeIgualdad, valoresDeIgualdad, 'ro')\n",
        "\n",
        "plt.legend()\n",
        "plt.show()"
      ],
      "execution_count": 0,
      "outputs": []
    },
    {
      "cell_type": "markdown",
      "metadata": {
        "id": "e6-WKaasxFvr",
        "colab_type": "text"
      },
      "source": [
        "### **Mini task 3**\n",
        "Hacer una pizza con 4 sabores distintos"
      ]
    },
    {
      "cell_type": "code",
      "metadata": {
        "id": "WwQ_G-g_xHZT",
        "colab_type": "code",
        "outputId": "f74bd860-6066-4ef5-ba0c-d154abfa85b5",
        "colab": {
          "base_uri": "https://localhost:8080/",
          "height": 248
        }
      },
      "source": [
        "sabores = [\"napo\",\"muzza\",\"Rucula\",\"Fugazzeta\"]\n",
        "porciones =[2,2,2,2]\n",
        "\n",
        "plt.pie(porciones,labels=sabores)\n",
        "plt.show()"
      ],
      "execution_count": 0,
      "outputs": [
        {
          "output_type": "display_data",
          "data": {
            "image/png": "[encoded data removed]",
            "text/plain": [
              "<Figure size 432x288 with 1 Axes>"
            ]
          },
          "metadata": {
            "tags": []
          }
        }
      ]
    },
    {
      "cell_type": "markdown",
      "metadata": {
        "id": "gQYsYybLxI0r",
        "colab_type": "text"
      },
      "source": [
        "### **Mini task 4**\n",
        "\n",
        "Leer el archivo **notas.xlsx** que tiene en el campo **Notas** los puntajes de alumnos en un examen (van de 0 a 10) y armar un histograma con los datos, guadrarlo en un archivo **Notas.png**"
      ]
    },
    {
      "cell_type": "code",
      "metadata": {
        "id": "Y-zPJ5_cxKtT",
        "colab_type": "code",
        "colab": {}
      },
      "source": [
        "! wget \"https://raw.githubusercontent.com/IEEESBITBA/Curso-Python/master/Clase_4_datos/notas.xlsx\""
      ],
      "execution_count": 0,
      "outputs": []
    },
    {
      "cell_type": "code",
      "metadata": {
        "id": "vb-z2cvlxL2L",
        "colab_type": "code",
        "colab": {}
      },
      "source": [
        "import pandas as pd\n",
        "\n",
        "archivo = pd.read_excel(\"notas.xlsx\") \n",
        "\n",
        "data = archivo.to_dict(\"list\")\n",
        "\n",
        "plt.hist(data[\"notas\"])\n",
        "plt.show()"
      ],
      "execution_count": 0,
      "outputs": []
    },
    {
      "cell_type": "markdown",
      "metadata": {
        "id": "Fi5b3gE9orA_",
        "colab_type": "text"
      },
      "source": [
        "### **Mini task final** - version A facil\n",
        "\n",
        "Se tiene en un archivo **electrocardiograma.xlsx** la información del resultado de un electrocardiograma en dos columnas, una tiene los tiempos de las mediciones (**tiempo**), y la segunda los valores de la señal (**señal**). Calcular los picos del gráfico y marcarlos.\n",
        "\n",
        "Sugerencia: [read_excel](https://pandas.pydata.org/pandas-docs/stable/reference/api/pandas.read_excel.html) [find_peaks](https://docs.scipy.org/doc/scipy/reference/generated/scipy.signal.find_peaks.html)"
      ]
    },
    {
      "cell_type": "code",
      "metadata": {
        "id": "ycnwV4_Iow2B",
        "colab_type": "code",
        "colab": {
          "base_uri": "https://localhost:8080/",
          "height": 204
        },
        "outputId": "4993cd7c-e07c-426f-fdf2-eb7fcdfbb0da"
      },
      "source": [
        "! wget \"https://raw.githubusercontent.com/IEEESBITBA/Curso-Python/master/Clase_4_datos/electrocardiograma.xlsx\""
      ],
      "execution_count": 5,
      "outputs": [
        {
          "output_type": "stream",
          "text": [
            "--2019-11-09 13:43:56--  https://raw.githubusercontent.com/IEEESBITBA/Curso-Python/master/Clase_4_datos/electrocardiograma.xlsx\n",
            "Resolving raw.githubusercontent.com (raw.githubusercontent.com)... 151.101.0.133, 151.101.64.133, 151.101.128.133, ...\n",
            "Connecting to raw.githubusercontent.com (raw.githubusercontent.com)|151.101.0.133|:443... connected.\n",
            "HTTP request sent, awaiting response... 200 OK\n",
            "Length: 42529 (42K) [application/octet-stream]\n",
            "Saving to: ‘electrocardiograma.xlsx’\n",
            "\n",
            "\relectrocardiograma.   0%[                    ]       0  --.-KB/s               \relectrocardiograma. 100%[===================>]  41.53K  --.-KB/s    in 0.02s   \n",
            "\n",
            "2019-11-09 13:43:57 (1.64 MB/s) - ‘electrocardiograma.xlsx’ saved [42529/42529]\n",
            "\n"
          ],
          "name": "stdout"
        }
      ]
    },
    {
      "cell_type": "code",
      "metadata": {
        "id": "cGolG4HSoxRP",
        "colab_type": "code",
        "colab": {
          "base_uri": "https://localhost:8080/",
          "height": 265
        },
        "outputId": "8aefa973-b421-427b-909d-9e6ff8c6a3e8"
      },
      "source": [
        "import matplotlib.pyplot as plt\n",
        "import pandas as pd\n",
        "\n",
        "from scipy.signal import find_peaks\n",
        "\n",
        "archivo = pd.read_excel(\"electrocardiograma.xlsx\") \n",
        "\n",
        "data = archivo.to_dict(\"list\")\n",
        "\n",
        "valores = data[\"señal\"]\n",
        "t = data[\"tiempo\"]\n",
        "\n",
        "peaks, _ = find_peaks(valores, height=1)  # height=1 es la altura minima para que un salto sea considerado pico\n",
        "\n",
        "plt.plot(tiempos, valores)\n",
        "\n",
        "for peak in peaks:  # graficamos con puntos rojos los picos\n",
        "    plt.plot(tiempos[peak], valores[peak], \"ro\")\n",
        "\n",
        "plt.show()\n"
      ],
      "execution_count": 18,
      "outputs": [
        {
          "output_type": "display_data",
          "data": {
            "image/png": "[encoded data removed]",
            "text/plain": [
              "<Figure size 432x288 with 1 Axes>"
            ]
          },
          "metadata": {
            "tags": []
          }
        }
      ]
    },
    {
      "cell_type": "markdown",
      "metadata": {
        "id": "GJK-xkeqoyDP",
        "colab_type": "text"
      },
      "source": [
        "### **Mini task final** - version B dificil\n",
        "\n",
        "Se tiene en un archivo **electrocardiograma.xlsx** la información del resultado de un electrocardiograma en dos columnas, una tiene los tiempos de las mediciones (**tiempo**), y la segunda los valores de la señal (**valor**). Calcular las [frecuencia cardiaca](https://es.wikipedia.org/wiki/Frecuencia_card%C3%ADaca) del paciente medida en latidos por minuto.\n",
        "\n",
        "Sugerencia: [read_excel](https://pandas.pydata.org/pandas-docs/stable/reference/api/pandas.read_excel.html) [find_peaks](https://docs.scipy.org/doc/scipy/reference/generated/scipy.signal.find_peaks.html)\n"
      ]
    },
    {
      "cell_type": "code",
      "metadata": {
        "id": "JtB4E8Nzo11J",
        "colab_type": "code",
        "colab": {}
      },
      "source": [
        "! wget \"https://raw.githubusercontent.com/IEEESBITBA/Curso-Python/master/Clase_4_datos/electrocardiograma.xlsx\""
      ],
      "execution_count": 0,
      "outputs": []
    },
    {
      "cell_type": "code",
      "metadata": {
        "id": "ufJZ01GFo2YY",
        "colab_type": "code",
        "colab": {
          "base_uri": "https://localhost:8080/",
          "height": 282
        },
        "outputId": "1401ad7c-72a4-4374-de1d-1a2838297491"
      },
      "source": [
        "import matplotlib.pyplot as plt\n",
        "import pandas as pd\n",
        "\n",
        "from scipy.signal import find_peaks\n",
        "\n",
        "archivo = pd.read_excel(\"electrocardiograma.xlsx\") \n",
        "\n",
        "data = archivo.to_dict(\"list\")\n",
        "\n",
        "valores = data[\"señal\"]\n",
        "tiempos = data[\"tiempo\"]\n",
        "\n",
        "peaks, _ = find_peaks(valores, height=1)\n",
        "\n",
        "plt.plot(tiempos,valores)\n",
        "\n",
        "distances = [] # almacenamos las distancias entre picos para hacer el promedio\n",
        "last_pico = -1\n",
        "\n",
        "for peak in peaks:  \n",
        "    if last_pico != -1:\n",
        "        distances.append(tiempos[peak]-tiempos[last_pico])\n",
        "    plt.plot(tiempos[peak], valores[peak], \"ro\")\n",
        "    last_pico = peak\n",
        "\n",
        "plt.show()\n",
        "\n",
        "periodo = sum(distances) / len(distances)\n",
        "\n",
        "lat_ppm = (1/periodo)*60 # latidos por minuto\n",
        "\n",
        "print(\"El paciente tiene %0.2f latidos por minuto\" % lat_ppm) # googlear como usar esta sintaxis para mostrar el numero con dos decimales\n"
      ],
      "execution_count": 19,
      "outputs": [
        {
          "output_type": "display_data",
          "data": {
            "image/png": "[encoded data removed]",
            "text/plain": [
              "<Figure size 432x288 with 1 Axes>"
            ]
          },
          "metadata": {
            "tags": []
          }
        },
        {
          "output_type": "stream",
          "text": [
            "El paciente tiene 52.97 latidos por minuto\n"
          ],
          "name": "stdout"
        }
      ]
    },
    {
      "cell_type": "markdown",
      "metadata": {
        "id": "7rJnLx8xxpi9",
        "colab_type": "text"
      },
      "source": [
        "# Ejercitación integradora $\\newcommand{\\dif}{\\bigstar}$$\\newcommand{\\facil}{\\color{\\green}{\\dif}}$ $\\newcommand{\\pieceofcake}{\\color{\\cyan}{\\dif}}$$\\newcommand{\\medio}{\\color{\\yellow}{\\dif\\dif}}$$\\newcommand{\\media}{\\medio}$$\\newcommand{\\normal}{\\medio}$  $\\newcommand{\\dificil}{\\color{\\orange}{\\dif\\dif\\dif}}$ $\\newcommand{\\imposible}{\\color{\\red}{\\dif\\dif\\dif\\dif}}$\n"
      ]
    },
    {
      "cell_type": "markdown",
      "metadata": {
        "id": "FWBTSg8OxgwG",
        "colab_type": "text"
      },
      "source": [
        "## $\\pieceofcake$ Those 3 sides\n",
        "Escribir una función que dibuje un triangulo equilatero, debe recibir 3 parametros: \n",
        "\n",
        "\n",
        "-   X,Y: coordenadas del centro\n",
        "-   L: Largo de los lados"
      ]
    },
    {
      "cell_type": "code",
      "metadata": {
        "id": "N1v61Ii2xhes",
        "colab_type": "code",
        "colab": {}
      },
      "source": [
        "import matplotlib.pyplot as plt\n",
        "\n",
        "def plot_triang(x, y, l):\n",
        "    sin60 = 0.86602540378 #seno de 60 grados\n",
        "    \n",
        "    # coordenadas de la esquina izquierda, arriba, derecha\n",
        "    # repito la izquierda para que se cierre el triangulo\n",
        "    xcoord = [x-l/2,    0,       x+l/2,   x-l/2]\n",
        "    ycoord = [0,        l*sin60, 0,       0]\n",
        "    \n",
        "    plt.plot(xcoord, ycoord)\n",
        "    plt.show()\n",
        "    \n",
        "    \n",
        "plot_triang(0, 0, 50)"
      ],
      "execution_count": 0,
      "outputs": []
    },
    {
      "cell_type": "markdown",
      "metadata": {
        "id": "WoL0EmqQxOVc",
        "colab_type": "text"
      },
      "source": [
        "## $\\facil$ Caja y Bigote\n",
        "\n",
        "Vamos a crear un histograma (visto a comienzo de clase) y un <a href=\"https://matplotlib.org/api/_as_gen/matplotlib.pyplot.boxplot.html\">*Box-and-Whisker plot*</a>. \n",
        "\n",
        "\n",
        "<center>\n",
        "<img src=\"https://matplotlib.org/_images/sphx_glr_boxplot_demo_pyplot_001.png\" height=300 title=\"Box and Whisker plot ejemplo.\">\n",
        " </center>\n",
        " \n",
        " Este tipo de gráfico es comunmente utilizado para mostrar la distribución de una población de forma muy visual.\n",
        "\n",
        "## Código dado\n",
        "```\n",
        "! wget \"https://raw.githubusercontent.com/IEEESBITBA/Curso-Python/master/Clase_3_datos/NotasFinitos.csv\"\n",
        "\n",
        "import pandas as pd\n",
        "import matplotlib.pyplot as plt\n",
        "datos = pd.read_csv(\"NotasFinitos.csv\")\n",
        "print(datos)\n",
        "```\n",
        "## Objetivos\n",
        "\n",
        "### Procesamiento de datos\n",
        "Procesar Notas de tres parciales (convertirlas a números). Se debería obtener tres listas con notas del 0-140, una para cada uno de los tres parciales. Tengan cuidado que pandas devuelve las notas en formato `string`!\n",
        "\n",
        "  Función para ver si un valor es `NaN`\n",
        " ```\n",
        " def isNaN(num):\n",
        "    return num != num\n",
        " ```\n",
        " \n",
        " ### Graficar Histograma\n",
        " \n",
        "El histograma debería tener 5 barras **por cada parcial**.\n",
        " \n",
        " **Intervalos:**\n",
        " * Notas entre 0-30\n",
        " * Notas entre 31-60\n",
        " *  Notas entre 61-90\n",
        " * Notas entre 91-120\n",
        " * Notas entre 121-140\n",
        " \n",
        " Esto se puede lograr otorgandole un valor a la propiedad  <a href=\"https://en.wikipedia.org/wiki/Histogram\">`bins` del histograma</a>. \n",
        " \n",
        "```\n",
        "plt.hist([parcial1,parcial2,parcial3], bins=intervalos_superiores ,label=nombreDeDatasets)\n",
        "```\n",
        "\n",
        "  ### Graficar Box-and-Whisker plot\n",
        " Graficar el *box-and-whisker plot*\n",
        " \n",
        " ```\n",
        " plt.boxplot([notasParcial1, notasParcial2, notasParcial3])\n",
        " ```\n",
        "\n",
        " \n",
        " \n",
        " **Datos y Tips**\n",
        " \n",
        " * Las notas pueden contener los siguientes valores:\n",
        "  * `0-140` : Nota numérica\n",
        "  * `'Ausente'` : Indica ausencia al parcial\n",
        "  * `'NaN'` : El alumno no cumplio condiciones para rendir parcial (celda vacia)\n",
        " \n",
        " * Descartar los valores no-numéricos (Ausente y NaN)\n",
        " \n",
        " * Usar $\\mathrm{int()}$ para convertir valores numericos de `string` a `int`!\n"
      ]
    },
    {
      "cell_type": "code",
      "metadata": {
        "id": "4q7BCjAMxQar",
        "colab_type": "code",
        "colab": {}
      },
      "source": [
        "def numeralizar(datos):\n",
        "  datosNumeralizados=[]\n",
        "  for i in range(len(datos)):\n",
        "    dato = datos[i]\n",
        "    if dato!=dato:\n",
        "      continue\n",
        "    elif dato=='Ausente':\n",
        "      continue\n",
        "    else:\n",
        "        datosNumeralizados.append(int(dato))\n",
        "  return datosNumeralizados\n",
        "\n",
        "\n",
        "! wget \"https://raw.githubusercontent.com/IEEESBITBA/Curso-Python/master/Clase_3_datos/NotasFinitos.csv\"\n",
        "\n",
        "import pandas as pd\n",
        "import matplotlib.pyplot as plt\n",
        "datos = pd.read_csv(\"NotasFinitos.csv\") \n",
        "\n",
        "notas1 = datos['1P']\n",
        "notas2 = datos['2P']\n",
        "notas3 = datos['3P']\n",
        "\n",
        "parcial1=numeralizar(notas1)\n",
        "parcial2=numeralizar(notas2)\n",
        "parcial3=numeralizar(notas3)\n",
        "\n",
        "\n",
        "intervalos_superiores=[30,60,90,120,140]\n",
        "nombreDeDatasets=['Parcial 1','Parcial 2','Parcial 3']\n",
        "plt.hist([parcial1,parcial2,parcial3], bins=intervalos_superiores ,label=nombreDeDatasets)\n",
        "plt.legend(loc=\"upper right\")\n",
        "plt.show()\n",
        "\n",
        "_=plt.boxplot([parcial1,parcial2,parcial3]) \n",
        "# ax1.show()\n"
      ],
      "execution_count": 0,
      "outputs": []
    },
    {
      "cell_type": "markdown",
      "metadata": {
        "id": "5PCZKDk7xrtN",
        "colab_type": "text"
      },
      "source": [
        "## $\\normal$ Bug Catcher y el disco de la Eutrofia \n",
        "Pasaron 10 años desde que se concretó un acuerdo para la construcción de una fabrica de queso al lado del Lago Nahuel Huapi, a dos kilometros de la ciudad natal de *Bug Catcher*. *Bug Catcher* dice que en ese tiempo el agua del lago ha visto un deterioro en su calidad y esta peticionando ante la ciudad la imposición de regulaciones más estrictas sobre los efluentes de la fabrica.\n",
        "\n",
        "Pero primero tiene que demostrar este deterioro... *Y así,* Bug Catcher *ha venido a tí para pedirte ayuda graficando los resultados de un estudio de agua.*\n",
        "\n",
        "$\\newcommand{\\zf}{{z_{\\mathrm{f}}}}$\n",
        "\n",
        "---\n",
        "\n",
        "\n",
        "<center>\n",
        "<img src=\"https://cdn.bulbagarden.net/upload/archive/3/3f/20091012043640%21Spr_RG_Bug_Catcher.png\" height=200 title=\"I catch bugs and stop global conglomerates from getting away with enviromental crimes.\" ></center>\n",
        "\n",
        "\n",
        "---\n",
        "\n",
        "\n",
        "**El estudio**\n",
        "\n",
        "Se efectua un estudio de <a href=\"https://en.wikipedia.org/wiki/Trophic_state_index#Eutrophic\">turbiedad</a> de agua del tipo <a href=\"https://en.wikipedia.org/wiki/Secchi_disk\">*Secchi*</a> . El estudio consiste en hundir un disco blanco en el cuerpo de agua a estudiar y medir la profundidad $\\zf$  a la cual el disco desaparece. Para el estudio se tiene que tener en cuenta la intensidad de la luz sobre el cuerpo de agua $I_0$.\n",
        "\n",
        "\n",
        "\n",
        "**El problema**\n",
        "\n",
        "*Bug Catcher* quiere un gráfico que muestre la turbiedad del lago Nahuel Huapi y compararlo a la de otro lago cercano <a href=\"https://es.wikipedia.org/wiki/Anexo:Definiciones_usuales_en_hidrolog%C3%ADa#Aguas_arriba\">*río arriba*</a>. \n",
        "\n",
        "**Objetivo**\n",
        "\n",
        "Graficar la intensidad de luz $I_z$ en el eje vertical a una profundidad $z$ ($z$ en el eje horizontal) para el Nahuel Huapi y el otro lago. \n",
        "\n",
        "**Datos**\n",
        "\n",
        "Rige la ley de <a href=\"https://en.wikipedia.org/wiki/Beer%E2%80%93Lambert_law\">Beer-Lambert</a>:\n",
        "$$\\frac{I_{z}}{I_{0}}=e^{-k z}$$\n",
        "donde \n",
        "* $I_z$ es la intensidad de luz a una profundidad $z$\n",
        "* $I_0$ es la intensidad de luz sobre la superficie del agua, para un día soleado $I_0\\approx 700\\  \\mathrm{W/m}^2$\n",
        "* $k$ es el factor de atenuación del agua. Indica turbiedad.\n",
        "\n",
        "Sabemos que el disco <a href=\"https://en.wikipedia.org/wiki/Secchi_disk\">*Secchi*</a>  de *Bug Catcher* desaparece bajo **56cm** de agua del Nahuel Huapi.  **Para todos los cálculos suponga que la relación** $\\frac{I_\\zf}{I_0}$ **vale** $10\\%$ (para la profundidad a la cual desaparece el disco).\n",
        "\n",
        "El factor de atenuación del lago *río arriba* fue medido la semana pasada y vale $k_{\\mathrm{ra}}=0,009\\ \\mathrm{cm}^{-1}$.\n",
        "\n",
        "**Tips:**\n",
        "\n",
        "* Hay que despejar $k$ y calcularla para el lago Nahuel Huapi antes de graficar\n",
        "* la función `log` de la libreria `math` es el logaritmo natural\n",
        "* Pruebe graficar ambas curvas hasta la profundidad $\\zf$ del lago río arriba\n",
        "* **Tener una bolígrafo y un cuaderno abierto ayuda.**"
      ]
    },
    {
      "cell_type": "code",
      "metadata": {
        "id": "v0nyx3pSxvQZ",
        "colab_type": "code",
        "colab": {}
      },
      "source": [
        "import numpy as np\n",
        "import matplotlib.pyplot as plt\n",
        "IzIo=0.1\n",
        "zfNahuel = 56\n",
        "kNahuel=-np.log(IzIo)/zfNahuel\n",
        "\n",
        "kRioArriba = 0.009\n",
        "zfRioArriba = -np.log(IzIo)/kRioArriba\n",
        "print('Nahuel Huapi k=',kNahuel)\n",
        "print('Rio Arriba k=',kRioArriba)\n",
        "z = np.arange(0,zfRioArriba,1)\n",
        "\n",
        "I0= 700\n",
        "IzNahuel = I0*np.e**(-kNahuel*z)\n",
        "IzRioArriba = I0*np.e**(-kRioArriba*z)\n",
        "\n",
        "plt.figure(figsize=(15,9))\n",
        "plt.plot(z, IzNahuel, \"blue\",label=\"Nahuel Huapi\")\n",
        "plt.plot(z, IzRioArriba, \"cyan\",label=\"Río arriba\")\n",
        "plt.ylabel(\"Intensidad Iz [W/m^2]\")\n",
        "plt.xlabel(\"Profundidad z [cm]\")\n",
        "\n",
        "plt.title(\"Abajo con la fabrica\")\n",
        "plt.minorticks_on()\n",
        "plt.grid(which='minor', linestyle=':', linewidth=0.2, color='black')\n",
        "#Le asignamos el estilo a la grilla mayor\n",
        "plt.grid(which='major', linestyle='-', linewidth=0.3, color='black')\n",
        "\n",
        "## BUG CATCHER:Algas CONTINUED\n",
        "Izsuperior = 0.25\n",
        "Izinferior = 0.03\n",
        "zinferior= -np.log(Izsuperior)/kNahuel\n",
        "zsuperior = -np.log(Izinferior)/kNahuel\n",
        "\n",
        "zbien  = np.arange(zinferior,zsuperior,0.2)\n",
        "zmal =np.arange(zsuperior,zfRioArriba,0.2) \n",
        "\n",
        "Izbien = I0*np.e**(-kNahuel*zbien) \n",
        "Izmal = I0*np.e**(-kNahuel*zmal)\n",
        "plt.fill_between(zbien, Izbien, color=\"green\",label=\"Crecimiento bueno\")\n",
        "\n",
        "plt.fill_between(zmal, Izmal,color=\"red\",label=\"Crecimiento malo\")\n",
        "plt.legend(loc=\"upper right\")\n",
        "plt.show()"
      ],
      "execution_count": 0,
      "outputs": []
    },
    {
      "cell_type": "markdown",
      "metadata": {
        "id": "x_bnonM3x1PE",
        "colab_type": "text"
      },
      "source": [
        "## $\\dificil$ Esos Malditos Mecánicos...\n",
        "Los mecánicos viven bajo la impresión que el $\\text{MATLAB}$ resuelve todos los problemas. Lo que no te cuentan es que cuando llega el momento de guardar o promediar las notas, *abren un Excel*... Si solo alguien les enseñara un poco de Python...\n",
        "\n",
        "**Intro**\n",
        "\n",
        "Volodymyr es un profesor de la materia **Elementos Finitos I** en el ITBA. El <a href=\"https://en.wikipedia.org/wiki/Finite_element_method\">método de los elementos finitos</a> consiste en modelar sistemas de solidos o fluidos mediante una partición del sistema en subsistemas que se resuelven en conjunto según condiciones de borde y condiciones iniciales. \n",
        "\n",
        "**Problema**\n",
        "\n",
        "El segundo cuatrimestre del 2018 Volodymyr tomó 3 parciales y ahora quiere obtener estadisticas y además saber cuales alumnos aprobaron y cuales no. El archivo `NotasFinitos.csv` contiene los datos **reales** de dicha materia sin los nombres de los alumnos. \n",
        "\n",
        "\n",
        "\n",
        "---\n",
        "<center>\n",
        "<img src=\"https://grupocarman.com/blog/wp-content/uploads/2014/10/Mallado-por-elementos-finitos.png\" title=\"Un modelo de un motor. En rojo las partes más comprometidas por fuerzas.\" height=200>\n",
        "  \n",
        "  ***La resolución correcta de este ejercicio indica que el programador tiene un solido conocimiento del manejo de datos y estructuras de control.***\n",
        "</center>\n",
        "\n",
        "---\n",
        "\n",
        "\n",
        "**Objetivos**\n",
        "\n",
        "Del archivo `\"https://raw.githubusercontent.com/IEEESBITBA/Curso-Python/master/Clase_3_datos/NotasFinitos.csv\"` : \n",
        "\n",
        "* Obtener promedios para cada parcial\n",
        "* Obtener promedio para toda la cursada\n",
        "* Obtener promedios de de los que aprobaron la materia, para cada parcial.\n",
        "\n",
        "\n",
        "***Condiciones de Borde***\n",
        "\n",
        "* Condición de aprobación de parcial:   `Nota>=60`\n",
        "\n",
        "* Para aprobar la materia se necesita aprobar 2 parciales y sumar entre los tres parciales: `sumaNotas>=160` \n",
        "\n",
        "* Las notas pueden contener los siguientes valores:\n",
        "  * `0-140` : Nota numérica\n",
        "  * `'Ausente'` : Indica ausencia al parcial\n",
        "  * `'NaN'` : El alumno no cumplio condiciones para rendir parcial (celda vacia)\n",
        "\n",
        "* Tomar los valores `Ausente` y `NaN` como `0`. Usar la función $\\mathrm{isNaN}$ en el código de arriba\n",
        "\n",
        "**Tips:**\n",
        "* Las funciones pueden ser muy utiles para este ejercicio! \n",
        "\n",
        "* Convertir la nota de `string` a `int` usando la función $\\mathrm{int}(Nota)$\n",
        "\n",
        "* ***hint:*** Hay `49` alumnos de los cuales `19` aprobaron la materia según el criterio dado\n"
      ]
    },
    {
      "cell_type": "code",
      "metadata": {
        "id": "S91DN_w2x4b8",
        "colab_type": "code",
        "colab": {}
      },
      "source": [
        "def isNaN(num):\n",
        "    return num != num\n",
        "\n",
        "def getNota(estado):\n",
        "  if estado == 'Ausente':\n",
        "    return 0\n",
        "  if isNaN(estado):\n",
        "    return 0\n",
        "  return int(estado)\n",
        "  \n",
        "def Aprobado(parcial1,parcial2,parcial3):\n",
        "  if parcial1+parcial2+parcial3<160:\n",
        "    return False\n",
        "  if parcial1>=60 and parcial2>=60:\n",
        "    return True\n",
        "  elif parcial1>=60 and parcial3>=60:\n",
        "    return True\n",
        "  elif parcial2>=60 and parcial3>=60:\n",
        "    return True\n",
        "  else:\n",
        "    return False\n",
        "\n",
        "! wget \"https://raw.githubusercontent.com/IEEESBITBA/Curso-Python/master/Clase_3_datos/NotasFinitos.csv\"\n",
        "\n",
        "import pandas as pd\n",
        "datos = pd.read_csv(\"NotasFinitos.csv\") \n",
        "\n",
        "notas1 = datos['1P']\n",
        "notas2 = datos['2P']\n",
        "notas3 = datos['3P']\n",
        "N = len(notas1) # La cantidad de alumnos\n",
        "notasNumericas\n",
        "# print(notas1[N-1])\n",
        "sum1=0\n",
        "sum2=0\n",
        "sum3=0\n",
        "sumAprobados1=0\n",
        "sumAprobados2=0\n",
        "sumAprobados3=0\n",
        "alumnosAprobados=0\n",
        "for i in range(len(notas1)):\n",
        "  nota1 = getNota(notas1[i])\n",
        "  nota2 = getNota(notas2[i])\n",
        "  nota3 = getNota(notas3[i])\n",
        "  sum1 += nota1\n",
        "  sum2 += nota2\n",
        "  sum3 += nota3\n",
        "  \n",
        "  estáAprobado = Aprobado(nota1,nota2,nota3)\n",
        "  if estáAprobado:\n",
        "    alumnosAprobados += 1\n",
        "    sumAprobados1    += nota1\n",
        "    sumAprobados2    += nota2\n",
        "    sumAprobados3    += nota3\n",
        "    \n",
        "prom1 = sum1/N\n",
        "prom2 = sum2/N\n",
        "prom3 = sum3/N\n",
        "  \n",
        "promAprobados1 = sumAprobados1/alumnosAprobados\n",
        "promAprobados2 = sumAprobados2/alumnosAprobados\n",
        "promAprobados3 = sumAprobados3/alumnosAprobados\n",
        "print('Cantidad alumnos:',N, '  Cantidad alumnos aprobados:',alumnosAprobados)\n",
        "print('Promedios para parciales: P1=',prom1,'P2=',prom2,'P3=',prom3)\n",
        "print('Promedios de los aprobados: P1=',promAprobados1 ,'P2=',promAprobados2,'P3=',promAprobados3 )\n"
      ],
      "execution_count": 0,
      "outputs": []
    }
  ]
}