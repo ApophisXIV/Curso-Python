{
  "nbformat": 4,
  "nbformat_minor": 0,
  "metadata": {
    "colab": {
      "name": "borrador-live-final.ipynb",
      "provenance": [],
      "authorship_tag": "ABX9TyPTfQ8NHiAKydfR8O+98cmE",
      "include_colab_link": true
    },
    "kernelspec": {
      "name": "python3",
      "display_name": "Python 3"
    }
  },
  "cells": [
    {
      "cell_type": "markdown",
      "metadata": {
        "id": "view-in-github",
        "colab_type": "text"
      },
      "source": [
        "<a href=\"https://colab.research.google.com/github/IEEESBITBA/Curso-Python/blob/master/borrador_live_final.ipynb\" target=\"_parent\"><img src=\"https://colab.research.google.com/assets/colab-badge.svg\" alt=\"Open In Colab\"/></a>"
      ]
    },
    {
      "cell_type": "markdown",
      "metadata": {
        "id": "4jfGCyO-n1F9",
        "colab_type": "text"
      },
      "source": [
        "Ayuda 1: Ordenar dates:"
      ]
    },
    {
      "cell_type": "code",
      "metadata": {
        "id": "YFV-SVIbkmTT",
        "colab_type": "code",
        "colab": {}
      },
      "source": [
        "from datetime import datetime \n",
        "\n",
        "datos = [\n",
        "         (4, \"2018-10-2\"),\n",
        "         (1, \"2019-11-3\"),\n",
        "         (2, \"2019-5-4\")\n",
        "]\n",
        "\n",
        "datos.sort(key = lambda date: datetime.strptime(date[1], '%Y-%m-%d')) \n",
        "\n",
        "print(datos)\n"
      ],
      "execution_count": 0,
      "outputs": []
    },
    {
      "cell_type": "markdown",
      "metadata": {
        "id": "ldI4hiuNkx93",
        "colab_type": "text"
      },
      "source": [
        "Ayuda 2: Como lograr que los ejes X de los gráficos sean iguales\n"
      ]
    },
    {
      "cell_type": "code",
      "metadata": {
        "id": "to3lsoFMmXUN",
        "colab_type": "code",
        "outputId": "8cde77a8-4d0e-4229-c47d-9650410c9e6e",
        "colab": {
          "base_uri": "https://localhost:8080/",
          "height": 217
        }
      },
      "source": [
        "!wget 'https://covid.ourworldindata.org/data/ecdc/full_data.csv'"
      ],
      "execution_count": 0,
      "outputs": [
        {
          "output_type": "stream",
          "text": [
            "--2020-05-02 19:54:51--  https://covid.ourworldindata.org/data/ecdc/full_data.csv\n",
            "Resolving covid.ourworldindata.org (covid.ourworldindata.org)... 138.68.244.143, 2604:a880:2:d0::1541:1001\n",
            "Connecting to covid.ourworldindata.org (covid.ourworldindata.org)|138.68.244.143|:443... connected.\n",
            "HTTP request sent, awaiting response... 200 OK\n",
            "Length: 450976 (440K) [text/csv]\n",
            "Saving to: ‘full_data.csv’\n",
            "\n",
            "\rfull_data.csv         0%[                    ]       0  --.-KB/s               \rfull_data.csv       100%[===================>] 440.41K  2.83MB/s    in 0.2s    \n",
            "\n",
            "2020-05-02 19:54:52 (2.83 MB/s) - ‘full_data.csv’ saved [450976/450976]\n",
            "\n"
          ],
          "name": "stdout"
        }
      ]
    },
    {
      "cell_type": "code",
      "metadata": {
        "id": "zmRREroxk3et",
        "colab_type": "code",
        "outputId": "3097a5f7-4fbd-4647-80dc-eb1fd29b7fa8",
        "colab": {
          "base_uri": "https://localhost:8080/",
          "height": 339
        }
      },
      "source": [
        "import datetime\n",
        "import matplotlib.pyplot as plt\n",
        "import pandas as pd\n",
        "import numpy as np\n",
        "from datetime import datetime \n",
        "\n",
        "archivo = pd.read_csv('full_data.csv', header=0)\n",
        "datos_records = archivo.to_dict('records')\n",
        "\n",
        "argentina = []\n",
        "brazil = []\n",
        "\n",
        "for record in datos_records:\n",
        "    if record['location'] == 'Argentina':\n",
        "        argentina.append(record)\n",
        "    elif record['location'] == 'Brazil':\n",
        "        brazil.append(record)\n",
        "\n",
        "arg = dict()\n",
        "\n",
        "for caso in argentina:\n",
        "    arg[caso['date']] = caso['total_cases'] # clave la fecha, contenido es la cantidad de casos\n",
        "\n",
        "bra = dict()\n",
        "\n",
        "for caso in brazil:\n",
        "    bra[caso['date']] = caso['total_cases']\n",
        "\n",
        "# casos de brazil y argentina\n",
        "print(arg)\n",
        "\n",
        "print(bra)\n",
        "\n",
        "# tenemos que lograr que tengan los mismos dates\n",
        "\n",
        "setDates = set()\n",
        "\n",
        "for x in bra:\n",
        "    setDates.add(x)\n",
        "\n",
        "for x in arg:\n",
        "    setDates.add(x)\n",
        "\n",
        "listDates = list(setDates) # convertimos a list\n",
        "listDates.sort(key = lambda date: datetime.strptime(date, '%Y-%m-%d')) \n",
        "\n",
        "yArg = []\n",
        "yBra = []\n",
        "\n",
        "last_arg = 0\n",
        "last_bra = 0\n",
        "\n",
        "for date in listDates:\n",
        "    if date in arg:\n",
        "        yArg.append(arg[date])\n",
        "    else:\n",
        "        yArg.append(last_arg) # si no esta agrego el ultimo encontrado\n",
        "    \n",
        "    if date in bra:\n",
        "        yBra.append(bra[date])\n",
        "    else:\n",
        "        yBra.append(last_bra)\n",
        "    \n",
        "    # los ultimos son los valores que acabamos de agregar\n",
        "    last_arg = yArg[-1]\n",
        "    last_bra = yBra[-1]\n",
        "\n",
        "plt.plot(listDates, yArg)\n",
        "plt.plot(listDates, yBra)"
      ],
      "execution_count": 0,
      "outputs": [
        {
          "output_type": "stream",
          "text": [
            "{'2020-03-04': 1, '2020-03-06': 2, '2020-03-07': 8, '2020-03-08': 9, '2020-03-09': 12, '2020-03-11': 19, '2020-03-13': 31, '2020-03-14': 34, '2020-03-15': 45, '2020-03-16': 56, '2020-03-17': 65, '2020-03-18': 79, '2020-03-19': 97, '2020-03-20': 128, '2020-03-21': 158, '2020-03-22': 225, '2020-03-23': 266, '2020-03-24': 301, '2020-03-25': 387, '2020-03-26': 502, '2020-03-27': 589, '2020-03-28': 690, '2020-03-29': 745, '2020-03-30': 820, '2020-03-31': 966, '2020-04-01': 966, '2020-04-02': 1133, '2020-04-03': 1133, '2020-04-04': 1265, '2020-04-05': 1451, '2020-04-06': 1554, '2020-04-07': 1628, '2020-04-08': 1715, '2020-04-09': 1795, '2020-04-10': 1894, '2020-04-11': 1975, '2020-04-12': 2137, '2020-04-13': 2203, '2020-04-14': 2272, '2020-04-15': 2432, '2020-04-16': 2432, '2020-04-17': 2560, '2020-04-18': 2658, '2020-04-19': 2828, '2020-04-20': 2930, '2020-04-21': 3020, '2020-04-22': 3132, '2020-04-23': 3276, '2020-04-24': 3423, '2020-04-25': 3423, '2020-04-26': 3767, '2020-04-27': 3767, '2020-04-28': 3990, '2020-04-29': 4114, '2020-04-30': 4272, '2020-05-01': 4415, '2020-05-02': 4519}\n",
            "{'2019-12-31': 0, '2020-01-01': 0, '2020-01-02': 0, '2020-01-03': 0, '2020-01-04': 0, '2020-01-05': 0, '2020-01-06': 0, '2020-01-07': 0, '2020-01-08': 0, '2020-01-09': 0, '2020-01-10': 0, '2020-01-11': 0, '2020-01-12': 0, '2020-01-13': 0, '2020-01-14': 0, '2020-01-15': 0, '2020-01-16': 0, '2020-01-17': 0, '2020-01-18': 0, '2020-01-19': 0, '2020-01-20': 0, '2020-01-21': 0, '2020-01-22': 0, '2020-01-23': 0, '2020-01-24': 0, '2020-01-25': 0, '2020-01-26': 0, '2020-01-27': 0, '2020-01-28': 0, '2020-01-29': 0, '2020-01-30': 0, '2020-01-31': 0, '2020-02-01': 0, '2020-02-02': 0, '2020-02-03': 0, '2020-02-04': 0, '2020-02-05': 0, '2020-02-06': 0, '2020-02-07': 0, '2020-02-08': 0, '2020-02-09': 0, '2020-02-10': 0, '2020-02-11': 0, '2020-02-12': 0, '2020-02-13': 0, '2020-02-14': 0, '2020-02-15': 0, '2020-02-16': 0, '2020-02-17': 0, '2020-02-18': 0, '2020-02-19': 0, '2020-02-20': 0, '2020-02-21': 0, '2020-02-22': 0, '2020-02-23': 0, '2020-02-24': 0, '2020-02-25': 0, '2020-02-26': 1, '2020-02-27': 1, '2020-02-28': 1, '2020-02-29': 1, '2020-03-01': 2, '2020-03-02': 2, '2020-03-03': 2, '2020-03-04': 2, '2020-03-05': 3, '2020-03-06': 8, '2020-03-07': 13, '2020-03-08': 13, '2020-03-09': 25, '2020-03-10': 25, '2020-03-11': 34, '2020-03-12': 52, '2020-03-13': 77, '2020-03-14': 98, '2020-03-15': 121, '2020-03-16': 200, '2020-03-17': 234, '2020-03-18': 291, '2020-03-19': 428, '2020-03-20': 621, '2020-03-21': 904, '2020-03-22': 1128, '2020-03-23': 1546, '2020-03-24': 1891, '2020-03-25': 2201, '2020-03-26': 2433, '2020-03-27': 2915, '2020-03-28': 3417, '2020-03-29': 3904, '2020-03-30': 4256, '2020-03-31': 4579, '2020-04-01': 5717, '2020-04-02': 6836, '2020-04-03': 7910, '2020-04-04': 9056, '2020-04-05': 10278, '2020-04-06': 11130, '2020-04-07': 12056, '2020-04-08': 13717, '2020-04-09': 15927, '2020-04-10': 17857, '2020-04-11': 19638, '2020-04-12': 20727, '2020-04-13': 22169, '2020-04-14': 23430, '2020-04-15': 25262, '2020-04-16': 28320, '2020-04-17': 30425, '2020-04-18': 33682, '2020-04-19': 36599, '2020-04-20': 38654, '2020-04-21': 40581, '2020-04-22': 43079, '2020-04-23': 45757, '2020-04-24': 49492, '2020-04-25': 52995, '2020-04-26': 58509, '2020-04-27': 61888, '2020-04-28': 66501, '2020-04-29': 71886, '2020-04-30': 78162, '2020-05-01': 85380, '2020-05-02': 91589}\n"
          ],
          "name": "stdout"
        },
        {
          "output_type": "execute_result",
          "data": {
            "text/plain": [
              "[<matplotlib.lines.Line2D at 0x7f8e25844e10>]"
            ]
          },
          "metadata": {
            "tags": []
          },
          "execution_count": 4
        },
        {
          "output_type": "display_data",
          "data": {
            "image/png": "[encoded data removed]",
            "text/plain": [
              "<Figure size 432x288 with 1 Axes>"
            ]
          },
          "metadata": {
            "tags": [],
            "needs_background": "light"
          }
        }
      ]
    },
    {
      "cell_type": "markdown",
      "metadata": {
        "id": "E97i9VFboC1T",
        "colab_type": "text"
      },
      "source": [
        "Ayuda 2 versión Pato:"
      ]
    },
    {
      "cell_type": "code",
      "metadata": {
        "id": "3syteey-oFDt",
        "colab_type": "code",
        "colab": {}
      },
      "source": [
        "dateformat = '%Y-%m-%d'\n",
        "\n",
        "alldates = [dt.datetime.strptime(x, dateformat) for x in DF['date']]\n",
        "\n",
        "primerDia, ultimoDia = min(alldates), max(alldates)\n",
        "print(primerDia,ultimoDia)\n",
        "\n",
        "NroDias = (ultimoDia - primerDia).days\n",
        "print(NroDias)\n",
        "\n",
        "rangoDias = [primerDia + dt.timedelta(days=x) for x in range(NroDias)]\n",
        "# print(rangoDias)DF['total_cases']\n",
        "\n",
        "country = 'China'\n",
        "total_cases = [0 for x in range(NroDias)]\n",
        "\n",
        "for x in range(len(DF['total_cases'])):\n",
        "    if DF['location'][x] == country:\n",
        "        dia = dt.datetime.strptime(DF['date'][x],dateformat)\n",
        "        indice = (dia-primerDia).days\n",
        "        print(indice)\n",
        "        casos = DF['total_cases'][x]\n",
        "        total_cases[indice-1] = int(casos)"
      ],
      "execution_count": 0,
      "outputs": []
    },
    {
      "cell_type": "markdown",
      "metadata": {
        "id": "hEAJD2YSk_sn",
        "colab_type": "text"
      },
      "source": [
        "Ayuda 3: Lograr que el eje X se gráfique bien"
      ]
    },
    {
      "cell_type": "markdown",
      "metadata": {
        "id": "tMjM1A_smIVm",
        "colab_type": "text"
      },
      "source": [
        "https://bugsdb.com/_en/debug/0ceccc48c732adc466e2f9c9fa6044a3"
      ]
    },
    {
      "cell_type": "code",
      "metadata": {
        "id": "DAyGPGMrmGDq",
        "colab_type": "code",
        "outputId": "4b113d8d-4a36-46e2-c561-3cb12b5f3ef0",
        "colab": {
          "base_uri": "https://localhost:8080/",
          "height": 374
        }
      },
      "source": [
        "import matplotlib.dates as dates\n",
        "import time\n",
        "import pandas\n",
        "\n",
        "\n",
        "def plotDates(x, y,subplots):\n",
        "    fig, ax = subplots\n",
        "\n",
        "    df = pandas.DataFrame(\n",
        "        data=y, \n",
        "        index=pd.to_datetime(x),\n",
        "        columns=['A']\n",
        "    )\n",
        "\n",
        "    formatter = dates.DateFormatter('%Y-%m-%d') \n",
        "    ax.xaxis.set_major_formatter(formatter)\n",
        "\n",
        "    \n",
        "    plt.plot(df.index, df['A'])\n",
        "\n",
        "subplots = plt.subplots(figsize=(10, 6))\n",
        "\n",
        "plotDates(listDates, yArg, subplots)\n",
        "plotDates(listDates, yBra, subplots)\n",
        "\n",
        "plt.show()\n"
      ],
      "execution_count": 0,
      "outputs": [
        {
          "output_type": "display_data",
          "data": {
            "image/png": "[encoded data removed]",
            "text/plain": [
              "<Figure size 720x432 with 1 Axes>"
            ]
          },
          "metadata": {
            "tags": [],
            "needs_background": "light"
          }
        }
      ]
    }
  ]
}