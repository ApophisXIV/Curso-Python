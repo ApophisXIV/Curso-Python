{
  "nbformat": 4,
  "nbformat_minor": 0,
  "metadata": {
    "colab": {
      "name": "Clase 1 - Curso Python.ipynb",
      "version": "0.3.2",
      "provenance": [],
      "collapsed_sections": [],
      "toc_visible": true,
      "include_colab_link": true
    },
    "kernelspec": {
      "name": "python3",
      "display_name": "Python 3"
    }
  },
  "cells": [
    {
      "cell_type": "markdown",
      "metadata": {
        "id": "view-in-github",
        "colab_type": "text"
      },
      "source": [
        "<a href=\"https://colab.research.google.com/github/IEEESBITBA/Curso-Python/blob/master/Clase_1_Curso_Python.ipynb\" target=\"_parent\"><img src=\"https://colab.research.google.com/assets/colab-badge.svg\" alt=\"Open In Colab\"/></a>"
      ]
    },
    {
      "metadata": {
        "id": "zUpAx4mvVgz6",
        "colab_type": "text"
      },
      "cell_type": "markdown",
      "source": [
        "# Clase 1\n",
        "\n",
        "## Introducción a la programación\n",
        "La programación es el proceso que se utiliza para diseñar e implementar un programa de computadora, valiéndose de algún lenguaje que permita comunicar una serie de acciones que se requiere que la computadora realice. ¿Qué es un programa? Es una caja negra que recibe alguna información, la cual es llamada \"input\" (entrada), realiza alguna acción, y devuelve información, la cual es llamada \"output\" (salida).\n",
        "\n",
        "![](http://softwaretestingfundamentals.com/wp-content/uploads/2010/12/black_box_testing-300x149.gif)\n",
        "\n",
        "## Lenguajes de programación\n",
        "Un lenguaje de programación es un [lenguaje formal](https://es.wikipedia.org/wiki/Lenguaje_formal) que proporciona una serie de instrucciones, las cuales permiten a un programador escribir secuencias de órdenes para controlar el comportamiento físico y lógico de una computadora, con el objetivo de que produzca diversas acciones deseadas por el programador (¡y los usuarios!).\n",
        "\n",
        "Algunos de los lenguajes mas populares en los últimos tiempos (lejos de ser los únicos) son Python, Java, C++, JavaScript, PHP, etc.\n",
        "\n",
        "![](https://miro.medium.com/max/838/1*L5QyrMNalM3yhtgdgBcvkQ.png =400x)\n",
        "\n",
        "## ¿Por qué Python?\n",
        "Elegimos Python porque es uno de los lenguajes de programación con reglas más simples e intuitivas que existen; esto explica la creciente popularidad que ha tenido en los ultimos tiempos.\n",
        "\n",
        "A pesar de su simpleza, es muy utilizado tanto en la industria para servidores y servicios web, así como también en el área academica para redes neuronales, deep learning, simulación, etc.\n",
        "\n",
        "La comunidad de Python es una de las más grandes. Por lo tanto cualquier duda que tengan, a partir de ahora, Google es su amigo: pueden buscar la duda que tengan y seguramente alguien ya haya tenido ese problema. Una de los sitios web más conocidos para este fin es [StackOverflow](https://stackoverflow.com/)\n",
        "\n",
        "\n"
      ]
    },
    {
      "metadata": {
        "id": "o7iXxeQFsblK",
        "colab_type": "text"
      },
      "cell_type": "markdown",
      "source": [
        "## Variables\n",
        "\n",
        "En programación, el concepto de variables es un espacio donde el programador o el programa puede almacenar información.\n",
        "\n",
        "En python esto se logra de la siguiente manera:\n",
        "\n",
        "\n"
      ]
    },
    {
      "metadata": {
        "id": "dFdsoISPuvyX",
        "colab_type": "code",
        "outputId": "016f85b5-f537-4a66-8692-7719a4d5c11a",
        "colab": {
          "base_uri": "https://localhost:8080/",
          "height": 33
        }
      },
      "cell_type": "code",
      "source": [
        "x = 5\n",
        "x"
      ],
      "execution_count": 2,
      "outputs": [
        {
          "output_type": "execute_result",
          "data": {
            "text/plain": [
              "5"
            ]
          },
          "metadata": {
            "tags": []
          },
          "execution_count": 2
        }
      ]
    },
    {
      "metadata": {
        "id": "d3b-updXAmho",
        "colab_type": "text"
      },
      "cell_type": "markdown",
      "source": [
        "En estas variables podemos guardar lo que sea necesario para ejecutar el programa, por ejemplo si necesitamos guardar texto se indica con: \"(texto)\" o '(texto)'."
      ]
    },
    {
      "metadata": {
        "id": "ZaesnOreAx4q",
        "colab_type": "code",
        "outputId": "7b0963e3-7fb1-48f1-ff01-db5fbf3fc63e",
        "colab": {
          "base_uri": "https://localhost:8080/",
          "height": 33
        }
      },
      "cell_type": "code",
      "source": [
        "x = 'Hola'\n",
        "y = \"Como\"\n",
        "y"
      ],
      "execution_count": 3,
      "outputs": [
        {
          "output_type": "execute_result",
          "data": {
            "text/plain": [
              "'Como'"
            ]
          },
          "metadata": {
            "tags": []
          },
          "execution_count": 3
        }
      ]
    },
    {
      "metadata": {
        "id": "yZl-KaXPCXru",
        "colab_type": "text"
      },
      "cell_type": "markdown",
      "source": [
        "## Input - Output\n",
        "El input de un programa es la manera de recibir información del entorno externo al programa. Esto puede ser un usuario, un archivo, otro programa, un sensor, etc. \n",
        "\n",
        "El output de un programa es la manera de transmitir información hacia el entorno externo. Por ejemplo, puede escribir en la consola de la computadora, puede generar una imagen, etc. En GoogleColaboratory veremos el output del programa debajo de la celda donde fue ejecutado.\n",
        "\n",
        "Para poder mostrar el contenido de una variable podemos utilizar **print**(variable):"
      ]
    },
    {
      "metadata": {
        "id": "C1c66KXWCwpD",
        "colab_type": "code",
        "outputId": "93de0085-1bf1-4a32-9955-89d441867289",
        "colab": {
          "base_uri": "https://localhost:8080/",
          "height": 33
        }
      },
      "cell_type": "code",
      "source": [
        "print(\"Hola como estas\")"
      ],
      "execution_count": 4,
      "outputs": [
        {
          "output_type": "stream",
          "text": [
            "Hola como estas\n"
          ],
          "name": "stdout"
        }
      ]
    },
    {
      "metadata": {
        "id": "LaLS532qC2sr",
        "colab_type": "text"
      },
      "cell_type": "markdown",
      "source": [
        "¿Qué imprimirá el siguiente codigo?"
      ]
    },
    {
      "metadata": {
        "id": "JECLPVC2C6XH",
        "colab_type": "code",
        "outputId": "b01d8d27-cd12-4193-8f50-64e6a6911910",
        "colab": {
          "base_uri": "https://localhost:8080/",
          "height": 33
        }
      },
      "cell_type": "code",
      "source": [
        "print(x)"
      ],
      "execution_count": 5,
      "outputs": [
        {
          "output_type": "stream",
          "text": [
            "Hola\n"
          ],
          "name": "stdout"
        }
      ]
    },
    {
      "metadata": {
        "id": "pvDfQCPsC8xc",
        "colab_type": "text"
      },
      "cell_type": "markdown",
      "source": [
        "Para ingresar una variable podemos llamar a **input**(). Corran este código ustedes para que les de una pequeña casilla donde escribir, y luego el programa escribirá lo que ustedes ingresaron."
      ]
    },
    {
      "metadata": {
        "id": "Iuzty4svDEDy",
        "colab_type": "code",
        "outputId": "2e497385-6498-43e6-c215-efaeb68e77e8",
        "colab": {
          "base_uri": "https://localhost:8080/",
          "height": 50
        }
      },
      "cell_type": "code",
      "source": [
        "x = input()\n",
        "print(x)"
      ],
      "execution_count": 6,
      "outputs": [
        {
          "output_type": "stream",
          "text": [
            "\n",
            "\n"
          ],
          "name": "stdout"
        }
      ]
    },
    {
      "metadata": {
        "id": "uNa0exphDxse",
        "colab_type": "text"
      },
      "cell_type": "markdown",
      "source": [
        "## Operaciones básicas con variables\n",
        "\n",
        "\n"
      ]
    },
    {
      "metadata": {
        "id": "ZM7lIDcRPdtk",
        "colab_type": "text"
      },
      "cell_type": "markdown",
      "source": [
        "### Operaciones de modificación\n",
        "No seria muy útil un programa si lo único que podemos hacer es guardar en una variable y mostrarla, por lo que podemos realizar algunas operaciones basicas que nos perimiten modificar el contenido:\n",
        "\n",
        "\n",
        "*   **+** : Sumar dos variables $a+b$\n",
        "*   **-**  : Restar dos variables $a-b$\n",
        "*   ** * ** : Multiplicar dos variables $a\\cdot b$\n",
        "*   ** / ** : Dividir una variable por la otra $\\frac{a}{b}$\n",
        "*   ** \\*\\* ** : Una variable elevado a la otra $a^{b}$\n",
        "*   **=** : Asignarle un valor a una variable $a \\leftarrow b$\n",
        "\n",
        "¿Cual será la salida del siguiente programa?"
      ]
    },
    {
      "metadata": {
        "id": "LrkSFD2zFKo9",
        "colab_type": "code",
        "outputId": "6e58e072-2a94-44c0-f725-b0a1b54b7cc8",
        "colab": {
          "base_uri": "https://localhost:8080/",
          "height": 50
        }
      },
      "cell_type": "code",
      "source": [
        "x = 3\n",
        "y = -2\n",
        "y = x*y\n",
        "x = x**2\n",
        "print(y)\n",
        "print(x)"
      ],
      "execution_count": 7,
      "outputs": [
        {
          "output_type": "stream",
          "text": [
            "-6\n",
            "9\n"
          ],
          "name": "stdout"
        }
      ]
    },
    {
      "metadata": {
        "id": "sHe-S2KcF_hT",
        "colab_type": "text"
      },
      "cell_type": "markdown",
      "source": [
        "Python nos permite ahorrar código combinando el operando **=** con alguno de los anteriormente vistos:\n",
        "\n",
        "\n",
        "*   ** *= ** : Multiplica la variable $a \\leftarrow a\\cdot b$ \n",
        "*   ** /= ** : Divide la variable  $a \\leftarrow \\frac{a}{b}$ \n",
        "*   ** += ** : Suma a la varaible  $a \\leftarrow a+ b$ \n",
        "*   ** -= ** : Resta a la variable $a \\leftarrow a- b$\n",
        "\n",
        "¿Cual será la salida del siguiente codigo?"
      ]
    },
    {
      "metadata": {
        "id": "ndLR4DOcHIOb",
        "colab_type": "code",
        "outputId": "fede0bd1-ad5b-4457-94c1-fdd5f25aabe3",
        "colab": {
          "base_uri": "https://localhost:8080/",
          "height": 33
        }
      },
      "cell_type": "code",
      "source": [
        "x/=10\n",
        "print(x)"
      ],
      "execution_count": 8,
      "outputs": [
        {
          "output_type": "stream",
          "text": [
            "0.9\n"
          ],
          "name": "stdout"
        }
      ]
    },
    {
      "metadata": {
        "id": "78iBTQVNISi7",
        "colab_type": "text"
      },
      "cell_type": "markdown",
      "source": [
        "### Operaciones de comparación\n",
        "Existen operaciones donde se comparan las propiedades de una variable.\n",
        "*    **< ** : Menor que $a < b$\n",
        "*    **> ** : Mayor que $a > b$\n",
        "*   **<=** : Menor o igual que $a \\leq b$\n",
        "*   **>=** : Mayor o igual que $a \\geq b$\n",
        "*   **==** : Es igual $a = b$\n",
        "\n",
        "Al comprarar dos números se devuelve True o False según si se cumple la condición:"
      ]
    },
    {
      "metadata": {
        "id": "xlYwcqQrOy5I",
        "colab_type": "code",
        "outputId": "185b1fc6-7c01-48ce-9dea-fba2402fdb70",
        "colab": {
          "base_uri": "https://localhost:8080/",
          "height": 50
        }
      },
      "cell_type": "code",
      "source": [
        "x = 4\n",
        "print(x>=4)\n",
        "print(x<3)"
      ],
      "execution_count": 9,
      "outputs": [
        {
          "output_type": "stream",
          "text": [
            "True\n",
            "False\n"
          ],
          "name": "stdout"
        }
      ]
    },
    {
      "metadata": {
        "id": "julg_kMLTzCT",
        "colab_type": "text"
      },
      "cell_type": "markdown",
      "source": [
        "Tambien podemos comparar muchas condiciones utilzando:\n",
        "*  **and**: Si se cumplen las dos condicones $a \\land b$\n",
        "*  **or**: Si se cumple alguna de las condicions $ a \\lor b$\n",
        "*  **not**: Si no se cumple esa condición $ \\overline{a} $\n",
        "\n",
        "Veamos un ejemplo:"
      ]
    },
    {
      "metadata": {
        "id": "uGxeHWppUKLP",
        "colab_type": "code",
        "outputId": "2fc9e9f6-51f1-4fa0-de0a-54887fa49325",
        "colab": {
          "base_uri": "https://localhost:8080/",
          "height": 67
        }
      },
      "cell_type": "code",
      "source": [
        "x = 4\n",
        "y = x>5 and x < 7\n",
        "z = x>5 or x <7\n",
        "k = not x>5\n",
        "print(y)\n",
        "print(z)\n",
        "print(k)"
      ],
      "execution_count": 10,
      "outputs": [
        {
          "output_type": "stream",
          "text": [
            "False\n",
            "True\n",
            "True\n"
          ],
          "name": "stdout"
        }
      ]
    },
    {
      "metadata": {
        "id": "2cJd7NrKV9dK",
        "colab_type": "text"
      },
      "cell_type": "markdown",
      "source": [
        "Estas condiciones pueden agruparse con ( condicion1 ) **and/or** ( condicion2 ), esto permite chequar condiciones complejas:"
      ]
    },
    {
      "metadata": {
        "id": "4LYKsyiXLAWW",
        "colab_type": "code",
        "outputId": "dc4c86a2-356a-4499-ed5e-ea44003c4bfe",
        "colab": {
          "base_uri": "https://localhost:8080/",
          "height": 33
        }
      },
      "cell_type": "code",
      "source": [
        "x = 10\n",
        "y = 5\n",
        "z = (y > x and 15 > x) or (y < x and 15 > x)\n",
        "print(z)"
      ],
      "execution_count": 11,
      "outputs": [
        {
          "output_type": "stream",
          "text": [
            "True\n"
          ],
          "name": "stdout"
        }
      ]
    },
    {
      "metadata": {
        "id": "KGPMKjbABDrz",
        "colab_type": "text"
      },
      "cell_type": "markdown",
      "source": [
        "## Flujo de Programa\n",
        "Los programas siguen un \"flujo\" definido por el programador. Esto le permite realizar operaciones complejas. Notar que todas estas estructuras terminan con un ** : **, y la siguiente linea tiene un tab de indentación.\n",
        "\n",
        "\n",
        "###   Estructura if\n",
        "Es la estructura básica que le permite al programador ver si se cumple una condición, y realizar distintas acciones según si eso sucede o no.\n",
        "\n",
        "**if** (condicion):\n",
        "    \n",
        "    ... lo que se hace si se cumple la condición\n",
        "    \n",
        "**elif** (condicion2):\n",
        "\n",
        "    ... lo que se hace si se cumple la condicion2\n",
        "     \n",
        "**else**:\n",
        "\n",
        "    ... lo que se hace si no se cumple la condición\n",
        "    \n",
        "    \n",
        " Siempre se comienza con **if**, después puede haber cualquier cantidad de **elif** (o ninguno). y luego se puede terminar con **else** (o no). Luego del **else** no puede haber más **elif**.\n",
        " \n",
        "\n",
        "\n"
      ]
    },
    {
      "metadata": {
        "id": "rqyrcoqnPmi3",
        "colab_type": "text"
      },
      "cell_type": "markdown",
      "source": [
        "¿Cual será la salida del siguiente programa?"
      ]
    },
    {
      "metadata": {
        "id": "Y9oaFC5vCFB7",
        "colab_type": "code",
        "outputId": "d89c114b-594f-4ce9-c517-1e8393a7b78d",
        "colab": {
          "base_uri": "https://localhost:8080/",
          "height": 33
        }
      },
      "cell_type": "code",
      "source": [
        "x = 5\n",
        "y = 6\n",
        "if x==y:\n",
        "    print(x)\n",
        "elif y<5 or y>7:\n",
        "    print(x+y)\n",
        "else:\n",
        "    print(y)"
      ],
      "execution_count": 12,
      "outputs": [
        {
          "output_type": "stream",
          "text": [
            "6\n"
          ],
          "name": "stdout"
        }
      ]
    },
    {
      "metadata": {
        "id": "ejJfMzOtQL00",
        "colab_type": "code",
        "colab": {
          "base_uri": "https://localhost:8080/",
          "height": 50
        },
        "outputId": "88d84722-2439-475c-c174-1135b06f8cf4"
      },
      "cell_type": "code",
      "source": [
        "x = -1\n",
        "y = 4\n",
        "\n",
        "if y == 5:\n",
        "    print(\"adivinamos el valor de y!\")\n",
        "          \n",
        "if x == 5:\n",
        "    print(\"adivinamos el valor de x!\")\n",
        "else:\n",
        "    print(\"no adivinamos el valor de x ))):\")\n",
        "  \n",
        "if x > y:\n",
        "    print(\"x es mayor que y\")\n",
        "elif x < y:\n",
        "    print(\"y es mayor que x\")\n",
        "elif x == y:\n",
        "    print(\"x e y son iguales\")\n",
        "else:\n",
        "    print(\"que?????\")"
      ],
      "execution_count": 15,
      "outputs": [
        {
          "output_type": "stream",
          "text": [
            "no adivinamos el valor de x ))):\n",
            "y es mayor que x\n"
          ],
          "name": "stdout"
        }
      ]
    },
    {
      "metadata": {
        "id": "J0shbiwuHYah",
        "colab_type": "text"
      },
      "cell_type": "markdown",
      "source": [
        "\n",
        "\n",
        "###  Estructura while\n",
        "Permite ejecutar operaciones mientras se cumpla una condición.\n",
        "\n",
        "**while** (Condicion):\n",
        "\n",
        "    ... lo que se hace mientras se cumpla la condicion\n",
        "\n",
        "**else** :\n",
        "\n",
        "    ... Se ejecuta cuando la condicion no se cumple más\n",
        "    \n",
        "Esto introduce otra estructura basica de un programa que son los ciclos (loops o bucles), en codigo se ve de la siguiente manera:\n",
        "\n"
      ]
    },
    {
      "metadata": {
        "id": "LLcZ4LH3CMUt",
        "colab_type": "code",
        "outputId": "1b02ae44-63c6-429c-d148-fc6a21edab98",
        "colab": {
          "base_uri": "https://localhost:8080/",
          "height": 183
        }
      },
      "cell_type": "code",
      "source": [
        "x = 1\n",
        "while x<10:\n",
        "    print(x)\n",
        "    x+=1\n",
        "else:\n",
        "    print(\"Termine el while!\")"
      ],
      "execution_count": 17,
      "outputs": [
        {
          "output_type": "stream",
          "text": [
            "1\n",
            "2\n",
            "3\n",
            "4\n",
            "5\n",
            "6\n",
            "7\n",
            "8\n",
            "9\n",
            "Termine el while!\n"
          ],
          "name": "stdout"
        }
      ]
    },
    {
      "metadata": {
        "id": "tzu1YFDNQTQu",
        "colab_type": "text"
      },
      "cell_type": "markdown",
      "source": [
        "Es importante tener en cuenta que la condición se evalúa sólo al principio del loop.\n",
        "\n",
        "¿Qué imprimirá este programa?"
      ]
    },
    {
      "metadata": {
        "id": "GGIT1bOlQlw_",
        "colab_type": "code",
        "outputId": "e77111c6-2a11-4105-e008-b6bcc1340e34",
        "colab": {
          "base_uri": "https://localhost:8080/",
          "height": 67
        }
      },
      "cell_type": "code",
      "source": [
        "x = 1\n",
        "while x<=3:\n",
        "    x += 1\n",
        "    print(x)"
      ],
      "execution_count": 18,
      "outputs": [
        {
          "output_type": "stream",
          "text": [
            "2\n",
            "3\n",
            "4\n"
          ],
          "name": "stdout"
        }
      ]
    },
    {
      "metadata": {
        "id": "KHHwPfH3QZQO",
        "colab_type": "text"
      },
      "cell_type": "markdown",
      "source": [
        "#### Ejercicio If y While\n",
        "Implementa un programa que genere la siguiente secuencia:\n",
        "\n",
        "[1,2,3,4,5,4,3,2,1,0]\n",
        "\n",
        "Pueden utilizar un while y un if\n",
        "\n",
        "\n"
      ]
    },
    {
      "metadata": {
        "id": "ELNQM61IIni8",
        "colab_type": "code",
        "outputId": "424c16e7-7643-499b-9cf9-d908a430b397",
        "colab": {
          "base_uri": "https://localhost:8080/",
          "height": 183
        }
      },
      "cell_type": "code",
      "source": [
        "#Esto es la solución debemos sacarlo antes de la clase \n",
        "x=1\n",
        "while x<10:\n",
        "    if(x<5):\n",
        "        print(x)\n",
        "    else:\n",
        "        print(10-x)\n",
        "    x+=1\n",
        "else:\n",
        "    print(10-x)"
      ],
      "execution_count": 19,
      "outputs": [
        {
          "output_type": "stream",
          "text": [
            "1\n",
            "2\n",
            "3\n",
            "4\n",
            "5\n",
            "4\n",
            "3\n",
            "2\n",
            "1\n",
            "0\n"
          ],
          "name": "stdout"
        }
      ]
    },
    {
      "metadata": {
        "id": "T-KOiUHbLcde",
        "colab_type": "text"
      },
      "cell_type": "markdown",
      "source": [
        "### Estructura for\n",
        "La estructura del **for** permite iterar linealmente por datos. ¿Qué significa esto? Permite realizar la misma \n",
        "\n",
        "**for** (variable) **in** (conjunto de variables):\n",
        "\n",
        "    ... Lo que quieras hacer con tu variable\n",
        "\n",
        "Veámoslo en un ejemplo de codigo:\n"
      ]
    },
    {
      "metadata": {
        "id": "Cwo3zZy5I3x_",
        "colab_type": "code",
        "outputId": "1d9edd34-d190-4f75-8fe3-a0ffea923b9d",
        "colab": {
          "base_uri": "https://localhost:8080/",
          "height": 183
        }
      },
      "cell_type": "code",
      "source": [
        "for x in range(0,10,1):\n",
        "    print(x)"
      ],
      "execution_count": 20,
      "outputs": [
        {
          "output_type": "stream",
          "text": [
            "0\n",
            "1\n",
            "2\n",
            "3\n",
            "4\n",
            "5\n",
            "6\n",
            "7\n",
            "8\n",
            "9\n"
          ],
          "name": "stdout"
        }
      ]
    },
    {
      "metadata": {
        "id": "VujdlKBZMfE3",
        "colab_type": "text"
      },
      "cell_type": "markdown",
      "source": [
        "**range**(a,b,d)  nos genera los valores desde a hasta b con incrementos de d, por ejemplo el siguiente codigo generara los numeros pares entre 0 y 10:\n",
        "\n"
      ]
    },
    {
      "metadata": {
        "id": "XCHNbgvEMdIb",
        "colab_type": "code",
        "outputId": "bf87f6be-f73b-4578-c1ab-543b39e4dbc1",
        "colab": {
          "base_uri": "https://localhost:8080/",
          "height": 100
        }
      },
      "cell_type": "code",
      "source": [
        "for x in range(0,10,2):\n",
        "    print(x)"
      ],
      "execution_count": 21,
      "outputs": [
        {
          "output_type": "stream",
          "text": [
            "0\n",
            "2\n",
            "4\n",
            "6\n",
            "8\n"
          ],
          "name": "stdout"
        }
      ]
    },
    {
      "metadata": {
        "id": "UoNf8Ce-NAi5",
        "colab_type": "text"
      },
      "cell_type": "markdown",
      "source": [
        "#### Ejercico for\n",
        "Realizar la siguiente secuencia de datos utilizando un for y un if\n",
        "\n",
        "[0,1,4,9,4,5,6]"
      ]
    },
    {
      "metadata": {
        "id": "E3NctxBaM3kG",
        "colab_type": "code",
        "outputId": "171d433e-5f1b-4f15-b012-adfd4d3fb226",
        "colab": {
          "base_uri": "https://localhost:8080/",
          "height": 133
        }
      },
      "cell_type": "code",
      "source": [
        "#Solución al problema sacar antes de la clase\n",
        "for x in range(0,7):\n",
        "    if(x<4):\n",
        "        print(x*x)\n",
        "    else:\n",
        "        print(x)"
      ],
      "execution_count": 22,
      "outputs": [
        {
          "output_type": "stream",
          "text": [
            "0\n",
            "1\n",
            "4\n",
            "9\n",
            "4\n",
            "5\n",
            "6\n"
          ],
          "name": "stdout"
        }
      ]
    },
    {
      "metadata": {
        "id": "0oG-SkG7PIcN",
        "colab_type": "text"
      },
      "cell_type": "markdown",
      "source": [
        "## Funciones\n",
        "Podemos pensar que una funcion es como un pequeño programa dentro del programa, son bloques que nos permiten acortar el codigo no repitiendo estructuras que necesitamos utilizar mucho. Al igual que los programas las funciones tienen un input y un output, el input son las variables de entrada y su output es el valor o valores que devuelven.\n",
        "\n",
        "**def** miFunción($a_i,b_i,c_i,...$)**:**\n",
        "\n",
        "     ... Hago lo que necesite con las variables a,b,c\n",
        "    \n",
        "   **return** $a_o,b_o,c_o,...$\n",
        "\n",
        "Veamos un ejemplo"
      ]
    },
    {
      "metadata": {
        "id": "mpsgG39DNcme",
        "colab_type": "code",
        "outputId": "5418c12f-6713-47ac-a8a6-8a62d194dae8",
        "colab": {
          "base_uri": "https://localhost:8080/",
          "height": 33
        }
      },
      "cell_type": "code",
      "source": [
        "def suma(a,b):\n",
        "    s=a+b\n",
        "    return s\n",
        "\n",
        "x = 2\n",
        "y = 4\n",
        "print(suma(x,y))"
      ],
      "execution_count": 23,
      "outputs": [
        {
          "output_type": "stream",
          "text": [
            "6\n"
          ],
          "name": "stdout"
        }
      ]
    },
    {
      "metadata": {
        "id": "q5WyWK1KQVor",
        "colab_type": "text"
      },
      "cell_type": "markdown",
      "source": [
        "Esto tambien podemos conbinarlo con las estructuras que vimos previamente"
      ]
    },
    {
      "metadata": {
        "id": "_xMxxM6EQQon",
        "colab_type": "code",
        "outputId": "4e6f7e44-56bf-42e3-90e6-6ca9e541877c",
        "colab": {
          "base_uri": "https://localhost:8080/",
          "height": 50
        }
      },
      "cell_type": "code",
      "source": [
        "def chequarContraseña(c):\n",
        "    if c == \"Secreto\":\n",
        "        print(\"Contraseña correcta!\")\n",
        "    else:\n",
        "        print(\"Contraseña incorrecta!\")\n",
        "chequarContraseña(\"hola\")\n",
        "chequarContraseña(\"Secreto\")"
      ],
      "execution_count": 24,
      "outputs": [
        {
          "output_type": "stream",
          "text": [
            "Contraseña incorrecta!\n",
            "Contraseña correcta!\n"
          ],
          "name": "stdout"
        }
      ]
    },
    {
      "metadata": {
        "id": "W64FPKi5RaU3",
        "colab_type": "text"
      },
      "cell_type": "markdown",
      "source": [
        "Se dieron cuenta que la la forma en la que usamos para imprimir una variable es una función?, **print**( ... ) lo que hace es llamar a una función ya creada que esta en el estandar de python y permite que mostremos el contendido que se le pase como parametro a la función."
      ]
    },
    {
      "metadata": {
        "id": "P-nw6sGy3oh-",
        "colab_type": "text"
      },
      "cell_type": "markdown",
      "source": [
        ""
      ]
    },
    {
      "metadata": {
        "id": "sgCdpQfDS5wG",
        "colab_type": "text"
      },
      "cell_type": "markdown",
      "source": [
        "### Ejercico funciones\n",
        "Escribir una función que cheque los siguientes usuarios y contraseñas:\n",
        "*  Usuario: Juan  -  Contraseña: 12345_\n",
        "*  Usuario: Pablo - Contraseña: xDcFvGbHn"
      ]
    },
    {
      "metadata": {
        "id": "cqBdQ2P-RPU6",
        "colab_type": "code",
        "outputId": "6390b98f-a322-4c3a-e06c-0d57f0aeed71",
        "colab": {
          "base_uri": "https://localhost:8080/",
          "height": 67
        }
      },
      "cell_type": "code",
      "source": [
        "#Solucion al ejercicio borrar antes de la clase\n",
        "def usCont(u,c):\n",
        "    if (u==\"Juan\" and c==\"12345_\") or (u==\"Pablo\" and c==\"xDcFvGbHn\"):\n",
        "        print(\"Login OK\")\n",
        "    else:\n",
        "        print(\"Login NOK\")\n",
        "\n",
        "usCont(\"Pablo\",\"xDcFvGbHn\")\n",
        "usCont(\"Juan\",\"12345_\")\n",
        "usCont(\"Juan\",\"xDcFvGbHn\")"
      ],
      "execution_count": 25,
      "outputs": [
        {
          "output_type": "stream",
          "text": [
            "Login OK\n",
            "Login OK\n",
            "Login NOK\n"
          ],
          "name": "stdout"
        }
      ]
    },
    {
      "metadata": {
        "id": "13AcDcKZWX0b",
        "colab_type": "text"
      },
      "cell_type": "markdown",
      "source": [
        "## Ejercitación integradora"
      ]
    },
    {
      "metadata": {
        "id": "ZJ8oR4DW3z4A",
        "colab_type": "text"
      },
      "cell_type": "markdown",
      "source": [
        "### Cálculo de promedio\n",
        "Cálcular la nota de un alumno es una tarea cotidiana de un profesor. Esta tarea suele realizarse a mano o en excel muchas veces. En esta ocasión la haremos en python. \n",
        "- Escribir una función que calcule el promedio de 3 notas. \n",
        "- Escribir una función que calcule el promedio de 3 notas con ponderación (asignar de importancia al primer examen 20% al segundo 50% y al tercero 30%)\n",
        "- Llamar a la función anterior 3 veces con distintas notas y verificar, mediante la instrucción if, si el alumno aprobó (suponga que 4 es la nota de aprobación). en cada caso.\n",
        "\n"
      ]
    },
    {
      "metadata": {
        "id": "3DHirONd90wp",
        "colab_type": "code",
        "colab": {}
      },
      "cell_type": "code",
      "source": [
        ""
      ],
      "execution_count": 0,
      "outputs": []
    },
    {
      "metadata": {
        "id": "_QLEV2dP64fo",
        "colab_type": "text"
      },
      "cell_type": "markdown",
      "source": [
        "### Domino\n",
        "\n",
        "El [Domino](https://es.wikipedia.org/wiki/Domin%C3%B3) es un juego de mesa muy popular. \n",
        "En este ejercicio no vamos a programar un juego de Domino, pero si contar sus fichas.\n",
        "![](https://es.calcuworld.com/wp-content/uploads/sites/2/2018/04/cantidad-de-fichas-domino.jpg =350x200)\n",
        "\n",
        "A pesar de que el domino tradicional se juega con fichas hasta el numero 6, vamos a considerar un juego de fichas de valor máximo $n$.\n",
        "\n",
        "- Escribir una función que cálcule la cantidad de fichas para un juego de domino completo con fichas que contienen hasta el número $n$.\n",
        "Nota: ¡No hay fichas repetidas! 2-4 es la misma ficha que 4-2. \n",
        "\n",
        "```\n",
        "   cantidadFichas(4)\n",
        "   >>> 6\n",
        "```\n",
        "\n",
        "- Escribir una función que muestre todas las fichas para un juego de domino como el anterior, en cualquier orden.\n",
        "\n",
        "```\n",
        "   mostrarFichas(3)\n",
        "   >>> 1-1\n",
        "   >>> 1-2\n",
        "   >>> 1-3\n",
        "   >>> 2-2\n",
        "   >>> 2-3\n",
        "   >>> 3-3\n",
        "```\n",
        "\n",
        "- Llamar a las funciones anteriores con distintos valores para corroborar su funcionamiento\n",
        "\n",
        "- Challenge: Escribir una función que, dada una cantidad de fichas, cálcule cual es el $n$ (valor máximo) de las fichas. Si la cantidad no corresponde a ningun juego de domino completo retornar -1.\n",
        "\n",
        "```\n",
        "   valorMaximo(21)\n",
        "   >>> 7\n",
        "```\n"
      ]
    },
    {
      "metadata": {
        "id": "Mu1GbWGC-IW9",
        "colab_type": "code",
        "colab": {}
      },
      "cell_type": "code",
      "source": [
        ""
      ],
      "execution_count": 0,
      "outputs": []
    },
    {
      "metadata": {
        "id": "-9BqQg3hCwTN",
        "colab_type": "text"
      },
      "cell_type": "markdown",
      "source": [
        "### Dinero\n",
        "\n",
        "Martín tiene problemas economicos y necesita controlar sus gastos.\n",
        "En particular, el gasta 50$ por día en viajes en colectivo y, el 10% de su dinero"
      ]
    },
    {
      "metadata": {
        "id": "fm_1Ogs_k0Uu",
        "colab_type": "text"
      },
      "cell_type": "markdown",
      "source": [
        "### La leyenda de Filius Bonacci\n",
        "Imprima $n$ números de la [sucesion de Fibonacci](https://es.wikipedia.org/wiki/Sucesi%C3%B3n_de_Fibonacci)\n",
        "\n",
        "```\n",
        "0, 1, 1, 2, 3, 5, 8, 13, 21 ...\n",
        "```"
      ]
    },
    {
      "metadata": {
        "id": "Am1NHiy6xeMp",
        "colab_type": "code",
        "colab": {}
      },
      "cell_type": "code",
      "source": [
        ""
      ],
      "execution_count": 0,
      "outputs": []
    },
    {
      "metadata": {
        "id": "tS0MU0yrKfAs",
        "colab_type": "text"
      },
      "cell_type": "markdown",
      "source": [
        "### Ejercicio de entrevista en Ingematica\n",
        "Escriba un programa que imprima los números del 1 al 100 pero que para cada número que sea multiplo de 3 imprima  `N3`, para los multiplos de 5 imprima `N5` y que para los que son multiplos de los dos imprima `N3N5`.\n",
        "\n",
        "**Tips**\n",
        "* Si el número es divisible por 3 entonces el resto de la division vale cero!\n",
        "```\n",
        "numero % 3 == 0\n",
        ">> True\n",
        "```\n"
      ]
    },
    {
      "metadata": {
        "id": "IUtY_MurVkMl",
        "colab_type": "code",
        "colab": {
          "base_uri": "https://localhost:8080/",
          "height": 1683
        },
        "outputId": "b83769f6-3ff2-444d-8d03-3b5a261f94c9"
      },
      "cell_type": "code",
      "source": [
        "#PatoSolution\n",
        "def printNum(n):\n",
        "    s=\"\"\n",
        "    if n%3==0:\n",
        "        s = \"N3\"\n",
        "    if n%5==0:\n",
        "        s = s+\"N5\"\n",
        "    if s==\"\":\n",
        "        print(n)\n",
        "    else:\n",
        "        print(s)\n",
        "\n",
        "for x in range(1,101):\n",
        "    printNum(x)"
      ],
      "execution_count": 26,
      "outputs": [
        {
          "output_type": "stream",
          "text": [
            "1\n",
            "2\n",
            "N3\n",
            "4\n",
            "N5\n",
            "N3\n",
            "7\n",
            "8\n",
            "N3\n",
            "N5\n",
            "11\n",
            "N3\n",
            "13\n",
            "14\n",
            "N3N5\n",
            "16\n",
            "17\n",
            "N3\n",
            "19\n",
            "N5\n",
            "N3\n",
            "22\n",
            "23\n",
            "N3\n",
            "N5\n",
            "26\n",
            "N3\n",
            "28\n",
            "29\n",
            "N3N5\n",
            "31\n",
            "32\n",
            "N3\n",
            "34\n",
            "N5\n",
            "N3\n",
            "37\n",
            "38\n",
            "N3\n",
            "N5\n",
            "41\n",
            "N3\n",
            "43\n",
            "44\n",
            "N3N5\n",
            "46\n",
            "47\n",
            "N3\n",
            "49\n",
            "N5\n",
            "N3\n",
            "52\n",
            "53\n",
            "N3\n",
            "N5\n",
            "56\n",
            "N3\n",
            "58\n",
            "59\n",
            "N3N5\n",
            "61\n",
            "62\n",
            "N3\n",
            "64\n",
            "N5\n",
            "N3\n",
            "67\n",
            "68\n",
            "N3\n",
            "N5\n",
            "71\n",
            "N3\n",
            "73\n",
            "74\n",
            "N3N5\n",
            "76\n",
            "77\n",
            "N3\n",
            "79\n",
            "N5\n",
            "N3\n",
            "82\n",
            "83\n",
            "N3\n",
            "N5\n",
            "86\n",
            "N3\n",
            "88\n",
            "89\n",
            "N3N5\n",
            "91\n",
            "92\n",
            "N3\n",
            "94\n",
            "N5\n",
            "N3\n",
            "97\n",
            "98\n",
            "N3\n",
            "N5\n"
          ],
          "name": "stdout"
        }
      ]
    },
    {
      "metadata": {
        "id": "QkV_WCR4HUA5",
        "colab_type": "text"
      },
      "cell_type": "markdown",
      "source": [
        "### Locos por las matematicas\n",
        "En marzo 2019  Emma Haruka Iwao, una empleada de Google, logró calcular 31,4 trillones de dígitos del famoso número pi en 121 dias usando el poder de la nube de Google. Hoy ustedes pueden hacer lo mismo con la ayuda de Python!\n",
        "\n",
        "Aprovechando el descubrimiento del matematico indio Sriniviasa Ramanujan (1910) podemos emplear nuestro propio aproximador de pi.\n",
        "$$ \\frac{1}{\\pi}= \\frac{2\\sqrt{2}}{9801}\\sum_{k=0}^{\\infty} \\frac{(4k)!(1103+26390k)}{(k!)^4 396^{4k}}$$\n",
        "\n",
        "Tengan en cuenta la proxima función para calcular factoriales:\n",
        "\n",
        "```\n",
        "def factorial(n):\n",
        "  if n<=1:\n",
        "    return 1\n",
        "  else:\n",
        "    return n*factorial(n-1)\n",
        "```\n",
        "$$\\textrm{factorial(4)}=4!=24 $$\n",
        "\n",
        "Si no estamos tan locos por la matematicas podemos usar otras aproximaciones más simples como\n",
        "\n",
        "$$\\pi \\approx \\frac{22}{7} \\approx \\frac{355}{113} $$\n",
        "\n",
        "Otros números famosos:\n",
        "$$e = \\sum_{k=0}^\\infty \\frac{1}{k!} \\qquad e=\\lim_{x\\rightarrow\\infty} \\left( 1+\\frac{1}{x} \\right)^x \\qquad \\varphi = \\frac{1+\\sqrt{5}}{2} $$"
      ]
    },
    {
      "metadata": {
        "id": "F8WOsa0XLAKx",
        "colab_type": "code",
        "outputId": "2a54be2e-8a36-497a-cbd8-834b561d0960",
        "colab": {
          "base_uri": "https://localhost:8080/",
          "height": 33
        }
      },
      "cell_type": "code",
      "source": [
        "def approxPi():\n",
        "    return 355/113\n",
        "\n",
        "print(approxPi()) #Listo el pollo, pelada la gallina"
      ],
      "execution_count": 27,
      "outputs": [
        {
          "output_type": "stream",
          "text": [
            "3.1415929203539825\n"
          ],
          "name": "stdout"
        }
      ]
    },
    {
      "metadata": {
        "id": "iurIFZ5A8JDb",
        "colab_type": "code",
        "colab": {}
      },
      "cell_type": "code",
      "source": [
        ""
      ],
      "execution_count": 0,
      "outputs": []
    }
  ]
}