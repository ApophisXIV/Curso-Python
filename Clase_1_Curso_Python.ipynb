{
  "nbformat": 4,
  "nbformat_minor": 0,
  "metadata": {
    "colab": {
      "name": "Clase 1 - Curso Python.ipynb",
      "version": "0.3.2",
      "provenance": [],
      "collapsed_sections": [],
      "include_colab_link": true
    },
    "kernelspec": {
      "name": "python3",
      "display_name": "Python 3"
    }
  },
  "cells": [
    {
      "cell_type": "markdown",
      "metadata": {
        "id": "view-in-github",
        "colab_type": "text"
      },
      "source": [
        "<a href=\"https://colab.research.google.com/github/IEEESBITBA/Curso-Python/blob/master/Clase_1_Curso_Python.ipynb\" target=\"_parent\"><img src=\"https://colab.research.google.com/assets/colab-badge.svg\" alt=\"Open In Colab\"/></a>"
      ]
    },
    {
      "cell_type": "markdown",
      "metadata": {
        "id": "zUpAx4mvVgz6",
        "colab_type": "text"
      },
      "source": [
        "# Clase 1\n",
        "\n",
        "## Introducción a la programación\n",
        "La programación es el proceso que se utiliza para diseñar e implementar un programa de computadora, valiéndose de algún lenguaje que permita comunicar una serie de acciones que se requiere que la computadora realice. ¿Qué es un programa? Es una caja negra que recibe alguna información, la cual es llamada \"input\" (entrada), realiza alguna acción, y devuelve información, la cual es llamada \"output\" (salida).\n",
        "\n",
        "<img src=\"https://www.kiwiqa.com/wp-content/uploads/2018/08/blackbox-testing-min-1000x600.jpg\" alt = \"Black Box Testing - Input->Programa -> Output\" title= \"Entra x, sale y\">\n",
        "\n",
        "## Lenguajes de programación\n",
        "Un lenguaje de programación es un [lenguaje formal](https://es.wikipedia.org/wiki/Lenguaje_formal) que proporciona una serie de instrucciones, las cuales permiten a un programador escribir secuencias de órdenes para controlar el comportamiento físico y lógico de una computadora, con el objetivo de que produzca diversas acciones deseadas por el programador (¡y los usuarios!).\n",
        "\n",
        "Algunos de los lenguajes mas populares en los últimos tiempos (lejos de ser los únicos) son Python, Java, C++, JavaScript, PHP, etc.\n",
        "\n",
        "<img src=\"https://miro.medium.com/max/838/1*L5QyrMNalM3yhtgdgBcvkQ.png\" height=\"300\" alt = \"Collage de lenguajes de programación populares\" title=\"Hay varios otros lenguajes, como Go, Go!, Gosu etc. \">\n",
        "\n",
        "## ¿Por qué Python?\n",
        "Elegimos Python porque es uno de los lenguajes de programación con reglas más simples e intuitivas que existen; esto explica la creciente popularidad que ha tenido en los ultimos tiempos.\n",
        "\n",
        "A pesar de su simpleza, es muy utilizado tanto en la industria para servidores y servicios web, así como también en el área academica para redes neuronales, deep learning, simulación, etc.\n",
        "\n",
        "La comunidad de Python es una de las más grandes. Por lo tanto cualquier duda que tengan, a partir de ahora, Google es su amigo: pueden buscar la duda que tengan y seguramente alguien ya haya tenido ese problema. Una de los sitios web más conocidos para este fin es [StackOverflow](https://stackoverflow.com/)\n",
        "\n",
        "\n"
      ]
    },
    {
      "cell_type": "markdown",
      "metadata": {
        "id": "o7iXxeQFsblK",
        "colab_type": "text"
      },
      "source": [
        "## Variables\n",
        "\n",
        "En programación, el concepto de variables es un espacio donde el programador o el programa puede almacenar información.\n",
        "\n",
        "En python esto se logra de la siguiente manera:\n",
        "\n",
        "\n"
      ]
    },
    {
      "cell_type": "code",
      "metadata": {
        "id": "dFdsoISPuvyX",
        "colab_type": "code",
        "colab": {}
      },
      "source": [
        "x = 5\n",
        "x"
      ],
      "execution_count": 0,
      "outputs": []
    },
    {
      "cell_type": "markdown",
      "metadata": {
        "id": "d3b-updXAmho",
        "colab_type": "text"
      },
      "source": [
        "En estas variables podemos guardar lo que sea necesario para ejecutar el programa, por ejemplo si necesitamos guardar texto se indica con: \"(texto)\" o '(texto)'."
      ]
    },
    {
      "cell_type": "code",
      "metadata": {
        "id": "ZaesnOreAx4q",
        "colab_type": "code",
        "colab": {}
      },
      "source": [
        "x = 'Hola'\n",
        "y = \"Como\"\n",
        "y"
      ],
      "execution_count": 0,
      "outputs": []
    },
    {
      "cell_type": "markdown",
      "metadata": {
        "id": "Y642lKnYDzlK",
        "colab_type": "text"
      },
      "source": [
        "Es importante tener en cuenta que no es necesario aclarar si las variables son textos (Strings) o números, el lenguaje lo puede identificar automaticamente"
      ]
    },
    {
      "cell_type": "markdown",
      "metadata": {
        "id": "yZl-KaXPCXru",
        "colab_type": "text"
      },
      "source": [
        "## Input - Output\n",
        "El input de un programa es la manera de recibir información del entorno externo al programa. Esto puede ser un usuario, un archivo, otro programa, un sensor, etc. \n",
        "\n",
        "El output de un programa es la manera de transmitir información hacia el entorno externo. Por ejemplo, puede escribir en la consola de la computadora, puede generar una imagen, etc. En GoogleColaboratory veremos el output del programa debajo de la celda donde fue ejecutado.\n",
        "\n",
        "Para poder mostrar el contenido de una variable podemos utilizar **print**(variable):"
      ]
    },
    {
      "cell_type": "code",
      "metadata": {
        "id": "C1c66KXWCwpD",
        "colab_type": "code",
        "colab": {}
      },
      "source": [
        "print(\"Hola como estas\")"
      ],
      "execution_count": 0,
      "outputs": []
    },
    {
      "cell_type": "markdown",
      "metadata": {
        "id": "LaLS532qC2sr",
        "colab_type": "text"
      },
      "source": [
        "¿Qué imprimirá el siguiente codigo?"
      ]
    },
    {
      "cell_type": "code",
      "metadata": {
        "id": "JECLPVC2C6XH",
        "colab_type": "code",
        "colab": {}
      },
      "source": [
        "print(x)"
      ],
      "execution_count": 0,
      "outputs": []
    },
    {
      "cell_type": "markdown",
      "metadata": {
        "id": "pvDfQCPsC8xc",
        "colab_type": "text"
      },
      "source": [
        "Para ingresar una variable podemos usar **input(\"Texto a mostrar:\")**. Corran este código ustedes para que les de una pequeña casilla donde escribir, y luego el programa escribirá lo que ustedes ingresaron. "
      ]
    },
    {
      "cell_type": "code",
      "metadata": {
        "id": "Iuzty4svDEDy",
        "colab_type": "code",
        "colab": {}
      },
      "source": [
        "x = input(\"Ingrese un valor: \")\n",
        "print(x)"
      ],
      "execution_count": 0,
      "outputs": []
    },
    {
      "cell_type": "markdown",
      "metadata": {
        "id": "wV0Fd9xkDefP",
        "colab_type": "text"
      },
      "source": [
        "Un detalle a tener en cuenta es que la variable utilizado **input()** será leida como texto, no como un número."
      ]
    },
    {
      "cell_type": "markdown",
      "metadata": {
        "id": "uNa0exphDxse",
        "colab_type": "text"
      },
      "source": [
        "## Operaciones básicas con variables\n",
        "\n",
        "\n"
      ]
    },
    {
      "cell_type": "markdown",
      "metadata": {
        "id": "ZM7lIDcRPdtk",
        "colab_type": "text"
      },
      "source": [
        "### Operaciones de modificación\n",
        "No seria muy útil un programa si lo único que podemos hacer es guardar en una variable y mostrarla, por lo que podemos realizar algunas operaciones basicas que nos perimiten modificar el contenido:\n",
        "\n",
        "\n",
        "*   **+** : Sumar dos variables $a+b$\n",
        "*   **-**  : Restar dos variables $a-b$\n",
        "*   **\\***: Multiplicar dos variables $a\\cdot b$\n",
        "*   **/** : Dividir una variable por la otra $\\frac{a}{b}$\n",
        "*   **\\*\\*** : Una variable elevado a la otra $a^{b}$\n",
        "*   **=** : Asignarle un valor a una variable $a \\leftarrow b$\n",
        "\n",
        "¿Cual será la salida del siguiente programa?"
      ]
    },
    {
      "cell_type": "code",
      "metadata": {
        "id": "LrkSFD2zFKo9",
        "colab_type": "code",
        "colab": {}
      },
      "source": [
        "x = 3\n",
        "y = -2\n",
        "y = x*y\n",
        "x = x**2\n",
        "print(y)\n",
        "print(x)"
      ],
      "execution_count": 0,
      "outputs": []
    },
    {
      "cell_type": "markdown",
      "metadata": {
        "id": "sHe-S2KcF_hT",
        "colab_type": "text"
      },
      "source": [
        "Python nos permite ahorrar código combinando el operando **=** con alguno de los anteriormente vistos:\n",
        "\n",
        "\n",
        "*   **=**  : Multiplica la variable $a \\leftarrow a\\cdot b$ \n",
        "*   **/=** : Divide la variable  $a \\leftarrow \\frac{a}{b}$ \n",
        "*   **+=** : Suma a la varaible  $a \\leftarrow a+ b$ \n",
        "*   **-=** : Resta a la variable $a \\leftarrow a- b$\n",
        "\n",
        "¿Cual será la salida del siguiente codigo?"
      ]
    },
    {
      "cell_type": "code",
      "metadata": {
        "id": "ndLR4DOcHIOb",
        "colab_type": "code",
        "colab": {}
      },
      "source": [
        "x/=10\n",
        "print(x)"
      ],
      "execution_count": 0,
      "outputs": []
    },
    {
      "cell_type": "markdown",
      "metadata": {
        "id": "Taq1M60JCWcf",
        "colab_type": "text"
      },
      "source": [
        "### Mini-desafio\n",
        "\n",
        "Diseñar un programa en el cual el usuario ingrese tres números y se muestre el promedio de los tres numeros."
      ]
    },
    {
      "cell_type": "code",
      "metadata": {
        "id": "CTYAThUpChMY",
        "colab_type": "code",
        "colab": {}
      },
      "source": [
        "n1 = int(input(\"Ingrese el número 1:\")) ## importante! convertir a entero (int) la variable"
      ],
      "execution_count": 0,
      "outputs": []
    },
    {
      "cell_type": "markdown",
      "metadata": {
        "id": "78iBTQVNISi7",
        "colab_type": "text"
      },
      "source": [
        "### Operaciones de comparación\n",
        "Existen operaciones donde se comparan las propiedades de una variable.\n",
        "*   **<** : Menor que $a < b$\n",
        "*   **>** : Mayor que $a > b$\n",
        "*   **<=** : Menor o igual que $a \\leq b$\n",
        "*   **>=** : Mayor o igual que $a \\geq b$\n",
        "*   **==** : Es igual $a = b$\n",
        "\n",
        "Al comprarar dos números se obtiene True o False según si se cumple la condición:"
      ]
    },
    {
      "cell_type": "code",
      "metadata": {
        "id": "xlYwcqQrOy5I",
        "colab_type": "code",
        "colab": {}
      },
      "source": [
        "x = 4\n",
        "print(x>=4)\n",
        "print(x<3)"
      ],
      "execution_count": 0,
      "outputs": []
    },
    {
      "cell_type": "code",
      "metadata": {
        "id": "cVMrA726NSf9",
        "colab_type": "code",
        "colab": {}
      },
      "source": [
        "x = input()\n",
        "x= 2*x\n",
        "print(x)"
      ],
      "execution_count": 0,
      "outputs": []
    },
    {
      "cell_type": "markdown",
      "metadata": {
        "id": "julg_kMLTzCT",
        "colab_type": "text"
      },
      "source": [
        "También podemos comparar muchas condiciones utilzando:\n",
        "*  **and**: Si se cumplen las dos condicones $a \\land b$\n",
        "*  **or**: Si se cumple alguna de las condicions $ a \\lor b$\n",
        "*  **not**: Si no se cumple esa condición $ \\overline{a} $\n",
        "\n",
        "Veamos un ejemplo:"
      ]
    },
    {
      "cell_type": "code",
      "metadata": {
        "id": "uGxeHWppUKLP",
        "colab_type": "code",
        "colab": {}
      },
      "source": [
        "x = 4\n",
        "y = x>5 and x < 7\n",
        "z = x>5 or x <7\n",
        "k = not x>5\n",
        "print(y)\n",
        "print(z)\n",
        "print(k)"
      ],
      "execution_count": 0,
      "outputs": []
    },
    {
      "cell_type": "markdown",
      "metadata": {
        "id": "2cJd7NrKV9dK",
        "colab_type": "text"
      },
      "source": [
        "Estas condiciones pueden agruparse con ( condicion1 ) **and/or** ( condicion2 ), esto permite chequar condiciones complejas:"
      ]
    },
    {
      "cell_type": "code",
      "metadata": {
        "id": "4LYKsyiXLAWW",
        "colab_type": "code",
        "colab": {}
      },
      "source": [
        "x = 10\n",
        "y = 5\n",
        "z = (y > x and 15 > x) or (y < x and 15 > x)\n",
        "print(z)"
      ],
      "execution_count": 0,
      "outputs": []
    },
    {
      "cell_type": "markdown",
      "metadata": {
        "id": "KGPMKjbABDrz",
        "colab_type": "text"
      },
      "source": [
        "## Flujo de Programa\n",
        "Los programas siguen un \"flujo\" definido por el programador. Esto le permite realizar operaciones complejas. Notar que todas estas estructuras terminan con un ** : **, y la siguiente línea tiene un tab de indentación.\n",
        "\n",
        "\n",
        "###   Estructura if\n",
        "Es la estructura básica que le permite al programador ver si se cumple una condición, y realizar distintas acciones según si eso sucede o no.\n",
        "\n",
        "**if** (condicion):\n",
        "    \n",
        "    ... lo que se hace si se cumple la condición\n",
        "    \n",
        "**elif** (condicion2):\n",
        "\n",
        "    ... lo que se hace si se cumple la condicion2\n",
        "     \n",
        "**else**:\n",
        "\n",
        "    ... lo que se hace si no se cumple la condición\n",
        "    \n",
        "    \n",
        " Siempre se comienza con **if**, después puede haber cualquier cantidad de **elif** (o ninguno). y luego se puede terminar con **else** (o no). Luego del **else** no puede haber más **elif**.\n",
        " \n",
        "\n",
        "\n"
      ]
    },
    {
      "cell_type": "markdown",
      "metadata": {
        "id": "rqyrcoqnPmi3",
        "colab_type": "text"
      },
      "source": [
        "¿Cual será la salida del siguiente programa?"
      ]
    },
    {
      "cell_type": "code",
      "metadata": {
        "id": "Y9oaFC5vCFB7",
        "colab_type": "code",
        "colab": {}
      },
      "source": [
        "x = 5\n",
        "y = 6\n",
        "if x==y:\n",
        "    print(x)\n",
        "elif y<5 or y>7:\n",
        "    print(x+y)\n",
        "else:\n",
        "    print(y)"
      ],
      "execution_count": 0,
      "outputs": []
    },
    {
      "cell_type": "code",
      "metadata": {
        "id": "ejJfMzOtQL00",
        "colab_type": "code",
        "colab": {}
      },
      "source": [
        "x = -1\n",
        "y = 4\n",
        "\n",
        "if y == 5:\n",
        "    print(\"adivinamos el valor de y!\")      \n",
        "    \n",
        "if x == 5:\n",
        "    print(\"adivinamos el valor de x!\")\n",
        "else:\n",
        "    print(\"no adivinamos el valor de x ))):\")\n",
        "    \n",
        "if x > y:\n",
        "    print(\"x es mayor que y\")\n",
        "elif x < y:\n",
        "    print(\"y es mayor que x\")\n",
        "elif x == y:\n",
        "    print(\"x e y son iguales\")\n",
        "else:\n",
        "    print(\"que?????\")"
      ],
      "execution_count": 0,
      "outputs": []
    },
    {
      "cell_type": "markdown",
      "metadata": {
        "id": "mUrWYINjEk-6",
        "colab_type": "text"
      },
      "source": [
        "#### Mini-desafio\n",
        "Realizar un programa que revise si una nota esta aprobada (es decir si es mayor o igual a 4).\n",
        "\n",
        "**Surgerencia**: utilizar un if/else"
      ]
    },
    {
      "cell_type": "code",
      "metadata": {
        "id": "rK3F0gJkFQlh",
        "colab_type": "code",
        "colab": {}
      },
      "source": [
        "nota = int(input(\"Ingrese nota:\"))"
      ],
      "execution_count": 0,
      "outputs": []
    },
    {
      "cell_type": "markdown",
      "metadata": {
        "id": "J0shbiwuHYah",
        "colab_type": "text"
      },
      "source": [
        "\n",
        "\n",
        "###  Estructura while\n",
        "Permite ejecutar operaciones mientras se cumpla una condición.\n",
        "\n",
        "**while** (Condicion):\n",
        "\n",
        "    ... lo que se hace mientras se cumpla la condicion\n",
        "\n",
        "**else** :\n",
        "\n",
        "    ... Se ejecuta cuando la condicion no se cumple más\n",
        "    \n",
        "Esto introduce otra estructura basica de un programa que son los ciclos (loops o bucles). En código se ve de la siguiente manera:\n",
        "\n"
      ]
    },
    {
      "cell_type": "code",
      "metadata": {
        "id": "LLcZ4LH3CMUt",
        "colab_type": "code",
        "colab": {}
      },
      "source": [
        "x = 1\n",
        "while x<10:\n",
        "    print(x)\n",
        "    x+=1\n"
      ],
      "execution_count": 0,
      "outputs": []
    },
    {
      "cell_type": "markdown",
      "metadata": {
        "id": "tzu1YFDNQTQu",
        "colab_type": "text"
      },
      "source": [
        "Es importante tener en cuenta que la condición se evalúa sólo al principio del loop.\n",
        "\n",
        "¿Qué imprimirá este programa?"
      ]
    },
    {
      "cell_type": "code",
      "metadata": {
        "id": "GGIT1bOlQlw_",
        "colab_type": "code",
        "colab": {}
      },
      "source": [
        "x = 1\n",
        "while x<=3:\n",
        "    x += 1\n",
        "    print(x)"
      ],
      "execution_count": 0,
      "outputs": []
    },
    {
      "cell_type": "markdown",
      "metadata": {
        "id": "KHHwPfH3QZQO",
        "colab_type": "text"
      },
      "source": [
        "#### Ejercicio If y While\n",
        "Implementa un programa que muestre la siguiente secuencia:\n",
        "\n",
        "1,2,3,4,5,4,3,2,1,0\n",
        "\n",
        "**Sugerencia:** utilizar un while y un if\n",
        "\n",
        "\n"
      ]
    },
    {
      "cell_type": "code",
      "metadata": {
        "id": "ELNQM61IIni8",
        "colab_type": "code",
        "colab": {}
      },
      "source": [
        "     "
      ],
      "execution_count": 0,
      "outputs": []
    },
    {
      "cell_type": "markdown",
      "metadata": {
        "id": "T-KOiUHbLcde",
        "colab_type": "text"
      },
      "source": [
        "### Estructura for\n",
        "\n",
        "La estructura del **for** permite realizar una serie de acciones con una variable, que cambia su valor en cada repetición (iteración). ¿Qué significa esto? Permite realizar la misma \n",
        "\n",
        "**for** (variable) **in** (conjunto de variables):\n",
        "\n",
        "    ... Lo que quieras hacer con tu variable\n",
        "\n",
        "Veámoslo en un ejemplo de codigo:\n"
      ]
    },
    {
      "cell_type": "code",
      "metadata": {
        "id": "Cwo3zZy5I3x_",
        "colab_type": "code",
        "colab": {}
      },
      "source": [
        "for x in range(0,10,1):\n",
        "    print(x)"
      ],
      "execution_count": 0,
      "outputs": []
    },
    {
      "cell_type": "markdown",
      "metadata": {
        "id": "VujdlKBZMfE3",
        "colab_type": "text"
      },
      "source": [
        "**range**(a,b,d)  nos genera los valores desde a hasta b con incrementos de d, por ejemplo el siguiente codigo generara los numeros pares entre 0 y 10:\n",
        "\n"
      ]
    },
    {
      "cell_type": "code",
      "metadata": {
        "id": "XCHNbgvEMdIb",
        "colab_type": "code",
        "colab": {}
      },
      "source": [
        "for x in range(0,10,5):\n",
        "    print(x)"
      ],
      "execution_count": 0,
      "outputs": []
    },
    {
      "cell_type": "markdown",
      "metadata": {
        "id": "UoNf8Ce-NAi5",
        "colab_type": "text"
      },
      "source": [
        "#### Ejercicio for\n",
        "Realizar la siguiente secuencia de datos utilizando la instrucción for y la instrucción if\n",
        "\n",
        "0,1,4,9,4,5,6"
      ]
    },
    {
      "cell_type": "code",
      "metadata": {
        "id": "E3NctxBaM3kG",
        "colab_type": "code",
        "colab": {}
      },
      "source": [
        ""
      ],
      "execution_count": 0,
      "outputs": []
    },
    {
      "cell_type": "markdown",
      "metadata": {
        "id": "0oG-SkG7PIcN",
        "colab_type": "text"
      },
      "source": [
        "## Funciones\n",
        "Podemos pensar que una funcion es como un pequeño programa dentro del programa. Las funciones son bloques que nos permiten acortar el código no repitiendo estructuras que necesitamos utilizar mucho. Al igual que los programas las funciones tienen un input y un output: el input son las variables de entrada y su output es el valor o valores que devuelven.\n",
        "\n",
        "**def** miFunción($a_i,b_i,c_i,...$)**:**\n",
        "\n",
        "     ... Hago lo que necesite con las variables a,b,c\n",
        "    \n",
        "   **return** $a_o,b_o,c_o,...$\n",
        "\n",
        "Veamos un ejemplo:"
      ]
    },
    {
      "cell_type": "code",
      "metadata": {
        "id": "mpsgG39DNcme",
        "colab_type": "code",
        "colab": {}
      },
      "source": [
        "def suma(a,b):\n",
        "    s=a+b\n",
        "    return s\n",
        "\n",
        "x = 2\n",
        "y = 4\n",
        "z = suma(x,y)\n",
        "print(z)"
      ],
      "execution_count": 0,
      "outputs": []
    },
    {
      "cell_type": "markdown",
      "metadata": {
        "id": "q5WyWK1KQVor",
        "colab_type": "text"
      },
      "source": [
        "Esto tambien podemos combinarlo con las estructuras que vimos previamente"
      ]
    },
    {
      "cell_type": "code",
      "metadata": {
        "id": "_xMxxM6EQQon",
        "colab_type": "code",
        "colab": {}
      },
      "source": [
        "def chequarContraseña(c):\n",
        "    if c == \"Secreto\":\n",
        "        print(\"Contraseña correcta!\")\n",
        "    else:\n",
        "        print(\"Contraseña incorrecta!\")\n",
        "        \n",
        "chequarContraseña(\"hola\")\n",
        "chequarContraseña(\"Secreto\")"
      ],
      "execution_count": 0,
      "outputs": []
    },
    {
      "cell_type": "markdown",
      "metadata": {
        "id": "W64FPKi5RaU3",
        "colab_type": "text"
      },
      "source": [
        "¿Se dieron cuenta que la la forma en la que usamos para imprimir una variable es una función?, **print**( ... ) lo que hace es llamar a una función ya creada que está en el estandar de python y permite que mostremos el contendido que se le pase como parametro a la función."
      ]
    },
    {
      "cell_type": "markdown",
      "metadata": {
        "id": "sgCdpQfDS5wG",
        "colab_type": "text"
      },
      "source": [
        "### Ejercicio funciones\n",
        "Escribir una función que cheque los siguientes usuarios y contraseñas:\n",
        "*  Usuario: Juan  -  Contraseña: 12345_\n",
        "*  Usuario: Pablo - Contraseña: xDcFvGbHn"
      ]
    },
    {
      "cell_type": "code",
      "metadata": {
        "id": "cqBdQ2P-RPU6",
        "colab_type": "code",
        "colab": {}
      },
      "source": [
        ""
      ],
      "execution_count": 0,
      "outputs": []
    },
    {
      "cell_type": "markdown",
      "metadata": {
        "id": "13AcDcKZWX0b",
        "colab_type": "text"
      },
      "source": [
        "# Ejercitación integradora $\\newcommand{\\dif}{\\bigstar}$$\\newcommand{\\facil}{\\color{\\green}{\\dif}}$ $\\newcommand{\\pieceofcake}{\\color{\\cyan}{\\dif}}$$\\newcommand{\\medio}{\\color{\\yellow}{\\dif\\dif}}$$\\newcommand{\\media}{\\medio}$$\\newcommand{\\normal}{\\medio}$  $\\newcommand{\\dificil}{\\color{\\orange}{\\dif\\dif\\dif}}$ $\\newcommand{\\imposible}{\\color{\\red}{\\dif\\dif\\dif\\dif}}$\n",
        "$\\newcommand{\\tarc}{\\large\\frown}$\n",
        "$\\newcommand{\\arc}[1]{\\stackrel{\\tarc}{#1}}$\n",
        "<head>\n",
        "<style type=\"text/css\">\n",
        "  img{ \n",
        "    display: block;\n",
        "    margin-left:auto;\n",
        "    margin-right:auto;\n",
        "  \n",
        "  }\n",
        "  </style>\n",
        "  </head>"
      ]
    },
    {
      "cell_type": "markdown",
      "metadata": {
        "id": "ZJ8oR4DW3z4A",
        "colab_type": "text"
      },
      "source": [
        "###$\\facil$   Cálculo de promedio \n",
        "Cálcular la nota de un alumno es una tarea cotidiana de un profesor. Esta tarea suele realizarse a mano o en excel muchas veces. En esta ocasión la haremos en python. \n",
        "- Escribir una función que calcule el promedio de 3 notas. \n",
        "- Escribir una función que calcule el promedio de 3 notas con ponderación (asignar de importancia al primer examen 20% al segundo 50% y al tercero 30%)\n",
        "- Llamar a la función anterior 3 veces con distintas notas y verificar, mediante la instrucción if, si el alumno aprobó (suponga que 4 es la nota de aprobación). en cada caso.\n",
        "\n"
      ]
    },
    {
      "cell_type": "code",
      "metadata": {
        "id": "3DHirONd90wp",
        "colab_type": "code",
        "colab": {}
      },
      "source": [
        ""
      ],
      "execution_count": 0,
      "outputs": []
    },
    {
      "cell_type": "markdown",
      "metadata": {
        "id": "tS0MU0yrKfAs",
        "colab_type": "text"
      },
      "source": [
        "###$\\medio$ Ejercicio de entrevista en Ingemática \n",
        "Escriba un programa que imprima los números del 1 al 100, pero que para cada número que sea múltiplo de 3 imprima  `N3`, para los múltiplos de 5 imprima `N5`, y para los múltiplos de los dos, `N3N5`.\n",
        "\n",
        "**Tips**\n",
        "* ¡Si el número es divisible por 3 entonces el resto de la división vale cero!\n",
        "```\n",
        "numero % 3 == 0\n",
        ">> True\n",
        "```\n"
      ]
    },
    {
      "cell_type": "code",
      "metadata": {
        "id": "IUtY_MurVkMl",
        "colab_type": "code",
        "colab": {}
      },
      "source": [
        ""
      ],
      "execution_count": 0,
      "outputs": []
    },
    {
      "cell_type": "markdown",
      "metadata": {
        "id": "fm_1Ogs_k0Uu",
        "colab_type": "text"
      },
      "source": [
        "### $\\normal$ La leyenda de Filius Bonacci  \n",
        "\n",
        "\n",
        "\n",
        "\n",
        "\n",
        "<img src=\"https://childsci.org/wp-content/uploads/2016/04/Fibonacci-Sequence.jpg\" height=\"200\" alt = \"Espiral Fibonacci\" title = \"\">\n",
        "\n",
        "Imprima $n$ números de la [sucesion de Fibonacci](https://es.wikipedia.org/wiki/Sucesi%C3%B3n_de_Fibonacci)\n",
        "\n",
        "\n",
        "```\n",
        "0, 1, 1, 2, 3, 5, 8, 13, 21 ...\n",
        "```"
      ]
    },
    {
      "cell_type": "code",
      "metadata": {
        "id": "Am1NHiy6xeMp",
        "colab_type": "code",
        "colab": {}
      },
      "source": [
        ""
      ],
      "execution_count": 0,
      "outputs": []
    },
    {
      "cell_type": "markdown",
      "metadata": {
        "id": "_QLEV2dP64fo",
        "colab_type": "text"
      },
      "source": [
        "###$\\medio$  Dominó  \n",
        "\n",
        "El [Dominó](https://es.wikipedia.org/wiki/Domin%C3%B3) es un juego de mesa muy popular. \n",
        "En este ejercicio no vamos a programar un juego de Domino, pero sí contar sus fichas.\n",
        "\n",
        "<img src=\"https://es.calcuworld.com/wp-content/uploads/sites/2/2018/04/cantidad-de-fichas-domino.jpg\" height=\"200\" alt = \"Fichas domino desparramadas sobre una mesa\">\n",
        "\n",
        "A pesar de que el domino tradicional se juega con fichas hasta el número 6, vamos a considerar un juego de fichas de valor máximo $n$.\n",
        "\n",
        "- Escribir una función que calcule la cantidad de fichas para un juego de dominó completo con fichas que contienen hasta el número $n$.\n",
        "Nota: ¡No hay fichas repetidas! 2-4 es la misma ficha que 4-2. ¡Observar que en el dominó hay fichas con valor 0!\n",
        "\n",
        "```\n",
        "   cantidadFichas(3)\n",
        "   >>> 10\n",
        "   cantidadFichas(4)\n",
        "   >>> 15\n",
        "```\n",
        "\n",
        "- Escribir una función que muestre todas las fichas para un juego de dominó como el anterior, en cualquier orden.\n",
        "\n",
        "```\n",
        "   mostrarFichas(3)\n",
        "   >>> 0-0\n",
        "   >>> 0-1\n",
        "   >>> 0-2\n",
        "   >>> 0-3\n",
        "   >>> 1-1\n",
        "   >>> 1-2\n",
        "   >>> 1-3\n",
        "   >>> 2-2\n",
        "   >>> 2-3\n",
        "   >>> 3-3\n",
        "```\n",
        "\n",
        "- Llamar a las funciones anteriores con distintos valores para corroborar su funcionamiento\n",
        "\n",
        "- $\\dificil$ *Challenge*: Escribir una función que, dada una cantidad de fichas, calcule cuál es el $n$ (valor máximo) de las fichas. Si el número de fichas no corresponde a la cantidad de fichas de ningún juego de dominó completo retornar -1.\n",
        "\n",
        "```\n",
        "   valorMaximo(10)\n",
        "   >>> 3\n",
        "   valorMaximo(11)\n",
        "   >>> -1\n",
        "   valorMaximo(15)\n",
        "   >>> 4\n",
        "```\n"
      ]
    },
    {
      "cell_type": "code",
      "metadata": {
        "id": "Q5MAhD1Jb1rN",
        "colab_type": "code",
        "colab": {}
      },
      "source": [
        ""
      ],
      "execution_count": 0,
      "outputs": []
    },
    {
      "cell_type": "markdown",
      "metadata": {
        "id": "QEuKKilBAAQG",
        "colab_type": "text"
      },
      "source": [
        "### $\\medio$ Teoría de cuerdas\n",
        "Hoy hablaremos de cuerdas. No de las que se ven en física teorica, si no las *geometricas.*\n",
        "<center>\n",
        "<img src=\"https://dr282zn36sxxg.cloudfront.net/datastreams/f-d%3Afda746e73385e476e8759e59f47b461d568c372a25943d0f7c391566%2BIMAGE_TINY%2BIMAGE_TINY.1\" alt=\"Chord length en función de un angulo\" height=250 title=\"Cuerdas\" />\n",
        "</center>\n",
        "\n",
        "Hay dos caminos posibles para llegar de $A$ a $B$. Uno es siguiendo la curvatura del circulo llamado *arco*, en la foto sería la linea $\\color{green}{\\textbf{ verde}}$. \n",
        "\n",
        "La otra forma es por una linea recta, llamada *cuerda*. En la foto aparece como una linea $\\color{blue}{\\textbf{ azul}}$.\n",
        "\n",
        "Escriba las funciones $\\mathrm{arco}$ y $\\mathrm{cuerda}$ que tomando el ángulo $\\theta$ de separación y un radio $r$ devuelva la distancia entre los puntos $A$ y $B$.\n",
        "\n",
        "Suponga que  $\\pi=355/113$\n",
        "\n",
        "$$\\text{Algunas formulas útiles:     } \\arc{AB}=\\theta r, \\quad \\overline{AB}= 2 r \\sin\\left( \\frac{\\theta}{2} \\right)$$\n",
        "\n",
        "$ \\mathrm{cuerda}(21,\\pi)=42$\n",
        "\n",
        "$ \\mathrm{cuerda}(400,1.3965)\\approx 514.3$\n",
        "\n",
        "\n",
        "$ \\mathrm{arco}(99,2) = 198$\n",
        "\n",
        "$ \\\\$\n",
        "\n",
        "$\\dificil$ *Challenge*: Puede modificar su código para que encuentre el camino más corto entre dos puntos a un ángulo mayor a $\\pi$?\n",
        "\n",
        "$\\mathrm{arco}(99,4) \\approx 226.035$\n",
        "\n",
        "$\\mathrm{cuerda}(99,4) \\approx 180.04$\n",
        "\n",
        "$\\mathrm{cuerda}(2,600) \\approx 4$\n",
        "\n",
        "**Tips:**\n",
        "*  Para ángulos mayores a $2\\pi$ e incluso menores, se puede aplicar:  $\\theta_{\\mathrm{circulo}}=\\mathrm{mod}(\\theta,2\\pi)$\n",
        "* Para el challenge es útil hallar el ángulo más corto $\\theta_{\\mathrm{corto}}$\n"
      ]
    },
    {
      "cell_type": "code",
      "metadata": {
        "id": "ZUVcp4EAbX8g",
        "colab_type": "code",
        "colab": {}
      },
      "source": [
        ""
      ],
      "execution_count": 0,
      "outputs": []
    },
    {
      "cell_type": "markdown",
      "metadata": {
        "id": "QkV_WCR4HUA5",
        "colab_type": "text"
      },
      "source": [
        "###$\\dificil$ Locos por las matemáticas \n",
        "En marzo 2019, Emma Haruka Iwao, una empleada de Google, logró calcular 31,4 trillones de dígitos del famoso número pi en 121 dias usando el poder de la nube de Google. ¡Hoy ustedes pueden hacer lo mismo con la ayuda de Python!\n",
        "\n",
        "Aprovechando el descubrimiento del matemático indio Sriniviasa Ramanujan (1910) podemos emplear nuestro propio aproximador de pi.\n",
        "$$ \\frac{1}{\\pi}= \\frac{2\\sqrt{2}}{9801}\\sum_{k=0}^{\\infty} \\frac{(4k)! \\cdot (1103+26390k)}{(k!)^4 396^{4k}}$$\n",
        "\n",
        "Tengan en cuenta la proxima función para calcular factoriales:\n",
        "\n",
        "```\n",
        "def factorial(n):\n",
        "  if n<=1:\n",
        "    return 1\n",
        "  else:\n",
        "    return n*factorial(n-1)\n",
        "```\n",
        "$$\\textrm{factorial(4)}=4!=24 $$\n",
        "\n",
        "Si no estamos tan locos por la matemáticas podemos usar otras aproximaciones más simples como\n",
        "\n",
        "$$\\pi \\approx \\frac{22}{7} \\approx \\frac{355}{113} $$\n",
        "\n",
        "Otros números famosos:\n",
        "$$e = \\sum_{k=0}^\\infty \\frac{1}{k!} \\qquad e=\\lim_{x\\rightarrow\\infty} \\left( 1+\\frac{1}{x} \\right)^x \\qquad \\varphi = \\frac{1+\\sqrt{5}}{2} $$"
      ]
    },
    {
      "cell_type": "code",
      "metadata": {
        "id": "Mu1GbWGC-IW9",
        "colab_type": "code",
        "colab": {}
      },
      "source": [
        ""
      ],
      "execution_count": 0,
      "outputs": []
    }
  ]
}