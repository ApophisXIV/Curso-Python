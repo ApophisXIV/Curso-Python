{
  "nbformat": 4,
  "nbformat_minor": 0,
  "metadata": {
    "colab": {
      "name": "Clase 1 - Curso Python.ipynb",
      "version": "0.3.2",
      "provenance": [],
      "collapsed_sections": [],
      "toc_visible": true,
      "include_colab_link": true
    },
    "kernelspec": {
      "name": "python3",
      "display_name": "Python 3"
    }
  },
  "cells": [
    {
      "cell_type": "markdown",
      "metadata": {
        "id": "view-in-github",
        "colab_type": "text"
      },
      "source": [
        "<a href=\"https://colab.research.google.com/github/IEEESBITBA/Curso-Python/blob/master/Clase_1_Curso_Python.ipynb\" target=\"_parent\"><img src=\"https://colab.research.google.com/assets/colab-badge.svg\" alt=\"Open In Colab\"/></a>"
      ]
    },
    {
      "metadata": {
        "id": "zUpAx4mvVgz6",
        "colab_type": "text"
      },
      "cell_type": "markdown",
      "source": [
        "# Clase 1\n",
        "\n",
        "## Introducción a la programación\n",
        "La programación es un proceso que se utiliza para idear y ordenar las acciones que se realizarán en el marco de un proyecto. Nosotros lo veremos como el proceso por el cual una persona desarrolla un programa valiéndose de algun lenguaje que le permita comunicar una serie de acciones que la computadora debe realizar. ¿Que es un programa? Es una caja negra que recibe inputs, realiza alguna accion y devuelve outputs.\n",
        "\n",
        "![](http://softwaretestingfundamentals.com/wp-content/uploads/2010/12/black_box_testing-300x149.gif)\n",
        "\n",
        "## Lenguajes de programación\n",
        "Un lenguaje de programación es un lenguaje formal que proporciona una serie de instrucciones que permiten a un programador escribir secuencias de órdenes para  controlar el comportamiento físico y lógico de una computadora con el objetivo de que produzca diversas acciones deseadas por el programador.\n",
        "\n",
        "Los lenguajes mas utilizados son Python, Java, C++, JavaScript, PHP, etc.\n",
        "\n",
        "![](https://miro.medium.com/max/838/1*L5QyrMNalM3yhtgdgBcvkQ.png =400x)\n",
        "\n",
        "## Porque elegimos Python?\n",
        "Elegimos Python ya que es un lenguaje muy simple que no tiene reglas raras de sintaxis y es muy claro su flujo. Ademas de ser simple es muy utilizado en la industria para servidores y servicios web, tambien en el area academica para redes neuronales, deep learning, simulación, etc.\n",
        "\n",
        "Ademas la comunidad de Python es muy grande por lo que cualquier duda que tengan Google es su amigo, pueden buscar la duda que tengan y seguramente alguien ya haya tenido ese problema. Una pagina util es [StackOverflow](https://stackoverflow.com/)\n",
        "\n",
        "\n"
      ]
    },
    {
      "metadata": {
        "id": "o7iXxeQFsblK",
        "colab_type": "text"
      },
      "cell_type": "markdown",
      "source": [
        "## Variables\n",
        "\n",
        "En programación el concepto de variables es un espacio donde el programador o el programa puede almacenar un valor.\n",
        "\n",
        "En python esto se logra de la siguiente manera:\n",
        "\n",
        "\n"
      ]
    },
    {
      "metadata": {
        "id": "dFdsoISPuvyX",
        "colab_type": "code",
        "outputId": "1799e883-a7c6-431d-d341-a80e7d4ec424",
        "colab": {
          "base_uri": "https://localhost:8080/",
          "height": 34
        }
      },
      "cell_type": "code",
      "source": [
        "x = 5\n",
        "x"
      ],
      "execution_count": 0,
      "outputs": [
        {
          "output_type": "execute_result",
          "data": {
            "text/plain": [
              "5"
            ]
          },
          "metadata": {
            "tags": []
          },
          "execution_count": 31
        }
      ]
    },
    {
      "metadata": {
        "id": "d3b-updXAmho",
        "colab_type": "text"
      },
      "cell_type": "markdown",
      "source": [
        "En estas variables podemos guardar lo que sea necesario para ejecutar el programa, por ejemplo si necesitamos guardar texto se indica con: \"(texto)\" o '(texto)'"
      ]
    },
    {
      "metadata": {
        "id": "ZaesnOreAx4q",
        "colab_type": "code",
        "outputId": "62afbae4-65a6-4bd7-fdee-0c840f72e2c8",
        "colab": {
          "base_uri": "https://localhost:8080/",
          "height": 34
        }
      },
      "cell_type": "code",
      "source": [
        "x = 'Hola'\n",
        "y = \"Como\"\n",
        "y"
      ],
      "execution_count": 0,
      "outputs": [
        {
          "output_type": "execute_result",
          "data": {
            "text/plain": [
              "'Como'"
            ]
          },
          "metadata": {
            "tags": []
          },
          "execution_count": 32
        }
      ]
    },
    {
      "metadata": {
        "id": "yZl-KaXPCXru",
        "colab_type": "text"
      },
      "cell_type": "markdown",
      "source": [
        "## Input - Output\n",
        "El input de un programa es la manera de recibir información del entorno externo al programa, esto puede ser un usario, un archivo, otro programa, un sensor, etc. \n",
        "\n",
        "El output de un programa es la manera de transmitir información hacia el entorno externo, por ejemplo puede escribir en la consola de la computadora, puede generar una imagen, etc. En GoogleColaboratory veremos el output del programa debajo de la celda donde fue ejecutado.\n",
        "\n",
        "Para poder mostrar el contenido de una variable podemos utilizar **print**(variable):"
      ]
    },
    {
      "metadata": {
        "id": "C1c66KXWCwpD",
        "colab_type": "code",
        "outputId": "6f8457bf-7ee6-4ead-c1f3-d694929dd586",
        "colab": {
          "base_uri": "https://localhost:8080/",
          "height": 34
        }
      },
      "cell_type": "code",
      "source": [
        "print(\"Hola como estas\")"
      ],
      "execution_count": 0,
      "outputs": [
        {
          "output_type": "stream",
          "text": [
            "Hola como estas\n"
          ],
          "name": "stdout"
        }
      ]
    },
    {
      "metadata": {
        "id": "LaLS532qC2sr",
        "colab_type": "text"
      },
      "cell_type": "markdown",
      "source": [
        "Que imprimira el siguiente codigo?"
      ]
    },
    {
      "metadata": {
        "id": "JECLPVC2C6XH",
        "colab_type": "code",
        "outputId": "f89476b7-ae01-479c-f320-0bfafa698bed",
        "colab": {
          "base_uri": "https://localhost:8080/",
          "height": 34
        }
      },
      "cell_type": "code",
      "source": [
        "print(x)"
      ],
      "execution_count": 0,
      "outputs": [
        {
          "output_type": "stream",
          "text": [
            "Hola\n"
          ],
          "name": "stdout"
        }
      ]
    },
    {
      "metadata": {
        "id": "pvDfQCPsC8xc",
        "colab_type": "text"
      },
      "cell_type": "markdown",
      "source": [
        "Para ingresar una variable podemos llamar a **input**(), corran este codigo ustedes para que les de una pequeña casilla donde escribir, luego el programa escribira lo que ustedes ingresaron."
      ]
    },
    {
      "metadata": {
        "id": "Iuzty4svDEDy",
        "colab_type": "code",
        "outputId": "f5f7d0eb-cfff-4004-96a6-16962be793c0",
        "colab": {
          "base_uri": "https://localhost:8080/",
          "height": 51
        }
      },
      "cell_type": "code",
      "source": [
        "x = input()\n",
        "print(x)"
      ],
      "execution_count": 0,
      "outputs": [
        {
          "output_type": "stream",
          "text": [
            "6\n",
            "6\n"
          ],
          "name": "stdout"
        }
      ]
    },
    {
      "metadata": {
        "id": "uNa0exphDxse",
        "colab_type": "text"
      },
      "cell_type": "markdown",
      "source": [
        "## Operaciones basicas con variables\n",
        "\n",
        "\n"
      ]
    },
    {
      "metadata": {
        "id": "ZM7lIDcRPdtk",
        "colab_type": "text"
      },
      "cell_type": "markdown",
      "source": [
        "### Operaciones de modificación\n",
        "No seria muy util un programa si lo unico que podemos hacer es guardar en una variable y mostrarlo, por lo que podemos realizar algunas operaciones basicas que nos perimiten modificar el contenido:\n",
        "\n",
        "\n",
        "*   **+** : Sumar dos variables $a+b$\n",
        "*   **-**  : Restar dos variables $a-b$\n",
        "*   ** * ** : Multiplicar dos variables $a\\cdot b$\n",
        "*   ** / ** : Dividir una variable por la otra $\\frac{a}{b}$\n",
        "*   ** \\*\\* ** : Una variable elevado a la otra $a^{b}$\n",
        "*   **=** : Asignarle un valor a una variable $a \\leftarrow b$\n",
        "\n",
        "Cual será la salida del siguiente programa?"
      ]
    },
    {
      "metadata": {
        "id": "LrkSFD2zFKo9",
        "colab_type": "code",
        "outputId": "e6589cd5-35ba-4b42-c6b5-913ffb488f2c",
        "colab": {
          "base_uri": "https://localhost:8080/",
          "height": 51
        }
      },
      "cell_type": "code",
      "source": [
        "x = 3\n",
        "y = -2\n",
        "y = x*y\n",
        "x = x**2\n",
        "print(y)\n",
        "print(x)"
      ],
      "execution_count": 0,
      "outputs": [
        {
          "output_type": "stream",
          "text": [
            "-6\n",
            "9\n"
          ],
          "name": "stdout"
        }
      ]
    },
    {
      "metadata": {
        "id": "sHe-S2KcF_hT",
        "colab_type": "text"
      },
      "cell_type": "markdown",
      "source": [
        "Python nos permite ahorrar codigo combinando el operando **=** con alguno de los anteriores vistos:\n",
        "\n",
        "\n",
        "*   ** *= ** : Multiplica la variable $a \\leftarrow a\\cdot b$ \n",
        "*   ** /= ** : Divide la variable  $a \\leftarrow \\frac{a}{b}$ \n",
        "*   ** += ** : Suma a la varaible  $a \\leftarrow a+ b$ \n",
        "*   ** -= ** : Resta a la variable $a \\leftarrow a- b$\n",
        "\n",
        "Cual será la salida del siguiente codigo?"
      ]
    },
    {
      "metadata": {
        "id": "ndLR4DOcHIOb",
        "colab_type": "code",
        "outputId": "d24c650c-9a43-4f3f-d251-7765cd459755",
        "colab": {
          "base_uri": "https://localhost:8080/",
          "height": 34
        }
      },
      "cell_type": "code",
      "source": [
        "x/=10\n",
        "print(x)"
      ],
      "execution_count": 0,
      "outputs": [
        {
          "output_type": "stream",
          "text": [
            "0.4\n"
          ],
          "name": "stdout"
        }
      ]
    },
    {
      "metadata": {
        "id": "78iBTQVNISi7",
        "colab_type": "text"
      },
      "cell_type": "markdown",
      "source": [
        "### Operaciones de comparación\n",
        "Existen operaciones donde se comparan las propiedades de una variable.\n",
        "*    **< ** : Menor que $a < b$\n",
        "*    **> ** : Mayor que $a > b$\n",
        "*   **<=** : Menor o igual que $a \\leq b$\n",
        "*   **>=** : Mayor o igual que $a \\geq b$\n",
        "*   **==** : Es igual $a = b$\n",
        "\n",
        "Al comprarar dos numeros te devuelve True o False si se cumple la condición:"
      ]
    },
    {
      "metadata": {
        "id": "xlYwcqQrOy5I",
        "colab_type": "code",
        "outputId": "35b5e794-b991-4ef0-dbb9-127eb34c0361",
        "colab": {
          "base_uri": "https://localhost:8080/",
          "height": 51
        }
      },
      "cell_type": "code",
      "source": [
        "x = 4\n",
        "print(x>=4)\n",
        "print(x<3)"
      ],
      "execution_count": 0,
      "outputs": [
        {
          "output_type": "stream",
          "text": [
            "True\n",
            "False\n"
          ],
          "name": "stdout"
        }
      ]
    },
    {
      "metadata": {
        "id": "julg_kMLTzCT",
        "colab_type": "text"
      },
      "cell_type": "markdown",
      "source": [
        "Tambien podemos comparar muchas condiciones utilzando:\n",
        "*  **and**: Si se cumplen las dos condicones $a \\land b$\n",
        "*  **or**: Si se cumple alguna de las condicions $ a \\lor b$\n",
        "*  **not**: Si no se cumple esa condición $ \\overline{a} $\n",
        "\n",
        "Veamos un ejemplo:"
      ]
    },
    {
      "metadata": {
        "id": "uGxeHWppUKLP",
        "colab_type": "code",
        "outputId": "52859936-a1bd-44fc-b5a4-b7dde119b9f2",
        "colab": {
          "base_uri": "https://localhost:8080/",
          "height": 68
        }
      },
      "cell_type": "code",
      "source": [
        "x = 4\n",
        "y = x>5 and x < 7\n",
        "z = x>5 or x <7\n",
        "k = not x>5\n",
        "print(y)\n",
        "print(z)\n",
        "print(k)"
      ],
      "execution_count": 0,
      "outputs": [
        {
          "output_type": "stream",
          "text": [
            "False\n",
            "True\n",
            "True\n"
          ],
          "name": "stdout"
        }
      ]
    },
    {
      "metadata": {
        "id": "2cJd7NrKV9dK",
        "colab_type": "text"
      },
      "cell_type": "markdown",
      "source": [
        "Estas condiciones pueden agruparse con ( condicion1 ) **and/or** ( condicion2 ), esto permite chequar condiciones complejas."
      ]
    },
    {
      "metadata": {
        "id": "KGPMKjbABDrz",
        "colab_type": "text"
      },
      "cell_type": "markdown",
      "source": [
        "## Flujo de Programa\n",
        "Los programas siguen un \"flujo\" definido por el programador, esto le permite realizar operaciones complejas. Notar que todas estas estructuras terminan con un ** : ** y la siguiente linea tiene un tab de indentación.\n",
        "\n",
        "\n",
        "###   Estructura if\n",
        "Es la estructura basica que le permite al programador ver si se cumple una condición.\n",
        "\n",
        "**if** (condicion):\n",
        "    \n",
        "    ... algo si se cumple la condición\n",
        "    \n",
        "**elif** (condicion2):\n",
        "\n",
        "    ... algo si se cumple la condicion2\n",
        "     \n",
        "**else**:\n",
        "\n",
        "    ... si no se cumple la condición\n",
        "Cual será la salida del siguiente programa?\n",
        "\n",
        "\n"
      ]
    },
    {
      "metadata": {
        "id": "Y9oaFC5vCFB7",
        "colab_type": "code",
        "outputId": "51a4bd11-201e-4c9e-e8e6-7eeb80edbf5e",
        "colab": {
          "base_uri": "https://localhost:8080/",
          "height": 34
        }
      },
      "cell_type": "code",
      "source": [
        "x = 5\n",
        "y = 6\n",
        "if x==y:\n",
        "    print(x)\n",
        "elif y<5 or y>7:\n",
        "    print(x+y)\n",
        "else:\n",
        "    print(y)"
      ],
      "execution_count": 0,
      "outputs": [
        {
          "output_type": "stream",
          "text": [
            "6\n"
          ],
          "name": "stdout"
        }
      ]
    },
    {
      "metadata": {
        "id": "J0shbiwuHYah",
        "colab_type": "text"
      },
      "cell_type": "markdown",
      "source": [
        "\n",
        "\n",
        "###  Estructura while\n",
        "Permite ejecutar operaciones mientras se cumpla una condición.\n",
        "\n",
        "**while** (Condicion):\n",
        "\n",
        "    ... Algo mientras se cumpla la condicion\n",
        "\n",
        "**else** :\n",
        "\n",
        "    ... Se ejecuta cuando la condicion no se cumple más\n",
        "    \n",
        "Esto introduce otra estructura basica de un programa que son los ciclos (loops o bucles), en codigo se ve de la siguiente manera:\n",
        "\n"
      ]
    },
    {
      "metadata": {
        "id": "LLcZ4LH3CMUt",
        "colab_type": "code",
        "outputId": "b4a450da-5a30-4572-9713-a1bde7606b30",
        "colab": {
          "base_uri": "https://localhost:8080/",
          "height": 187
        }
      },
      "cell_type": "code",
      "source": [
        "x = 1\n",
        "while x<10:\n",
        "  print(x)\n",
        "  x+=1\n",
        "else:\n",
        "  print(\"Termine el while!\")"
      ],
      "execution_count": 0,
      "outputs": [
        {
          "output_type": "stream",
          "text": [
            "1\n",
            "2\n",
            "3\n",
            "4\n",
            "5\n",
            "6\n",
            "7\n",
            "8\n",
            "9\n",
            "Termine el while!\n"
          ],
          "name": "stdout"
        }
      ]
    },
    {
      "metadata": {
        "id": "KHHwPfH3QZQO",
        "colab_type": "text"
      },
      "cell_type": "markdown",
      "source": [
        "#### Ejercico If y While\n",
        "Implementa un programa que genere la siguiente secuencia:\n",
        "\n",
        "[1,2,3,4,5,4,3,2,1,0]\n",
        "\n",
        "Pueden utilizar un while y un if\n",
        "\n",
        "\n"
      ]
    },
    {
      "metadata": {
        "id": "ELNQM61IIni8",
        "colab_type": "code",
        "outputId": "7badeadf-ea7e-4e97-80c2-e1574a445842",
        "colab": {
          "base_uri": "https://localhost:8080/",
          "height": 187
        }
      },
      "cell_type": "code",
      "source": [
        "#Esto es la solución debemos sacarlo antes de la clase \n",
        "x=1\n",
        "while x<10:\n",
        "    if(x<5):\n",
        "        print(x)\n",
        "    else:\n",
        "        print(10-x)\n",
        "    x+=1\n",
        "else:\n",
        "    print(10-x)"
      ],
      "execution_count": 0,
      "outputs": [
        {
          "output_type": "stream",
          "text": [
            "1\n",
            "2\n",
            "3\n",
            "4\n",
            "5\n",
            "4\n",
            "3\n",
            "2\n",
            "1\n",
            "0\n"
          ],
          "name": "stdout"
        }
      ]
    },
    {
      "metadata": {
        "id": "T-KOiUHbLcde",
        "colab_type": "text"
      },
      "cell_type": "markdown",
      "source": [
        "### Estructura for\n",
        "La estructura del for permite iterar linealmente por datos, como es esto?\n",
        "\n",
        "**for** (variable) **in** (algo):\n",
        "\n",
        "    ... Lo que quieras hacer con tu variable\n",
        "\n",
        "Veamoslo en un ejemplo de codigo:\n"
      ]
    },
    {
      "metadata": {
        "id": "Cwo3zZy5I3x_",
        "colab_type": "code",
        "outputId": "ce320493-9ad6-44fa-ec06-18816f4d7098",
        "colab": {
          "base_uri": "https://localhost:8080/",
          "height": 187
        }
      },
      "cell_type": "code",
      "source": [
        "for x in range(0,10,1):\n",
        "    print(x)"
      ],
      "execution_count": 0,
      "outputs": [
        {
          "output_type": "stream",
          "text": [
            "0\n",
            "1\n",
            "2\n",
            "3\n",
            "4\n",
            "5\n",
            "6\n",
            "7\n",
            "8\n",
            "9\n"
          ],
          "name": "stdout"
        }
      ]
    },
    {
      "metadata": {
        "id": "VujdlKBZMfE3",
        "colab_type": "text"
      },
      "cell_type": "markdown",
      "source": [
        "**range**(a,b,d)  nos genera los valores desde a hasta b con incrementos de d, por ejemplo el siguiente codigo generara los numeros pares entre 0 y 10:\n",
        "\n"
      ]
    },
    {
      "metadata": {
        "id": "XCHNbgvEMdIb",
        "colab_type": "code",
        "outputId": "e6ab409b-e094-4d44-d83b-451470f63e0d",
        "colab": {
          "base_uri": "https://localhost:8080/",
          "height": 102
        }
      },
      "cell_type": "code",
      "source": [
        "for x in range(0,10,2):\n",
        "    print(x)"
      ],
      "execution_count": 0,
      "outputs": [
        {
          "output_type": "stream",
          "text": [
            "0\n",
            "2\n",
            "4\n",
            "6\n",
            "8\n"
          ],
          "name": "stdout"
        }
      ]
    },
    {
      "metadata": {
        "id": "MKvlIQoPw38N",
        "colab_type": "code",
        "colab": {}
      },
      "cell_type": "code",
      "source": [
        ""
      ],
      "execution_count": 0,
      "outputs": []
    },
    {
      "metadata": {
        "id": "UoNf8Ce-NAi5",
        "colab_type": "text"
      },
      "cell_type": "markdown",
      "source": [
        "#### Ejercico for\n",
        "Realizar la siguiente secuencia de datos utilizando un for y un if\n",
        "\n",
        "[0,1,4,9,4,5,6]"
      ]
    },
    {
      "metadata": {
        "id": "E3NctxBaM3kG",
        "colab_type": "code",
        "outputId": "b9310736-b954-4a3b-f5da-3e2638c1436c",
        "colab": {
          "base_uri": "https://localhost:8080/",
          "height": 136
        }
      },
      "cell_type": "code",
      "source": [
        "#Solución al problema sacar antes de la clase\n",
        "for x in range(0,7):\n",
        "    if(x<4):\n",
        "        print(x*x)\n",
        "    else:\n",
        "        print(x)"
      ],
      "execution_count": 0,
      "outputs": [
        {
          "output_type": "stream",
          "text": [
            "0\n",
            "1\n",
            "4\n",
            "9\n",
            "4\n",
            "5\n",
            "6\n"
          ],
          "name": "stdout"
        }
      ]
    },
    {
      "metadata": {
        "id": "0oG-SkG7PIcN",
        "colab_type": "text"
      },
      "cell_type": "markdown",
      "source": [
        "## Funciones\n",
        "Podemos pensar que una funcion es como un pequeño programa dentro del programa, son bloques que nos permiten acortar el codigo no repitiendo estructuras que necesitamos utilizar mucho. Al igual que los programas las funciones tienen un input y un output, el input son las variables de entrada y su output es el valor o valores que devuelven.\n",
        "\n",
        "**def** miFunción($a_i,b_i,c_i,...$)**:**\n",
        "\n",
        "     ... Hago lo que necesite con las variables a,b,c\n",
        "    \n",
        "   **return** $a_o,b_o,c_o,...$\n",
        "\n",
        "Veamos un ejemplo"
      ]
    },
    {
      "metadata": {
        "id": "mpsgG39DNcme",
        "colab_type": "code",
        "outputId": "865de8ce-e12d-4a6c-d865-8f5c417df282",
        "colab": {
          "base_uri": "https://localhost:8080/",
          "height": 34
        }
      },
      "cell_type": "code",
      "source": [
        "def suma(a,b):\n",
        "    s=a+b\n",
        "    return s\n",
        "\n",
        "x = 2\n",
        "y = 4\n",
        "print(suma(x,y))"
      ],
      "execution_count": 0,
      "outputs": [
        {
          "output_type": "stream",
          "text": [
            "6\n"
          ],
          "name": "stdout"
        }
      ]
    },
    {
      "metadata": {
        "id": "q5WyWK1KQVor",
        "colab_type": "text"
      },
      "cell_type": "markdown",
      "source": [
        "Esto tambien podemos conbinarlo con las estructuras que vimos previamente"
      ]
    },
    {
      "metadata": {
        "id": "_xMxxM6EQQon",
        "colab_type": "code",
        "outputId": "88762974-bd27-4e49-b307-201e456e07c3",
        "colab": {
          "base_uri": "https://localhost:8080/",
          "height": 51
        }
      },
      "cell_type": "code",
      "source": [
        "def chequarContraseña(c):\n",
        "    if c == \"Secreto\":\n",
        "        print(\"Contraseña correcta!\")\n",
        "    else:\n",
        "        print(\"Contraseña incorrecta!\")\n",
        "chequarContraseña(\"hola\")\n",
        "chequarContraseña(\"Secreto\")"
      ],
      "execution_count": 0,
      "outputs": [
        {
          "output_type": "stream",
          "text": [
            "Contraseña incorrecta!\n",
            "Contraseña correcta!\n"
          ],
          "name": "stdout"
        }
      ]
    },
    {
      "metadata": {
        "id": "W64FPKi5RaU3",
        "colab_type": "text"
      },
      "cell_type": "markdown",
      "source": [
        "Se dieron cuenta que la la forma en la que usamos para imprimir una variable es una función?, **print**( ... ) lo que hace es llamar a una función ya creada que esta en el estandar de python y permite que mostremos el contendido que se le pase como parametro a la función."
      ]
    },
    {
      "metadata": {
        "id": "sgCdpQfDS5wG",
        "colab_type": "text"
      },
      "cell_type": "markdown",
      "source": [
        "### Ejercico funciones\n",
        "Escribir una función que cheque los siguientes usuarios y contraseñas:\n",
        "*  Usuario: Juan  -  Contraseña: 12345_\n",
        "*  Usuario: Pablo - Contraseña: xDcFvGbHn"
      ]
    },
    {
      "metadata": {
        "id": "cqBdQ2P-RPU6",
        "colab_type": "code",
        "outputId": "b31fd140-0796-47c6-e1c7-08c276387a05",
        "colab": {
          "base_uri": "https://localhost:8080/",
          "height": 68
        }
      },
      "cell_type": "code",
      "source": [
        "#Solucion al ejercicio borrar antes de la clase\n",
        "def usCont(u,c):\n",
        "    if (u==\"Juan\" and c==\"12345_\") or (u==\"Pablo\" and c==\"xDcFvGbHn\"):\n",
        "        print(\"Login OK\")\n",
        "    else:\n",
        "        print(\"Login NOK\")\n",
        "   \n",
        "usCont(\"Pablo\",\"xDcFvGbHn\")\n",
        "usCont(\"Juan\",\"12345_\")\n",
        "usCont(\"Juan\",\"xDcFvGbHn\")"
      ],
      "execution_count": 0,
      "outputs": [
        {
          "output_type": "stream",
          "text": [
            "Login OK\n",
            "Login OK\n",
            "Login NOK\n"
          ],
          "name": "stdout"
        }
      ]
    },
    {
      "metadata": {
        "id": "13AcDcKZWX0b",
        "colab_type": "text"
      },
      "cell_type": "markdown",
      "source": [
        "## Ejercitación integradora"
      ]
    },
    {
      "metadata": {
        "id": "fm_1Ogs_k0Uu",
        "colab_type": "text"
      },
      "cell_type": "markdown",
      "source": [
        "### La leyenda de Filius Bonacci\n",
        "Imprima $n$ números de la sucesion de Fibonacci\n",
        "\n",
        "```\n",
        "0, 1, 1, 2, 3, 5, 8, 13, 21 ...\n",
        "```"
      ]
    },
    {
      "metadata": {
        "id": "Am1NHiy6xeMp",
        "colab_type": "code",
        "colab": {}
      },
      "cell_type": "code",
      "source": [
        ""
      ],
      "execution_count": 0,
      "outputs": []
    },
    {
      "metadata": {
        "id": "tS0MU0yrKfAs",
        "colab_type": "text"
      },
      "cell_type": "markdown",
      "source": [
        "### Ejercicio de entrevista en Ingematica\n",
        "Escriba un programa que imprima los números del 1 al 100 pero que para cada número que sea multiplo de 3 imprima  `N3`, para los multiplos de 5 imprima `N5` y que para los que son multiplos de los dos imprima `N3N5`.\n",
        "\n",
        "**Tips**\n",
        "* Si el número es divisible por 3 entonces el resto de la division vale cero!\n",
        "```\n",
        "numero % 3 == 0\n",
        ">> True\n",
        "```\n"
      ]
    },
    {
      "metadata": {
        "id": "IUtY_MurVkMl",
        "colab_type": "code",
        "colab": {}
      },
      "cell_type": "code",
      "source": [
        "#PatoSolution\n",
        "def printNum(n):\n",
        "  s=\"\"\n",
        "  if n%3==0:\n",
        "    s = \"N3\"\n",
        "  if n%5==0:\n",
        "    s = s+\"N5\"\n",
        "  if s==\"\":\n",
        "    print(n)\n",
        "  else:\n",
        "    print(s)\n",
        "\n",
        "for x in range(1,101):\n",
        "  printNum(x)"
      ],
      "execution_count": 0,
      "outputs": []
    },
    {
      "metadata": {
        "id": "QkV_WCR4HUA5",
        "colab_type": "text"
      },
      "cell_type": "markdown",
      "source": [
        "### Locos por las matematicas\n",
        "En marzo 2019  Emma Haruka Iwao, una empleada de Google, logró calcular 31,4 trillones de dígitos del famoso número pi en 121 dias usando el poder de la nube de Google. Hoy ustedes pueden hacer lo mismo con la ayuda de Python!\n",
        "\n",
        "Aprovechando el descubrimiento del matematico indio Sriniviasa Ramanujan (1910) podemos emplear nuestro propio aproximador de pi.\n",
        "$$ \\frac{1}{\\pi}= \\frac{2\\sqrt{2}}{9801}\\sum_{k=0}^{\\infty} \\frac{(4k)!(1103+26390k)}{(k!)^4 396^{4k}}$$\n",
        "\n",
        "Tengan en cuenta la proxima función para calcular factoriales:\n",
        "\n",
        "```\n",
        "def factorial(n):\n",
        "  if n<=1:\n",
        "    return 1\n",
        "  else:\n",
        "    return n*factorial(n-1)\n",
        "```\n",
        "$$\\textrm{factorial(4)}=4!=24 $$\n",
        "\n",
        "Si no estamos tan locos por la matematicas podemos usar otras aproximaciones más simples como\n",
        "\n",
        "$$\\pi \\approx \\frac{22}{7} \\approx \\frac{355}{113} $$\n",
        "\n",
        "Otros números famosos:\n",
        "$$e = \\sum_{k=0}^\\infty \\frac{1}{k!} \\qquad e=\\lim_{x\\rightarrow\\infty} \\left( 1+\\frac{1}{x} \\right)^x \\qquad \\varphi = \\frac{1+\\sqrt{5}}{2} $$"
      ]
    },
    {
      "metadata": {
        "id": "F8WOsa0XLAKx",
        "colab_type": "code",
        "outputId": "1a8dd83f-c8d8-4802-ae13-4ee59a756431",
        "colab": {
          "base_uri": "https://localhost:8080/",
          "height": 34
        }
      },
      "cell_type": "code",
      "source": [
        "def approxPi():\n",
        "  return 355/113\n",
        "\n",
        "print(approxPi()) #Listo el pollo, pelada la gallina"
      ],
      "execution_count": 0,
      "outputs": [
        {
          "output_type": "stream",
          "text": [
            "3.1415929203539825\n"
          ],
          "name": "stdout"
        }
      ]
    }
  ]
}